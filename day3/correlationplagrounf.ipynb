{
 "cells": [
  {
   "cell_type": "code",
   "execution_count": 10,
   "metadata": {},
   "outputs": [
    {
     "name": "stderr",
     "output_type": "stream",
     "text": [
      "\n",
      "Attaching package: ‘dplyr’\n",
      "\n",
      "The following objects are masked from ‘package:stats’:\n",
      "\n",
      "    filter, lag\n",
      "\n",
      "The following objects are masked from ‘package:base’:\n",
      "\n",
      "    intersect, setdiff, setequal, union\n",
      "\n"
     ]
    }
   ],
   "source": [
    "#reading in data\n",
    "world_data = read.csv(\"QoG2012.csv\")\n",
    "\n",
    "library(dplyr)\n",
    "world_data <- rename(world_data, \n",
    "                     judiciary = h_j, \n",
    "                     gdp = wdi_gdpc, \n",
    "                     hdi = undp_hdi, \n",
    "                     corruption = wbgi_cce, \n",
    "                     stability = wbgi_pse, \n",
    "                     abs_lat = lp_lat_abst)"
   ]
  },
  {
   "cell_type": "code",
   "execution_count": 11,
   "metadata": {},
   "outputs": [
    {
     "data": {
      "text/html": [
       "<table>\n",
       "<thead><tr><th scope=col>judiciary</th><th scope=col>gdp</th><th scope=col>hdi</th><th scope=col>corruption</th><th scope=col>stability</th><th scope=col>former_col</th><th scope=col>abs_lat</th></tr></thead>\n",
       "<tbody>\n",
       "\t<tr><td> 0        </td><td>  628.4074</td><td>   NA     </td><td>-1.5453584</td><td>-1.9343837</td><td>0         </td><td>0.3666667 </td></tr>\n",
       "\t<tr><td> 0        </td><td> 4954.1982</td><td>0.781     </td><td>-0.8538115</td><td>-0.6026081</td><td>0         </td><td>0.4555556 </td></tr>\n",
       "\t<tr><td> 0        </td><td> 6349.7207</td><td>0.704     </td><td>-0.7301510</td><td>-1.7336243</td><td>1         </td><td>0.3111111 </td></tr>\n",
       "\t<tr><td>NA        </td><td>        NA</td><td>   NA     </td><td> 1.3267342</td><td> 1.1980436</td><td>0         </td><td>0.4700000 </td></tr>\n",
       "\t<tr><td> 0        </td><td> 2856.7517</td><td>0.381     </td><td>-1.2065741</td><td>-1.4150945</td><td>1         </td><td>0.1366667 </td></tr>\n",
       "\t<tr><td>NA        </td><td>13981.9795</td><td>0.800     </td><td> 0.8624368</td><td> 0.7084046</td><td>1         </td><td>0.1892222 </td></tr>\n",
       "</tbody>\n",
       "</table>\n"
      ],
      "text/latex": [
       "\\begin{tabular}{r|lllllll}\n",
       " judiciary & gdp & hdi & corruption & stability & former\\_col & abs\\_lat\\\\\n",
       "\\hline\n",
       "\t  0         &   628.4074 &    NA      & -1.5453584 & -1.9343837 & 0          & 0.3666667 \\\\\n",
       "\t  0         &  4954.1982 & 0.781      & -0.8538115 & -0.6026081 & 0          & 0.4555556 \\\\\n",
       "\t  0         &  6349.7207 & 0.704      & -0.7301510 & -1.7336243 & 1          & 0.3111111 \\\\\n",
       "\t NA         &         NA &    NA      &  1.3267342 &  1.1980436 & 0          & 0.4700000 \\\\\n",
       "\t  0         &  2856.7517 & 0.381      & -1.2065741 & -1.4150945 & 1          & 0.1366667 \\\\\n",
       "\t NA         & 13981.9795 & 0.800      &  0.8624368 &  0.7084046 & 1          & 0.1892222 \\\\\n",
       "\\end{tabular}\n"
      ],
      "text/markdown": [
       "\n",
       "judiciary | gdp | hdi | corruption | stability | former_col | abs_lat | \n",
       "|---|---|---|---|---|---|\n",
       "|  0         |   628.4074 |    NA      | -1.5453584 | -1.9343837 | 0          | 0.3666667  | \n",
       "|  0         |  4954.1982 | 0.781      | -0.8538115 | -0.6026081 | 0          | 0.4555556  | \n",
       "|  0         |  6349.7207 | 0.704      | -0.7301510 | -1.7336243 | 1          | 0.3111111  | \n",
       "| NA         |         NA |    NA      |  1.3267342 |  1.1980436 | 0          | 0.4700000  | \n",
       "|  0         |  2856.7517 | 0.381      | -1.2065741 | -1.4150945 | 1          | 0.1366667  | \n",
       "| NA         | 13981.9795 | 0.800      |  0.8624368 |  0.7084046 | 1          | 0.1892222  | \n",
       "\n",
       "\n"
      ],
      "text/plain": [
       "  judiciary gdp        hdi   corruption stability  former_col abs_lat  \n",
       "1  0          628.4074    NA -1.5453584 -1.9343837 0          0.3666667\n",
       "2  0         4954.1982 0.781 -0.8538115 -0.6026081 0          0.4555556\n",
       "3  0         6349.7207 0.704 -0.7301510 -1.7336243 1          0.3111111\n",
       "4 NA                NA    NA  1.3267342  1.1980436 0          0.4700000\n",
       "5  0         2856.7517 0.381 -1.2065741 -1.4150945 1          0.1366667\n",
       "6 NA        13981.9795 0.800  0.8624368  0.7084046 1          0.1892222"
      ]
     },
     "metadata": {},
     "output_type": "display_data"
    }
   ],
   "source": [
    "head(world_data)"
   ]
  },
  {
   "cell_type": "code",
   "execution_count": 12,
   "metadata": {},
   "outputs": [
    {
     "data": {
      "text/html": [
       "<ol class=list-inline>\n",
       "\t<li>194</li>\n",
       "\t<li>7</li>\n",
       "</ol>\n"
      ],
      "text/latex": [
       "\\begin{enumerate*}\n",
       "\\item 194\n",
       "\\item 7\n",
       "\\end{enumerate*}\n"
      ],
      "text/markdown": [
       "1. 194\n",
       "2. 7\n",
       "\n",
       "\n"
      ],
      "text/plain": [
       "[1] 194   7"
      ]
     },
     "metadata": {},
     "output_type": "display_data"
    }
   ],
   "source": [
    "dim(world_data)"
   ]
  },
  {
   "cell_type": "code",
   "execution_count": 13,
   "metadata": {},
   "outputs": [
    {
     "name": "stdout",
     "output_type": "stream",
     "text": [
      "'data.frame':\t194 obs. of  7 variables:\n",
      " $ judiciary : int  0 0 0 NA 0 NA 0 0 1 1 ...\n",
      " $ gdp       : num  628 4954 6350 NA 2857 ...\n",
      " $ hdi       : num  NA 0.781 0.704 NA 0.381 ...\n",
      " $ corruption: num  -1.545 -0.854 -0.73 1.327 -1.207 ...\n",
      " $ stability : num  -1.934 -0.603 -1.734 1.198 -1.415 ...\n",
      " $ former_col: int  0 0 1 0 1 1 0 1 0 0 ...\n",
      " $ abs_lat   : num  0.367 0.456 0.311 0.47 0.137 ...\n"
     ]
    }
   ],
   "source": [
    "str(world_data)"
   ]
  },
  {
   "cell_type": "code",
   "execution_count": 14,
   "metadata": {},
   "outputs": [],
   "source": [
    "# create factor variable\n",
    "world_data$former_col = factor(world_data$former_col, \n",
    "  labels = c(\"not colonised\", \"was colonised\"),   \n",
    "  levels = c(0,1))\n"
   ]
  },
  {
   "cell_type": "code",
   "execution_count": 15,
   "metadata": {},
   "outputs": [
    {
     "data": {
      "text/plain": [
       "\n",
       "not colonised was colonised \n",
       "           72           122 "
      ]
     },
     "metadata": {},
     "output_type": "display_data"
    }
   ],
   "source": [
    "# check frequency\n",
    "#check frequency\n",
    "table(world_data$former_col)"
   ]
  },
  {
   "cell_type": "code",
   "execution_count": 21,
   "metadata": {},
   "outputs": [
    {
     "data": {
      "text/html": [
       "0.28584087239061"
      ],
      "text/latex": [
       "0.28584087239061"
      ],
      "text/markdown": [
       "0.28584087239061"
      ],
      "text/plain": [
       "[1] 0.2858409"
      ]
     },
     "metadata": {},
     "output_type": "display_data"
    }
   ],
   "source": [
    "# 3. find the means\n",
    "mean_nc = mean(world_data$stability[world_data$former_col==\"not colonised\"])\n",
    "\n",
    "mean(world_data$stability[which(world_data$former_col==\"not colonised\")])"
   ]
  },
  {
   "cell_type": "code",
   "execution_count": 22,
   "metadata": {},
   "outputs": [
    {
     "data": {
      "text/html": [
       "-0.231611980434953"
      ],
      "text/latex": [
       "-0.231611980434953"
      ],
      "text/markdown": [
       "-0.231611980434953"
      ],
      "text/plain": [
       "[1] -0.231612"
      ]
     },
     "metadata": {},
     "output_type": "display_data"
    }
   ],
   "source": [
    "mean_c = mean(world_data$stability[world_data$former_col==\"was colonised\"])\n",
    "mean(world_data$stability[world_data$former_col==\"was colonised\"])"
   ]
  },
  {
   "cell_type": "code",
   "execution_count": 23,
   "metadata": {},
   "outputs": [],
   "source": [
    "#4. difference in means\n",
    "fd = mean_nc - mean_c"
   ]
  },
  {
   "cell_type": "code",
   "execution_count": 24,
   "metadata": {},
   "outputs": [
    {
     "data": {
      "text/html": [
       "0.517452852825564"
      ],
      "text/latex": [
       "0.517452852825564"
      ],
      "text/markdown": [
       "0.517452852825564"
      ],
      "text/plain": [
       "[1] 0.5174529"
      ]
     },
     "metadata": {},
     "output_type": "display_data"
    }
   ],
   "source": [
    "fd"
   ]
  },
  {
   "cell_type": "code",
   "execution_count": 26,
   "metadata": {},
   "outputs": [
    {
     "data": {
      "text/html": [
       "1.6756089925766"
      ],
      "text/latex": [
       "1.6756089925766"
      ],
      "text/markdown": [
       "1.6756089925766"
      ],
      "text/plain": [
       "[1] 1.675609"
      ]
     },
     "metadata": {},
     "output_type": "display_data"
    }
   ],
   "source": [
    "max(world_data$stability)"
   ]
  },
  {
   "cell_type": "code",
   "execution_count": 27,
   "metadata": {},
   "outputs": [
    {
     "data": {
      "text/html": [
       "-2.4674608707428"
      ],
      "text/latex": [
       "-2.4674608707428"
      ],
      "text/markdown": [
       "-2.4674608707428"
      ],
      "text/plain": [
       "[1] -2.467461"
      ]
     },
     "metadata": {},
     "output_type": "display_data"
    }
   ],
   "source": [
    "min(world_data$stability)"
   ]
  },
  {
   "cell_type": "code",
   "execution_count": 28,
   "metadata": {},
   "outputs": [
    {
     "data": {
      "text/html": [
       "<ol class=list-inline>\n",
       "\t<li>-2.4674608707428</li>\n",
       "\t<li>1.6756089925766</li>\n",
       "</ol>\n"
      ],
      "text/latex": [
       "\\begin{enumerate*}\n",
       "\\item -2.4674608707428\n",
       "\\item 1.6756089925766\n",
       "\\end{enumerate*}\n"
      ],
      "text/markdown": [
       "1. -2.4674608707428\n",
       "2. 1.6756089925766\n",
       "\n",
       "\n"
      ],
      "text/plain": [
       "[1] -2.467461  1.675609"
      ]
     },
     "metadata": {},
     "output_type": "display_data"
    }
   ],
   "source": [
    "range(world_data$stability)"
   ]
  },
  {
   "cell_type": "code",
   "execution_count": 29,
   "metadata": {},
   "outputs": [
    {
     "data": {
      "text/plain": [
       "\n",
       "\tWelch Two Sample t-test\n",
       "\n",
       "data:  world_data$stability by world_data$former_col\n",
       "t = 3.4674, df = 139.35, p-value = 0.0006992\n",
       "alternative hypothesis: true difference in means is not equal to 0\n",
       "95 percent confidence interval:\n",
       " 0.2224004 0.8125053\n",
       "sample estimates:\n",
       "mean in group not colonised mean in group was colonised \n",
       "                  0.2858409                  -0.2316120 \n"
      ]
     },
     "metadata": {},
     "output_type": "display_data"
    }
   ],
   "source": [
    "t.test(world_data$stability ~ world_data$former_col, mu = 0, alt = \"two.sided\")"
   ]
  },
  {
   "cell_type": "code",
   "execution_count": null,
   "metadata": {},
   "outputs": [],
   "source": []
  }
 ],
 "metadata": {
  "kernelspec": {
   "display_name": "R",
   "language": "R",
   "name": "ir"
  },
  "language_info": {
   "codemirror_mode": "r",
   "file_extension": ".r",
   "mimetype": "text/x-r-source",
   "name": "R",
   "pygments_lexer": "r",
   "version": "3.5.1"
  }
 },
 "nbformat": 4,
 "nbformat_minor": 2
}
