{
 "cells": [
  {
   "cell_type": "code",
   "execution_count": 15,
   "metadata": {},
   "outputs": [
    {
     "data": {
      "text/html": [
       "<table>\n",
       "<thead><tr><th scope=col>state</th><th scope=col>county</th><th scope=col>community</th><th scope=col>communityname</th><th scope=col>fold</th><th scope=col>population</th><th scope=col>householdsize</th><th scope=col>racepctblack</th><th scope=col>racePctWhite</th><th scope=col>racePctAsian</th><th scope=col>⋯</th><th scope=col>indianPerCap</th><th scope=col>AsianPerCap</th><th scope=col>OtherPerCap</th><th scope=col>HispPerCap</th><th scope=col>NumUnderPov</th><th scope=col>PctPopUnderPov</th><th scope=col>PctLess9thGrade</th><th scope=col>NoHighSchool</th><th scope=col>PctBSorMore</th><th scope=col>UnemploymentRate</th></tr></thead>\n",
       "<tbody>\n",
       "\t<tr><td> 8                 </td><td>NA                 </td><td>   NA              </td><td>Lakewoodcity       </td><td>1                  </td><td>0.19               </td><td>0.33               </td><td>0.02               </td><td>0.90               </td><td>0.12               </td><td>⋯                  </td><td>0.27               </td><td>0.27               </td><td>0.36               </td><td>0.41               </td><td>0.08               </td><td>0.19               </td><td>0.10               </td><td>0.18               </td><td>0.48               </td><td>0.27               </td></tr>\n",
       "\t<tr><td>53                 </td><td>NA                 </td><td>   NA              </td><td>Tukwilacity        </td><td>1                  </td><td>0.00               </td><td>0.16               </td><td>0.12               </td><td>0.74               </td><td>0.45               </td><td>⋯                  </td><td>0.16               </td><td>0.30               </td><td>0.22               </td><td>0.35               </td><td>0.01               </td><td>0.24               </td><td>0.14               </td><td>0.24               </td><td>0.30               </td><td>0.27               </td></tr>\n",
       "\t<tr><td>24                 </td><td>NA                 </td><td>   NA              </td><td>Aberdeentown       </td><td>1                  </td><td>0.00               </td><td>0.42               </td><td>0.49               </td><td>0.56               </td><td>0.17               </td><td>⋯                  </td><td>0.07               </td><td>0.29               </td><td>0.28               </td><td>0.39               </td><td>0.01               </td><td>0.27               </td><td>0.27               </td><td>0.43               </td><td>0.19               </td><td>0.36               </td></tr>\n",
       "\t<tr><td>34                 </td><td> 5                 </td><td>81440              </td><td>Willingborotownship</td><td>1                  </td><td>0.04               </td><td>0.77               </td><td>1.00               </td><td>0.08               </td><td>0.12               </td><td>⋯                  </td><td>0.16               </td><td>0.25               </td><td>0.36               </td><td>0.44               </td><td>0.01               </td><td>0.10               </td><td>0.09               </td><td>0.25               </td><td>0.31               </td><td>0.33               </td></tr>\n",
       "\t<tr><td>42                 </td><td>95                 </td><td> 6096              </td><td>Bethlehemtownship  </td><td>1                  </td><td>0.01               </td><td>0.55               </td><td>0.02               </td><td>0.95               </td><td>0.09               </td><td>⋯                  </td><td>0.00               </td><td>0.74               </td><td>0.51               </td><td>0.48               </td><td>0.00               </td><td>0.06               </td><td>0.25               </td><td>0.30               </td><td>0.33               </td><td>0.12               </td></tr>\n",
       "\t<tr><td> 6                 </td><td>NA                 </td><td>   NA              </td><td>SouthPasadenacity  </td><td>1                  </td><td>0.02               </td><td>0.28               </td><td>0.06               </td><td>0.54               </td><td>1.00               </td><td>⋯                  </td><td>0.28               </td><td>0.52               </td><td>0.48               </td><td>0.60               </td><td>0.01               </td><td>0.12               </td><td>0.13               </td><td>0.12               </td><td>0.80               </td><td>0.10               </td></tr>\n",
       "</tbody>\n",
       "</table>\n"
      ],
      "text/latex": [
       "\\begin{tabular}{r|llllllllllllllllllllllllllllllllllllll}\n",
       " state & county & community & communityname & fold & population & householdsize & racepctblack & racePctWhite & racePctAsian & ⋯ & indianPerCap & AsianPerCap & OtherPerCap & HispPerCap & NumUnderPov & PctPopUnderPov & PctLess9thGrade & NoHighSchool & PctBSorMore & UnemploymentRate\\\\\n",
       "\\hline\n",
       "\t  8                  & NA                  &    NA               & Lakewoodcity        & 1                   & 0.19                & 0.33                & 0.02                & 0.90                & 0.12                & ⋯                   & 0.27                & 0.27                & 0.36                & 0.41                & 0.08                & 0.19                & 0.10                & 0.18                & 0.48                & 0.27               \\\\\n",
       "\t 53                  & NA                  &    NA               & Tukwilacity         & 1                   & 0.00                & 0.16                & 0.12                & 0.74                & 0.45                & ⋯                   & 0.16                & 0.30                & 0.22                & 0.35                & 0.01                & 0.24                & 0.14                & 0.24                & 0.30                & 0.27               \\\\\n",
       "\t 24                  & NA                  &    NA               & Aberdeentown        & 1                   & 0.00                & 0.42                & 0.49                & 0.56                & 0.17                & ⋯                   & 0.07                & 0.29                & 0.28                & 0.39                & 0.01                & 0.27                & 0.27                & 0.43                & 0.19                & 0.36               \\\\\n",
       "\t 34                  &  5                  & 81440               & Willingborotownship & 1                   & 0.04                & 0.77                & 1.00                & 0.08                & 0.12                & ⋯                   & 0.16                & 0.25                & 0.36                & 0.44                & 0.01                & 0.10                & 0.09                & 0.25                & 0.31                & 0.33               \\\\\n",
       "\t 42                  & 95                  &  6096               & Bethlehemtownship   & 1                   & 0.01                & 0.55                & 0.02                & 0.95                & 0.09                & ⋯                   & 0.00                & 0.74                & 0.51                & 0.48                & 0.00                & 0.06                & 0.25                & 0.30                & 0.33                & 0.12               \\\\\n",
       "\t  6                  & NA                  &    NA               & SouthPasadenacity   & 1                   & 0.02                & 0.28                & 0.06                & 0.54                & 1.00                & ⋯                   & 0.28                & 0.52                & 0.48                & 0.60                & 0.01                & 0.12                & 0.13                & 0.12                & 0.80                & 0.10               \\\\\n",
       "\\end{tabular}\n"
      ],
      "text/markdown": [
       "\n",
       "state | county | community | communityname | fold | population | householdsize | racepctblack | racePctWhite | racePctAsian | ⋯ | indianPerCap | AsianPerCap | OtherPerCap | HispPerCap | NumUnderPov | PctPopUnderPov | PctLess9thGrade | NoHighSchool | PctBSorMore | UnemploymentRate | \n",
       "|---|---|---|---|---|---|\n",
       "|  8                  | NA                  |    NA               | Lakewoodcity        | 1                   | 0.19                | 0.33                | 0.02                | 0.90                | 0.12                | ⋯                   | 0.27                | 0.27                | 0.36                | 0.41                | 0.08                | 0.19                | 0.10                | 0.18                | 0.48                | 0.27                | \n",
       "| 53                  | NA                  |    NA               | Tukwilacity         | 1                   | 0.00                | 0.16                | 0.12                | 0.74                | 0.45                | ⋯                   | 0.16                | 0.30                | 0.22                | 0.35                | 0.01                | 0.24                | 0.14                | 0.24                | 0.30                | 0.27                | \n",
       "| 24                  | NA                  |    NA               | Aberdeentown        | 1                   | 0.00                | 0.42                | 0.49                | 0.56                | 0.17                | ⋯                   | 0.07                | 0.29                | 0.28                | 0.39                | 0.01                | 0.27                | 0.27                | 0.43                | 0.19                | 0.36                | \n",
       "| 34                  |  5                  | 81440               | Willingborotownship | 1                   | 0.04                | 0.77                | 1.00                | 0.08                | 0.12                | ⋯                   | 0.16                | 0.25                | 0.36                | 0.44                | 0.01                | 0.10                | 0.09                | 0.25                | 0.31                | 0.33                | \n",
       "| 42                  | 95                  |  6096               | Bethlehemtownship   | 1                   | 0.01                | 0.55                | 0.02                | 0.95                | 0.09                | ⋯                   | 0.00                | 0.74                | 0.51                | 0.48                | 0.00                | 0.06                | 0.25                | 0.30                | 0.33                | 0.12                | \n",
       "|  6                  | NA                  |    NA               | SouthPasadenacity   | 1                   | 0.02                | 0.28                | 0.06                | 0.54                | 1.00                | ⋯                   | 0.28                | 0.52                | 0.48                | 0.60                | 0.01                | 0.12                | 0.13                | 0.12                | 0.80                | 0.10                | \n",
       "\n",
       "\n"
      ],
      "text/plain": [
       "  state county community communityname       fold population householdsize\n",
       "1  8    NA        NA     Lakewoodcity        1    0.19       0.33         \n",
       "2 53    NA        NA     Tukwilacity         1    0.00       0.16         \n",
       "3 24    NA        NA     Aberdeentown        1    0.00       0.42         \n",
       "4 34     5     81440     Willingborotownship 1    0.04       0.77         \n",
       "5 42    95      6096     Bethlehemtownship   1    0.01       0.55         \n",
       "6  6    NA        NA     SouthPasadenacity   1    0.02       0.28         \n",
       "  racepctblack racePctWhite racePctAsian ⋯ indianPerCap AsianPerCap OtherPerCap\n",
       "1 0.02         0.90         0.12         ⋯ 0.27         0.27        0.36       \n",
       "2 0.12         0.74         0.45         ⋯ 0.16         0.30        0.22       \n",
       "3 0.49         0.56         0.17         ⋯ 0.07         0.29        0.28       \n",
       "4 1.00         0.08         0.12         ⋯ 0.16         0.25        0.36       \n",
       "5 0.02         0.95         0.09         ⋯ 0.00         0.74        0.51       \n",
       "6 0.06         0.54         1.00         ⋯ 0.28         0.52        0.48       \n",
       "  HispPerCap NumUnderPov PctPopUnderPov PctLess9thGrade NoHighSchool\n",
       "1 0.41       0.08        0.19           0.10            0.18        \n",
       "2 0.35       0.01        0.24           0.14            0.24        \n",
       "3 0.39       0.01        0.27           0.27            0.43        \n",
       "4 0.44       0.01        0.10           0.09            0.25        \n",
       "5 0.48       0.00        0.06           0.25            0.30        \n",
       "6 0.60       0.01        0.12           0.13            0.12        \n",
       "  PctBSorMore UnemploymentRate\n",
       "1 0.48        0.27            \n",
       "2 0.30        0.27            \n",
       "3 0.19        0.36            \n",
       "4 0.31        0.33            \n",
       "5 0.33        0.12            \n",
       "6 0.80        0.10            "
      ]
     },
     "metadata": {},
     "output_type": "display_data"
    }
   ],
   "source": [
    "dat = read.csv(\"communities.csv\")\n",
    "names(dat)[which(names(dat) == \"PctUnemployed\")] <- \"UnemploymentRate\"\n",
    "names(dat)[which(names(dat) == \"PctNotHSGrad\")] <- \"NoHighSchool\"\n",
    "head(dat)\n",
    "options(scipen=999)"
   ]
  },
  {
   "cell_type": "code",
   "execution_count": 16,
   "metadata": {},
   "outputs": [],
   "source": [
    "dat$UnemploymentRate <- dat$UnemploymentRate*100\n",
    "dat$population <- dat$population*100"
   ]
  },
  {
   "cell_type": "code",
   "execution_count": 17,
   "metadata": {},
   "outputs": [
    {
     "data": {
      "text/plain": [
       "\n",
       "\tPearson's product-moment correlation\n",
       "\n",
       "data:  dat$UnemploymentRate and dat$population\n",
       "t = 6.5521, df = 1992, p-value = 0.00000000007201\n",
       "alternative hypothesis: true correlation is not equal to 0\n",
       "95 percent confidence interval:\n",
       " 0.1020007 0.1879457\n",
       "sample estimates:\n",
       "      cor \n",
       "0.1452472 \n"
      ]
     },
     "metadata": {},
     "output_type": "display_data"
    }
   ],
   "source": [
    "cor.test(dat$UnemploymentRate, dat$population, method = c(\"pearson\", \"kendall\", \"spearman\"))"
   ]
  },
  {
   "cell_type": "code",
   "execution_count": 18,
   "metadata": {},
   "outputs": [
    {
     "data": {
      "text/plain": [
       "\n",
       "\tPearson's product-moment correlation\n",
       "\n",
       "data:  dat$UnemploymentRate and dat$NoHighSchool\n",
       "t = 49.64, df = 1992, p-value < 0.00000000000000022\n",
       "alternative hypothesis: true correlation is not equal to 0\n",
       "95 percent confidence interval:\n",
       " 0.7233364 0.7626244\n",
       "sample estimates:\n",
       "      cor \n",
       "0.7436217 \n"
      ]
     },
     "metadata": {},
     "output_type": "display_data"
    }
   ],
   "source": [
    "cor.test(dat$UnemploymentRate, dat$NoHighSchool, method = c(\"pearson\", \"kendall\", \"spearman\"))"
   ]
  },
  {
   "cell_type": "code",
   "execution_count": 19,
   "metadata": {},
   "outputs": [
    {
     "data": {
      "text/plain": [
       "\n",
       "\tPearson's product-moment correlation\n",
       "\n",
       "data:  dat$UnemploymentRate and dat$householdsize\n",
       "t = 6.4859, df = 1992, p-value = 0.0000000001109\n",
       "alternative hypothesis: true correlation is not equal to 0\n",
       "95 percent confidence interval:\n",
       " 0.1005484 0.1865298\n",
       "sample estimates:\n",
       "      cor \n",
       "0.1438105 \n"
      ]
     },
     "metadata": {},
     "output_type": "display_data"
    }
   ],
   "source": [
    "cor.test(dat$UnemploymentRate, dat$householdsize, method = c(\"pearson\", \"kendall\", \"spearman\"))"
   ]
  },
  {
   "cell_type": "code",
   "execution_count": 14,
   "metadata": {},
   "outputs": [],
   "source": [
    "options(scipen=999)"
   ]
  },
  {
   "cell_type": "code",
   "execution_count": null,
   "metadata": {},
   "outputs": [],
   "source": []
  }
 ],
 "metadata": {
  "kernelspec": {
   "display_name": "R",
   "language": "R",
   "name": "ir"
  },
  "language_info": {
   "codemirror_mode": "r",
   "file_extension": ".r",
   "mimetype": "text/x-r-source",
   "name": "R",
   "pygments_lexer": "r",
   "version": "3.5.1"
  }
 },
 "nbformat": 4,
 "nbformat_minor": 2
}
