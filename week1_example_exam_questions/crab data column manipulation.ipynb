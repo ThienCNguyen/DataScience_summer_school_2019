{
 "cells": [
  {
   "cell_type": "code",
   "execution_count": 14,
   "metadata": {},
   "outputs": [],
   "source": [
    "crab_data = read.csv(\"crabs.csv\")"
   ]
  },
  {
   "cell_type": "code",
   "execution_count": 15,
   "metadata": {},
   "outputs": [
    {
     "data": {
      "text/html": [
       "<table>\n",
       "<thead><tr><th scope=col>crab.id</th><th scope=col>body.size</th><th scope=col>major.claw</th><th scope=col>minor.claw</th><th scope=col>claw.ratio</th><th scope=col>major.side</th></tr></thead>\n",
       "<tbody>\n",
       "\t<tr><td>1    </td><td>11.00</td><td>14.75</td><td>3.96 </td><td>3.72 </td><td>Left </td></tr>\n",
       "\t<tr><td>2    </td><td>10.25</td><td>13.03</td><td>3.92 </td><td>3.32 </td><td>Right</td></tr>\n",
       "\t<tr><td>3    </td><td> 9.55</td><td>14.60</td><td>3.57 </td><td>4.09 </td><td>Left </td></tr>\n",
       "\t<tr><td>4    </td><td> 6.35</td><td> 6.83</td><td>2.30 </td><td>2.97 </td><td>Left </td></tr>\n",
       "\t<tr><td>5    </td><td> 9.45</td><td>13.17</td><td>3.38 </td><td>3.90 </td><td>Right</td></tr>\n",
       "\t<tr><td>6    </td><td> 6.90</td><td> 7.37</td><td>2.45 </td><td>3.01 </td><td>Right</td></tr>\n",
       "</tbody>\n",
       "</table>\n"
      ],
      "text/latex": [
       "\\begin{tabular}{r|llllll}\n",
       " crab.id & body.size & major.claw & minor.claw & claw.ratio & major.side\\\\\n",
       "\\hline\n",
       "\t 1     & 11.00 & 14.75 & 3.96  & 3.72  & Left \\\\\n",
       "\t 2     & 10.25 & 13.03 & 3.92  & 3.32  & Right\\\\\n",
       "\t 3     &  9.55 & 14.60 & 3.57  & 4.09  & Left \\\\\n",
       "\t 4     &  6.35 &  6.83 & 2.30  & 2.97  & Left \\\\\n",
       "\t 5     &  9.45 & 13.17 & 3.38  & 3.90  & Right\\\\\n",
       "\t 6     &  6.90 &  7.37 & 2.45  & 3.01  & Right\\\\\n",
       "\\end{tabular}\n"
      ],
      "text/markdown": [
       "\n",
       "crab.id | body.size | major.claw | minor.claw | claw.ratio | major.side | \n",
       "|---|---|---|---|---|---|\n",
       "| 1     | 11.00 | 14.75 | 3.96  | 3.72  | Left  | \n",
       "| 2     | 10.25 | 13.03 | 3.92  | 3.32  | Right | \n",
       "| 3     |  9.55 | 14.60 | 3.57  | 4.09  | Left  | \n",
       "| 4     |  6.35 |  6.83 | 2.30  | 2.97  | Left  | \n",
       "| 5     |  9.45 | 13.17 | 3.38  | 3.90  | Right | \n",
       "| 6     |  6.90 |  7.37 | 2.45  | 3.01  | Right | \n",
       "\n",
       "\n"
      ],
      "text/plain": [
       "  crab.id body.size major.claw minor.claw claw.ratio major.side\n",
       "1 1       11.00     14.75      3.96       3.72       Left      \n",
       "2 2       10.25     13.03      3.92       3.32       Right     \n",
       "3 3        9.55     14.60      3.57       4.09       Left      \n",
       "4 4        6.35      6.83      2.30       2.97       Left      \n",
       "5 5        9.45     13.17      3.38       3.90       Right     \n",
       "6 6        6.90      7.37      2.45       3.01       Right     "
      ]
     },
     "metadata": {},
     "output_type": "display_data"
    }
   ],
   "source": [
    "head(crab_data)"
   ]
  },
  {
   "cell_type": "code",
   "execution_count": 16,
   "metadata": {},
   "outputs": [
    {
     "name": "stdout",
     "output_type": "stream",
     "text": [
      "'data.frame':\t50 obs. of  6 variables:\n",
      " $ crab.id   : int  1 2 3 4 5 6 7 8 9 10 ...\n",
      " $ body.size : num  11 10.25 9.55 6.35 9.45 ...\n",
      " $ major.claw: num  14.75 13.03 14.6 6.83 13.17 ...\n",
      " $ minor.claw: num  3.96 3.92 3.57 2.3 3.38 2.45 2.93 4.13 3.76 2.45 ...\n",
      " $ claw.ratio: num  3.72 3.32 4.09 2.97 3.9 3.01 3.41 3.99 3.74 3.47 ...\n",
      " $ major.side: Factor w/ 2 levels \"Left\",\"Right\": 1 2 1 1 2 2 1 1 2 1 ...\n"
     ]
    }
   ],
   "source": [
    "str(crab_data)"
   ]
  },
  {
   "cell_type": "code",
   "execution_count": 17,
   "metadata": {},
   "outputs": [
    {
     "data": {
      "text/html": [
       "<ol class=list-inline>\n",
       "\t<li>50</li>\n",
       "\t<li>6</li>\n",
       "</ol>\n"
      ],
      "text/latex": [
       "\\begin{enumerate*}\n",
       "\\item 50\n",
       "\\item 6\n",
       "\\end{enumerate*}\n"
      ],
      "text/markdown": [
       "1. 50\n",
       "2. 6\n",
       "\n",
       "\n"
      ],
      "text/plain": [
       "[1] 50  6"
      ]
     },
     "metadata": {},
     "output_type": "display_data"
    }
   ],
   "source": [
    "dim(crab_data)"
   ]
  },
  {
   "cell_type": "code",
   "execution_count": 18,
   "metadata": {},
   "outputs": [
    {
     "data": {
      "text/plain": [
       "    crab.id        body.size        major.claw       minor.claw   \n",
       " Min.   : 1.00   Min.   : 4.850   Min.   : 5.050   Min.   :1.900  \n",
       " 1st Qu.:13.25   1st Qu.: 6.862   1st Qu.: 7.985   1st Qu.:2.450  \n",
       " Median :25.50   Median : 7.425   Median : 8.760   Median :2.785  \n",
       " Mean   :25.50   Mean   : 7.871   Mean   : 9.621   Mean   :2.884  \n",
       " 3rd Qu.:37.75   3rd Qu.: 8.887   3rd Qu.:11.305   3rd Qu.:3.280  \n",
       " Max.   :50.00   Max.   :11.300   Max.   :16.470   Max.   :4.130  \n",
       "   claw.ratio    major.side\n",
       " Min.   :2.270   Left :28  \n",
       " 1st Qu.:3.020   Right:22  \n",
       " Median :3.280             \n",
       " Mean   :3.295             \n",
       " 3rd Qu.:3.625             \n",
       " Max.   :4.130             "
      ]
     },
     "metadata": {},
     "output_type": "display_data"
    }
   ],
   "source": [
    "summary(crab_data)"
   ]
  },
  {
   "cell_type": "markdown",
   "metadata": {},
   "source": [
    "Those few commands (head, str, summary, dim) should ALWAYS be the first you use when loading a new dataset. As you see, just by using the main commands for data exploration you already answered a whole question just by being able to read."
   ]
  },
  {
   "cell_type": "markdown",
   "metadata": {},
   "source": [
    "## Answer question 1i: Inference\n",
    "## Answer question 1ii: see above\n",
    "## Answer question 1iii: 50\n",
    "## Answer question 1iv: 7.871\n",
    "## Answer question 1v: 8.760\n",
    "## Answer question 1vi: 22/50 = 44%\n"
   ]
  },
  {
   "cell_type": "markdown",
   "metadata": {},
   "source": [
    "## Question 2"
   ]
  },
  {
   "cell_type": "code",
   "execution_count": 19,
   "metadata": {},
   "outputs": [],
   "source": [
    "crab_data = crab_data[,-1] #deletes column id (first column)"
   ]
  },
  {
   "cell_type": "code",
   "execution_count": 20,
   "metadata": {},
   "outputs": [
    {
     "data": {
      "text/html": [
       "<table>\n",
       "<thead><tr><th scope=col>body.size</th><th scope=col>major.claw</th><th scope=col>minor.claw</th><th scope=col>claw.ratio</th><th scope=col>major.side</th></tr></thead>\n",
       "<tbody>\n",
       "\t<tr><td>11.00</td><td>14.75</td><td>3.96 </td><td>3.72 </td><td>Left </td></tr>\n",
       "\t<tr><td>10.25</td><td>13.03</td><td>3.92 </td><td>3.32 </td><td>Right</td></tr>\n",
       "\t<tr><td> 9.55</td><td>14.60</td><td>3.57 </td><td>4.09 </td><td>Left </td></tr>\n",
       "\t<tr><td> 6.35</td><td> 6.83</td><td>2.30 </td><td>2.97 </td><td>Left </td></tr>\n",
       "\t<tr><td> 9.45</td><td>13.17</td><td>3.38 </td><td>3.90 </td><td>Right</td></tr>\n",
       "\t<tr><td> 6.90</td><td> 7.37</td><td>2.45 </td><td>3.01 </td><td>Right</td></tr>\n",
       "</tbody>\n",
       "</table>\n"
      ],
      "text/latex": [
       "\\begin{tabular}{r|lllll}\n",
       " body.size & major.claw & minor.claw & claw.ratio & major.side\\\\\n",
       "\\hline\n",
       "\t 11.00 & 14.75 & 3.96  & 3.72  & Left \\\\\n",
       "\t 10.25 & 13.03 & 3.92  & 3.32  & Right\\\\\n",
       "\t  9.55 & 14.60 & 3.57  & 4.09  & Left \\\\\n",
       "\t  6.35 &  6.83 & 2.30  & 2.97  & Left \\\\\n",
       "\t  9.45 & 13.17 & 3.38  & 3.90  & Right\\\\\n",
       "\t  6.90 &  7.37 & 2.45  & 3.01  & Right\\\\\n",
       "\\end{tabular}\n"
      ],
      "text/markdown": [
       "\n",
       "body.size | major.claw | minor.claw | claw.ratio | major.side | \n",
       "|---|---|---|---|---|---|\n",
       "| 11.00 | 14.75 | 3.96  | 3.72  | Left  | \n",
       "| 10.25 | 13.03 | 3.92  | 3.32  | Right | \n",
       "|  9.55 | 14.60 | 3.57  | 4.09  | Left  | \n",
       "|  6.35 |  6.83 | 2.30  | 2.97  | Left  | \n",
       "|  9.45 | 13.17 | 3.38  | 3.90  | Right | \n",
       "|  6.90 |  7.37 | 2.45  | 3.01  | Right | \n",
       "\n",
       "\n"
      ],
      "text/plain": [
       "  body.size major.claw minor.claw claw.ratio major.side\n",
       "1 11.00     14.75      3.96       3.72       Left      \n",
       "2 10.25     13.03      3.92       3.32       Right     \n",
       "3  9.55     14.60      3.57       4.09       Left      \n",
       "4  6.35      6.83      2.30       2.97       Left      \n",
       "5  9.45     13.17      3.38       3.90       Right     \n",
       "6  6.90      7.37      2.45       3.01       Right     "
      ]
     },
     "metadata": {},
     "output_type": "display_data"
    }
   ],
   "source": [
    "head(crab_data)"
   ]
  },
  {
   "cell_type": "code",
   "execution_count": 21,
   "metadata": {},
   "outputs": [
    {
     "name": "stderr",
     "output_type": "stream",
     "text": [
      "── Attaching packages ─────────────────────────────────────── tidyverse 1.2.1 ──\n",
      "✔ ggplot2 3.2.0     ✔ purrr   0.2.5\n",
      "✔ tibble  2.1.3     ✔ dplyr   0.8.3\n",
      "✔ readr   1.1.1     ✔ stringr 1.3.1\n",
      "✔ ggplot2 3.2.0     ✔ forcats 0.3.0\n",
      "── Conflicts ────────────────────────────────────────── tidyverse_conflicts() ──\n",
      "✖ dplyr::filter() masks stats::filter()\n",
      "✖ dplyr::lag()    masks stats::lag()\n"
     ]
    }
   ],
   "source": [
    "library(tidyverse)"
   ]
  },
  {
   "cell_type": "code",
   "execution_count": 22,
   "metadata": {},
   "outputs": [
    {
     "data": {},
     "metadata": {},
     "output_type": "display_data"
    },
    {
     "data": {
      "image/png": "[encoded data removed]",
      "text/plain": [
       "plot without title"
      ]
     },
     "metadata": {},
     "output_type": "display_data"
    }
   ],
   "source": [
    "ggplot(data = crab_data) +\n",
    "    geom_point(mapping = aes(x = major.claw, y=body.size)) +\n",
    "    ggtitle('Body measurements of crabs') + xlab(\"major claw size (cm)\") + ylab(\"body sizee (cm)\") \n",
    "#ggtitle was not in the visualisation tutorial. guess what I did... correct. google gave me the answer in 10seconds\n",
    "# http://www.sthda.com/english/wiki/ggplot2-title-main-axis-and-legend-titles\n",
    "# 4 marks in 1 minute \n"
   ]
  },
  {
   "cell_type": "code",
   "execution_count": 25,
   "metadata": {},
   "outputs": [
    {
     "data": {
      "text/html": [
       "11.1362197904139"
      ],
      "text/latex": [
       "11.1362197904139"
      ],
      "text/markdown": [
       "11.1362197904139"
      ],
      "text/plain": [
       "[1] 11.13622"
      ]
     },
     "metadata": {},
     "output_type": "display_data"
    },
    {
     "data": {
      "text/html": [
       "11.1362197904139"
      ],
      "text/latex": [
       "11.1362197904139"
      ],
      "text/markdown": [
       "11.1362197904139"
      ],
      "text/plain": [
       "[1] 11.13622"
      ]
     },
     "metadata": {},
     "output_type": "display_data"
    }
   ],
   "source": [
    "model_1 = lm(body.size ~ major.claw, data = crab_data)\n",
    "deviance(model_1)\n",
    "sum(resid(model_1)^2)"
   ]
  },
  {
   "cell_type": "code",
   "execution_count": 12,
   "metadata": {},
   "outputs": [
    {
     "data": {
      "text/plain": [
       "\n",
       "Call:\n",
       "lm(formula = body.size ~ major.claw, data = crab_data)\n",
       "\n",
       "Residuals:\n",
       "     Min       1Q   Median       3Q      Max \n",
       "-0.80320 -0.38887  0.00362  0.28093  1.72510 \n",
       "\n",
       "Coefficients:\n",
       "            Estimate Std. Error t value Pr(>|t|)    \n",
       "(Intercept)  3.07461    0.25079   12.26   <2e-16 ***\n",
       "major.claw   0.49853    0.02509   19.87   <2e-16 ***\n",
       "---\n",
       "Signif. codes:  0 ‘***’ 0.001 ‘**’ 0.01 ‘*’ 0.05 ‘.’ 0.1 ‘ ’ 1\n",
       "\n",
       "Residual standard error: 0.4817 on 48 degrees of freedom\n",
       "Multiple R-squared:  0.8916,\tAdjusted R-squared:  0.8894 \n",
       "F-statistic: 394.9 on 1 and 48 DF,  p-value: < 2.2e-16\n"
      ]
     },
     "metadata": {},
     "output_type": "display_data"
    }
   ],
   "source": [
    "summary(model_1)"
   ]
  },
  {
   "cell_type": "code",
   "execution_count": 13,
   "metadata": {},
   "outputs": [
    {
     "data": {
      "image/png": "[encoded data removed]",
      "text/plain": [
       "Plot with title “”"
      ]
     },
     "metadata": {},
     "output_type": "display_data"
    },
    {
     "data": {
      "image/png": "[encoded data removed]",
      "text/plain": [
       "Plot with title “”"
      ]
     },
     "metadata": {},
     "output_type": "display_data"
    },
    {
     "data": {
      "image/png": "[encoded data removed]",
      "text/plain": [
       "Plot with title “”"
      ]
     },
     "metadata": {},
     "output_type": "display_data"
    },
    {
     "data": {
      "image/png": "[encoded data removed]",
      "text/plain": [
       "Plot with title “”"
      ]
     },
     "metadata": {},
     "output_type": "display_data"
    }
   ],
   "source": [
    "plot(model_1)"
   ]
  },
  {
   "cell_type": "markdown",
   "metadata": {},
   "source": [
    "I am not sure what exactly the examinor wants to hear when saying \"discuss\", I will look into that. But since it's only 1 point I wouldnt worry too much. I will be marking and if you say that major claw size is a good predictor for bod size of the crab because the p-value is small and therefore significant and R² is high when building the model - you will definitely get that point."
   ]
  },
  {
   "cell_type": "code",
   "execution_count": 27,
   "metadata": {},
   "outputs": [
    {
     "data": {
      "text/html": [
       "<strong>1:</strong> 8.05994422710421"
      ],
      "text/latex": [
       "\\textbf{1:} 8.05994422710421"
      ],
      "text/markdown": [
       "**1:** 8.05994422710421"
      ],
      "text/plain": [
       "       1 \n",
       "8.059944 "
      ]
     },
     "metadata": {},
     "output_type": "display_data"
    }
   ],
   "source": [
    "predict(model_1,data.frame(major.claw = 10))"
   ]
  },
  {
   "cell_type": "code",
   "execution_count": 25,
   "metadata": {},
   "outputs": [
    {
     "data": {},
     "metadata": {},
     "output_type": "display_data"
    },
    {
     "data": {
      "image/png": "[encoded data removed]",
      "text/plain": [
       "plot without title"
      ]
     },
     "metadata": {},
     "output_type": "display_data"
    }
   ],
   "source": [
    "# test to graphically show that this is the correct prediction and you didnt make a mistake - this is NOT asked in the exam,\n",
    "# I did it just for fun. but it MIGHT be asked in the exam this year. However, you don't have to do it that fancy\n",
    "# you can also just use plot and abline\n",
    "ggplot(data = crab_data, aes(major.claw,body.size)) +\n",
    "    geom_point(mapping = aes(x = major.claw, y=body.size)) +\n",
    "    ggtitle('Body measurements of crabs') + xlab(\"major claw size (cm)\") + ylab(\"body sizee (cm)\") +\n",
    "    stat_smooth(method='lm', formula=y~x)"
   ]
  },
  {
   "cell_type": "markdown",
   "metadata": {},
   "source": [
    "## Question 3"
   ]
  },
  {
   "cell_type": "code",
   "execution_count": 29,
   "metadata": {},
   "outputs": [
    {
     "data": {
      "text/html": [
       "<table>\n",
       "<thead><tr><th></th><th scope=col>body.size</th><th scope=col>major.claw</th><th scope=col>minor.claw</th><th scope=col>claw.ratio</th><th scope=col>major.side</th></tr></thead>\n",
       "<tbody>\n",
       "\t<tr><th scope=row>25</th><td>8.1  </td><td>6.62 </td><td>2.92 </td><td>2.27 </td><td>Right</td></tr>\n",
       "</tbody>\n",
       "</table>\n"
      ],
      "text/latex": [
       "\\begin{tabular}{r|lllll}\n",
       "  & body.size & major.claw & minor.claw & claw.ratio & major.side\\\\\n",
       "\\hline\n",
       "\t25 & 8.1   & 6.62  & 2.92  & 2.27  & Right\\\\\n",
       "\\end{tabular}\n"
      ],
      "text/markdown": [
       "\n",
       "| <!--/--> | body.size | major.claw | minor.claw | claw.ratio | major.side | \n",
       "|---|\n",
       "| 25 | 8.1   | 6.62  | 2.92  | 2.27  | Right | \n",
       "\n",
       "\n"
      ],
      "text/plain": [
       "   body.size major.claw minor.claw claw.ratio major.side\n",
       "25 8.1       6.62       2.92       2.27       Right     "
      ]
     },
     "metadata": {},
     "output_type": "display_data"
    }
   ],
   "source": [
    "# in order to find that row we need to extract it using conditions. from the plot we see that it has a bodysize over 8\n",
    "# but needs to have a claw size below 7.5\n",
    "\n",
    "crab_data[crab_data$body.size > 8 & crab_data$major.claw < 7.5, ]\n"
   ]
  },
  {
   "cell_type": "markdown",
   "metadata": {},
   "source": [
    "### Yes the position of the outlier is consistent with the hypothesis since the crab is way too big to have such a small claw and is therefore most likely regrowing a lost one"
   ]
  },
  {
   "cell_type": "code",
   "execution_count": 31,
   "metadata": {},
   "outputs": [
    {
     "data": {
      "text/plain": [
       "\n",
       "\tPearson's product-moment correlation\n",
       "\n",
       "data:  crab_data$major.claw and crab_data$minor.claw\n",
       "t = 15.535, df = 48, p-value < 2.2e-16\n",
       "alternative hypothesis: true correlation is not equal to 0\n",
       "95 percent confidence interval:\n",
       " 0.8513784 0.9501111\n",
       "sample estimates:\n",
       "      cor \n",
       "0.9132943 \n"
      ]
     },
     "metadata": {},
     "output_type": "display_data"
    }
   ],
   "source": [
    "cor.test(crab_data$major.claw, crab_data$minor.claw) #method = c(\"pearson\"))"
   ]
  },
  {
   "cell_type": "markdown",
   "metadata": {},
   "source": [
    "### since you want to construct a model with the optimal number of variables, adding one which is highly correlated to another adds redundant information into your model (there are other problems as well which are not covered in this course). It also makes it more error prone and may result in a less stable model."
   ]
  },
  {
   "cell_type": "code",
   "execution_count": 33,
   "metadata": {},
   "outputs": [],
   "source": [
    "model_2 = lm(body.size ~ major.claw + claw.ratio, data =crab_data)"
   ]
  },
  {
   "cell_type": "code",
   "execution_count": 34,
   "metadata": {},
   "outputs": [
    {
     "data": {
      "text/plain": [
       "\n",
       "Call:\n",
       "lm(formula = body.size ~ major.claw + claw.ratio, data = crab_data)\n",
       "\n",
       "Residuals:\n",
       "     Min       1Q   Median       3Q      Max \n",
       "-0.79819 -0.20021  0.00729  0.26113  0.94935 \n",
       "\n",
       "Coefficients:\n",
       "            Estimate Std. Error t value Pr(>|t|)    \n",
       "(Intercept)  5.57351    0.43022  12.955  < 2e-16 ***\n",
       "major.claw   0.65504    0.03056  21.435  < 2e-16 ***\n",
       "claw.ratio  -1.21551    0.18897  -6.432 5.95e-08 ***\n",
       "---\n",
       "Signif. codes:  0 ‘***’ 0.001 ‘**’ 0.01 ‘*’ 0.05 ‘.’ 0.1 ‘ ’ 1\n",
       "\n",
       "Residual standard error: 0.355 on 47 degrees of freedom\n",
       "Multiple R-squared:  0.9424,\tAdjusted R-squared:  0.9399 \n",
       "F-statistic: 384.2 on 2 and 47 DF,  p-value: < 2.2e-16\n"
      ]
     },
     "metadata": {},
     "output_type": "display_data"
    }
   ],
   "source": [
    "summary(model_2)"
   ]
  },
  {
   "cell_type": "code",
   "execution_count": 35,
   "metadata": {},
   "outputs": [
    {
     "data": {
      "text/html": [
       "<table>\n",
       "<thead><tr><th scope=col>Res.Df</th><th scope=col>RSS</th><th scope=col>Df</th><th scope=col>Sum of Sq</th><th scope=col>F</th><th scope=col>Pr(&gt;F)</th></tr></thead>\n",
       "<tbody>\n",
       "\t<tr><td>48          </td><td>11.136220   </td><td>NA          </td><td>      NA    </td><td>      NA    </td><td>          NA</td></tr>\n",
       "\t<tr><td>47          </td><td> 5.922558   </td><td> 1          </td><td>5.213662    </td><td>41.37437    </td><td>5.949026e-08</td></tr>\n",
       "</tbody>\n",
       "</table>\n"
      ],
      "text/latex": [
       "\\begin{tabular}{r|llllll}\n",
       " Res.Df & RSS & Df & Sum of Sq & F & Pr(>F)\\\\\n",
       "\\hline\n",
       "\t 48           & 11.136220    & NA           &       NA     &       NA     &           NA\\\\\n",
       "\t 47           &  5.922558    &  1           & 5.213662     & 41.37437     & 5.949026e-08\\\\\n",
       "\\end{tabular}\n"
      ],
      "text/markdown": [
       "\n",
       "Res.Df | RSS | Df | Sum of Sq | F | Pr(>F) | \n",
       "|---|---|\n",
       "| 48           | 11.136220    | NA           |       NA     |       NA     |           NA | \n",
       "| 47           |  5.922558    |  1           | 5.213662     | 41.37437     | 5.949026e-08 | \n",
       "\n",
       "\n"
      ],
      "text/plain": [
       "  Res.Df RSS       Df Sum of Sq F        Pr(>F)      \n",
       "1 48     11.136220 NA       NA        NA           NA\n",
       "2 47      5.922558  1 5.213662  41.37437 5.949026e-08"
      ]
     },
     "metadata": {},
     "output_type": "display_data"
    }
   ],
   "source": [
    "anova(model_1, model_2)"
   ]
  },
  {
   "cell_type": "markdown",
   "metadata": {},
   "source": [
    "### this question is confusingly formulated. I assume for 4iv you say that the F-test of overall significance indicates whether your linear regression model provides a better fit to the data than a model that does not contain the newly added variable. and for 4v you say that since the p-value is very small we can reject the null hypothesis that the new model has no more explanatory power than the old model.\n"
   ]
  },
  {
   "cell_type": "code",
   "execution_count": 36,
   "metadata": {},
   "outputs": [],
   "source": [
    "model_3 = lm(body.size ~ major.claw + claw.ratio+major.side, data =crab_data)"
   ]
  },
  {
   "cell_type": "code",
   "execution_count": 37,
   "metadata": {},
   "outputs": [
    {
     "data": {
      "text/plain": [
       "\n",
       "Call:\n",
       "lm(formula = body.size ~ major.claw + claw.ratio + major.side, \n",
       "    data = crab_data)\n",
       "\n",
       "Residuals:\n",
       "    Min      1Q  Median      3Q     Max \n",
       "-0.8227 -0.1845 -0.0092  0.2341  0.9199 \n",
       "\n",
       "Coefficients:\n",
       "                Estimate Std. Error t value Pr(>|t|)    \n",
       "(Intercept)      5.46566    0.45039  12.135 6.11e-16 ***\n",
       "major.claw       0.65982    0.03118  21.159  < 2e-16 ***\n",
       "claw.ratio      -1.20883    0.18974  -6.371 8.03e-08 ***\n",
       "major.sideRight  0.09048    0.10803   0.838    0.407    \n",
       "---\n",
       "Signif. codes:  0 ‘***’ 0.001 ‘**’ 0.01 ‘*’ 0.05 ‘.’ 0.1 ‘ ’ 1\n",
       "\n",
       "Residual standard error: 0.3561 on 46 degrees of freedom\n",
       "Multiple R-squared:  0.9432,\tAdjusted R-squared:  0.9395 \n",
       "F-statistic: 254.8 on 3 and 46 DF,  p-value: < 2.2e-16\n"
      ]
     },
     "metadata": {},
     "output_type": "display_data"
    }
   ],
   "source": [
    "summary(model_3) # we can already see that this variable doesnt add any value to the model"
   ]
  },
  {
   "cell_type": "code",
   "execution_count": 40,
   "metadata": {},
   "outputs": [
    {
     "data": {
      "text/html": [
       "<table>\n",
       "<thead><tr><th scope=col>Res.Df</th><th scope=col>RSS</th><th scope=col>Df</th><th scope=col>Sum of Sq</th><th scope=col>F</th><th scope=col>Pr(&gt;F)</th></tr></thead>\n",
       "<tbody>\n",
       "\t<tr><td>48              </td><td>11.136220       </td><td>NA              </td><td>        NA      </td><td>        NA      </td><td>              NA</td></tr>\n",
       "\t<tr><td>47              </td><td> 5.922558       </td><td> 1              </td><td>5.21366208      </td><td>41.1116047      </td><td>0.00000006971479</td></tr>\n",
       "\t<tr><td>46              </td><td> 5.833595       </td><td> 1              </td><td>0.08896262      </td><td> 0.7015023      </td><td>0.40661005165212</td></tr>\n",
       "</tbody>\n",
       "</table>\n"
      ],
      "text/latex": [
       "\\begin{tabular}{r|llllll}\n",
       " Res.Df & RSS & Df & Sum of Sq & F & Pr(>F)\\\\\n",
       "\\hline\n",
       "\t 48               & 11.136220        & NA               &         NA       &         NA       &               NA\\\\\n",
       "\t 47               &  5.922558        &  1               & 5.21366208       & 41.1116047       & 0.00000006971479\\\\\n",
       "\t 46               &  5.833595        &  1               & 0.08896262       &  0.7015023       & 0.40661005165212\\\\\n",
       "\\end{tabular}\n"
      ],
      "text/markdown": [
       "\n",
       "Res.Df | RSS | Df | Sum of Sq | F | Pr(>F) | \n",
       "|---|---|---|\n",
       "| 48               | 11.136220        | NA               |         NA       |         NA       |               NA | \n",
       "| 47               |  5.922558        |  1               | 5.21366208       | 41.1116047       | 0.00000006971479 | \n",
       "| 46               |  5.833595        |  1               | 0.08896262       |  0.7015023       | 0.40661005165212 | \n",
       "\n",
       "\n"
      ],
      "text/plain": [
       "  Res.Df RSS       Df Sum of Sq  F          Pr(>F)          \n",
       "1 48     11.136220 NA         NA         NA               NA\n",
       "2 47      5.922558  1 5.21366208 41.1116047 0.00000006971479\n",
       "3 46      5.833595  1 0.08896262  0.7015023 0.40661005165212"
      ]
     },
     "metadata": {},
     "output_type": "display_data"
    }
   ],
   "source": [
    "options(scipen=999)  #this disables scientific notation\n",
    "anova(model_1, model_2,model_3)"
   ]
  },
  {
   "cell_type": "markdown",
   "metadata": {},
   "source": [
    "### we see that the p-value for the third model is pretty high so we cannot reject the null hypothesis that the new model has more explanatory power (aka the added variable doesnt add any value)"
   ]
  },
  {
   "cell_type": "code",
   "execution_count": null,
   "metadata": {},
   "outputs": [],
   "source": []
  },
  {
   "cell_type": "markdown",
   "metadata": {},
   "source": [
    "## SECTION B"
   ]
  },
  {
   "cell_type": "code",
   "execution_count": 5,
   "metadata": {},
   "outputs": [],
   "source": [
    "sb_data = read.csv('starbucks_data.csv')"
   ]
  },
  {
   "cell_type": "code",
   "execution_count": 6,
   "metadata": {},
   "outputs": [
    {
     "data": {
      "text/html": [
       "<table>\n",
       "<thead><tr><th scope=col>day</th><th scope=col>frappucinos</th><th scope=col>sales_pounds</th></tr></thead>\n",
       "<tbody>\n",
       "\t<tr><td>Tuesday  </td><td>41       </td><td>199.95   </td></tr>\n",
       "\t<tr><td>Wednesday</td><td>33       </td><td>195.74   </td></tr>\n",
       "\t<tr><td>Thursday </td><td>34       </td><td>102.68   </td></tr>\n",
       "\t<tr><td>Friday   </td><td>27       </td><td>162.88   </td></tr>\n",
       "\t<tr><td>Monday   </td><td>20       </td><td>101.76   </td></tr>\n",
       "\t<tr><td>Tuesday  </td><td>23       </td><td>186.94   </td></tr>\n",
       "</tbody>\n",
       "</table>\n"
      ],
      "text/latex": [
       "\\begin{tabular}{r|lll}\n",
       " day & frappucinos & sales\\_pounds\\\\\n",
       "\\hline\n",
       "\t Tuesday   & 41        & 199.95   \\\\\n",
       "\t Wednesday & 33        & 195.74   \\\\\n",
       "\t Thursday  & 34        & 102.68   \\\\\n",
       "\t Friday    & 27        & 162.88   \\\\\n",
       "\t Monday    & 20        & 101.76   \\\\\n",
       "\t Tuesday   & 23        & 186.94   \\\\\n",
       "\\end{tabular}\n"
      ],
      "text/markdown": [
       "\n",
       "day | frappucinos | sales_pounds | \n",
       "|---|---|---|---|---|---|\n",
       "| Tuesday   | 41        | 199.95    | \n",
       "| Wednesday | 33        | 195.74    | \n",
       "| Thursday  | 34        | 102.68    | \n",
       "| Friday    | 27        | 162.88    | \n",
       "| Monday    | 20        | 101.76    | \n",
       "| Tuesday   | 23        | 186.94    | \n",
       "\n",
       "\n"
      ],
      "text/plain": [
       "  day       frappucinos sales_pounds\n",
       "1 Tuesday   41          199.95      \n",
       "2 Wednesday 33          195.74      \n",
       "3 Thursday  34          102.68      \n",
       "4 Friday    27          162.88      \n",
       "5 Monday    20          101.76      \n",
       "6 Tuesday   23          186.94      "
      ]
     },
     "metadata": {},
     "output_type": "display_data"
    }
   ],
   "source": [
    "head(sb_data)"
   ]
  },
  {
   "cell_type": "code",
   "execution_count": 7,
   "metadata": {},
   "outputs": [
    {
     "data": {
      "text/plain": [
       "        day      frappucinos     sales_pounds   \n",
       " Friday   : 9   Min.   : 3.00   Min.   : 61.94  \n",
       " Monday   : 9   1st Qu.:12.00   1st Qu.:119.88  \n",
       " Thursday :10   Median :23.00   Median :150.51  \n",
       " Tuesday  :10   Mean   :21.51   Mean   :148.22  \n",
       " Wednesday:10   3rd Qu.:30.00   3rd Qu.:179.02  \n",
       "                Max.   :48.00   Max.   :240.87  \n",
       "                NA's   :1       NA's   :1       "
      ]
     },
     "metadata": {},
     "output_type": "display_data"
    },
    {
     "data": {
      "text/html": [
       "<ol class=list-inline>\n",
       "\t<li>48</li>\n",
       "\t<li>3</li>\n",
       "</ol>\n"
      ],
      "text/latex": [
       "\\begin{enumerate*}\n",
       "\\item 48\n",
       "\\item 3\n",
       "\\end{enumerate*}\n"
      ],
      "text/markdown": [
       "1. 48\n",
       "2. 3\n",
       "\n",
       "\n"
      ],
      "text/plain": [
       "[1] 48  3"
      ]
     },
     "metadata": {},
     "output_type": "display_data"
    }
   ],
   "source": [
    "summary(sb_data)\n",
    "dim(sb_data)"
   ]
  },
  {
   "cell_type": "code",
   "execution_count": 8,
   "metadata": {},
   "outputs": [
    {
     "data": {
      "text/html": [
       "<ol class=list-inline>\n",
       "\t<li>47</li>\n",
       "\t<li>3</li>\n",
       "</ol>\n"
      ],
      "text/latex": [
       "\\begin{enumerate*}\n",
       "\\item 47\n",
       "\\item 3\n",
       "\\end{enumerate*}\n"
      ],
      "text/markdown": [
       "1. 47\n",
       "2. 3\n",
       "\n",
       "\n"
      ],
      "text/plain": [
       "[1] 47  3"
      ]
     },
     "metadata": {},
     "output_type": "display_data"
    }
   ],
   "source": [
    "library(tidyr)\n",
    "sb_data = drop_na(sb_data)\n",
    "\n",
    "dim(sb_data)"
   ]
  },
  {
   "cell_type": "code",
   "execution_count": 53,
   "metadata": {},
   "outputs": [],
   "source": [
    "#aggregate(x$sales_pounds, by=)\n",
    "data_by_day = aggregate(sales_pounds ~ day, sb_data, sum)"
   ]
  },
  {
   "cell_type": "code",
   "execution_count": 54,
   "metadata": {},
   "outputs": [
    {
     "data": {
      "text/html": [
       "<table>\n",
       "<thead><tr><th scope=col>day</th><th scope=col>sales_pounds</th></tr></thead>\n",
       "<tbody>\n",
       "\t<tr><td>Friday   </td><td> 744.48  </td></tr>\n",
       "\t<tr><td>Monday   </td><td>1101.11  </td></tr>\n",
       "\t<tr><td>Thursday </td><td>1733.04  </td></tr>\n",
       "\t<tr><td>Tuesday  </td><td>1935.98  </td></tr>\n",
       "\t<tr><td>Wednesday</td><td>1451.81  </td></tr>\n",
       "</tbody>\n",
       "</table>\n"
      ],
      "text/latex": [
       "\\begin{tabular}{r|ll}\n",
       " day & sales\\_pounds\\\\\n",
       "\\hline\n",
       "\t Friday    &  744.48  \\\\\n",
       "\t Monday    & 1101.11  \\\\\n",
       "\t Thursday  & 1733.04  \\\\\n",
       "\t Tuesday   & 1935.98  \\\\\n",
       "\t Wednesday & 1451.81  \\\\\n",
       "\\end{tabular}\n"
      ],
      "text/markdown": [
       "\n",
       "day | sales_pounds | \n",
       "|---|---|---|---|---|\n",
       "| Friday    |  744.48   | \n",
       "| Monday    | 1101.11   | \n",
       "| Thursday  | 1733.04   | \n",
       "| Tuesday   | 1935.98   | \n",
       "| Wednesday | 1451.81   | \n",
       "\n",
       "\n"
      ],
      "text/plain": [
       "  day       sales_pounds\n",
       "1 Friday     744.48     \n",
       "2 Monday    1101.11     \n",
       "3 Thursday  1733.04     \n",
       "4 Tuesday   1935.98     \n",
       "5 Wednesday 1451.81     "
      ]
     },
     "metadata": {},
     "output_type": "display_data"
    }
   ],
   "source": [
    "data_by_day"
   ]
  },
  {
   "cell_type": "markdown",
   "metadata": {},
   "source": [
    "### the info above gives us all tne info to answer the first 3 questions. The total sales for each day, the highest number of frappucinos is 48 and the mean value of sales on Mondays is 1101.11 / 9"
   ]
  },
  {
   "cell_type": "code",
   "execution_count": 69,
   "metadata": {},
   "outputs": [
    {
     "data": {
      "text/html": [
       "122.345555555556"
      ],
      "text/latex": [
       "122.345555555556"
      ],
      "text/markdown": [
       "122.345555555556"
      ],
      "text/plain": [
       "[1] 122.3456"
      ]
     },
     "metadata": {},
     "output_type": "display_data"
    }
   ],
   "source": [
    "monday_mean = 1101.11 / 9\n",
    "monday_mean\n",
    "friday_mean = 744 / 9"
   ]
  },
  {
   "cell_type": "code",
   "execution_count": 12,
   "metadata": {},
   "outputs": [
    {
     "data": {
      "text/plain": [
       "\n",
       "\tWelch Two Sample t-test\n",
       "\n",
       "data:  sales_pounds by day\n",
       "t = -2.0599, df = 12.671, p-value = 0.06057\n",
       "alternative hypothesis: true difference in means is not equal to 0\n",
       "95 percent confidence interval:\n",
       " -60.081233   1.510121\n",
       "sample estimates:\n",
       "mean in group Friday mean in group Monday \n",
       "             93.0600             122.3456 \n"
      ]
     },
     "metadata": {},
     "output_type": "display_data"
    },
    {
     "data": {
      "text/plain": [
       "\n",
       "\tWelch Two Sample t-test\n",
       "\n",
       "data:  sales_pounds by day\n",
       "t = -2.0599, df = 12.671, p-value = 0.06057\n",
       "alternative hypothesis: true difference in means is not equal to 0\n",
       "95 percent confidence interval:\n",
       " -60.081233   1.510121\n",
       "sample estimates:\n",
       "mean in group Friday mean in group Monday \n",
       "             93.0600             122.3456 \n"
      ]
     },
     "metadata": {},
     "output_type": "display_data"
    }
   ],
   "source": [
    "# t-test\n",
    "\n",
    "mon_fri = sb_data[sb_data$day == 'Monday' | sb_data$day == 'Friday', ]\n",
    "#str(mon_fri)\n",
    "\n",
    "t.test(sales_pounds~day, data = sb_data[which(sb_data$day ==\"Friday\" | sb_data$day == \"Monday\"),],conf = 0.95)\n",
    "\n",
    "t.test(sales_pounds ~ day, mu=0, alt=\"two.sided\", conf=0.95, data=mon_fri)"
   ]
  },
  {
   "cell_type": "markdown",
   "metadata": {},
   "source": [
    "### not statistically significant"
   ]
  },
  {
   "cell_type": "code",
   "execution_count": 4,
   "metadata": {},
   "outputs": [
    {
     "data": {
      "text/html": [
       "<table>\n",
       "<thead><tr><th scope=col>crab.id</th><th scope=col>body.size</th><th scope=col>major.claw</th><th scope=col>minor.claw</th><th scope=col>claw.ratio</th><th scope=col>major.side</th></tr></thead>\n",
       "<tbody>\n",
       "\t<tr><td>1    </td><td>11.00</td><td>14.75</td><td>3.96 </td><td>3.72 </td><td>Left </td></tr>\n",
       "\t<tr><td>2    </td><td>10.25</td><td>13.03</td><td>3.92 </td><td>3.32 </td><td>Right</td></tr>\n",
       "\t<tr><td>3    </td><td> 9.55</td><td>14.60</td><td>3.57 </td><td>4.09 </td><td>Left </td></tr>\n",
       "\t<tr><td>4    </td><td> 6.35</td><td> 6.83</td><td>2.30 </td><td>2.97 </td><td>Left </td></tr>\n",
       "\t<tr><td>5    </td><td> 9.45</td><td>13.17</td><td>3.38 </td><td>3.90 </td><td>Right</td></tr>\n",
       "\t<tr><td>6    </td><td> 6.90</td><td> 7.37</td><td>2.45 </td><td>3.01 </td><td>Right</td></tr>\n",
       "</tbody>\n",
       "</table>\n"
      ],
      "text/latex": [
       "\\begin{tabular}{r|llllll}\n",
       " crab.id & body.size & major.claw & minor.claw & claw.ratio & major.side\\\\\n",
       "\\hline\n",
       "\t 1     & 11.00 & 14.75 & 3.96  & 3.72  & Left \\\\\n",
       "\t 2     & 10.25 & 13.03 & 3.92  & 3.32  & Right\\\\\n",
       "\t 3     &  9.55 & 14.60 & 3.57  & 4.09  & Left \\\\\n",
       "\t 4     &  6.35 &  6.83 & 2.30  & 2.97  & Left \\\\\n",
       "\t 5     &  9.45 & 13.17 & 3.38  & 3.90  & Right\\\\\n",
       "\t 6     &  6.90 &  7.37 & 2.45  & 3.01  & Right\\\\\n",
       "\\end{tabular}\n"
      ],
      "text/markdown": [
       "\n",
       "crab.id | body.size | major.claw | minor.claw | claw.ratio | major.side | \n",
       "|---|---|---|---|---|---|\n",
       "| 1     | 11.00 | 14.75 | 3.96  | 3.72  | Left  | \n",
       "| 2     | 10.25 | 13.03 | 3.92  | 3.32  | Right | \n",
       "| 3     |  9.55 | 14.60 | 3.57  | 4.09  | Left  | \n",
       "| 4     |  6.35 |  6.83 | 2.30  | 2.97  | Left  | \n",
       "| 5     |  9.45 | 13.17 | 3.38  | 3.90  | Right | \n",
       "| 6     |  6.90 |  7.37 | 2.45  | 3.01  | Right | \n",
       "\n",
       "\n"
      ],
      "text/plain": [
       "  crab.id body.size major.claw minor.claw claw.ratio major.side\n",
       "1 1       11.00     14.75      3.96       3.72       Left      \n",
       "2 2       10.25     13.03      3.92       3.32       Right     \n",
       "3 3        9.55     14.60      3.57       4.09       Left      \n",
       "4 4        6.35      6.83      2.30       2.97       Left      \n",
       "5 5        9.45     13.17      3.38       3.90       Right     \n",
       "6 6        6.90      7.37      2.45       3.01       Right     "
      ]
     },
     "metadata": {},
     "output_type": "display_data"
    }
   ],
   "source": [
    "head(crab_data)"
   ]
  },
  {
   "cell_type": "code",
   "execution_count": 9,
   "metadata": {},
   "outputs": [],
   "source": [
    "crab_data_raw = read.csv(\"raw.csv\")"
   ]
  },
  {
   "cell_type": "code",
   "execution_count": 10,
   "metadata": {},
   "outputs": [
    {
     "data": {
      "text/html": [
       "<table>\n",
       "<thead><tr><th scope=col>crab.id</th><th scope=col>body.size</th><th scope=col>right.claw</th><th scope=col>left.claw</th></tr></thead>\n",
       "<tbody>\n",
       "\t<tr><td>12  </td><td>4.85</td><td>1.90</td><td>5.05</td></tr>\n",
       "\t<tr><td>30  </td><td>5.80</td><td>2.06</td><td>5.30</td></tr>\n",
       "\t<tr><td>39  </td><td>6.00</td><td>2.10</td><td>5.29</td></tr>\n",
       "\t<tr><td>34  </td><td>6.15</td><td>2.25</td><td>6.41</td></tr>\n",
       "\t<tr><td>42  </td><td>6.30</td><td>7.74</td><td>2.54</td></tr>\n",
       "\t<tr><td> 4  </td><td>6.35</td><td>6.83</td><td>2.30</td></tr>\n",
       "</tbody>\n",
       "</table>\n"
      ],
      "text/latex": [
       "\\begin{tabular}{r|llll}\n",
       " crab.id & body.size & right.claw & left.claw\\\\\n",
       "\\hline\n",
       "\t 12   & 4.85 & 1.90 & 5.05\\\\\n",
       "\t 30   & 5.80 & 2.06 & 5.30\\\\\n",
       "\t 39   & 6.00 & 2.10 & 5.29\\\\\n",
       "\t 34   & 6.15 & 2.25 & 6.41\\\\\n",
       "\t 42   & 6.30 & 7.74 & 2.54\\\\\n",
       "\t  4   & 6.35 & 6.83 & 2.30\\\\\n",
       "\\end{tabular}\n"
      ],
      "text/markdown": [
       "\n",
       "crab.id | body.size | right.claw | left.claw | \n",
       "|---|---|---|---|---|---|\n",
       "| 12   | 4.85 | 1.90 | 5.05 | \n",
       "| 30   | 5.80 | 2.06 | 5.30 | \n",
       "| 39   | 6.00 | 2.10 | 5.29 | \n",
       "| 34   | 6.15 | 2.25 | 6.41 | \n",
       "| 42   | 6.30 | 7.74 | 2.54 | \n",
       "|  4   | 6.35 | 6.83 | 2.30 | \n",
       "\n",
       "\n"
      ],
      "text/plain": [
       "  crab.id body.size right.claw left.claw\n",
       "1 12      4.85      1.90       5.05     \n",
       "2 30      5.80      2.06       5.30     \n",
       "3 39      6.00      2.10       5.29     \n",
       "4 34      6.15      2.25       6.41     \n",
       "5 42      6.30      7.74       2.54     \n",
       "6  4      6.35      6.83       2.30     "
      ]
     },
     "metadata": {},
     "output_type": "display_data"
    }
   ],
   "source": [
    "head(crab_data_raw)"
   ]
  },
  {
   "cell_type": "code",
   "execution_count": null,
   "metadata": {},
   "outputs": [],
   "source": [
    "crab_data_raw$major.side[crab_data_raw]"
   ]
  },
  {
   "cell_type": "code",
   "execution_count": 14,
   "metadata": {},
   "outputs": [],
   "source": [
    "#with if-else\n",
    "crab_data_raw$major.side = ifelse(crab_data_raw$right.claw > crab_data_raw$left.claw, \"right\", \"left\" )"
   ]
  },
  {
   "cell_type": "code",
   "execution_count": 15,
   "metadata": {},
   "outputs": [
    {
     "data": {
      "text/html": [
       "<table>\n",
       "<thead><tr><th scope=col>crab.id</th><th scope=col>body.size</th><th scope=col>right.claw</th><th scope=col>left.claw</th><th scope=col>major.side</th></tr></thead>\n",
       "<tbody>\n",
       "\t<tr><td>12   </td><td>4.85 </td><td>1.90 </td><td>5.05 </td><td>left </td></tr>\n",
       "\t<tr><td>30   </td><td>5.80 </td><td>2.06 </td><td>5.30 </td><td>left </td></tr>\n",
       "\t<tr><td>39   </td><td>6.00 </td><td>2.10 </td><td>5.29 </td><td>left </td></tr>\n",
       "\t<tr><td>34   </td><td>6.15 </td><td>2.25 </td><td>6.41 </td><td>left </td></tr>\n",
       "\t<tr><td>42   </td><td>6.30 </td><td>7.74 </td><td>2.54 </td><td>right</td></tr>\n",
       "\t<tr><td> 4   </td><td>6.35 </td><td>6.83 </td><td>2.30 </td><td>right</td></tr>\n",
       "</tbody>\n",
       "</table>\n"
      ],
      "text/latex": [
       "\\begin{tabular}{r|lllll}\n",
       " crab.id & body.size & right.claw & left.claw & major.side\\\\\n",
       "\\hline\n",
       "\t 12    & 4.85  & 1.90  & 5.05  & left \\\\\n",
       "\t 30    & 5.80  & 2.06  & 5.30  & left \\\\\n",
       "\t 39    & 6.00  & 2.10  & 5.29  & left \\\\\n",
       "\t 34    & 6.15  & 2.25  & 6.41  & left \\\\\n",
       "\t 42    & 6.30  & 7.74  & 2.54  & right\\\\\n",
       "\t  4    & 6.35  & 6.83  & 2.30  & right\\\\\n",
       "\\end{tabular}\n"
      ],
      "text/markdown": [
       "\n",
       "crab.id | body.size | right.claw | left.claw | major.side | \n",
       "|---|---|---|---|---|---|\n",
       "| 12    | 4.85  | 1.90  | 5.05  | left  | \n",
       "| 30    | 5.80  | 2.06  | 5.30  | left  | \n",
       "| 39    | 6.00  | 2.10  | 5.29  | left  | \n",
       "| 34    | 6.15  | 2.25  | 6.41  | left  | \n",
       "| 42    | 6.30  | 7.74  | 2.54  | right | \n",
       "|  4    | 6.35  | 6.83  | 2.30  | right | \n",
       "\n",
       "\n"
      ],
      "text/plain": [
       "  crab.id body.size right.claw left.claw major.side\n",
       "1 12      4.85      1.90       5.05      left      \n",
       "2 30      5.80      2.06       5.30      left      \n",
       "3 39      6.00      2.10       5.29      left      \n",
       "4 34      6.15      2.25       6.41      left      \n",
       "5 42      6.30      7.74       2.54      right     \n",
       "6  4      6.35      6.83       2.30      right     "
      ]
     },
     "metadata": {},
     "output_type": "display_data"
    }
   ],
   "source": [
    "head(crab_data_raw)"
   ]
  },
  {
   "cell_type": "code",
   "execution_count": null,
   "metadata": {},
   "outputs": [],
   "source": [
    "crab_data_raw = read.csv(\"raw.csv\")\n",
    "\n",
    "crab_data_raw$major.side = \"none\"\n"
   ]
  },
  {
   "cell_type": "code",
   "execution_count": 19,
   "metadata": {},
   "outputs": [
    {
     "data": {
      "text/html": [
       "<table>\n",
       "<thead><tr><th scope=col>crab.id</th><th scope=col>body.size</th><th scope=col>right.claw</th><th scope=col>left.claw</th><th scope=col>major.side</th></tr></thead>\n",
       "<tbody>\n",
       "\t<tr><td>12  </td><td>4.85</td><td>1.90</td><td>5.05</td><td>none</td></tr>\n",
       "\t<tr><td>30  </td><td>5.80</td><td>2.06</td><td>5.30</td><td>none</td></tr>\n",
       "\t<tr><td>39  </td><td>6.00</td><td>2.10</td><td>5.29</td><td>none</td></tr>\n",
       "\t<tr><td>34  </td><td>6.15</td><td>2.25</td><td>6.41</td><td>none</td></tr>\n",
       "\t<tr><td>42  </td><td>6.30</td><td>7.74</td><td>2.54</td><td>none</td></tr>\n",
       "\t<tr><td> 4  </td><td>6.35</td><td>6.83</td><td>2.30</td><td>none</td></tr>\n",
       "</tbody>\n",
       "</table>\n"
      ],
      "text/latex": [
       "\\begin{tabular}{r|lllll}\n",
       " crab.id & body.size & right.claw & left.claw & major.side\\\\\n",
       "\\hline\n",
       "\t 12   & 4.85 & 1.90 & 5.05 & none\\\\\n",
       "\t 30   & 5.80 & 2.06 & 5.30 & none\\\\\n",
       "\t 39   & 6.00 & 2.10 & 5.29 & none\\\\\n",
       "\t 34   & 6.15 & 2.25 & 6.41 & none\\\\\n",
       "\t 42   & 6.30 & 7.74 & 2.54 & none\\\\\n",
       "\t  4   & 6.35 & 6.83 & 2.30 & none\\\\\n",
       "\\end{tabular}\n"
      ],
      "text/markdown": [
       "\n",
       "crab.id | body.size | right.claw | left.claw | major.side | \n",
       "|---|---|---|---|---|---|\n",
       "| 12   | 4.85 | 1.90 | 5.05 | none | \n",
       "| 30   | 5.80 | 2.06 | 5.30 | none | \n",
       "| 39   | 6.00 | 2.10 | 5.29 | none | \n",
       "| 34   | 6.15 | 2.25 | 6.41 | none | \n",
       "| 42   | 6.30 | 7.74 | 2.54 | none | \n",
       "|  4   | 6.35 | 6.83 | 2.30 | none | \n",
       "\n",
       "\n"
      ],
      "text/plain": [
       "  crab.id body.size right.claw left.claw major.side\n",
       "1 12      4.85      1.90       5.05      none      \n",
       "2 30      5.80      2.06       5.30      none      \n",
       "3 39      6.00      2.10       5.29      none      \n",
       "4 34      6.15      2.25       6.41      none      \n",
       "5 42      6.30      7.74       2.54      none      \n",
       "6  4      6.35      6.83       2.30      none      "
      ]
     },
     "metadata": {},
     "output_type": "display_data"
    }
   ],
   "source": [
    "head(crab_data_raw)"
   ]
  },
  {
   "cell_type": "code",
   "execution_count": 22,
   "metadata": {},
   "outputs": [],
   "source": [
    "#without if-else\n",
    "crab_data_raw$major.side[crab_data_raw$right.claw > crab_data_raw$left.claw] = \"right\"\n",
    "\n"
   ]
  },
  {
   "cell_type": "code",
   "execution_count": 23,
   "metadata": {},
   "outputs": [
    {
     "data": {
      "text/html": [
       "<table>\n",
       "<thead><tr><th scope=col>crab.id</th><th scope=col>body.size</th><th scope=col>right.claw</th><th scope=col>left.claw</th><th scope=col>major.side</th></tr></thead>\n",
       "<tbody>\n",
       "\t<tr><td>12   </td><td>4.85 </td><td>1.90 </td><td>5.05 </td><td>none </td></tr>\n",
       "\t<tr><td>30   </td><td>5.80 </td><td>2.06 </td><td>5.30 </td><td>none </td></tr>\n",
       "\t<tr><td>39   </td><td>6.00 </td><td>2.10 </td><td>5.29 </td><td>none </td></tr>\n",
       "\t<tr><td>34   </td><td>6.15 </td><td>2.25 </td><td>6.41 </td><td>none </td></tr>\n",
       "\t<tr><td>42   </td><td>6.30 </td><td>7.74 </td><td>2.54 </td><td>right</td></tr>\n",
       "\t<tr><td> 4   </td><td>6.35 </td><td>6.83 </td><td>2.30 </td><td>right</td></tr>\n",
       "</tbody>\n",
       "</table>\n"
      ],
      "text/latex": [
       "\\begin{tabular}{r|lllll}\n",
       " crab.id & body.size & right.claw & left.claw & major.side\\\\\n",
       "\\hline\n",
       "\t 12    & 4.85  & 1.90  & 5.05  & none \\\\\n",
       "\t 30    & 5.80  & 2.06  & 5.30  & none \\\\\n",
       "\t 39    & 6.00  & 2.10  & 5.29  & none \\\\\n",
       "\t 34    & 6.15  & 2.25  & 6.41  & none \\\\\n",
       "\t 42    & 6.30  & 7.74  & 2.54  & right\\\\\n",
       "\t  4    & 6.35  & 6.83  & 2.30  & right\\\\\n",
       "\\end{tabular}\n"
      ],
      "text/markdown": [
       "\n",
       "crab.id | body.size | right.claw | left.claw | major.side | \n",
       "|---|---|---|---|---|---|\n",
       "| 12    | 4.85  | 1.90  | 5.05  | none  | \n",
       "| 30    | 5.80  | 2.06  | 5.30  | none  | \n",
       "| 39    | 6.00  | 2.10  | 5.29  | none  | \n",
       "| 34    | 6.15  | 2.25  | 6.41  | none  | \n",
       "| 42    | 6.30  | 7.74  | 2.54  | right | \n",
       "|  4    | 6.35  | 6.83  | 2.30  | right | \n",
       "\n",
       "\n"
      ],
      "text/plain": [
       "  crab.id body.size right.claw left.claw major.side\n",
       "1 12      4.85      1.90       5.05      none      \n",
       "2 30      5.80      2.06       5.30      none      \n",
       "3 39      6.00      2.10       5.29      none      \n",
       "4 34      6.15      2.25       6.41      none      \n",
       "5 42      6.30      7.74       2.54      right     \n",
       "6  4      6.35      6.83       2.30      right     "
      ]
     },
     "metadata": {},
     "output_type": "display_data"
    }
   ],
   "source": [
    "head(crab_data_raw)"
   ]
  },
  {
   "cell_type": "code",
   "execution_count": 24,
   "metadata": {},
   "outputs": [],
   "source": [
    "crab_data_raw$major.side[crab_data_raw$right.claw < crab_data_raw$left.claw] = \"left\""
   ]
  },
  {
   "cell_type": "code",
   "execution_count": 25,
   "metadata": {},
   "outputs": [
    {
     "data": {
      "text/html": [
       "<table>\n",
       "<thead><tr><th scope=col>crab.id</th><th scope=col>body.size</th><th scope=col>right.claw</th><th scope=col>left.claw</th><th scope=col>major.side</th></tr></thead>\n",
       "<tbody>\n",
       "\t<tr><td>12   </td><td>4.85 </td><td>1.90 </td><td>5.05 </td><td>left </td></tr>\n",
       "\t<tr><td>30   </td><td>5.80 </td><td>2.06 </td><td>5.30 </td><td>left </td></tr>\n",
       "\t<tr><td>39   </td><td>6.00 </td><td>2.10 </td><td>5.29 </td><td>left </td></tr>\n",
       "\t<tr><td>34   </td><td>6.15 </td><td>2.25 </td><td>6.41 </td><td>left </td></tr>\n",
       "\t<tr><td>42   </td><td>6.30 </td><td>7.74 </td><td>2.54 </td><td>right</td></tr>\n",
       "\t<tr><td> 4   </td><td>6.35 </td><td>6.83 </td><td>2.30 </td><td>right</td></tr>\n",
       "</tbody>\n",
       "</table>\n"
      ],
      "text/latex": [
       "\\begin{tabular}{r|lllll}\n",
       " crab.id & body.size & right.claw & left.claw & major.side\\\\\n",
       "\\hline\n",
       "\t 12    & 4.85  & 1.90  & 5.05  & left \\\\\n",
       "\t 30    & 5.80  & 2.06  & 5.30  & left \\\\\n",
       "\t 39    & 6.00  & 2.10  & 5.29  & left \\\\\n",
       "\t 34    & 6.15  & 2.25  & 6.41  & left \\\\\n",
       "\t 42    & 6.30  & 7.74  & 2.54  & right\\\\\n",
       "\t  4    & 6.35  & 6.83  & 2.30  & right\\\\\n",
       "\\end{tabular}\n"
      ],
      "text/markdown": [
       "\n",
       "crab.id | body.size | right.claw | left.claw | major.side | \n",
       "|---|---|---|---|---|---|\n",
       "| 12    | 4.85  | 1.90  | 5.05  | left  | \n",
       "| 30    | 5.80  | 2.06  | 5.30  | left  | \n",
       "| 39    | 6.00  | 2.10  | 5.29  | left  | \n",
       "| 34    | 6.15  | 2.25  | 6.41  | left  | \n",
       "| 42    | 6.30  | 7.74  | 2.54  | right | \n",
       "|  4    | 6.35  | 6.83  | 2.30  | right | \n",
       "\n",
       "\n"
      ],
      "text/plain": [
       "  crab.id body.size right.claw left.claw major.side\n",
       "1 12      4.85      1.90       5.05      left      \n",
       "2 30      5.80      2.06       5.30      left      \n",
       "3 39      6.00      2.10       5.29      left      \n",
       "4 34      6.15      2.25       6.41      left      \n",
       "5 42      6.30      7.74       2.54      right     \n",
       "6  4      6.35      6.83       2.30      right     "
      ]
     },
     "metadata": {},
     "output_type": "display_data"
    }
   ],
   "source": [
    "head(crab_data_raw)"
   ]
  },
  {
   "cell_type": "markdown",
   "metadata": {},
   "source": [
    "###  this also takes 20sec to google: assign value to column based on condition in other columnr R"
   ]
  },
  {
   "cell_type": "code",
   "execution_count": 36,
   "metadata": {},
   "outputs": [],
   "source": [
    "crab_data_raw = crab_data_raw[order(crab_data_raw$crab.id),]"
   ]
  },
  {
   "cell_type": "code",
   "execution_count": 39,
   "metadata": {},
   "outputs": [
    {
     "data": {
      "text/html": [
       "<table>\n",
       "<thead><tr><th></th><th scope=col>crab.id</th><th scope=col>body.size</th><th scope=col>right.claw</th><th scope=col>left.claw</th><th scope=col>major.side</th></tr></thead>\n",
       "<tbody>\n",
       "\t<tr><th scope=row>49</th><td> 1   </td><td>11.00</td><td>14.75</td><td> 3.96</td><td>right</td></tr>\n",
       "\t<tr><th scope=row>46</th><td> 2   </td><td>10.25</td><td> 3.92</td><td>13.03</td><td>left </td></tr>\n",
       "\t<tr><th scope=row>43</th><td> 3   </td><td> 9.55</td><td>14.60</td><td> 3.57</td><td>right</td></tr>\n",
       "\t<tr><th scope=row>6</th><td> 4   </td><td> 6.35</td><td> 6.83</td><td> 2.30</td><td>right</td></tr>\n",
       "\t<tr><th scope=row>42</th><td> 5   </td><td> 9.45</td><td> 3.38</td><td>13.17</td><td>left </td></tr>\n",
       "\t<tr><th scope=row>14</th><td> 6   </td><td> 6.90</td><td> 2.45</td><td> 7.37</td><td>left </td></tr>\n",
       "\t<tr><th scope=row>34</th><td> 7   </td><td> 8.30</td><td> 9.98</td><td> 2.93</td><td>right</td></tr>\n",
       "\t<tr><th scope=row>50</th><td> 8   </td><td>11.30</td><td>16.47</td><td> 4.13</td><td>right</td></tr>\n",
       "\t<tr><th scope=row>47</th><td> 9   </td><td>10.45</td><td> 3.76</td><td>14.06</td><td>left </td></tr>\n",
       "\t<tr><th scope=row>11</th><td>10   </td><td> 6.80</td><td> 8.51</td><td> 2.45</td><td>right</td></tr>\n",
       "\t<tr><th scope=row>15</th><td>11   </td><td> 6.95</td><td> 8.28</td><td> 2.53</td><td>right</td></tr>\n",
       "\t<tr><th scope=row>1</th><td>12   </td><td> 4.85</td><td> 1.90</td><td> 5.05</td><td>left </td></tr>\n",
       "\t<tr><th scope=row>35</th><td>13   </td><td> 8.35</td><td> 2.93</td><td>11.37</td><td>left </td></tr>\n",
       "\t<tr><th scope=row>29</th><td>14   </td><td> 7.65</td><td> 8.82</td><td> 2.69</td><td>right</td></tr>\n",
       "\t<tr><th scope=row>30</th><td>15   </td><td> 7.65</td><td>10.26</td><td> 2.88</td><td>right</td></tr>\n",
       "\t<tr><th scope=row>8</th><td>16   </td><td> 6.65</td><td> 2.34</td><td> 6.27</td><td>left </td></tr>\n",
       "\t<tr><th scope=row>36</th><td>17   </td><td> 8.35</td><td>12.02</td><td> 3.36</td><td>right</td></tr>\n",
       "\t<tr><th scope=row>18</th><td>18   </td><td> 7.20</td><td> 8.06</td><td> 2.81</td><td>right</td></tr>\n",
       "\t<tr><th scope=row>48</th><td>19   </td><td>10.55</td><td>14.68</td><td> 3.87</td><td>right</td></tr>\n",
       "\t<tr><th scope=row>21</th><td>20   </td><td> 7.35</td><td> 2.74</td><td> 8.70</td><td>left </td></tr>\n",
       "\t<tr><th scope=row>22</th><td>21   </td><td> 7.35</td><td> 8.00</td><td> 3.00</td><td>right</td></tr>\n",
       "\t<tr><th scope=row>39</th><td>22   </td><td> 9.00</td><td>10.61</td><td> 3.25</td><td>right</td></tr>\n",
       "\t<tr><th scope=row>40</th><td>23   </td><td> 9.00</td><td>12.32</td><td> 3.29</td><td>right</td></tr>\n",
       "\t<tr><th scope=row>19</th><td>24   </td><td> 7.25</td><td> 3.20</td><td> 8.39</td><td>left </td></tr>\n",
       "\t<tr><th scope=row>32</th><td>25   </td><td> 8.10</td><td> 2.92</td><td> 6.62</td><td>left </td></tr>\n",
       "\t<tr><th scope=row>28</th><td>26   </td><td> 7.60</td><td> 7.81</td><td> 2.97</td><td>right</td></tr>\n",
       "\t<tr><th scope=row>45</th><td>27   </td><td>10.15</td><td>14.04</td><td> 3.75</td><td>right</td></tr>\n",
       "\t<tr><th scope=row>33</th><td>28   </td><td> 8.10</td><td> 3.23</td><td>10.22</td><td>left </td></tr>\n",
       "\t<tr><th scope=row>37</th><td>29   </td><td> 8.85</td><td> 3.14</td><td>10.31</td><td>left </td></tr>\n",
       "\t<tr><th scope=row>2</th><td>30   </td><td> 5.80</td><td> 2.06</td><td> 5.30</td><td>left </td></tr>\n",
       "\t<tr><th scope=row>7</th><td>31   </td><td> 6.55</td><td> 2.55</td><td> 7.98</td><td>left </td></tr>\n",
       "\t<tr><th scope=row>38</th><td>32   </td><td> 8.90</td><td>10.77</td><td> 3.34</td><td>right</td></tr>\n",
       "\t<tr><th scope=row>44</th><td>33   </td><td> 9.75</td><td>12.67</td><td> 3.48</td><td>right</td></tr>\n",
       "\t<tr><th scope=row>4</th><td>34   </td><td> 6.15</td><td> 2.25</td><td> 6.41</td><td>left </td></tr>\n",
       "\t<tr><th scope=row>27</th><td>35   </td><td> 7.50</td><td> 9.82</td><td> 2.87</td><td>right</td></tr>\n",
       "\t<tr><th scope=row>9</th><td>36   </td><td> 6.70</td><td> 2.50</td><td> 8.15</td><td>left </td></tr>\n",
       "\t<tr><th scope=row>13</th><td>37   </td><td> 6.85</td><td> 8.66</td><td> 2.56</td><td>right</td></tr>\n",
       "\t<tr><th scope=row>17</th><td>38   </td><td> 7.10</td><td> 2.38</td><td> 8.83</td><td>left </td></tr>\n",
       "\t<tr><th scope=row>3</th><td>39   </td><td> 6.00</td><td> 2.10</td><td> 5.29</td><td>left </td></tr>\n",
       "\t<tr><th scope=row>23</th><td>40   </td><td> 7.35</td><td> 2.44</td><td> 9.62</td><td>left </td></tr>\n",
       "\t<tr><th scope=row>26</th><td>41   </td><td> 7.45</td><td> 8.96</td><td> 2.76</td><td>right</td></tr>\n",
       "\t<tr><th scope=row>5</th><td>42   </td><td> 6.30</td><td> 7.74</td><td> 2.54</td><td>right</td></tr>\n",
       "\t<tr><th scope=row>24</th><td>43   </td><td> 7.35</td><td> 8.69</td><td> 2.58</td><td>right</td></tr>\n",
       "\t<tr><th scope=row>31</th><td>44   </td><td> 8.00</td><td>11.11</td><td> 2.69</td><td>right</td></tr>\n",
       "\t<tr><th scope=row>20</th><td>45   </td><td> 7.30</td><td> 2.44</td><td> 8.38</td><td>left </td></tr>\n",
       "\t<tr><th scope=row>16</th><td>46   </td><td> 6.95</td><td> 8.15</td><td> 2.32</td><td>right</td></tr>\n",
       "\t<tr><th scope=row>10</th><td>47   </td><td> 6.70</td><td> 2.29</td><td> 6.87</td><td>left </td></tr>\n",
       "\t<tr><th scope=row>12</th><td>48   </td><td> 6.80</td><td> 2.31</td><td> 7.28</td><td>left </td></tr>\n",
       "\t<tr><th scope=row>41</th><td>49   </td><td> 9.35</td><td>11.62</td><td> 3.44</td><td>right</td></tr>\n",
       "\t<tr><th scope=row>25</th><td>50   </td><td> 7.40</td><td> 8.15</td><td> 2.65</td><td>right</td></tr>\n",
       "</tbody>\n",
       "</table>\n"
      ],
      "text/latex": [
       "\\begin{tabular}{r|lllll}\n",
       "  & crab.id & body.size & right.claw & left.claw & major.side\\\\\n",
       "\\hline\n",
       "\t49 &  1    & 11.00 & 14.75 &  3.96 & right\\\\\n",
       "\t46 &  2    & 10.25 &  3.92 & 13.03 & left \\\\\n",
       "\t43 &  3    &  9.55 & 14.60 &  3.57 & right\\\\\n",
       "\t6 &  4    &  6.35 &  6.83 &  2.30 & right\\\\\n",
       "\t42 &  5    &  9.45 &  3.38 & 13.17 & left \\\\\n",
       "\t14 &  6    &  6.90 &  2.45 &  7.37 & left \\\\\n",
       "\t34 &  7    &  8.30 &  9.98 &  2.93 & right\\\\\n",
       "\t50 &  8    & 11.30 & 16.47 &  4.13 & right\\\\\n",
       "\t47 &  9    & 10.45 &  3.76 & 14.06 & left \\\\\n",
       "\t11 & 10    &  6.80 &  8.51 &  2.45 & right\\\\\n",
       "\t15 & 11    &  6.95 &  8.28 &  2.53 & right\\\\\n",
       "\t1 & 12    &  4.85 &  1.90 &  5.05 & left \\\\\n",
       "\t35 & 13    &  8.35 &  2.93 & 11.37 & left \\\\\n",
       "\t29 & 14    &  7.65 &  8.82 &  2.69 & right\\\\\n",
       "\t30 & 15    &  7.65 & 10.26 &  2.88 & right\\\\\n",
       "\t8 & 16    &  6.65 &  2.34 &  6.27 & left \\\\\n",
       "\t36 & 17    &  8.35 & 12.02 &  3.36 & right\\\\\n",
       "\t18 & 18    &  7.20 &  8.06 &  2.81 & right\\\\\n",
       "\t48 & 19    & 10.55 & 14.68 &  3.87 & right\\\\\n",
       "\t21 & 20    &  7.35 &  2.74 &  8.70 & left \\\\\n",
       "\t22 & 21    &  7.35 &  8.00 &  3.00 & right\\\\\n",
       "\t39 & 22    &  9.00 & 10.61 &  3.25 & right\\\\\n",
       "\t40 & 23    &  9.00 & 12.32 &  3.29 & right\\\\\n",
       "\t19 & 24    &  7.25 &  3.20 &  8.39 & left \\\\\n",
       "\t32 & 25    &  8.10 &  2.92 &  6.62 & left \\\\\n",
       "\t28 & 26    &  7.60 &  7.81 &  2.97 & right\\\\\n",
       "\t45 & 27    & 10.15 & 14.04 &  3.75 & right\\\\\n",
       "\t33 & 28    &  8.10 &  3.23 & 10.22 & left \\\\\n",
       "\t37 & 29    &  8.85 &  3.14 & 10.31 & left \\\\\n",
       "\t2 & 30    &  5.80 &  2.06 &  5.30 & left \\\\\n",
       "\t7 & 31    &  6.55 &  2.55 &  7.98 & left \\\\\n",
       "\t38 & 32    &  8.90 & 10.77 &  3.34 & right\\\\\n",
       "\t44 & 33    &  9.75 & 12.67 &  3.48 & right\\\\\n",
       "\t4 & 34    &  6.15 &  2.25 &  6.41 & left \\\\\n",
       "\t27 & 35    &  7.50 &  9.82 &  2.87 & right\\\\\n",
       "\t9 & 36    &  6.70 &  2.50 &  8.15 & left \\\\\n",
       "\t13 & 37    &  6.85 &  8.66 &  2.56 & right\\\\\n",
       "\t17 & 38    &  7.10 &  2.38 &  8.83 & left \\\\\n",
       "\t3 & 39    &  6.00 &  2.10 &  5.29 & left \\\\\n",
       "\t23 & 40    &  7.35 &  2.44 &  9.62 & left \\\\\n",
       "\t26 & 41    &  7.45 &  8.96 &  2.76 & right\\\\\n",
       "\t5 & 42    &  6.30 &  7.74 &  2.54 & right\\\\\n",
       "\t24 & 43    &  7.35 &  8.69 &  2.58 & right\\\\\n",
       "\t31 & 44    &  8.00 & 11.11 &  2.69 & right\\\\\n",
       "\t20 & 45    &  7.30 &  2.44 &  8.38 & left \\\\\n",
       "\t16 & 46    &  6.95 &  8.15 &  2.32 & right\\\\\n",
       "\t10 & 47    &  6.70 &  2.29 &  6.87 & left \\\\\n",
       "\t12 & 48    &  6.80 &  2.31 &  7.28 & left \\\\\n",
       "\t41 & 49    &  9.35 & 11.62 &  3.44 & right\\\\\n",
       "\t25 & 50    &  7.40 &  8.15 &  2.65 & right\\\\\n",
       "\\end{tabular}\n"
      ],
      "text/markdown": [
       "\n",
       "| <!--/--> | crab.id | body.size | right.claw | left.claw | major.side | \n",
       "|---|---|---|---|---|---|---|---|---|---|---|---|---|---|---|---|---|---|---|---|---|---|---|---|---|---|---|---|---|---|---|---|---|---|---|---|---|---|---|---|---|---|---|---|---|---|---|---|---|---|\n",
       "| 49 |  1    | 11.00 | 14.75 |  3.96 | right | \n",
       "| 46 |  2    | 10.25 |  3.92 | 13.03 | left  | \n",
       "| 43 |  3    |  9.55 | 14.60 |  3.57 | right | \n",
       "| 6 |  4    |  6.35 |  6.83 |  2.30 | right | \n",
       "| 42 |  5    |  9.45 |  3.38 | 13.17 | left  | \n",
       "| 14 |  6    |  6.90 |  2.45 |  7.37 | left  | \n",
       "| 34 |  7    |  8.30 |  9.98 |  2.93 | right | \n",
       "| 50 |  8    | 11.30 | 16.47 |  4.13 | right | \n",
       "| 47 |  9    | 10.45 |  3.76 | 14.06 | left  | \n",
       "| 11 | 10    |  6.80 |  8.51 |  2.45 | right | \n",
       "| 15 | 11    |  6.95 |  8.28 |  2.53 | right | \n",
       "| 1 | 12    |  4.85 |  1.90 |  5.05 | left  | \n",
       "| 35 | 13    |  8.35 |  2.93 | 11.37 | left  | \n",
       "| 29 | 14    |  7.65 |  8.82 |  2.69 | right | \n",
       "| 30 | 15    |  7.65 | 10.26 |  2.88 | right | \n",
       "| 8 | 16    |  6.65 |  2.34 |  6.27 | left  | \n",
       "| 36 | 17    |  8.35 | 12.02 |  3.36 | right | \n",
       "| 18 | 18    |  7.20 |  8.06 |  2.81 | right | \n",
       "| 48 | 19    | 10.55 | 14.68 |  3.87 | right | \n",
       "| 21 | 20    |  7.35 |  2.74 |  8.70 | left  | \n",
       "| 22 | 21    |  7.35 |  8.00 |  3.00 | right | \n",
       "| 39 | 22    |  9.00 | 10.61 |  3.25 | right | \n",
       "| 40 | 23    |  9.00 | 12.32 |  3.29 | right | \n",
       "| 19 | 24    |  7.25 |  3.20 |  8.39 | left  | \n",
       "| 32 | 25    |  8.10 |  2.92 |  6.62 | left  | \n",
       "| 28 | 26    |  7.60 |  7.81 |  2.97 | right | \n",
       "| 45 | 27    | 10.15 | 14.04 |  3.75 | right | \n",
       "| 33 | 28    |  8.10 |  3.23 | 10.22 | left  | \n",
       "| 37 | 29    |  8.85 |  3.14 | 10.31 | left  | \n",
       "| 2 | 30    |  5.80 |  2.06 |  5.30 | left  | \n",
       "| 7 | 31    |  6.55 |  2.55 |  7.98 | left  | \n",
       "| 38 | 32    |  8.90 | 10.77 |  3.34 | right | \n",
       "| 44 | 33    |  9.75 | 12.67 |  3.48 | right | \n",
       "| 4 | 34    |  6.15 |  2.25 |  6.41 | left  | \n",
       "| 27 | 35    |  7.50 |  9.82 |  2.87 | right | \n",
       "| 9 | 36    |  6.70 |  2.50 |  8.15 | left  | \n",
       "| 13 | 37    |  6.85 |  8.66 |  2.56 | right | \n",
       "| 17 | 38    |  7.10 |  2.38 |  8.83 | left  | \n",
       "| 3 | 39    |  6.00 |  2.10 |  5.29 | left  | \n",
       "| 23 | 40    |  7.35 |  2.44 |  9.62 | left  | \n",
       "| 26 | 41    |  7.45 |  8.96 |  2.76 | right | \n",
       "| 5 | 42    |  6.30 |  7.74 |  2.54 | right | \n",
       "| 24 | 43    |  7.35 |  8.69 |  2.58 | right | \n",
       "| 31 | 44    |  8.00 | 11.11 |  2.69 | right | \n",
       "| 20 | 45    |  7.30 |  2.44 |  8.38 | left  | \n",
       "| 16 | 46    |  6.95 |  8.15 |  2.32 | right | \n",
       "| 10 | 47    |  6.70 |  2.29 |  6.87 | left  | \n",
       "| 12 | 48    |  6.80 |  2.31 |  7.28 | left  | \n",
       "| 41 | 49    |  9.35 | 11.62 |  3.44 | right | \n",
       "| 25 | 50    |  7.40 |  8.15 |  2.65 | right | \n",
       "\n",
       "\n"
      ],
      "text/plain": [
       "   crab.id body.size right.claw left.claw major.side\n",
       "49  1      11.00     14.75       3.96     right     \n",
       "46  2      10.25      3.92      13.03     left      \n",
       "43  3       9.55     14.60       3.57     right     \n",
       "6   4       6.35      6.83       2.30     right     \n",
       "42  5       9.45      3.38      13.17     left      \n",
       "14  6       6.90      2.45       7.37     left      \n",
       "34  7       8.30      9.98       2.93     right     \n",
       "50  8      11.30     16.47       4.13     right     \n",
       "47  9      10.45      3.76      14.06     left      \n",
       "11 10       6.80      8.51       2.45     right     \n",
       "15 11       6.95      8.28       2.53     right     \n",
       "1  12       4.85      1.90       5.05     left      \n",
       "35 13       8.35      2.93      11.37     left      \n",
       "29 14       7.65      8.82       2.69     right     \n",
       "30 15       7.65     10.26       2.88     right     \n",
       "8  16       6.65      2.34       6.27     left      \n",
       "36 17       8.35     12.02       3.36     right     \n",
       "18 18       7.20      8.06       2.81     right     \n",
       "48 19      10.55     14.68       3.87     right     \n",
       "21 20       7.35      2.74       8.70     left      \n",
       "22 21       7.35      8.00       3.00     right     \n",
       "39 22       9.00     10.61       3.25     right     \n",
       "40 23       9.00     12.32       3.29     right     \n",
       "19 24       7.25      3.20       8.39     left      \n",
       "32 25       8.10      2.92       6.62     left      \n",
       "28 26       7.60      7.81       2.97     right     \n",
       "45 27      10.15     14.04       3.75     right     \n",
       "33 28       8.10      3.23      10.22     left      \n",
       "37 29       8.85      3.14      10.31     left      \n",
       "2  30       5.80      2.06       5.30     left      \n",
       "7  31       6.55      2.55       7.98     left      \n",
       "38 32       8.90     10.77       3.34     right     \n",
       "44 33       9.75     12.67       3.48     right     \n",
       "4  34       6.15      2.25       6.41     left      \n",
       "27 35       7.50      9.82       2.87     right     \n",
       "9  36       6.70      2.50       8.15     left      \n",
       "13 37       6.85      8.66       2.56     right     \n",
       "17 38       7.10      2.38       8.83     left      \n",
       "3  39       6.00      2.10       5.29     left      \n",
       "23 40       7.35      2.44       9.62     left      \n",
       "26 41       7.45      8.96       2.76     right     \n",
       "5  42       6.30      7.74       2.54     right     \n",
       "24 43       7.35      8.69       2.58     right     \n",
       "31 44       8.00     11.11       2.69     right     \n",
       "20 45       7.30      2.44       8.38     left      \n",
       "16 46       6.95      8.15       2.32     right     \n",
       "10 47       6.70      2.29       6.87     left      \n",
       "12 48       6.80      2.31       7.28     left      \n",
       "41 49       9.35     11.62       3.44     right     \n",
       "25 50       7.40      8.15       2.65     right     "
      ]
     },
     "metadata": {},
     "output_type": "display_data"
    }
   ],
   "source": [
    "crab_data_raw"
   ]
  },
  {
   "cell_type": "code",
   "execution_count": null,
   "metadata": {},
   "outputs": [],
   "source": []
  }
 ],
 "metadata": {
  "kernelspec": {
   "display_name": "R",
   "language": "R",
   "name": "ir"
  },
  "language_info": {
   "codemirror_mode": "r",
   "file_extension": ".r",
   "mimetype": "text/x-r-source",
   "name": "R",
   "pygments_lexer": "r",
   "version": "3.5.1"
  }
 },
 "nbformat": 4,
 "nbformat_minor": 2
}
