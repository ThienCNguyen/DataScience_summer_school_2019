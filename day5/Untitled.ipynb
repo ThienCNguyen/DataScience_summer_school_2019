{
 "cells": [
  {
   "cell_type": "code",
   "execution_count": 9,
   "metadata": {},
   "outputs": [],
   "source": [
    "library(MASS)"
   ]
  },
  {
   "cell_type": "code",
   "execution_count": 24,
   "metadata": {},
   "outputs": [],
   "source": [
    "data(Boston)"
   ]
  },
  {
   "cell_type": "code",
   "execution_count": 33,
   "metadata": {},
   "outputs": [
    {
     "data": {
      "text/html": [
       "<table>\n",
       "<thead><tr><th scope=col>crim</th><th scope=col>zn</th><th scope=col>indus</th><th scope=col>chas</th><th scope=col>nox</th><th scope=col>rm</th><th scope=col>age</th><th scope=col>dis</th><th scope=col>rad</th><th scope=col>tax</th><th scope=col>ptratio</th><th scope=col>black</th><th scope=col>lstat</th><th scope=col>medv</th></tr></thead>\n",
       "<tbody>\n",
       "\t<tr><td>0.00632</td><td>18     </td><td>2.31   </td><td>0      </td><td>0.538  </td><td>6.575  </td><td>65.2   </td><td>4.0900 </td><td>1      </td><td>296    </td><td>15.3   </td><td>396.90 </td><td>4.98   </td><td>24.0   </td></tr>\n",
       "\t<tr><td>0.02731</td><td> 0     </td><td>7.07   </td><td>0      </td><td>0.469  </td><td>6.421  </td><td>78.9   </td><td>4.9671 </td><td>2      </td><td>242    </td><td>17.8   </td><td>396.90 </td><td>9.14   </td><td>21.6   </td></tr>\n",
       "\t<tr><td>0.02729</td><td> 0     </td><td>7.07   </td><td>0      </td><td>0.469  </td><td>7.185  </td><td>61.1   </td><td>4.9671 </td><td>2      </td><td>242    </td><td>17.8   </td><td>392.83 </td><td>4.03   </td><td>34.7   </td></tr>\n",
       "\t<tr><td>0.03237</td><td> 0     </td><td>2.18   </td><td>0      </td><td>0.458  </td><td>6.998  </td><td>45.8   </td><td>6.0622 </td><td>3      </td><td>222    </td><td>18.7   </td><td>394.63 </td><td>2.94   </td><td>33.4   </td></tr>\n",
       "\t<tr><td>0.06905</td><td> 0     </td><td>2.18   </td><td>0      </td><td>0.458  </td><td>7.147  </td><td>54.2   </td><td>6.0622 </td><td>3      </td><td>222    </td><td>18.7   </td><td>396.90 </td><td>5.33   </td><td>36.2   </td></tr>\n",
       "\t<tr><td>0.02985</td><td> 0     </td><td>2.18   </td><td>0      </td><td>0.458  </td><td>6.430  </td><td>58.7   </td><td>6.0622 </td><td>3      </td><td>222    </td><td>18.7   </td><td>394.12 </td><td>5.21   </td><td>28.7   </td></tr>\n",
       "</tbody>\n",
       "</table>\n"
      ],
      "text/latex": [
       "\\begin{tabular}{r|llllllllllllll}\n",
       " crim & zn & indus & chas & nox & rm & age & dis & rad & tax & ptratio & black & lstat & medv\\\\\n",
       "\\hline\n",
       "\t 0.00632 & 18      & 2.31    & 0       & 0.538   & 6.575   & 65.2    & 4.0900  & 1       & 296     & 15.3    & 396.90  & 4.98    & 24.0   \\\\\n",
       "\t 0.02731 &  0      & 7.07    & 0       & 0.469   & 6.421   & 78.9    & 4.9671  & 2       & 242     & 17.8    & 396.90  & 9.14    & 21.6   \\\\\n",
       "\t 0.02729 &  0      & 7.07    & 0       & 0.469   & 7.185   & 61.1    & 4.9671  & 2       & 242     & 17.8    & 392.83  & 4.03    & 34.7   \\\\\n",
       "\t 0.03237 &  0      & 2.18    & 0       & 0.458   & 6.998   & 45.8    & 6.0622  & 3       & 222     & 18.7    & 394.63  & 2.94    & 33.4   \\\\\n",
       "\t 0.06905 &  0      & 2.18    & 0       & 0.458   & 7.147   & 54.2    & 6.0622  & 3       & 222     & 18.7    & 396.90  & 5.33    & 36.2   \\\\\n",
       "\t 0.02985 &  0      & 2.18    & 0       & 0.458   & 6.430   & 58.7    & 6.0622  & 3       & 222     & 18.7    & 394.12  & 5.21    & 28.7   \\\\\n",
       "\\end{tabular}\n"
      ],
      "text/markdown": [
       "\n",
       "crim | zn | indus | chas | nox | rm | age | dis | rad | tax | ptratio | black | lstat | medv | \n",
       "|---|---|---|---|---|---|\n",
       "| 0.00632 | 18      | 2.31    | 0       | 0.538   | 6.575   | 65.2    | 4.0900  | 1       | 296     | 15.3    | 396.90  | 4.98    | 24.0    | \n",
       "| 0.02731 |  0      | 7.07    | 0       | 0.469   | 6.421   | 78.9    | 4.9671  | 2       | 242     | 17.8    | 396.90  | 9.14    | 21.6    | \n",
       "| 0.02729 |  0      | 7.07    | 0       | 0.469   | 7.185   | 61.1    | 4.9671  | 2       | 242     | 17.8    | 392.83  | 4.03    | 34.7    | \n",
       "| 0.03237 |  0      | 2.18    | 0       | 0.458   | 6.998   | 45.8    | 6.0622  | 3       | 222     | 18.7    | 394.63  | 2.94    | 33.4    | \n",
       "| 0.06905 |  0      | 2.18    | 0       | 0.458   | 7.147   | 54.2    | 6.0622  | 3       | 222     | 18.7    | 396.90  | 5.33    | 36.2    | \n",
       "| 0.02985 |  0      | 2.18    | 0       | 0.458   | 6.430   | 58.7    | 6.0622  | 3       | 222     | 18.7    | 394.12  | 5.21    | 28.7    | \n",
       "\n",
       "\n"
      ],
      "text/plain": [
       "  crim    zn indus chas nox   rm    age  dis    rad tax ptratio black  lstat\n",
       "1 0.00632 18 2.31  0    0.538 6.575 65.2 4.0900 1   296 15.3    396.90 4.98 \n",
       "2 0.02731  0 7.07  0    0.469 6.421 78.9 4.9671 2   242 17.8    396.90 9.14 \n",
       "3 0.02729  0 7.07  0    0.469 7.185 61.1 4.9671 2   242 17.8    392.83 4.03 \n",
       "4 0.03237  0 2.18  0    0.458 6.998 45.8 6.0622 3   222 18.7    394.63 2.94 \n",
       "5 0.06905  0 2.18  0    0.458 7.147 54.2 6.0622 3   222 18.7    396.90 5.33 \n",
       "6 0.02985  0 2.18  0    0.458 6.430 58.7 6.0622 3   222 18.7    394.12 5.21 \n",
       "  medv\n",
       "1 24.0\n",
       "2 21.6\n",
       "3 34.7\n",
       "4 33.4\n",
       "5 36.2\n",
       "6 28.7"
      ]
     },
     "metadata": {},
     "output_type": "display_data"
    },
    {
     "data": {
      "text/html": [
       "<ol class=list-inline>\n",
       "\t<li>506</li>\n",
       "\t<li>14</li>\n",
       "</ol>\n"
      ],
      "text/latex": [
       "\\begin{enumerate*}\n",
       "\\item 506\n",
       "\\item 14\n",
       "\\end{enumerate*}\n"
      ],
      "text/markdown": [
       "1. 506\n",
       "2. 14\n",
       "\n",
       "\n"
      ],
      "text/plain": [
       "[1] 506  14"
      ]
     },
     "metadata": {},
     "output_type": "display_data"
    }
   ],
   "source": [
    "boston_whole = Boston\n",
    "head(boston_whole)\n",
    "dim(boston_whole)"
   ]
  },
  {
   "cell_type": "code",
   "execution_count": 34,
   "metadata": {},
   "outputs": [
    {
     "name": "stderr",
     "output_type": "stream",
     "text": [
      "corrplot 0.84 loaded\n",
      "Loading required package: Rcpp\n",
      "## \n",
      "## Amelia II: Multiple Imputation\n",
      "## (Version 1.7.5, built: 2018-05-07)\n",
      "## Copyright (C) 2005-2019 James Honaker, Gary King and Matthew Blackwell\n",
      "## Refer to http://gking.harvard.edu/amelia/ for more information\n",
      "## \n",
      "\n",
      "Attaching package: ‘plotly’\n",
      "\n",
      "The following object is masked from ‘package:ggplot2’:\n",
      "\n",
      "    last_plot\n",
      "\n",
      "The following object is masked from ‘package:MASS’:\n",
      "\n",
      "    select\n",
      "\n",
      "The following object is masked from ‘package:stats’:\n",
      "\n",
      "    filter\n",
      "\n",
      "The following object is masked from ‘package:graphics’:\n",
      "\n",
      "    layout\n",
      "\n",
      "Loading required package: lattice\n",
      "\n",
      "Attaching package: ‘dplyr’\n",
      "\n",
      "The following object is masked from ‘package:MASS’:\n",
      "\n",
      "    select\n",
      "\n",
      "The following objects are masked from ‘package:stats’:\n",
      "\n",
      "    filter, lag\n",
      "\n",
      "The following objects are masked from ‘package:base’:\n",
      "\n",
      "    intersect, setdiff, setequal, union\n",
      "\n"
     ]
    }
   ],
   "source": [
    "library(readr)\n",
    "library(ggplot2)\n",
    "library(corrplot)\n",
    "library(mlbench)\n",
    "library(Amelia)\n",
    "library(plotly)\n",
    "library(reshape2)\n",
    "library(caret)\n",
    "library(caTools)\n",
    "library(dplyr)"
   ]
  },
  {
   "cell_type": "code",
   "execution_count": 83,
   "metadata": {},
   "outputs": [],
   "source": [
    "set.seed(123)\n",
    "split = sample.split(boston_whole,SplitRatio =0.85)\n",
    "\n",
    "\n",
    "train = subset(boston_whole,split==TRUE)\n",
    "test = subset(boston_whole,split==FALSE)"
   ]
  },
  {
   "cell_type": "code",
   "execution_count": 84,
   "metadata": {},
   "outputs": [
    {
     "data": {
      "text/html": [
       "<ol class=list-inline>\n",
       "\t<li>398</li>\n",
       "\t<li>14</li>\n",
       "</ol>\n"
      ],
      "text/latex": [
       "\\begin{enumerate*}\n",
       "\\item 398\n",
       "\\item 14\n",
       "\\end{enumerate*}\n"
      ],
      "text/markdown": [
       "1. 398\n",
       "2. 14\n",
       "\n",
       "\n"
      ],
      "text/plain": [
       "[1] 398  14"
      ]
     },
     "metadata": {},
     "output_type": "display_data"
    },
    {
     "data": {
      "text/html": [
       "<ol class=list-inline>\n",
       "\t<li>108</li>\n",
       "\t<li>14</li>\n",
       "</ol>\n"
      ],
      "text/latex": [
       "\\begin{enumerate*}\n",
       "\\item 108\n",
       "\\item 14\n",
       "\\end{enumerate*}\n"
      ],
      "text/markdown": [
       "1. 108\n",
       "2. 14\n",
       "\n",
       "\n"
      ],
      "text/plain": [
       "[1] 108  14"
      ]
     },
     "metadata": {},
     "output_type": "display_data"
    }
   ],
   "source": [
    "dim(train)\n",
    "dim(test)"
   ]
  },
  {
   "cell_type": "code",
   "execution_count": 85,
   "metadata": {},
   "outputs": [
    {
     "data": {
      "text/plain": [
       "\n",
       "Call:\n",
       "lm(formula = medv ~ crim + rm + tax + lstat, data = train)\n",
       "\n",
       "Residuals:\n",
       "    Min      1Q  Median      3Q     Max \n",
       "-16.205  -3.228  -1.181   2.153  29.750 \n",
       "\n",
       "Coefficients:\n",
       "             Estimate Std. Error t value Pr(>|t|)    \n",
       "(Intercept) -2.452473   3.364480  -0.729   0.4665    \n",
       "crim        -0.063553   0.036838  -1.725   0.0853 .  \n",
       "rm           5.405004   0.465905  11.601   <2e-16 ***\n",
       "tax         -0.005938   0.002039  -2.912   0.0038 ** \n",
       "lstat       -0.514811   0.055679  -9.246   <2e-16 ***\n",
       "---\n",
       "Signif. codes:  0 ‘***’ 0.001 ‘**’ 0.01 ‘*’ 0.05 ‘.’ 0.1 ‘ ’ 1\n",
       "\n",
       "Residual standard error: 5.189 on 393 degrees of freedom\n",
       "Multiple R-squared:  0.6755,\tAdjusted R-squared:  0.6722 \n",
       "F-statistic: 204.6 on 4 and 393 DF,  p-value: < 2.2e-16\n"
      ]
     },
     "metadata": {},
     "output_type": "display_data"
    },
    {
     "data": {
      "text/plain": [
       "\n",
       "Call:\n",
       "lm(formula = medv ~ rm + ptratio + lstat, data = train)\n",
       "\n",
       "Residuals:\n",
       "     Min       1Q   Median       3Q      Max \n",
       "-14.4867  -2.9501  -0.6765   1.9355  29.0397 \n",
       "\n",
       "Coefficients:\n",
       "            Estimate Std. Error t value Pr(>|t|)    \n",
       "(Intercept) 18.06225    4.09151   4.415 1.31e-05 ***\n",
       "rm           4.60663    0.44641  10.319  < 2e-16 ***\n",
       "ptratio     -0.94603    0.12428  -7.612 2.02e-13 ***\n",
       "lstat       -0.56938    0.04542 -12.535  < 2e-16 ***\n",
       "---\n",
       "Signif. codes:  0 ‘***’ 0.001 ‘**’ 0.01 ‘*’ 0.05 ‘.’ 0.1 ‘ ’ 1\n",
       "\n",
       "Residual standard error: 4.953 on 394 degrees of freedom\n",
       "Multiple R-squared:  0.7036,\tAdjusted R-squared:  0.7014 \n",
       "F-statistic: 311.8 on 3 and 394 DF,  p-value: < 2.2e-16\n"
      ]
     },
     "metadata": {},
     "output_type": "display_data"
    }
   ],
   "source": [
    "model <- lm(medv ~ crim + rm + tax + lstat , data = train)\n",
    "model_2= lm(medv ~ rm + ptratio + lstat , data = train)\n",
    "summary(model)\n",
    "summary(model_2)"
   ]
  },
  {
   "cell_type": "code",
   "execution_count": 86,
   "metadata": {},
   "outputs": [
    {
     "name": "stderr",
     "output_type": "stream",
     "text": [
      "`geom_smooth()` using method = 'loess' and formula 'y ~ x'\n"
     ]
    },
    {
     "data": {
      "image/png": "[encoded data removed]",
      "text/plain": [
       "plot without title"
      ]
     },
     "metadata": {},
     "output_type": "display_data"
    }
   ],
   "source": [
    "test$predicted.medv <- predict(model,test)\n",
    "test$predicted_2.medv <- predict(model_2,test)\n",
    "\n",
    "pl1 <-test %>% \n",
    "  ggplot(aes(medv,predicted.medv)) +\n",
    "  geom_point(alpha=0.5) + \n",
    "  stat_smooth(aes(colour='black')) +\n",
    "  xlab('Actual value of medv') +\n",
    "  ylab('Predicted value of medv')+\n",
    "  theme_bw()\n",
    "\n",
    "plot(pl1)"
   ]
  },
  {
   "cell_type": "code",
   "execution_count": 87,
   "metadata": {},
   "outputs": [
    {
     "data": {
      "text/html": [
       "5.15608587468834"
      ],
      "text/latex": [
       "5.15608587468834"
      ],
      "text/markdown": [
       "5.15608587468834"
      ],
      "text/plain": [
       "[1] 5.156086"
      ]
     },
     "metadata": {},
     "output_type": "display_data"
    },
    {
     "data": {
      "text/html": [
       "4.92766867104938"
      ],
      "text/latex": [
       "4.92766867104938"
      ],
      "text/markdown": [
       "4.92766867104938"
      ],
      "text/plain": [
       "[1] 4.927669"
      ]
     },
     "metadata": {},
     "output_type": "display_data"
    },
    {
     "data": {
      "text/html": [
       "0.864510726359248"
      ],
      "text/latex": [
       "0.864510726359248"
      ],
      "text/markdown": [
       "0.864510726359248"
      ],
      "text/plain": [
       "[1] 0.8645107"
      ]
     },
     "metadata": {},
     "output_type": "display_data"
    },
    {
     "data": {
      "text/html": [
       "0.859485748229102"
      ],
      "text/latex": [
       "0.859485748229102"
      ],
      "text/markdown": [
       "0.859485748229102"
      ],
      "text/plain": [
       "[1] 0.8594857"
      ]
     },
     "metadata": {},
     "output_type": "display_data"
    }
   ],
   "source": [
    "error <- test$medv-test$predicted.medv\n",
    "error_2 = test$medv-test$predicted_2.medv\n",
    "rmse <- sqrt(mean(error)^2)\n",
    "rmse_2 <- sqrt(mean(error_2)^2)\n",
    "sqrt(mean(residuals(model)^2))\n",
    "sqrt(mean(residuals(model_2)^2))\n",
    "\n",
    "rmse\n",
    "rmse_2"
   ]
  },
  {
   "cell_type": "code",
   "execution_count": 65,
   "metadata": {},
   "outputs": [
    {
     "data": {
      "text/plain": [
       "\n",
       "Call:\n",
       "lm(formula = medv ~ crim + rm + tax + lstat, data = train)\n",
       "\n",
       "Residuals:\n",
       "    Min      1Q  Median      3Q     Max \n",
       "-16.266  -3.185  -1.052   2.116  30.121 \n",
       "\n",
       "Coefficients:\n",
       "             Estimate Std. Error t value Pr(>|t|)    \n",
       "(Intercept) -3.767079   3.573477  -1.054  0.29251    \n",
       "crim        -0.070793   0.037113  -1.908  0.05725 .  \n",
       "rm           5.580390   0.492854  11.323  < 2e-16 ***\n",
       "tax         -0.006392   0.002114  -3.023  0.00268 ** \n",
       "lstat       -0.483836   0.058230  -8.309 2.04e-15 ***\n",
       "---\n",
       "Signif. codes:  0 ‘***’ 0.001 ‘**’ 0.01 ‘*’ 0.05 ‘.’ 0.1 ‘ ’ 1\n",
       "\n",
       "Residual standard error: 5.183 on 357 degrees of freedom\n",
       "Multiple R-squared:  0.6816,\tAdjusted R-squared:  0.678 \n",
       "F-statistic: 191.1 on 4 and 357 DF,  p-value: < 2.2e-16\n"
      ]
     },
     "metadata": {},
     "output_type": "display_data"
    }
   ],
   "source": [
    "summary(model)"
   ]
  },
  {
   "cell_type": "code",
   "execution_count": 71,
   "metadata": {},
   "outputs": [
    {
     "name": "stderr",
     "output_type": "stream",
     "text": [
      "Updating HTML index of packages in '.Library'\n",
      "Making 'packages.html' ... done\n"
     ]
    }
   ],
   "source": [
    "install.packages('texreg')"
   ]
  },
  {
   "cell_type": "code",
   "execution_count": 74,
   "metadata": {},
   "outputs": [
    {
     "data": {
      "text/html": [
       "<span style=white-space:pre-wrap>'\\n=======================\\n             Model 1   \\n-----------------------\\n(Intercept)   -3.77    \\n              (3.57)   \\ncrim          -0.07    \\n              (0.04)   \\nrm             5.58 ***\\n              (0.49)   \\ntax           -0.01 ** \\n              (0.00)   \\nlstat         -0.48 ***\\n              (0.06)   \\n-----------------------\\nR^2            0.68    \\nAdj. R^2       0.68    \\nNum. obs.    362       \\nRMSE           5.18    \\n=======================\\n*** p &lt; 0.001, ** p &lt; 0.01, * p &lt; 0.05\\n'</span>"
      ],
      "text/latex": [
       "'\\textbackslash{}n=======================\\textbackslash{}n             Model 1   \\textbackslash{}n-----------------------\\textbackslash{}n(Intercept)   -3.77    \\textbackslash{}n              (3.57)   \\textbackslash{}ncrim          -0.07    \\textbackslash{}n              (0.04)   \\textbackslash{}nrm             5.58 ***\\textbackslash{}n              (0.49)   \\textbackslash{}ntax           -0.01 ** \\textbackslash{}n              (0.00)   \\textbackslash{}nlstat         -0.48 ***\\textbackslash{}n              (0.06)   \\textbackslash{}n-----------------------\\textbackslash{}nR\\textasciicircum{}2            0.68    \\textbackslash{}nAdj. R\\textasciicircum{}2       0.68    \\textbackslash{}nNum. obs.    362       \\textbackslash{}nRMSE           5.18    \\textbackslash{}n=======================\\textbackslash{}n*** p < 0.001, ** p < 0.01, * p < 0.05\\textbackslash{}n'"
      ],
      "text/markdown": [
       "<span style=white-space:pre-wrap>'\\n=======================\\n             Model 1   \\n-----------------------\\n(Intercept)   -3.77    \\n              (3.57)   \\ncrim          -0.07    \\n              (0.04)   \\nrm             5.58 ***\\n              (0.49)   \\ntax           -0.01 ** \\n              (0.00)   \\nlstat         -0.48 ***\\n              (0.06)   \\n-----------------------\\nR^2            0.68    \\nAdj. R^2       0.68    \\nNum. obs.    362       \\nRMSE           5.18    \\n=======================\\n*** p &lt; 0.001, ** p &lt; 0.01, * p &lt; 0.05\\n'</span>"
      ],
      "text/plain": [
       "\n",
       "=======================\n",
       "             Model 1   \n",
       "-----------------------\n",
       "(Intercept)   -3.77    \n",
       "              (3.57)   \n",
       "crim          -0.07    \n",
       "              (0.04)   \n",
       "rm             5.58 ***\n",
       "              (0.49)   \n",
       "tax           -0.01 ** \n",
       "              (0.00)   \n",
       "lstat         -0.48 ***\n",
       "              (0.06)   \n",
       "-----------------------\n",
       "R^2            0.68    \n",
       "Adj. R^2       0.68    \n",
       "Num. obs.    362       \n",
       "RMSE           5.18    \n",
       "=======================\n",
       "*** p < 0.001, ** p < 0.01, * p < 0.05"
      ]
     },
     "metadata": {},
     "output_type": "display_data"
    },
    {
     "data": {
      "text/html": [
       "<span style=white-space:pre-wrap>'\\n=======================\\n             Model 1   \\n-----------------------\\n(Intercept)   16.28 ***\\n              (4.35)   \\nrm             4.76 ***\\n              (0.48)   \\nptratio       -0.92 ***\\n              (0.13)   \\nlstat         -0.55 ***\\n              (0.05)   \\n-----------------------\\nR^2            0.70    \\nAdj. R^2       0.70    \\nNum. obs.    362       \\nRMSE           4.99    \\n=======================\\n*** p &lt; 0.001, ** p &lt; 0.01, * p &lt; 0.05\\n'</span>"
      ],
      "text/latex": [
       "'\\textbackslash{}n=======================\\textbackslash{}n             Model 1   \\textbackslash{}n-----------------------\\textbackslash{}n(Intercept)   16.28 ***\\textbackslash{}n              (4.35)   \\textbackslash{}nrm             4.76 ***\\textbackslash{}n              (0.48)   \\textbackslash{}nptratio       -0.92 ***\\textbackslash{}n              (0.13)   \\textbackslash{}nlstat         -0.55 ***\\textbackslash{}n              (0.05)   \\textbackslash{}n-----------------------\\textbackslash{}nR\\textasciicircum{}2            0.70    \\textbackslash{}nAdj. R\\textasciicircum{}2       0.70    \\textbackslash{}nNum. obs.    362       \\textbackslash{}nRMSE           4.99    \\textbackslash{}n=======================\\textbackslash{}n*** p < 0.001, ** p < 0.01, * p < 0.05\\textbackslash{}n'"
      ],
      "text/markdown": [
       "<span style=white-space:pre-wrap>'\\n=======================\\n             Model 1   \\n-----------------------\\n(Intercept)   16.28 ***\\n              (4.35)   \\nrm             4.76 ***\\n              (0.48)   \\nptratio       -0.92 ***\\n              (0.13)   \\nlstat         -0.55 ***\\n              (0.05)   \\n-----------------------\\nR^2            0.70    \\nAdj. R^2       0.70    \\nNum. obs.    362       \\nRMSE           4.99    \\n=======================\\n*** p &lt; 0.001, ** p &lt; 0.01, * p &lt; 0.05\\n'</span>"
      ],
      "text/plain": [
       "\n",
       "=======================\n",
       "             Model 1   \n",
       "-----------------------\n",
       "(Intercept)   16.28 ***\n",
       "              (4.35)   \n",
       "rm             4.76 ***\n",
       "              (0.48)   \n",
       "ptratio       -0.92 ***\n",
       "              (0.13)   \n",
       "lstat         -0.55 ***\n",
       "              (0.05)   \n",
       "-----------------------\n",
       "R^2            0.70    \n",
       "Adj. R^2       0.70    \n",
       "Num. obs.    362       \n",
       "RMSE           4.99    \n",
       "=======================\n",
       "*** p < 0.001, ** p < 0.01, * p < 0.05"
      ]
     },
     "metadata": {},
     "output_type": "display_data"
    }
   ],
   "source": [
    "library(texreg)\n",
    "screenreg(model)\n",
    "screenreg(model_2)"
   ]
  },
  {
   "cell_type": "code",
   "execution_count": null,
   "metadata": {},
   "outputs": [],
   "source": []
  }
 ],
 "metadata": {
  "kernelspec": {
   "display_name": "R",
   "language": "R",
   "name": "ir"
  },
  "language_info": {
   "codemirror_mode": "r",
   "file_extension": ".r",
   "mimetype": "text/x-r-source",
   "name": "R",
   "pygments_lexer": "r",
   "version": "3.5.1"
  }
 },
 "nbformat": 4,
 "nbformat_minor": 2
}
