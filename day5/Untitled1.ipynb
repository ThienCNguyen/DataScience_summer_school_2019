{
 "cells": [
  {
   "cell_type": "code",
   "execution_count": 1,
   "metadata": {},
   "outputs": [
    {
     "data": {
      "text/html": [
       "3027.60859407555"
      ],
      "text/latex": [
       "3027.60859407555"
      ],
      "text/markdown": [
       "3027.60859407555"
      ],
      "text/plain": [
       "[1] 3027.609"
      ]
     },
     "metadata": {},
     "output_type": "display_data"
    },
    {
     "data": {
      "text/html": [
       "3047.38309660895"
      ],
      "text/latex": [
       "3047.38309660895"
      ],
      "text/markdown": [
       "3047.38309660895"
      ],
      "text/plain": [
       "[1] 3047.383"
      ]
     },
     "metadata": {},
     "output_type": "display_data"
    },
    {
     "name": "stdout",
     "output_type": "stream",
     "text": [
      "Start:  AIC=2246.51\n",
      "medv ~ 1\n",
      "\n",
      "          Df Sum of Sq   RSS    AIC\n",
      "+ lstat    1   23243.9 19472 1851.0\n",
      "+ rm       1   20654.4 22062 1914.2\n",
      "+ ptratio  1   11014.3 31702 2097.6\n",
      "+ indus    1    9995.2 32721 2113.6\n",
      "+ tax      1    9377.3 33339 2123.1\n",
      "+ nox      1    7800.1 34916 2146.5\n",
      "+ crim     1    6440.8 36276 2165.8\n",
      "+ rad      1    6221.1 36495 2168.9\n",
      "+ age      1    6069.8 36647 2171.0\n",
      "+ zn       1    5549.7 37167 2178.1\n",
      "+ black    1    4749.9 37966 2188.9\n",
      "+ dis      1    2668.2 40048 2215.9\n",
      "+ chas     1    1312.1 41404 2232.7\n",
      "<none>                 42716 2246.5\n",
      "\n",
      "Step:  AIC=1851.01\n",
      "medv ~ lstat\n",
      "\n"
     ]
    }
   ],
   "source": [
    "library(MASS)\n",
    "data.original = Boston\n",
    "\n",
    "lm.full = lm(medv~.,data=data.original)\n",
    "\n",
    "AIC(lm.full)\n",
    "# 3027.609\n",
    "\n",
    "lm.1 = lm(medv~.-nox,data=data.original)\n",
    "\n",
    "AIC(lm.1)\n",
    "# 3047.383\n",
    "\n",
    "# lower AIC means better performance\n",
    "# AIC takes into account number of predictors\n",
    "\n",
    "lm.min <- lm(medv ~ 1, data=data.original)\n",
    "lm.max <- lm(medv ~ ., data=data.original)\n",
    "\n",
    "scp <- list(lower = lm.min, upper = lm.max)\n",
    "\n",
    "lm.selected <- stepAIC(lm.min, \n",
    "                       direction = 'forward',\n",
    "                       scope = scp,\n",
    "                       steps = 1)"
   ]
  },
  {
   "cell_type": "code",
   "execution_count": 2,
   "metadata": {},
   "outputs": [
    {
     "data": {
      "text/plain": [
       "Subset selection object\n",
       "Call: regsubsets.formula(medv ~ ., data = data.original, nbest = 1, \n",
       "    nvmax = NULL, force.in = NULL, force.out = NULL, method = \"exhaustive\")\n",
       "13 Variables  (and intercept)\n",
       "        Forced in Forced out\n",
       "crim        FALSE      FALSE\n",
       "zn          FALSE      FALSE\n",
       "indus       FALSE      FALSE\n",
       "chas        FALSE      FALSE\n",
       "nox         FALSE      FALSE\n",
       "rm          FALSE      FALSE\n",
       "age         FALSE      FALSE\n",
       "dis         FALSE      FALSE\n",
       "rad         FALSE      FALSE\n",
       "tax         FALSE      FALSE\n",
       "ptratio     FALSE      FALSE\n",
       "black       FALSE      FALSE\n",
       "lstat       FALSE      FALSE\n",
       "1 subsets of each size up to 13\n",
       "Selection Algorithm: exhaustive\n",
       "          crim zn  indus chas nox rm  age dis rad tax ptratio black lstat\n",
       "1  ( 1 )  \" \"  \" \" \" \"   \" \"  \" \" \" \" \" \" \" \" \" \" \" \" \" \"     \" \"   \"*\"  \n",
       "2  ( 1 )  \" \"  \" \" \" \"   \" \"  \" \" \"*\" \" \" \" \" \" \" \" \" \" \"     \" \"   \"*\"  \n",
       "3  ( 1 )  \" \"  \" \" \" \"   \" \"  \" \" \"*\" \" \" \" \" \" \" \" \" \"*\"     \" \"   \"*\"  \n",
       "4  ( 1 )  \" \"  \" \" \" \"   \" \"  \" \" \"*\" \" \" \"*\" \" \" \" \" \"*\"     \" \"   \"*\"  \n",
       "5  ( 1 )  \" \"  \" \" \" \"   \" \"  \"*\" \"*\" \" \" \"*\" \" \" \" \" \"*\"     \" \"   \"*\"  \n",
       "6  ( 1 )  \" \"  \" \" \" \"   \"*\"  \"*\" \"*\" \" \" \"*\" \" \" \" \" \"*\"     \" \"   \"*\"  \n",
       "7  ( 1 )  \" \"  \" \" \" \"   \"*\"  \"*\" \"*\" \" \" \"*\" \" \" \" \" \"*\"     \"*\"   \"*\"  \n",
       "8  ( 1 )  \" \"  \"*\" \" \"   \"*\"  \"*\" \"*\" \" \" \"*\" \" \" \" \" \"*\"     \"*\"   \"*\"  \n",
       "9  ( 1 )  \"*\"  \" \" \" \"   \"*\"  \"*\" \"*\" \" \" \"*\" \"*\" \" \" \"*\"     \"*\"   \"*\"  \n",
       "10  ( 1 ) \"*\"  \"*\" \" \"   \" \"  \"*\" \"*\" \" \" \"*\" \"*\" \"*\" \"*\"     \"*\"   \"*\"  \n",
       "11  ( 1 ) \"*\"  \"*\" \" \"   \"*\"  \"*\" \"*\" \" \" \"*\" \"*\" \"*\" \"*\"     \"*\"   \"*\"  \n",
       "12  ( 1 ) \"*\"  \"*\" \"*\"   \"*\"  \"*\" \"*\" \" \" \"*\" \"*\" \"*\" \"*\"     \"*\"   \"*\"  \n",
       "13  ( 1 ) \"*\"  \"*\" \"*\"   \"*\"  \"*\" \"*\" \"*\" \"*\" \"*\" \"*\" \"*\"     \"*\"   \"*\"  "
      ]
     },
     "metadata": {},
     "output_type": "display_data"
    },
    {
     "data": {
      "text/html": [
       "<table>\n",
       "<thead><tr><th></th><th scope=col>crim</th><th scope=col>zn</th><th scope=col>indus</th><th scope=col>chas</th><th scope=col>nox</th><th scope=col>rm</th><th scope=col>age</th><th scope=col>dis</th><th scope=col>rad</th><th scope=col>tax</th><th scope=col>ptratio</th><th scope=col>black</th><th scope=col>lstat</th></tr></thead>\n",
       "<tbody>\n",
       "\t<tr><th scope=row>1  ( 1 )</th><td> </td><td> </td><td> </td><td> </td><td> </td><td> </td><td> </td><td> </td><td> </td><td> </td><td> </td><td> </td><td>*</td></tr>\n",
       "\t<tr><th scope=row>2  ( 1 )</th><td> </td><td> </td><td> </td><td> </td><td> </td><td>*</td><td> </td><td> </td><td> </td><td> </td><td> </td><td> </td><td>*</td></tr>\n",
       "\t<tr><th scope=row>3  ( 1 )</th><td> </td><td> </td><td> </td><td> </td><td> </td><td>*</td><td> </td><td> </td><td> </td><td> </td><td>*</td><td> </td><td>*</td></tr>\n",
       "\t<tr><th scope=row>4  ( 1 )</th><td> </td><td> </td><td> </td><td> </td><td> </td><td>*</td><td> </td><td>*</td><td> </td><td> </td><td>*</td><td> </td><td>*</td></tr>\n",
       "\t<tr><th scope=row>5  ( 1 )</th><td> </td><td> </td><td> </td><td> </td><td>*</td><td>*</td><td> </td><td>*</td><td> </td><td> </td><td>*</td><td> </td><td>*</td></tr>\n",
       "\t<tr><th scope=row>6  ( 1 )</th><td> </td><td> </td><td> </td><td>*</td><td>*</td><td>*</td><td> </td><td>*</td><td> </td><td> </td><td>*</td><td> </td><td>*</td></tr>\n",
       "\t<tr><th scope=row>7  ( 1 )</th><td> </td><td> </td><td> </td><td>*</td><td>*</td><td>*</td><td> </td><td>*</td><td> </td><td> </td><td>*</td><td>*</td><td>*</td></tr>\n",
       "\t<tr><th scope=row>8  ( 1 )</th><td> </td><td>*</td><td> </td><td>*</td><td>*</td><td>*</td><td> </td><td>*</td><td> </td><td> </td><td>*</td><td>*</td><td>*</td></tr>\n",
       "\t<tr><th scope=row>9  ( 1 )</th><td>*</td><td> </td><td> </td><td>*</td><td>*</td><td>*</td><td> </td><td>*</td><td>*</td><td> </td><td>*</td><td>*</td><td>*</td></tr>\n",
       "\t<tr><th scope=row>10  ( 1 )</th><td>*</td><td>*</td><td> </td><td> </td><td>*</td><td>*</td><td> </td><td>*</td><td>*</td><td>*</td><td>*</td><td>*</td><td>*</td></tr>\n",
       "\t<tr><th scope=row>11  ( 1 )</th><td>*</td><td>*</td><td> </td><td>*</td><td>*</td><td>*</td><td> </td><td>*</td><td>*</td><td>*</td><td>*</td><td>*</td><td>*</td></tr>\n",
       "\t<tr><th scope=row>12  ( 1 )</th><td>*</td><td>*</td><td>*</td><td>*</td><td>*</td><td>*</td><td> </td><td>*</td><td>*</td><td>*</td><td>*</td><td>*</td><td>*</td></tr>\n",
       "\t<tr><th scope=row>13  ( 1 )</th><td>*</td><td>*</td><td>*</td><td>*</td><td>*</td><td>*</td><td>*</td><td>*</td><td>*</td><td>*</td><td>*</td><td>*</td><td>*</td></tr>\n",
       "</tbody>\n",
       "</table>\n"
      ],
      "text/latex": [
       "\\begin{tabular}{r|lllllllllllll}\n",
       "  & crim & zn & indus & chas & nox & rm & age & dis & rad & tax & ptratio & black & lstat\\\\\n",
       "\\hline\n",
       "\t1  ( 1 ) &   &   &   &   &   &   &   &   &   &   &   &   & *\\\\\n",
       "\t2  ( 1 ) &   &   &   &   &   & * &   &   &   &   &   &   & *\\\\\n",
       "\t3  ( 1 ) &   &   &   &   &   & * &   &   &   &   & * &   & *\\\\\n",
       "\t4  ( 1 ) &   &   &   &   &   & * &   & * &   &   & * &   & *\\\\\n",
       "\t5  ( 1 ) &   &   &   &   & * & * &   & * &   &   & * &   & *\\\\\n",
       "\t6  ( 1 ) &   &   &   & * & * & * &   & * &   &   & * &   & *\\\\\n",
       "\t7  ( 1 ) &   &   &   & * & * & * &   & * &   &   & * & * & *\\\\\n",
       "\t8  ( 1 ) &   & * &   & * & * & * &   & * &   &   & * & * & *\\\\\n",
       "\t9  ( 1 ) & * &   &   & * & * & * &   & * & * &   & * & * & *\\\\\n",
       "\t10  ( 1 ) & * & * &   &   & * & * &   & * & * & * & * & * & *\\\\\n",
       "\t11  ( 1 ) & * & * &   & * & * & * &   & * & * & * & * & * & *\\\\\n",
       "\t12  ( 1 ) & * & * & * & * & * & * &   & * & * & * & * & * & *\\\\\n",
       "\t13  ( 1 ) & * & * & * & * & * & * & * & * & * & * & * & * & *\\\\\n",
       "\\end{tabular}\n"
      ],
      "text/markdown": [
       "\n",
       "| <!--/--> | crim | zn | indus | chas | nox | rm | age | dis | rad | tax | ptratio | black | lstat | \n",
       "|---|---|---|---|---|---|---|---|---|---|---|---|---|\n",
       "| 1  ( 1 ) |   |   |   |   |   |   |   |   |   |   |   |   | * | \n",
       "| 2  ( 1 ) |   |   |   |   |   | * |   |   |   |   |   |   | * | \n",
       "| 3  ( 1 ) |   |   |   |   |   | * |   |   |   |   | * |   | * | \n",
       "| 4  ( 1 ) |   |   |   |   |   | * |   | * |   |   | * |   | * | \n",
       "| 5  ( 1 ) |   |   |   |   | * | * |   | * |   |   | * |   | * | \n",
       "| 6  ( 1 ) |   |   |   | * | * | * |   | * |   |   | * |   | * | \n",
       "| 7  ( 1 ) |   |   |   | * | * | * |   | * |   |   | * | * | * | \n",
       "| 8  ( 1 ) |   | * |   | * | * | * |   | * |   |   | * | * | * | \n",
       "| 9  ( 1 ) | * |   |   | * | * | * |   | * | * |   | * | * | * | \n",
       "| 10  ( 1 ) | * | * |   |   | * | * |   | * | * | * | * | * | * | \n",
       "| 11  ( 1 ) | * | * |   | * | * | * |   | * | * | * | * | * | * | \n",
       "| 12  ( 1 ) | * | * | * | * | * | * |   | * | * | * | * | * | * | \n",
       "| 13  ( 1 ) | * | * | * | * | * | * | * | * | * | * | * | * | * | \n",
       "\n",
       "\n"
      ],
      "text/plain": [
       "          crim zn indus chas nox rm age dis rad tax ptratio black lstat\n",
       "1  ( 1 )                                                          *    \n",
       "2  ( 1 )                         *                                *    \n",
       "3  ( 1 )                         *                  *             *    \n",
       "4  ( 1 )                         *      *           *             *    \n",
       "5  ( 1 )                     *   *      *           *             *    \n",
       "6  ( 1 )                *    *   *      *           *             *    \n",
       "7  ( 1 )                *    *   *      *           *       *     *    \n",
       "8  ( 1 )       *        *    *   *      *           *       *     *    \n",
       "9  ( 1 )  *             *    *   *      *   *       *       *     *    \n",
       "10  ( 1 ) *    *             *   *      *   *   *   *       *     *    \n",
       "11  ( 1 ) *    *        *    *   *      *   *   *   *       *     *    \n",
       "12  ( 1 ) *    *  *     *    *   *      *   *   *   *       *     *    \n",
       "13  ( 1 ) *    *  *     *    *   *  *   *   *   *   *       *     *    "
      ]
     },
     "metadata": {},
     "output_type": "display_data"
    },
    {
     "data": {
      "image/png": "[encoded data removed]",
      "text/plain": [
       "Plot with title “Adjusted Rsq”"
      ]
     },
     "metadata": {},
     "output_type": "display_data"
    }
   ],
   "source": [
    "library(leaps)\n",
    "\n",
    "regsubsets.out <- regsubsets( medv ~ .,\n",
    "                              data = data.original,\n",
    "                              nbest = 1,\n",
    "                              nvmax = NULL,\n",
    "                              force.in = NULL, force.out = NULL,\n",
    "                              method = 'exhaustive')\n",
    "summary(regsubsets.out)\n",
    "  \n",
    "as.data.frame(summary(regsubsets.out)$outmat)\n",
    "plot(regsubsets.out, scale='adjr2', main='Adjusted Rsq')"
   ]
  },
  {
   "cell_type": "code",
   "execution_count": null,
   "metadata": {},
   "outputs": [],
   "source": [
    "-"
   ]
  }
 ],
 "metadata": {
  "kernelspec": {
   "display_name": "R",
   "language": "R",
   "name": "ir"
  },
  "language_info": {
   "codemirror_mode": "r",
   "file_extension": ".r",
   "mimetype": "text/x-r-source",
   "name": "R",
   "pygments_lexer": "r",
   "version": "3.5.1"
  }
 },
 "nbformat": 4,
 "nbformat_minor": 2
}
