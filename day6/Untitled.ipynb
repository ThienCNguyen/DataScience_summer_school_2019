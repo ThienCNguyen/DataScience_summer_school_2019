{
 "cells": [
  {
   "cell_type": "code",
   "execution_count": 2,
   "metadata": {},
   "outputs": [],
   "source": [
    "house_data_raw = read.csv(\"data/train.csv\")\n",
    "house_data_raw$logSalePrice = log10(house_data_raw$SalePrice)"
   ]
  },
  {
   "cell_type": "code",
   "execution_count": 3,
   "metadata": {},
   "outputs": [
    {
     "data": {
      "text/html": [
       "<table>\n",
       "<thead><tr><th scope=col>Id</th><th scope=col>MSSubClass</th><th scope=col>MSZoning</th><th scope=col>LotArea</th><th scope=col>Street</th><th scope=col>LotShape</th><th scope=col>LandContour</th><th scope=col>Utilities</th><th scope=col>LotConfig</th><th scope=col>LandSlope</th><th scope=col>⋯</th><th scope=col>X3SsnPorch</th><th scope=col>ScreenPorch</th><th scope=col>PoolArea</th><th scope=col>MiscVal</th><th scope=col>MoSold</th><th scope=col>YrSold</th><th scope=col>SaleType</th><th scope=col>SaleCondition</th><th scope=col>SalePrice</th><th scope=col>logSalePrice</th></tr></thead>\n",
       "<tbody>\n",
       "\t<tr><td>1       </td><td>60      </td><td>RL      </td><td> 8450   </td><td>Pave    </td><td>Reg     </td><td>Lvl     </td><td>AllPub  </td><td>Inside  </td><td>Gtl     </td><td>⋯       </td><td>  0     </td><td>0       </td><td>0       </td><td>  0     </td><td> 2      </td><td>2008    </td><td>WD      </td><td>Normal  </td><td>208500  </td><td>5.319106</td></tr>\n",
       "\t<tr><td>2       </td><td>20      </td><td>RL      </td><td> 9600   </td><td>Pave    </td><td>Reg     </td><td>Lvl     </td><td>AllPub  </td><td>FR2     </td><td>Gtl     </td><td>⋯       </td><td>  0     </td><td>0       </td><td>0       </td><td>  0     </td><td> 5      </td><td>2007    </td><td>WD      </td><td>Normal  </td><td>181500  </td><td>5.258877</td></tr>\n",
       "\t<tr><td>3       </td><td>60      </td><td>RL      </td><td>11250   </td><td>Pave    </td><td>IR1     </td><td>Lvl     </td><td>AllPub  </td><td>Inside  </td><td>Gtl     </td><td>⋯       </td><td>  0     </td><td>0       </td><td>0       </td><td>  0     </td><td> 9      </td><td>2008    </td><td>WD      </td><td>Normal  </td><td>223500  </td><td>5.349278</td></tr>\n",
       "\t<tr><td>4       </td><td>70      </td><td>RL      </td><td> 9550   </td><td>Pave    </td><td>IR1     </td><td>Lvl     </td><td>AllPub  </td><td>Corner  </td><td>Gtl     </td><td>⋯       </td><td>  0     </td><td>0       </td><td>0       </td><td>  0     </td><td> 2      </td><td>2006    </td><td>WD      </td><td>Abnorml </td><td>140000  </td><td>5.146128</td></tr>\n",
       "\t<tr><td>5       </td><td>60      </td><td>RL      </td><td>14260   </td><td>Pave    </td><td>IR1     </td><td>Lvl     </td><td>AllPub  </td><td>FR2     </td><td>Gtl     </td><td>⋯       </td><td>  0     </td><td>0       </td><td>0       </td><td>  0     </td><td>12      </td><td>2008    </td><td>WD      </td><td>Normal  </td><td>250000  </td><td>5.397940</td></tr>\n",
       "\t<tr><td>6       </td><td>50      </td><td>RL      </td><td>14115   </td><td>Pave    </td><td>IR1     </td><td>Lvl     </td><td>AllPub  </td><td>Inside  </td><td>Gtl     </td><td>⋯       </td><td>320     </td><td>0       </td><td>0       </td><td>700     </td><td>10      </td><td>2009    </td><td>WD      </td><td>Normal  </td><td>143000  </td><td>5.155336</td></tr>\n",
       "</tbody>\n",
       "</table>\n"
      ],
      "text/latex": [
       "\\begin{tabular}{r|llllllllllllllllllllllllllllllllllllllllllllllllllllllllllllllllllllllllll}\n",
       " Id & MSSubClass & MSZoning & LotArea & Street & LotShape & LandContour & Utilities & LotConfig & LandSlope & ⋯ & X3SsnPorch & ScreenPorch & PoolArea & MiscVal & MoSold & YrSold & SaleType & SaleCondition & SalePrice & logSalePrice\\\\\n",
       "\\hline\n",
       "\t 1        & 60       & RL       &  8450    & Pave     & Reg      & Lvl      & AllPub   & Inside   & Gtl      & ⋯        &   0      & 0        & 0        &   0      &  2       & 2008     & WD       & Normal   & 208500   & 5.319106\\\\\n",
       "\t 2        & 20       & RL       &  9600    & Pave     & Reg      & Lvl      & AllPub   & FR2      & Gtl      & ⋯        &   0      & 0        & 0        &   0      &  5       & 2007     & WD       & Normal   & 181500   & 5.258877\\\\\n",
       "\t 3        & 60       & RL       & 11250    & Pave     & IR1      & Lvl      & AllPub   & Inside   & Gtl      & ⋯        &   0      & 0        & 0        &   0      &  9       & 2008     & WD       & Normal   & 223500   & 5.349278\\\\\n",
       "\t 4        & 70       & RL       &  9550    & Pave     & IR1      & Lvl      & AllPub   & Corner   & Gtl      & ⋯        &   0      & 0        & 0        &   0      &  2       & 2006     & WD       & Abnorml  & 140000   & 5.146128\\\\\n",
       "\t 5        & 60       & RL       & 14260    & Pave     & IR1      & Lvl      & AllPub   & FR2      & Gtl      & ⋯        &   0      & 0        & 0        &   0      & 12       & 2008     & WD       & Normal   & 250000   & 5.397940\\\\\n",
       "\t 6        & 50       & RL       & 14115    & Pave     & IR1      & Lvl      & AllPub   & Inside   & Gtl      & ⋯        & 320      & 0        & 0        & 700      & 10       & 2009     & WD       & Normal   & 143000   & 5.155336\\\\\n",
       "\\end{tabular}\n"
      ],
      "text/markdown": [
       "\n",
       "Id | MSSubClass | MSZoning | LotArea | Street | LotShape | LandContour | Utilities | LotConfig | LandSlope | ⋯ | X3SsnPorch | ScreenPorch | PoolArea | MiscVal | MoSold | YrSold | SaleType | SaleCondition | SalePrice | logSalePrice | \n",
       "|---|---|---|---|---|---|\n",
       "| 1        | 60       | RL       |  8450    | Pave     | Reg      | Lvl      | AllPub   | Inside   | Gtl      | ⋯        |   0      | 0        | 0        |   0      |  2       | 2008     | WD       | Normal   | 208500   | 5.319106 | \n",
       "| 2        | 20       | RL       |  9600    | Pave     | Reg      | Lvl      | AllPub   | FR2      | Gtl      | ⋯        |   0      | 0        | 0        |   0      |  5       | 2007     | WD       | Normal   | 181500   | 5.258877 | \n",
       "| 3        | 60       | RL       | 11250    | Pave     | IR1      | Lvl      | AllPub   | Inside   | Gtl      | ⋯        |   0      | 0        | 0        |   0      |  9       | 2008     | WD       | Normal   | 223500   | 5.349278 | \n",
       "| 4        | 70       | RL       |  9550    | Pave     | IR1      | Lvl      | AllPub   | Corner   | Gtl      | ⋯        |   0      | 0        | 0        |   0      |  2       | 2006     | WD       | Abnorml  | 140000   | 5.146128 | \n",
       "| 5        | 60       | RL       | 14260    | Pave     | IR1      | Lvl      | AllPub   | FR2      | Gtl      | ⋯        |   0      | 0        | 0        |   0      | 12       | 2008     | WD       | Normal   | 250000   | 5.397940 | \n",
       "| 6        | 50       | RL       | 14115    | Pave     | IR1      | Lvl      | AllPub   | Inside   | Gtl      | ⋯        | 320      | 0        | 0        | 700      | 10       | 2009     | WD       | Normal   | 143000   | 5.155336 | \n",
       "\n",
       "\n"
      ],
      "text/plain": [
       "  Id MSSubClass MSZoning LotArea Street LotShape LandContour Utilities\n",
       "1 1  60         RL        8450   Pave   Reg      Lvl         AllPub   \n",
       "2 2  20         RL        9600   Pave   Reg      Lvl         AllPub   \n",
       "3 3  60         RL       11250   Pave   IR1      Lvl         AllPub   \n",
       "4 4  70         RL        9550   Pave   IR1      Lvl         AllPub   \n",
       "5 5  60         RL       14260   Pave   IR1      Lvl         AllPub   \n",
       "6 6  50         RL       14115   Pave   IR1      Lvl         AllPub   \n",
       "  LotConfig LandSlope ⋯ X3SsnPorch ScreenPorch PoolArea MiscVal MoSold YrSold\n",
       "1 Inside    Gtl       ⋯   0        0           0          0      2     2008  \n",
       "2 FR2       Gtl       ⋯   0        0           0          0      5     2007  \n",
       "3 Inside    Gtl       ⋯   0        0           0          0      9     2008  \n",
       "4 Corner    Gtl       ⋯   0        0           0          0      2     2006  \n",
       "5 FR2       Gtl       ⋯   0        0           0          0     12     2008  \n",
       "6 Inside    Gtl       ⋯ 320        0           0        700     10     2009  \n",
       "  SaleType SaleCondition SalePrice logSalePrice\n",
       "1 WD       Normal        208500    5.319106    \n",
       "2 WD       Normal        181500    5.258877    \n",
       "3 WD       Normal        223500    5.349278    \n",
       "4 WD       Abnorml       140000    5.146128    \n",
       "5 WD       Normal        250000    5.397940    \n",
       "6 WD       Normal        143000    5.155336    "
      ]
     },
     "metadata": {},
     "output_type": "display_data"
    }
   ],
   "source": [
    "head(house_data_raw)"
   ]
  },
  {
   "cell_type": "code",
   "execution_count": 10,
   "metadata": {},
   "outputs": [],
   "source": [
    "house_data_raw = dplyr::select(house_data_raw, -SalePrice)"
   ]
  },
  {
   "cell_type": "code",
   "execution_count": 11,
   "metadata": {},
   "outputs": [
    {
     "data": {
      "text/html": [
       "<table>\n",
       "<thead><tr><th scope=col>Id</th><th scope=col>MSSubClass</th><th scope=col>MSZoning</th><th scope=col>LotArea</th><th scope=col>Street</th><th scope=col>LotShape</th><th scope=col>LandContour</th><th scope=col>Utilities</th><th scope=col>LotConfig</th><th scope=col>LandSlope</th><th scope=col>⋯</th><th scope=col>EnclosedPorch</th><th scope=col>X3SsnPorch</th><th scope=col>ScreenPorch</th><th scope=col>PoolArea</th><th scope=col>MiscVal</th><th scope=col>MoSold</th><th scope=col>YrSold</th><th scope=col>SaleType</th><th scope=col>SaleCondition</th><th scope=col>logSalePrice</th></tr></thead>\n",
       "<tbody>\n",
       "\t<tr><td>1       </td><td>60      </td><td>RL      </td><td> 8450   </td><td>Pave    </td><td>Reg     </td><td>Lvl     </td><td>AllPub  </td><td>Inside  </td><td>Gtl     </td><td>⋯       </td><td>  0     </td><td>  0     </td><td>0       </td><td>0       </td><td>  0     </td><td> 2      </td><td>2008    </td><td>WD      </td><td>Normal  </td><td>5.319106</td></tr>\n",
       "\t<tr><td>2       </td><td>20      </td><td>RL      </td><td> 9600   </td><td>Pave    </td><td>Reg     </td><td>Lvl     </td><td>AllPub  </td><td>FR2     </td><td>Gtl     </td><td>⋯       </td><td>  0     </td><td>  0     </td><td>0       </td><td>0       </td><td>  0     </td><td> 5      </td><td>2007    </td><td>WD      </td><td>Normal  </td><td>5.258877</td></tr>\n",
       "\t<tr><td>3       </td><td>60      </td><td>RL      </td><td>11250   </td><td>Pave    </td><td>IR1     </td><td>Lvl     </td><td>AllPub  </td><td>Inside  </td><td>Gtl     </td><td>⋯       </td><td>  0     </td><td>  0     </td><td>0       </td><td>0       </td><td>  0     </td><td> 9      </td><td>2008    </td><td>WD      </td><td>Normal  </td><td>5.349278</td></tr>\n",
       "\t<tr><td>4       </td><td>70      </td><td>RL      </td><td> 9550   </td><td>Pave    </td><td>IR1     </td><td>Lvl     </td><td>AllPub  </td><td>Corner  </td><td>Gtl     </td><td>⋯       </td><td>272     </td><td>  0     </td><td>0       </td><td>0       </td><td>  0     </td><td> 2      </td><td>2006    </td><td>WD      </td><td>Abnorml </td><td>5.146128</td></tr>\n",
       "\t<tr><td>5       </td><td>60      </td><td>RL      </td><td>14260   </td><td>Pave    </td><td>IR1     </td><td>Lvl     </td><td>AllPub  </td><td>FR2     </td><td>Gtl     </td><td>⋯       </td><td>  0     </td><td>  0     </td><td>0       </td><td>0       </td><td>  0     </td><td>12      </td><td>2008    </td><td>WD      </td><td>Normal  </td><td>5.397940</td></tr>\n",
       "\t<tr><td>6       </td><td>50      </td><td>RL      </td><td>14115   </td><td>Pave    </td><td>IR1     </td><td>Lvl     </td><td>AllPub  </td><td>Inside  </td><td>Gtl     </td><td>⋯       </td><td>  0     </td><td>320     </td><td>0       </td><td>0       </td><td>700     </td><td>10      </td><td>2009    </td><td>WD      </td><td>Normal  </td><td>5.155336</td></tr>\n",
       "</tbody>\n",
       "</table>\n"
      ],
      "text/latex": [
       "\\begin{tabular}{r|lllllllllllllllllllllllllllllllllllllllllllllllllllllllllllllllllllllllll}\n",
       " Id & MSSubClass & MSZoning & LotArea & Street & LotShape & LandContour & Utilities & LotConfig & LandSlope & ⋯ & EnclosedPorch & X3SsnPorch & ScreenPorch & PoolArea & MiscVal & MoSold & YrSold & SaleType & SaleCondition & logSalePrice\\\\\n",
       "\\hline\n",
       "\t 1        & 60       & RL       &  8450    & Pave     & Reg      & Lvl      & AllPub   & Inside   & Gtl      & ⋯        &   0      &   0      & 0        & 0        &   0      &  2       & 2008     & WD       & Normal   & 5.319106\\\\\n",
       "\t 2        & 20       & RL       &  9600    & Pave     & Reg      & Lvl      & AllPub   & FR2      & Gtl      & ⋯        &   0      &   0      & 0        & 0        &   0      &  5       & 2007     & WD       & Normal   & 5.258877\\\\\n",
       "\t 3        & 60       & RL       & 11250    & Pave     & IR1      & Lvl      & AllPub   & Inside   & Gtl      & ⋯        &   0      &   0      & 0        & 0        &   0      &  9       & 2008     & WD       & Normal   & 5.349278\\\\\n",
       "\t 4        & 70       & RL       &  9550    & Pave     & IR1      & Lvl      & AllPub   & Corner   & Gtl      & ⋯        & 272      &   0      & 0        & 0        &   0      &  2       & 2006     & WD       & Abnorml  & 5.146128\\\\\n",
       "\t 5        & 60       & RL       & 14260    & Pave     & IR1      & Lvl      & AllPub   & FR2      & Gtl      & ⋯        &   0      &   0      & 0        & 0        &   0      & 12       & 2008     & WD       & Normal   & 5.397940\\\\\n",
       "\t 6        & 50       & RL       & 14115    & Pave     & IR1      & Lvl      & AllPub   & Inside   & Gtl      & ⋯        &   0      & 320      & 0        & 0        & 700      & 10       & 2009     & WD       & Normal   & 5.155336\\\\\n",
       "\\end{tabular}\n"
      ],
      "text/markdown": [
       "\n",
       "Id | MSSubClass | MSZoning | LotArea | Street | LotShape | LandContour | Utilities | LotConfig | LandSlope | ⋯ | EnclosedPorch | X3SsnPorch | ScreenPorch | PoolArea | MiscVal | MoSold | YrSold | SaleType | SaleCondition | logSalePrice | \n",
       "|---|---|---|---|---|---|\n",
       "| 1        | 60       | RL       |  8450    | Pave     | Reg      | Lvl      | AllPub   | Inside   | Gtl      | ⋯        |   0      |   0      | 0        | 0        |   0      |  2       | 2008     | WD       | Normal   | 5.319106 | \n",
       "| 2        | 20       | RL       |  9600    | Pave     | Reg      | Lvl      | AllPub   | FR2      | Gtl      | ⋯        |   0      |   0      | 0        | 0        |   0      |  5       | 2007     | WD       | Normal   | 5.258877 | \n",
       "| 3        | 60       | RL       | 11250    | Pave     | IR1      | Lvl      | AllPub   | Inside   | Gtl      | ⋯        |   0      |   0      | 0        | 0        |   0      |  9       | 2008     | WD       | Normal   | 5.349278 | \n",
       "| 4        | 70       | RL       |  9550    | Pave     | IR1      | Lvl      | AllPub   | Corner   | Gtl      | ⋯        | 272      |   0      | 0        | 0        |   0      |  2       | 2006     | WD       | Abnorml  | 5.146128 | \n",
       "| 5        | 60       | RL       | 14260    | Pave     | IR1      | Lvl      | AllPub   | FR2      | Gtl      | ⋯        |   0      |   0      | 0        | 0        |   0      | 12       | 2008     | WD       | Normal   | 5.397940 | \n",
       "| 6        | 50       | RL       | 14115    | Pave     | IR1      | Lvl      | AllPub   | Inside   | Gtl      | ⋯        |   0      | 320      | 0        | 0        | 700      | 10       | 2009     | WD       | Normal   | 5.155336 | \n",
       "\n",
       "\n"
      ],
      "text/plain": [
       "  Id MSSubClass MSZoning LotArea Street LotShape LandContour Utilities\n",
       "1 1  60         RL        8450   Pave   Reg      Lvl         AllPub   \n",
       "2 2  20         RL        9600   Pave   Reg      Lvl         AllPub   \n",
       "3 3  60         RL       11250   Pave   IR1      Lvl         AllPub   \n",
       "4 4  70         RL        9550   Pave   IR1      Lvl         AllPub   \n",
       "5 5  60         RL       14260   Pave   IR1      Lvl         AllPub   \n",
       "6 6  50         RL       14115   Pave   IR1      Lvl         AllPub   \n",
       "  LotConfig LandSlope ⋯ EnclosedPorch X3SsnPorch ScreenPorch PoolArea MiscVal\n",
       "1 Inside    Gtl       ⋯   0             0        0           0          0    \n",
       "2 FR2       Gtl       ⋯   0             0        0           0          0    \n",
       "3 Inside    Gtl       ⋯   0             0        0           0          0    \n",
       "4 Corner    Gtl       ⋯ 272             0        0           0          0    \n",
       "5 FR2       Gtl       ⋯   0             0        0           0          0    \n",
       "6 Inside    Gtl       ⋯   0           320        0           0        700    \n",
       "  MoSold YrSold SaleType SaleCondition logSalePrice\n",
       "1  2     2008   WD       Normal        5.319106    \n",
       "2  5     2007   WD       Normal        5.258877    \n",
       "3  9     2008   WD       Normal        5.349278    \n",
       "4  2     2006   WD       Abnorml       5.146128    \n",
       "5 12     2008   WD       Normal        5.397940    \n",
       "6 10     2009   WD       Normal        5.155336    "
      ]
     },
     "metadata": {},
     "output_type": "display_data"
    }
   ],
   "source": [
    "head(house_data_raw)"
   ]
  },
  {
   "cell_type": "code",
   "execution_count": null,
   "metadata": {},
   "outputs": [],
   "source": []
  }
 ],
 "metadata": {
  "kernelspec": {
   "display_name": "R",
   "language": "R",
   "name": "ir"
  },
  "language_info": {
   "codemirror_mode": "r",
   "file_extension": ".r",
   "mimetype": "text/x-r-source",
   "name": "R",
   "pygments_lexer": "r",
   "version": "3.5.1"
  }
 },
 "nbformat": 4,
 "nbformat_minor": 2
}
