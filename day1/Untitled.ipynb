{
 "cells": [
  {
   "cell_type": "markdown",
   "metadata": {},
   "source": [
    "useful shortcuts\n",
    "\n",
    "SAVE: CONTROL+S \n",
    "OPEN: CONTROL+O\n",
    "UNDO: CONTROL+Z\n",
    "REDO: CONTROL+Y\n",
    "FIND: CONTROL+F\n",
    "NEW (e.g. tab) CONTROL+N\n",
    "tab: finishes writing variable names for you\n",
    "SELECT WHOLE LINE: CONTROL+L\n",
    "SELECT EVERYTHING: CONTROL+A\n",
    "REPLACE: CONTROL+H\n",
    "\n",
    "I assume you all know copy paste\n",
    "CONTROL+C\n",
    "CONTROL+P"
   ]
  },
  {
   "cell_type": "code",
   "execution_count": null,
   "metadata": {},
   "outputs": [],
   "source": []
  },
  {
   "cell_type": "code",
   "execution_count": null,
   "metadata": {},
   "outputs": [],
   "source": []
  },
  {
   "cell_type": "code",
   "execution_count": null,
   "metadata": {},
   "outputs": [],
   "source": [
    "bla"
   ]
  }
 ],
 "metadata": {
  "kernelspec": {
   "display_name": "R",
   "language": "R",
   "name": "ir"
  },
  "language_info": {
   "codemirror_mode": "r",
   "file_extension": ".r",
   "mimetype": "text/x-r-source",
   "name": "R",
   "pygments_lexer": "r",
   "version": "3.5.1"
  }
 },
 "nbformat": 4,
 "nbformat_minor": 2
}
