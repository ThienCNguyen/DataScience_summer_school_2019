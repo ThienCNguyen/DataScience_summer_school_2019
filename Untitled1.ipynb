{
 "cells": [
  {
   "cell_type": "code",
   "execution_count": 1,
   "metadata": {},
   "outputs": [],
   "source": [
    "taxi= read.csv(\"Taxi.csv\")"
   ]
  },
  {
   "cell_type": "code",
   "execution_count": 14,
   "metadata": {},
   "outputs": [
    {
     "data": {
      "text/html": [
       "<table>\n",
       "<thead><tr><th scope=col>VendorID</th><th scope=col>tpep_pickup_datetime</th><th scope=col>tpep_dropoff_datetime</th><th scope=col>passenger_count</th><th scope=col>trip_distance</th><th scope=col>RatecodeID</th><th scope=col>store_and_fwd_flag</th><th scope=col>PULocationID</th><th scope=col>DOLocationID</th><th scope=col>payment_type</th><th scope=col>fare_amount</th><th scope=col>extra</th><th scope=col>mta_tax</th><th scope=col>tip_amount</th><th scope=col>tolls_amount</th><th scope=col>improvement_surcharge</th><th scope=col>total_amount</th></tr></thead>\n",
       "<tbody>\n",
       "\t<tr><td>2                     </td><td>06/28/2019 02:21:03 PM</td><td>06/28/2019 02:31:02 PM</td><td>1                     </td><td>1.48                  </td><td>1                     </td><td>N                     </td><td>237                   </td><td>140                   </td><td>1                     </td><td> 8.0                  </td><td>1.0                   </td><td>0.5                   </td><td>1.50                  </td><td>0                     </td><td>0.3                   </td><td>11.30                 </td></tr>\n",
       "\t<tr><td>2                     </td><td>12/31/2018 11:58:12 PM</td><td>01/01/2019 12:09:42 AM</td><td>6                     </td><td>2.71                  </td><td>1                     </td><td>N                     </td><td>162                   </td><td>239                   </td><td>1                     </td><td>10.5                  </td><td>0.5                   </td><td>0.5                   </td><td>3.54                  </td><td>0                     </td><td>0.3                   </td><td>15.34                 </td></tr>\n",
       "\t<tr><td>2                     </td><td>12/31/2018 11:56:40 PM</td><td>12/31/2018 11:59:56 PM</td><td>1                     </td><td>0.55                  </td><td>1                     </td><td>N                     </td><td> 62                   </td><td> 61                   </td><td>2                     </td><td> 4.5                  </td><td>0.5                   </td><td>0.5                   </td><td>0.00                  </td><td>0                     </td><td>0.3                   </td><td> 5.80                 </td></tr>\n",
       "\t<tr><td>1                     </td><td>12/31/2018 11:49:40 PM</td><td>01/01/2019 12:03:26 AM</td><td>1                     </td><td>5.10                  </td><td>1                     </td><td>N                     </td><td> 79                   </td><td> 75                   </td><td>4                     </td><td>15.5                  </td><td>0.5                   </td><td>0.5                   </td><td>0.00                  </td><td>0                     </td><td>0.3                   </td><td>16.80                 </td></tr>\n",
       "\t<tr><td>2                     </td><td>12/31/2018 11:44:19 PM</td><td>12/31/2018 11:58:43 PM</td><td>1                     </td><td>3.06                  </td><td>1                     </td><td>N                     </td><td>238                   </td><td>161                   </td><td>2                     </td><td>12.5                  </td><td>0.5                   </td><td>0.5                   </td><td>0.00                  </td><td>0                     </td><td>0.3                   </td><td>13.80                 </td></tr>\n",
       "\t<tr><td>2                     </td><td>12/31/2018 11:41:27 PM</td><td>12/31/2018 11:49:35 PM</td><td>1                     </td><td>0.95                  </td><td>1                     </td><td>N                     </td><td>234                   </td><td>114                   </td><td>2                     </td><td> 5.5                  </td><td>0.5                   </td><td>0.5                   </td><td>0.00                  </td><td>0                     </td><td>0.3                   </td><td> 6.80                 </td></tr>\n",
       "</tbody>\n",
       "</table>\n"
      ],
      "text/latex": [
       "\\begin{tabular}{r|lllllllllllllllll}\n",
       " VendorID & tpep\\_pickup\\_datetime & tpep\\_dropoff\\_datetime & passenger\\_count & trip\\_distance & RatecodeID & store\\_and\\_fwd\\_flag & PULocationID & DOLocationID & payment\\_type & fare\\_amount & extra & mta\\_tax & tip\\_amount & tolls\\_amount & improvement\\_surcharge & total\\_amount\\\\\n",
       "\\hline\n",
       "\t 2                      & 06/28/2019 02:21:03 PM & 06/28/2019 02:31:02 PM & 1                      & 1.48                   & 1                      & N                      & 237                    & 140                    & 1                      &  8.0                   & 1.0                    & 0.5                    & 1.50                   & 0                      & 0.3                    & 11.30                 \\\\\n",
       "\t 2                      & 12/31/2018 11:58:12 PM & 01/01/2019 12:09:42 AM & 6                      & 2.71                   & 1                      & N                      & 162                    & 239                    & 1                      & 10.5                   & 0.5                    & 0.5                    & 3.54                   & 0                      & 0.3                    & 15.34                 \\\\\n",
       "\t 2                      & 12/31/2018 11:56:40 PM & 12/31/2018 11:59:56 PM & 1                      & 0.55                   & 1                      & N                      &  62                    &  61                    & 2                      &  4.5                   & 0.5                    & 0.5                    & 0.00                   & 0                      & 0.3                    &  5.80                 \\\\\n",
       "\t 1                      & 12/31/2018 11:49:40 PM & 01/01/2019 12:03:26 AM & 1                      & 5.10                   & 1                      & N                      &  79                    &  75                    & 4                      & 15.5                   & 0.5                    & 0.5                    & 0.00                   & 0                      & 0.3                    & 16.80                 \\\\\n",
       "\t 2                      & 12/31/2018 11:44:19 PM & 12/31/2018 11:58:43 PM & 1                      & 3.06                   & 1                      & N                      & 238                    & 161                    & 2                      & 12.5                   & 0.5                    & 0.5                    & 0.00                   & 0                      & 0.3                    & 13.80                 \\\\\n",
       "\t 2                      & 12/31/2018 11:41:27 PM & 12/31/2018 11:49:35 PM & 1                      & 0.95                   & 1                      & N                      & 234                    & 114                    & 2                      &  5.5                   & 0.5                    & 0.5                    & 0.00                   & 0                      & 0.3                    &  6.80                 \\\\\n",
       "\\end{tabular}\n"
      ],
      "text/markdown": [
       "\n",
       "VendorID | tpep_pickup_datetime | tpep_dropoff_datetime | passenger_count | trip_distance | RatecodeID | store_and_fwd_flag | PULocationID | DOLocationID | payment_type | fare_amount | extra | mta_tax | tip_amount | tolls_amount | improvement_surcharge | total_amount | \n",
       "|---|---|---|---|---|---|\n",
       "| 2                      | 06/28/2019 02:21:03 PM | 06/28/2019 02:31:02 PM | 1                      | 1.48                   | 1                      | N                      | 237                    | 140                    | 1                      |  8.0                   | 1.0                    | 0.5                    | 1.50                   | 0                      | 0.3                    | 11.30                  | \n",
       "| 2                      | 12/31/2018 11:58:12 PM | 01/01/2019 12:09:42 AM | 6                      | 2.71                   | 1                      | N                      | 162                    | 239                    | 1                      | 10.5                   | 0.5                    | 0.5                    | 3.54                   | 0                      | 0.3                    | 15.34                  | \n",
       "| 2                      | 12/31/2018 11:56:40 PM | 12/31/2018 11:59:56 PM | 1                      | 0.55                   | 1                      | N                      |  62                    |  61                    | 2                      |  4.5                   | 0.5                    | 0.5                    | 0.00                   | 0                      | 0.3                    |  5.80                  | \n",
       "| 1                      | 12/31/2018 11:49:40 PM | 01/01/2019 12:03:26 AM | 1                      | 5.10                   | 1                      | N                      |  79                    |  75                    | 4                      | 15.5                   | 0.5                    | 0.5                    | 0.00                   | 0                      | 0.3                    | 16.80                  | \n",
       "| 2                      | 12/31/2018 11:44:19 PM | 12/31/2018 11:58:43 PM | 1                      | 3.06                   | 1                      | N                      | 238                    | 161                    | 2                      | 12.5                   | 0.5                    | 0.5                    | 0.00                   | 0                      | 0.3                    | 13.80                  | \n",
       "| 2                      | 12/31/2018 11:41:27 PM | 12/31/2018 11:49:35 PM | 1                      | 0.95                   | 1                      | N                      | 234                    | 114                    | 2                      |  5.5                   | 0.5                    | 0.5                    | 0.00                   | 0                      | 0.3                    |  6.80                  | \n",
       "\n",
       "\n"
      ],
      "text/plain": [
       "  VendorID tpep_pickup_datetime   tpep_dropoff_datetime  passenger_count\n",
       "1 2        06/28/2019 02:21:03 PM 06/28/2019 02:31:02 PM 1              \n",
       "2 2        12/31/2018 11:58:12 PM 01/01/2019 12:09:42 AM 6              \n",
       "3 2        12/31/2018 11:56:40 PM 12/31/2018 11:59:56 PM 1              \n",
       "4 1        12/31/2018 11:49:40 PM 01/01/2019 12:03:26 AM 1              \n",
       "5 2        12/31/2018 11:44:19 PM 12/31/2018 11:58:43 PM 1              \n",
       "6 2        12/31/2018 11:41:27 PM 12/31/2018 11:49:35 PM 1              \n",
       "  trip_distance RatecodeID store_and_fwd_flag PULocationID DOLocationID\n",
       "1 1.48          1          N                  237          140         \n",
       "2 2.71          1          N                  162          239         \n",
       "3 0.55          1          N                   62           61         \n",
       "4 5.10          1          N                   79           75         \n",
       "5 3.06          1          N                  238          161         \n",
       "6 0.95          1          N                  234          114         \n",
       "  payment_type fare_amount extra mta_tax tip_amount tolls_amount\n",
       "1 1             8.0        1.0   0.5     1.50       0           \n",
       "2 1            10.5        0.5   0.5     3.54       0           \n",
       "3 2             4.5        0.5   0.5     0.00       0           \n",
       "4 4            15.5        0.5   0.5     0.00       0           \n",
       "5 2            12.5        0.5   0.5     0.00       0           \n",
       "6 2             5.5        0.5   0.5     0.00       0           \n",
       "  improvement_surcharge total_amount\n",
       "1 0.3                   11.30       \n",
       "2 0.3                   15.34       \n",
       "3 0.3                    5.80       \n",
       "4 0.3                   16.80       \n",
       "5 0.3                   13.80       \n",
       "6 0.3                    6.80       "
      ]
     },
     "metadata": {},
     "output_type": "display_data"
    },
    {
     "data": {
      "text/plain": [
       "    VendorID                 tpep_pickup_datetime\n",
       " Min.   :1.000   06/26/2018 08:45:20 PM:    2    \n",
       " 1st Qu.:1.000   07/03/2018 07:16:10 PM:    2    \n",
       " Median :2.000   07/09/2018 10:25:46 PM:    2    \n",
       " Mean   :1.616   07/10/2018 04:05:57 PM:    2    \n",
       " 3rd Qu.:2.000   07/13/2018 04:44:19 PM:    2    \n",
       " Max.   :4.000   07/17/2018 08:24:34 PM:    2    \n",
       "                 (Other)               :50772    \n",
       "            tpep_dropoff_datetime passenger_count trip_distance   \n",
       " 06/27/2018 10:32:02 PM:    2     Min.   :0.000   Min.   : 0.000  \n",
       " 06/28/2018 09:03:55 PM:    2     1st Qu.:1.000   1st Qu.: 0.970  \n",
       " 06/30/2018 01:43:46 PM:    2     Median :1.000   Median : 1.600  \n",
       " 06/30/2018 10:41:19 AM:    2     Mean   :1.586   Mean   : 2.979  \n",
       " 07/01/2018 01:16:05 AM:    2     3rd Qu.:2.000   3rd Qu.: 3.020  \n",
       " 07/01/2018 10:45:08 PM:    2     Max.   :6.000   Max.   :64.200  \n",
       " (Other)               :50772     NA's   :1       NA's   :1       \n",
       "   RatecodeID     store_and_fwd_flag  PULocationID    DOLocationID  \n",
       " Min.   : 1.000    :    1            Min.   :  1.0   Min.   :  1.0  \n",
       " 1st Qu.: 1.000   N:50491            1st Qu.:114.0   1st Qu.:113.0  \n",
       " Median : 1.000   Y:  292            Median :162.0   Median :162.0  \n",
       " Mean   : 1.069                      Mean   :162.8   Mean   :161.8  \n",
       " 3rd Qu.: 1.000                      3rd Qu.:233.0   3rd Qu.:233.0  \n",
       " Max.   :99.000                      Max.   :265.0   Max.   :265.0  \n",
       " NA's   :1                           NA's   :1       NA's   :1      \n",
       "  payment_type    fare_amount         extra            mta_tax       \n",
       " Min.   :1.000   Min.   :-52.00   Min.   :-4.5000   Min.   :-0.5000  \n",
       " 1st Qu.:1.000   1st Qu.:  6.50   1st Qu.: 0.0000   1st Qu.: 0.5000  \n",
       " Median :1.000   Median :  9.50   Median : 0.0000   Median : 0.5000  \n",
       " Mean   :1.316   Mean   : 13.26   Mean   : 0.3321   Mean   : 0.4973  \n",
       " 3rd Qu.:2.000   3rd Qu.: 15.00   3rd Qu.: 0.5000   3rd Qu.: 0.5000  \n",
       " Max.   :4.000   Max.   :336.00   Max.   : 4.5000   Max.   : 0.5000  \n",
       " NA's   :1       NA's   :1        NA's   :1         NA's   :1        \n",
       "   tip_amount       tolls_amount     improvement_surcharge  total_amount   \n",
       " Min.   : -2.520   Min.   : 0.0000   Min.   :-0.3000       Min.   :-57.30  \n",
       " 1st Qu.:  0.000   1st Qu.: 0.0000   1st Qu.: 0.3000       1st Qu.:  8.75  \n",
       " Median :  1.360   Median : 0.0000   Median : 0.3000       Median : 11.85  \n",
       " Mean   :  1.886   Mean   : 0.3621   Mean   : 0.2996       Mean   : 16.65  \n",
       " 3rd Qu.:  2.450   3rd Qu.: 0.0000   3rd Qu.: 0.3000       3rd Qu.: 18.30  \n",
       " Max.   :150.000   Max.   :32.0000   Max.   : 0.3000       Max.   :379.30  \n",
       " NA's   :1         NA's   :1         NA's   :1             NA's   :1       "
      ]
     },
     "metadata": {},
     "output_type": "display_data"
    }
   ],
   "source": [
    "head(taxi)\n",
    "summary(taxi)"
   ]
  },
  {
   "cell_type": "code",
   "execution_count": 15,
   "metadata": {},
   "outputs": [
    {
     "name": "stdout",
     "output_type": "stream",
     "text": [
      " num [1:11700] 11.3 13.8 26.3 24.4 58.6 ...\n"
     ]
    }
   ],
   "source": [
    "totalamount = taxi$total_amount[taxi$passenger_count == 1:4 ]\n",
    "str(totalamount)"
   ]
  },
  {
   "cell_type": "code",
   "execution_count": 16,
   "metadata": {},
   "outputs": [
    {
     "data": {
      "text/html": [
       "16.4596948457133"
      ],
      "text/latex": [
       "16.4596948457133"
      ],
      "text/markdown": [
       "16.4596948457133"
      ],
      "text/plain": [
       "[1] 16.45969"
      ]
     },
     "metadata": {},
     "output_type": "display_data"
    }
   ],
   "source": [
    "mean(totalamount, na.rm=TRUE)"
   ]
  },
  {
   "cell_type": "code",
   "execution_count": 17,
   "metadata": {},
   "outputs": [],
   "source": [
    "totalamount_2 = taxi$total_amount[taxi$passenger_count == 5:6 ]"
   ]
  },
  {
   "cell_type": "code",
   "execution_count": 18,
   "metadata": {},
   "outputs": [
    {
     "data": {
      "text/html": [
       "16.6969450800915"
      ],
      "text/latex": [
       "16.6969450800915"
      ],
      "text/markdown": [
       "16.6969450800915"
      ],
      "text/plain": [
       "[1] 16.69695"
      ]
     },
     "metadata": {},
     "output_type": "display_data"
    }
   ],
   "source": [
    "mean(totalamount_2, na.rm=TRUE)"
   ]
  },
  {
   "cell_type": "code",
   "execution_count": 20,
   "metadata": {},
   "outputs": [
    {
     "data": {
      "text/plain": [
       "\n",
       "\tWelch Two Sample t-test\n",
       "\n",
       "data:  totalamount and totalamount_2\n",
       "t = -0.67204, df = 2383.5, p-value = 0.5016\n",
       "alternative hypothesis: true difference in means is not equal to 0\n",
       "95 percent confidence interval:\n",
       " -0.9295264  0.4550260\n",
       "sample estimates:\n",
       "mean of x mean of y \n",
       " 16.45969  16.69695 \n"
      ]
     },
     "metadata": {},
     "output_type": "display_data"
    }
   ],
   "source": [
    "t.test(totalamount, totalamount_2, mu=0)"
   ]
  },
  {
   "cell_type": "code",
   "execution_count": null,
   "metadata": {},
   "outputs": [],
   "source": []
  }
 ],
 "metadata": {
  "kernelspec": {
   "display_name": "R",
   "language": "R",
   "name": "ir"
  },
  "language_info": {
   "codemirror_mode": "r",
   "file_extension": ".r",
   "mimetype": "text/x-r-source",
   "name": "R",
   "pygments_lexer": "r",
   "version": "3.5.1"
  }
 },
 "nbformat": 4,
 "nbformat_minor": 2
}
