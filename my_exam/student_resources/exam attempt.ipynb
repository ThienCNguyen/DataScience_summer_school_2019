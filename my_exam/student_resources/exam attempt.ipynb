{
 "cells": [
  {
   "cell_type": "code",
   "execution_count": 5,
   "metadata": {},
   "outputs": [
    {
     "name": "stderr",
     "output_type": "stream",
     "text": [
      "\n",
      "Attaching package: ‘dplyr’\n",
      "\n",
      "The following objects are masked from ‘package:stats’:\n",
      "\n",
      "    filter, lag\n",
      "\n",
      "The following objects are masked from ‘package:base’:\n",
      "\n",
      "    intersect, setdiff, setequal, union\n",
      "\n",
      "Version:  1.36.23\n",
      "Date:     2017-03-03\n",
      "Author:   Philip Leifeld (University of Glasgow)\n",
      "\n",
      "Please cite the JSS article in your publications -- see citation(\"texreg\").\n",
      "\n",
      "Attaching package: ‘texreg’\n",
      "\n",
      "The following object is masked from ‘package:tidyr’:\n",
      "\n",
      "    extract\n",
      "\n"
     ]
    },
    {
     "ename": "ERROR",
     "evalue": "Error in head(sales): object 'sales' not found\n",
     "output_type": "error",
     "traceback": [
      "Error in head(sales): object 'sales' not found\nTraceback:\n",
      "1. head(sales)"
     ]
    }
   ],
   "source": [
    "sales_1 = read.csv(\"sales.csv\")\n",
    "library(dplyr)\n",
    "library(tidyr)\n",
    "library(texreg)\n",
    "head(sales)"
   ]
  },
  {
   "cell_type": "code",
   "execution_count": 207,
   "metadata": {},
   "outputs": [
    {
     "ename": "ERROR",
     "evalue": "Error in stepAIC(model4): AIC is -infinity for this model, so 'stepAIC' cannot proceed\n",
     "output_type": "error",
     "traceback": [
      "Error in stepAIC(model4): AIC is -infinity for this model, so 'stepAIC' cannot proceed\nTraceback:\n",
      "1. stepAIC(model4)",
      "2. stop(\"AIC is -infinity for this model, so 'stepAIC' cannot proceed\")"
     ]
    }
   ],
   "source": [
    "model4 = lm(pizza ~ ., data = sales_1)\n",
    "test = stepAIC(model4)"
   ]
  },
  {
   "cell_type": "code",
   "execution_count": 170,
   "metadata": {},
   "outputs": [
    {
     "name": "stderr",
     "output_type": "stream",
     "text": [
      "Warning message in rbind(parts$upper, ellip_v, parts$lower, deparse.level = 0L):\n",
      "“number of columns of result is not a multiple of vector length (arg 2)”"
     ]
    },
    {
     "data": {
      "text/html": [],
      "text/latex": [],
      "text/markdown": [],
      "text/plain": [
       "   \n",
       "1  \n",
       "2  \n",
       "3  \n",
       "4  \n",
       "5  \n",
       "6  \n",
       "7  \n",
       "8  \n",
       "9  \n",
       "10 \n",
       "11 \n",
       "12 \n",
       "13 \n",
       "14 \n",
       "15 \n",
       "16 \n",
       "17 \n",
       "18 \n",
       "19 \n",
       "20 \n",
       "21 \n",
       "22 \n",
       "23 \n",
       "24 \n",
       "25 \n",
       "26 \n",
       "27 \n",
       "28 \n",
       "29 \n",
       "30 \n",
       "⋮  \n",
       "84 \n",
       "85 \n",
       "86 \n",
       "87 \n",
       "88 \n",
       "89 \n",
       "90 \n",
       "91 \n",
       "92 \n",
       "93 \n",
       "94 \n",
       "95 \n",
       "96 \n",
       "97 \n",
       "98 \n",
       "99 \n",
       "100\n",
       "101\n",
       "102\n",
       "103\n",
       "104\n",
       "105\n",
       "106\n",
       "107\n",
       "108\n",
       "109\n",
       "110\n",
       "111\n",
       "112\n",
       "113"
      ]
     },
     "metadata": {},
     "output_type": "display_data"
    },
    {
     "name": "stderr",
     "output_type": "stream",
     "text": [
      "Warning message in rbind(parts$upper, ellip_v, parts$lower, deparse.level = 0L):\n",
      "“number of columns of result is not a multiple of vector length (arg 2)”"
     ]
    },
    {
     "data": {
      "text/html": [],
      "text/latex": [],
      "text/markdown": [],
      "text/plain": [
       "   \n",
       "1  \n",
       "2  \n",
       "3  \n",
       "4  \n",
       "5  \n",
       "6  \n",
       "7  \n",
       "8  \n",
       "9  \n",
       "10 \n",
       "11 \n",
       "12 \n",
       "13 \n",
       "14 \n",
       "15 \n",
       "16 \n",
       "17 \n",
       "18 \n",
       "19 \n",
       "20 \n",
       "21 \n",
       "22 \n",
       "23 \n",
       "24 \n",
       "25 \n",
       "26 \n",
       "27 \n",
       "28 \n",
       "29 \n",
       "30 \n",
       "⋮  \n",
       "84 \n",
       "85 \n",
       "86 \n",
       "87 \n",
       "88 \n",
       "89 \n",
       "90 \n",
       "91 \n",
       "92 \n",
       "93 \n",
       "94 \n",
       "95 \n",
       "96 \n",
       "97 \n",
       "98 \n",
       "99 \n",
       "100\n",
       "101\n",
       "102\n",
       "103\n",
       "104\n",
       "105\n",
       "106\n",
       "107\n",
       "108\n",
       "109\n",
       "110\n",
       "111\n",
       "112\n",
       "113"
      ]
     },
     "metadata": {},
     "output_type": "display_data"
    }
   ],
   "source": [
    "h<-sales[,-which(names(sales)%in% \"date\")]\n",
    "sales<-h\n",
    "sales\n",
    "h"
   ]
  },
  {
   "cell_type": "code",
   "execution_count": 3,
   "metadata": {},
   "outputs": [
    {
     "name": "stderr",
     "output_type": "stream",
     "text": [
      "\n",
      "Attaching package: ‘dplyr’\n",
      "\n",
      "The following objects are masked from ‘package:stats’:\n",
      "\n",
      "    filter, lag\n",
      "\n",
      "The following objects are masked from ‘package:base’:\n",
      "\n",
      "    intersect, setdiff, setequal, union\n",
      "\n"
     ]
    }
   ],
   "source": [
    "library(dplyr)"
   ]
  },
  {
   "cell_type": "code",
   "execution_count": 4,
   "metadata": {},
   "outputs": [],
   "source": [
    "sales= rename(sales, 'wind' = 'windspeed')"
   ]
  },
  {
   "cell_type": "code",
   "execution_count": 118,
   "metadata": {},
   "outputs": [
    {
     "data": {
      "text/html": [
       "<table>\n",
       "<thead><tr><th scope=col>weekday</th><th scope=col>staff</th><th scope=col>pizza</th><th scope=col>wraps</th><th scope=col>pasta</th><th scope=col>dessert</th><th scope=col>fruitcup</th><th scope=col>chips</th><th scope=col>juice</th><th scope=col>soda</th><th scope=col>coffee</th><th scope=col>total_sales</th><th scope=col>temp</th><th scope=col>humidity</th><th scope=col>rainfall</th><th scope=col>wind</th><th scope=col>food</th><th scope=col>totalSales</th></tr></thead>\n",
       "<tbody>\n",
       "\t<tr><td>Tuesday  </td><td>Harry    </td><td>5        </td><td>25       </td><td>5        </td><td>5        </td><td>1        </td><td>12       </td><td> 8       </td><td>20       </td><td>41       </td><td>199.95   </td><td>36       </td><td>82       </td><td>0.00     </td><td>12       </td><td>1041     </td><td>35       </td></tr>\n",
       "\t<tr><td>Wednesday</td><td>Sara     </td><td>6        </td><td> 7       </td><td>3        </td><td>1        </td><td>0        </td><td> 0       </td><td> 0       </td><td>13       </td><td>33       </td><td>195.74   </td><td>34       </td><td>78       </td><td>0.06     </td><td>16       </td><td>1041     </td><td>16       </td></tr>\n",
       "\t<tr><td>Thursday </td><td>Sara     </td><td>8        </td><td>14       </td><td>4        </td><td>1        </td><td>0        </td><td> 0       </td><td>13       </td><td>23       </td><td>34       </td><td>102.68   </td><td>39       </td><td>85       </td><td>0.45     </td><td>16       </td><td>1041     </td><td>26       </td></tr>\n",
       "\t<tr><td>Friday   </td><td>Sara     </td><td>4        </td><td> 5       </td><td>5        </td><td>3        </td><td>3        </td><td>20       </td><td> 0       </td><td>13       </td><td>27       </td><td>162.88   </td><td>40       </td><td>85       </td><td>0.00     </td><td>12       </td><td>1041     </td><td>14       </td></tr>\n",
       "\t<tr><td>Monday   </td><td>Harry    </td><td>3        </td><td>10       </td><td>8        </td><td>3        </td><td>2        </td><td> 0       </td><td> 5       </td><td>13       </td><td>20       </td><td>101.76   </td><td>36       </td><td>64       </td><td>0.03     </td><td>25       </td><td>1041     </td><td>21       </td></tr>\n",
       "\t<tr><td>Tuesday  </td><td>Sara     </td><td>7        </td><td> 5       </td><td>1        </td><td>5        </td><td>2        </td><td> 4       </td><td> 4       </td><td>33       </td><td>23       </td><td>186.94   </td><td>26       </td><td>62       </td><td>0.00     </td><td>23       </td><td>1041     </td><td>13       </td></tr>\n",
       "</tbody>\n",
       "</table>\n"
      ],
      "text/latex": [
       "\\begin{tabular}{r|llllllllllllllllll}\n",
       " weekday & staff & pizza & wraps & pasta & dessert & fruitcup & chips & juice & soda & coffee & total\\_sales & temp & humidity & rainfall & wind & food & totalSales\\\\\n",
       "\\hline\n",
       "\t Tuesday   & Harry     & 5         & 25        & 5         & 5         & 1         & 12        &  8        & 20        & 41        & 199.95    & 36        & 82        & 0.00      & 12        & 1041      & 35       \\\\\n",
       "\t Wednesday & Sara      & 6         &  7        & 3         & 1         & 0         &  0        &  0        & 13        & 33        & 195.74    & 34        & 78        & 0.06      & 16        & 1041      & 16       \\\\\n",
       "\t Thursday  & Sara      & 8         & 14        & 4         & 1         & 0         &  0        & 13        & 23        & 34        & 102.68    & 39        & 85        & 0.45      & 16        & 1041      & 26       \\\\\n",
       "\t Friday    & Sara      & 4         &  5        & 5         & 3         & 3         & 20        &  0        & 13        & 27        & 162.88    & 40        & 85        & 0.00      & 12        & 1041      & 14       \\\\\n",
       "\t Monday    & Harry     & 3         & 10        & 8         & 3         & 2         &  0        &  5        & 13        & 20        & 101.76    & 36        & 64        & 0.03      & 25        & 1041      & 21       \\\\\n",
       "\t Tuesday   & Sara      & 7         &  5        & 1         & 5         & 2         &  4        &  4        & 33        & 23        & 186.94    & 26        & 62        & 0.00      & 23        & 1041      & 13       \\\\\n",
       "\\end{tabular}\n"
      ],
      "text/markdown": [
       "\n",
       "weekday | staff | pizza | wraps | pasta | dessert | fruitcup | chips | juice | soda | coffee | total_sales | temp | humidity | rainfall | wind | food | totalSales | \n",
       "|---|---|---|---|---|---|\n",
       "| Tuesday   | Harry     | 5         | 25        | 5         | 5         | 1         | 12        |  8        | 20        | 41        | 199.95    | 36        | 82        | 0.00      | 12        | 1041      | 35        | \n",
       "| Wednesday | Sara      | 6         |  7        | 3         | 1         | 0         |  0        |  0        | 13        | 33        | 195.74    | 34        | 78        | 0.06      | 16        | 1041      | 16        | \n",
       "| Thursday  | Sara      | 8         | 14        | 4         | 1         | 0         |  0        | 13        | 23        | 34        | 102.68    | 39        | 85        | 0.45      | 16        | 1041      | 26        | \n",
       "| Friday    | Sara      | 4         |  5        | 5         | 3         | 3         | 20        |  0        | 13        | 27        | 162.88    | 40        | 85        | 0.00      | 12        | 1041      | 14        | \n",
       "| Monday    | Harry     | 3         | 10        | 8         | 3         | 2         |  0        |  5        | 13        | 20        | 101.76    | 36        | 64        | 0.03      | 25        | 1041      | 21        | \n",
       "| Tuesday   | Sara      | 7         |  5        | 1         | 5         | 2         |  4        |  4        | 33        | 23        | 186.94    | 26        | 62        | 0.00      | 23        | 1041      | 13        | \n",
       "\n",
       "\n"
      ],
      "text/plain": [
       "  weekday   staff pizza wraps pasta dessert fruitcup chips juice soda coffee\n",
       "1 Tuesday   Harry 5     25    5     5       1        12     8    20   41    \n",
       "2 Wednesday Sara  6      7    3     1       0         0     0    13   33    \n",
       "3 Thursday  Sara  8     14    4     1       0         0    13    23   34    \n",
       "4 Friday    Sara  4      5    5     3       3        20     0    13   27    \n",
       "5 Monday    Harry 3     10    8     3       2         0     5    13   20    \n",
       "6 Tuesday   Sara  7      5    1     5       2         4     4    33   23    \n",
       "  total_sales temp humidity rainfall wind food totalSales\n",
       "1 199.95      36   82       0.00     12   1041 35        \n",
       "2 195.74      34   78       0.06     16   1041 16        \n",
       "3 102.68      39   85       0.45     16   1041 26        \n",
       "4 162.88      40   85       0.00     12   1041 14        \n",
       "5 101.76      36   64       0.03     25   1041 21        \n",
       "6 186.94      26   62       0.00     23   1041 13        "
      ]
     },
     "metadata": {},
     "output_type": "display_data"
    }
   ],
   "source": [
    "sales <- mutate(sales, totalSales = pizza+pasta+wraps)\n",
    "head(sales)"
   ]
  },
  {
   "cell_type": "code",
   "execution_count": 6,
   "metadata": {},
   "outputs": [
    {
     "data": {
      "text/html": [
       "<ol class=list-inline>\n",
       "\t<li>113</li>\n",
       "\t<li>17</li>\n",
       "</ol>\n"
      ],
      "text/latex": [
       "\\begin{enumerate*}\n",
       "\\item 113\n",
       "\\item 17\n",
       "\\end{enumerate*}\n"
      ],
      "text/markdown": [
       "1. 113\n",
       "2. 17\n",
       "\n",
       "\n"
      ],
      "text/plain": [
       "[1] 113  17"
      ]
     },
     "metadata": {},
     "output_type": "display_data"
    }
   ],
   "source": [
    "dim(sales) #113 rows"
   ]
  },
  {
   "cell_type": "code",
   "execution_count": 7,
   "metadata": {},
   "outputs": [],
   "source": [
    "library(tidyr)"
   ]
  },
  {
   "cell_type": "code",
   "execution_count": 185,
   "metadata": {},
   "outputs": [],
   "source": [
    "sales = drop_na(sales)"
   ]
  },
  {
   "cell_type": "code",
   "execution_count": 186,
   "metadata": {},
   "outputs": [
    {
     "data": {
      "text/html": [
       "<ol class=list-inline>\n",
       "\t<li>43</li>\n",
       "\t<li>17</li>\n",
       "</ol>\n"
      ],
      "text/latex": [
       "\\begin{enumerate*}\n",
       "\\item 43\n",
       "\\item 17\n",
       "\\end{enumerate*}\n"
      ],
      "text/markdown": [
       "1. 43\n",
       "2. 17\n",
       "\n",
       "\n"
      ],
      "text/plain": [
       "[1] 43 17"
      ]
     },
     "metadata": {},
     "output_type": "display_data"
    }
   ],
   "source": [
    "dim(sales)"
   ]
  },
  {
   "cell_type": "code",
   "execution_count": 10,
   "metadata": {},
   "outputs": [
    {
     "data": {
      "text/html": [
       "70"
      ],
      "text/latex": [
       "70"
      ],
      "text/markdown": [
       "70"
      ],
      "text/plain": [
       "[1] 70"
      ]
     },
     "metadata": {},
     "output_type": "display_data"
    }
   ],
   "source": [
    "113-43"
   ]
  },
  {
   "cell_type": "code",
   "execution_count": 11,
   "metadata": {},
   "outputs": [],
   "source": [
    "sales = sales[,-which(names(sales) == \"date\")]"
   ]
  },
  {
   "cell_type": "code",
   "execution_count": 12,
   "metadata": {},
   "outputs": [
    {
     "data": {
      "text/html": [
       "<table>\n",
       "<thead><tr><th></th><th scope=col>weekday</th><th scope=col>staff</th><th scope=col>pizza</th><th scope=col>wraps</th><th scope=col>pasta</th><th scope=col>dessert</th><th scope=col>fruitcup</th><th scope=col>chips</th><th scope=col>juice</th><th scope=col>soda</th><th scope=col>coffee</th><th scope=col>total_sales</th><th scope=col>temp</th><th scope=col>humidity</th><th scope=col>wind</th><th scope=col>rainfall</th></tr></thead>\n",
       "<tbody>\n",
       "\t<tr><th scope=row>1</th><td>Tuesday  </td><td>1        </td><td>5        </td><td>25       </td><td>5        </td><td>5        </td><td>1        </td><td>12       </td><td> 8       </td><td>20       </td><td>41       </td><td>199.95   </td><td>36       </td><td>82       </td><td>12       </td><td>0.00     </td></tr>\n",
       "\t<tr><th scope=row>2</th><td>Wednesday</td><td>2        </td><td>6        </td><td> 7       </td><td>3        </td><td>1        </td><td>0        </td><td> 0       </td><td> 0       </td><td>13       </td><td>33       </td><td>195.74   </td><td>34       </td><td>78       </td><td>16       </td><td>0.06     </td></tr>\n",
       "\t<tr><th scope=row>3</th><td>Thursday </td><td>2        </td><td>8        </td><td>14       </td><td>4        </td><td>1        </td><td>0        </td><td> 0       </td><td>13       </td><td>23       </td><td>34       </td><td>102.68   </td><td>39       </td><td>85       </td><td>16       </td><td>0.45     </td></tr>\n",
       "\t<tr><th scope=row>4</th><td>Friday   </td><td>2        </td><td>4        </td><td> 5       </td><td>5        </td><td>3        </td><td>3        </td><td>20       </td><td> 0       </td><td>13       </td><td>27       </td><td>162.88   </td><td>40       </td><td>85       </td><td>12       </td><td>0.00     </td></tr>\n",
       "\t<tr><th scope=row>7</th><td>Monday   </td><td>1        </td><td>3        </td><td>10       </td><td>8        </td><td>3        </td><td>2        </td><td> 0       </td><td> 5       </td><td>13       </td><td>20       </td><td>101.76   </td><td>36       </td><td>64       </td><td>25       </td><td>0.03     </td></tr>\n",
       "\t<tr><th scope=row>8</th><td>Tuesday  </td><td>2        </td><td>7        </td><td> 5       </td><td>1        </td><td>5        </td><td>2        </td><td> 4       </td><td> 4       </td><td>33       </td><td>23       </td><td>186.94   </td><td>26       </td><td>62       </td><td>23       </td><td>0.00     </td></tr>\n",
       "</tbody>\n",
       "</table>\n"
      ],
      "text/latex": [
       "\\begin{tabular}{r|llllllllllllllll}\n",
       "  & weekday & staff & pizza & wraps & pasta & dessert & fruitcup & chips & juice & soda & coffee & total\\_sales & temp & humidity & wind & rainfall\\\\\n",
       "\\hline\n",
       "\t1 & Tuesday   & 1         & 5         & 25        & 5         & 5         & 1         & 12        &  8        & 20        & 41        & 199.95    & 36        & 82        & 12        & 0.00     \\\\\n",
       "\t2 & Wednesday & 2         & 6         &  7        & 3         & 1         & 0         &  0        &  0        & 13        & 33        & 195.74    & 34        & 78        & 16        & 0.06     \\\\\n",
       "\t3 & Thursday  & 2         & 8         & 14        & 4         & 1         & 0         &  0        & 13        & 23        & 34        & 102.68    & 39        & 85        & 16        & 0.45     \\\\\n",
       "\t4 & Friday    & 2         & 4         &  5        & 5         & 3         & 3         & 20        &  0        & 13        & 27        & 162.88    & 40        & 85        & 12        & 0.00     \\\\\n",
       "\t7 & Monday    & 1         & 3         & 10        & 8         & 3         & 2         &  0        &  5        & 13        & 20        & 101.76    & 36        & 64        & 25        & 0.03     \\\\\n",
       "\t8 & Tuesday   & 2         & 7         &  5        & 1         & 5         & 2         &  4        &  4        & 33        & 23        & 186.94    & 26        & 62        & 23        & 0.00     \\\\\n",
       "\\end{tabular}\n"
      ],
      "text/markdown": [
       "\n",
       "| <!--/--> | weekday | staff | pizza | wraps | pasta | dessert | fruitcup | chips | juice | soda | coffee | total_sales | temp | humidity | wind | rainfall | \n",
       "|---|---|---|---|---|---|\n",
       "| 1 | Tuesday   | 1         | 5         | 25        | 5         | 5         | 1         | 12        |  8        | 20        | 41        | 199.95    | 36        | 82        | 12        | 0.00      | \n",
       "| 2 | Wednesday | 2         | 6         |  7        | 3         | 1         | 0         |  0        |  0        | 13        | 33        | 195.74    | 34        | 78        | 16        | 0.06      | \n",
       "| 3 | Thursday  | 2         | 8         | 14        | 4         | 1         | 0         |  0        | 13        | 23        | 34        | 102.68    | 39        | 85        | 16        | 0.45      | \n",
       "| 4 | Friday    | 2         | 4         |  5        | 5         | 3         | 3         | 20        |  0        | 13        | 27        | 162.88    | 40        | 85        | 12        | 0.00      | \n",
       "| 7 | Monday    | 1         | 3         | 10        | 8         | 3         | 2         |  0        |  5        | 13        | 20        | 101.76    | 36        | 64        | 25        | 0.03      | \n",
       "| 8 | Tuesday   | 2         | 7         |  5        | 1         | 5         | 2         |  4        |  4        | 33        | 23        | 186.94    | 26        | 62        | 23        | 0.00      | \n",
       "\n",
       "\n"
      ],
      "text/plain": [
       "  weekday   staff pizza wraps pasta dessert fruitcup chips juice soda coffee\n",
       "1 Tuesday   1     5     25    5     5       1        12     8    20   41    \n",
       "2 Wednesday 2     6      7    3     1       0         0     0    13   33    \n",
       "3 Thursday  2     8     14    4     1       0         0    13    23   34    \n",
       "4 Friday    2     4      5    5     3       3        20     0    13   27    \n",
       "7 Monday    1     3     10    8     3       2         0     5    13   20    \n",
       "8 Tuesday   2     7      5    1     5       2         4     4    33   23    \n",
       "  total_sales temp humidity wind rainfall\n",
       "1 199.95      36   82       12   0.00    \n",
       "2 195.74      34   78       16   0.06    \n",
       "3 102.68      39   85       16   0.45    \n",
       "4 162.88      40   85       12   0.00    \n",
       "7 101.76      36   64       25   0.03    \n",
       "8 186.94      26   62       23   0.00    "
      ]
     },
     "metadata": {},
     "output_type": "display_data"
    }
   ],
   "source": [
    "head(sales)"
   ]
  },
  {
   "cell_type": "code",
   "execution_count": 13,
   "metadata": {},
   "outputs": [],
   "source": [
    "sales$staff = factor(sales$staff, levels=c(1,2,3,4), labels=c(\"Harry\",\"Sara\",\"Tom\",\"Kate\"))"
   ]
  },
  {
   "cell_type": "code",
   "execution_count": 14,
   "metadata": {},
   "outputs": [],
   "source": [
    "sales$food = sales$pizza + sales$pasta + sales$wraps"
   ]
  },
  {
   "cell_type": "code",
   "execution_count": 15,
   "metadata": {},
   "outputs": [
    {
     "data": {
      "text/html": [
       "<table>\n",
       "<thead><tr><th></th><th scope=col>weekday</th><th scope=col>staff</th><th scope=col>pizza</th><th scope=col>wraps</th><th scope=col>pasta</th><th scope=col>dessert</th><th scope=col>fruitcup</th><th scope=col>chips</th><th scope=col>juice</th><th scope=col>soda</th><th scope=col>coffee</th><th scope=col>total_sales</th><th scope=col>temp</th><th scope=col>humidity</th><th scope=col>wind</th><th scope=col>rainfall</th><th scope=col>food</th></tr></thead>\n",
       "<tbody>\n",
       "\t<tr><th scope=row>1</th><td>Tuesday  </td><td>Harry    </td><td>5        </td><td>25       </td><td>5        </td><td>5        </td><td>1        </td><td>12       </td><td> 8       </td><td>20       </td><td>41       </td><td>199.95   </td><td>36       </td><td>82       </td><td>12       </td><td>0.00     </td><td>35       </td></tr>\n",
       "\t<tr><th scope=row>2</th><td>Wednesday</td><td>Sara     </td><td>6        </td><td> 7       </td><td>3        </td><td>1        </td><td>0        </td><td> 0       </td><td> 0       </td><td>13       </td><td>33       </td><td>195.74   </td><td>34       </td><td>78       </td><td>16       </td><td>0.06     </td><td>16       </td></tr>\n",
       "\t<tr><th scope=row>3</th><td>Thursday </td><td>Sara     </td><td>8        </td><td>14       </td><td>4        </td><td>1        </td><td>0        </td><td> 0       </td><td>13       </td><td>23       </td><td>34       </td><td>102.68   </td><td>39       </td><td>85       </td><td>16       </td><td>0.45     </td><td>26       </td></tr>\n",
       "\t<tr><th scope=row>4</th><td>Friday   </td><td>Sara     </td><td>4        </td><td> 5       </td><td>5        </td><td>3        </td><td>3        </td><td>20       </td><td> 0       </td><td>13       </td><td>27       </td><td>162.88   </td><td>40       </td><td>85       </td><td>12       </td><td>0.00     </td><td>14       </td></tr>\n",
       "\t<tr><th scope=row>7</th><td>Monday   </td><td>Harry    </td><td>3        </td><td>10       </td><td>8        </td><td>3        </td><td>2        </td><td> 0       </td><td> 5       </td><td>13       </td><td>20       </td><td>101.76   </td><td>36       </td><td>64       </td><td>25       </td><td>0.03     </td><td>21       </td></tr>\n",
       "\t<tr><th scope=row>8</th><td>Tuesday  </td><td>Sara     </td><td>7        </td><td> 5       </td><td>1        </td><td>5        </td><td>2        </td><td> 4       </td><td> 4       </td><td>33       </td><td>23       </td><td>186.94   </td><td>26       </td><td>62       </td><td>23       </td><td>0.00     </td><td>13       </td></tr>\n",
       "</tbody>\n",
       "</table>\n"
      ],
      "text/latex": [
       "\\begin{tabular}{r|lllllllllllllllll}\n",
       "  & weekday & staff & pizza & wraps & pasta & dessert & fruitcup & chips & juice & soda & coffee & total\\_sales & temp & humidity & wind & rainfall & food\\\\\n",
       "\\hline\n",
       "\t1 & Tuesday   & Harry     & 5         & 25        & 5         & 5         & 1         & 12        &  8        & 20        & 41        & 199.95    & 36        & 82        & 12        & 0.00      & 35       \\\\\n",
       "\t2 & Wednesday & Sara      & 6         &  7        & 3         & 1         & 0         &  0        &  0        & 13        & 33        & 195.74    & 34        & 78        & 16        & 0.06      & 16       \\\\\n",
       "\t3 & Thursday  & Sara      & 8         & 14        & 4         & 1         & 0         &  0        & 13        & 23        & 34        & 102.68    & 39        & 85        & 16        & 0.45      & 26       \\\\\n",
       "\t4 & Friday    & Sara      & 4         &  5        & 5         & 3         & 3         & 20        &  0        & 13        & 27        & 162.88    & 40        & 85        & 12        & 0.00      & 14       \\\\\n",
       "\t7 & Monday    & Harry     & 3         & 10        & 8         & 3         & 2         &  0        &  5        & 13        & 20        & 101.76    & 36        & 64        & 25        & 0.03      & 21       \\\\\n",
       "\t8 & Tuesday   & Sara      & 7         &  5        & 1         & 5         & 2         &  4        &  4        & 33        & 23        & 186.94    & 26        & 62        & 23        & 0.00      & 13       \\\\\n",
       "\\end{tabular}\n"
      ],
      "text/markdown": [
       "\n",
       "| <!--/--> | weekday | staff | pizza | wraps | pasta | dessert | fruitcup | chips | juice | soda | coffee | total_sales | temp | humidity | wind | rainfall | food | \n",
       "|---|---|---|---|---|---|\n",
       "| 1 | Tuesday   | Harry     | 5         | 25        | 5         | 5         | 1         | 12        |  8        | 20        | 41        | 199.95    | 36        | 82        | 12        | 0.00      | 35        | \n",
       "| 2 | Wednesday | Sara      | 6         |  7        | 3         | 1         | 0         |  0        |  0        | 13        | 33        | 195.74    | 34        | 78        | 16        | 0.06      | 16        | \n",
       "| 3 | Thursday  | Sara      | 8         | 14        | 4         | 1         | 0         |  0        | 13        | 23        | 34        | 102.68    | 39        | 85        | 16        | 0.45      | 26        | \n",
       "| 4 | Friday    | Sara      | 4         |  5        | 5         | 3         | 3         | 20        |  0        | 13        | 27        | 162.88    | 40        | 85        | 12        | 0.00      | 14        | \n",
       "| 7 | Monday    | Harry     | 3         | 10        | 8         | 3         | 2         |  0        |  5        | 13        | 20        | 101.76    | 36        | 64        | 25        | 0.03      | 21        | \n",
       "| 8 | Tuesday   | Sara      | 7         |  5        | 1         | 5         | 2         |  4        |  4        | 33        | 23        | 186.94    | 26        | 62        | 23        | 0.00      | 13        | \n",
       "\n",
       "\n"
      ],
      "text/plain": [
       "  weekday   staff pizza wraps pasta dessert fruitcup chips juice soda coffee\n",
       "1 Tuesday   Harry 5     25    5     5       1        12     8    20   41    \n",
       "2 Wednesday Sara  6      7    3     1       0         0     0    13   33    \n",
       "3 Thursday  Sara  8     14    4     1       0         0    13    23   34    \n",
       "4 Friday    Sara  4      5    5     3       3        20     0    13   27    \n",
       "7 Monday    Harry 3     10    8     3       2         0     5    13   20    \n",
       "8 Tuesday   Sara  7      5    1     5       2         4     4    33   23    \n",
       "  total_sales temp humidity wind rainfall food\n",
       "1 199.95      36   82       12   0.00     35  \n",
       "2 195.74      34   78       16   0.06     16  \n",
       "3 102.68      39   85       16   0.45     26  \n",
       "4 162.88      40   85       12   0.00     14  \n",
       "7 101.76      36   64       25   0.03     21  \n",
       "8 186.94      26   62       23   0.00     13  "
      ]
     },
     "metadata": {},
     "output_type": "display_data"
    }
   ],
   "source": [
    "head(sales)"
   ]
  },
  {
   "cell_type": "code",
   "execution_count": 212,
   "metadata": {},
   "outputs": [
    {
     "name": "stdout",
     "output_type": "stream",
     "text": [
      "Start:  AIC=59.23\n",
      "pizza ~ weekday + staff + wraps + pasta + dessert + fruitcup + \n",
      "    chips + juice + soda + coffee + total_sales + temp + humidity + \n",
      "    rainfall + wind\n",
      "\n",
      "              Df Sum of Sq    RSS    AIC\n",
      "- rainfall     1    0.0599 67.304 57.265\n",
      "- fruitcup     1    0.1971 67.441 57.352\n",
      "- temp         1    0.2894 67.534 57.411\n",
      "- wraps        1    1.1531 68.397 57.958\n",
      "- juice        1    2.1493 69.394 58.580\n",
      "- coffee       1    2.2210 69.465 58.624\n",
      "- wind         1    2.4343 69.679 58.756\n",
      "- soda         1    2.6954 69.940 58.917\n",
      "- chips        1    3.0354 70.280 59.125\n",
      "<none>                     67.244 59.227\n",
      "- dessert      1    4.0711 71.315 59.754\n",
      "- pasta        1    4.3792 71.623 59.940\n",
      "- staff        2   10.3666 77.611 61.392\n",
      "- total_sales  1    7.7488 74.993 61.916\n",
      "- weekday      4   20.4280 87.672 62.633\n",
      "- humidity     1   23.5725 90.817 70.149\n",
      "\n",
      "Step:  AIC=57.26\n",
      "pizza ~ weekday + staff + wraps + pasta + dessert + fruitcup + \n",
      "    chips + juice + soda + coffee + total_sales + temp + humidity + \n",
      "    wind\n",
      "\n",
      "              Df Sum of Sq    RSS    AIC\n",
      "- fruitcup     1    0.2142 67.518 55.402\n",
      "- temp         1    0.4550 67.759 55.555\n",
      "- wraps        1    1.1571 68.461 55.998\n",
      "- juice        1    2.2927 69.597 56.705\n",
      "- coffee       1    2.4359 69.740 56.794\n",
      "- soda         1    2.7122 70.016 56.964\n",
      "- chips        1    3.0460 70.350 57.168\n",
      "- wind         1    3.0781 70.382 57.188\n",
      "<none>                     67.304 57.265\n",
      "- dessert      1    4.1435 71.448 57.834\n",
      "- pasta        1    4.7115 72.016 58.174\n",
      "- staff        2   10.3110 77.615 59.394\n",
      "- total_sales  1    8.3370 75.641 60.286\n",
      "- weekday      4   20.4114 87.716 60.655\n",
      "- humidity     1   30.1194 97.423 71.168\n",
      "\n",
      "Step:  AIC=55.4\n",
      "pizza ~ weekday + staff + wraps + pasta + dessert + chips + juice + \n",
      "    soda + coffee + total_sales + temp + humidity + wind\n",
      "\n",
      "              Df Sum of Sq    RSS    AIC\n",
      "- temp         1    0.5747 68.093 53.766\n",
      "- wraps        1    1.8537 69.372 54.566\n",
      "- juice        1    2.3602 69.879 54.879\n",
      "- coffee       1    2.6998 70.218 55.087\n",
      "- chips        1    3.0091 70.527 55.276\n",
      "- soda         1    3.1650 70.683 55.371\n",
      "<none>                     67.518 55.402\n",
      "- wind         1    3.4218 70.940 55.527\n",
      "- dessert      1    4.3315 71.850 56.075\n",
      "- pasta        1    4.6693 72.188 56.277\n",
      "- staff        2   11.4921 79.011 58.160\n",
      "- total_sales  1    8.4222 75.941 58.456\n",
      "- weekday      4   22.3167 89.835 59.681\n",
      "- humidity     1   30.1212 97.640 69.264\n",
      "\n",
      "Step:  AIC=53.77\n",
      "pizza ~ weekday + staff + wraps + pasta + dessert + chips + juice + \n",
      "    soda + coffee + total_sales + humidity + wind\n",
      "\n",
      "              Df Sum of Sq     RSS    AIC\n",
      "- wraps        1     1.443  69.536 52.668\n",
      "- juice        1     2.020  70.113 53.023\n",
      "- coffee       1     2.131  70.224 53.091\n",
      "- soda         1     2.678  70.771 53.425\n",
      "- chips        1     2.782  70.875 53.488\n",
      "- wind         1     2.996  71.089 53.618\n",
      "<none>                      68.093 53.766\n",
      "- pasta        1     4.382  72.475 54.448\n",
      "- dessert      1     5.381  73.474 55.037\n",
      "- total_sales  1     8.438  76.531 56.789\n",
      "- staff        2    12.166  80.259 56.834\n",
      "- weekday      4    23.667  91.760 58.593\n",
      "- humidity     1    36.560 104.653 70.246\n",
      "\n",
      "Step:  AIC=52.67\n",
      "pizza ~ weekday + staff + pasta + dessert + chips + juice + soda + \n",
      "    coffee + total_sales + humidity + wind\n",
      "\n",
      "              Df Sum of Sq     RSS    AIC\n",
      "- juice        1     1.453  70.990 51.557\n",
      "- coffee       1     2.219  71.756 52.019\n",
      "- chips        1     2.588  72.125 52.239\n",
      "<none>                      69.536 52.668\n",
      "- pasta        1     3.696  73.233 52.895\n",
      "- soda         1     3.828  73.365 52.972\n",
      "- wind         1     4.032  73.568 53.092\n",
      "- dessert      1     7.314  76.851 54.969\n",
      "- staff        2    11.760  81.297 55.387\n",
      "- total_sales  1     8.658  78.194 55.714\n",
      "- weekday      4    31.381 100.917 60.683\n",
      "- humidity     1    46.282 115.818 72.605\n",
      "\n",
      "Step:  AIC=51.56\n",
      "pizza ~ weekday + staff + pasta + dessert + chips + soda + coffee + \n",
      "    total_sales + humidity + wind\n",
      "\n",
      "              Df Sum of Sq     RSS    AIC\n",
      "- pasta        1     2.272  73.261 50.912\n",
      "- coffee       1     2.339  73.328 50.951\n",
      "- chips        1     2.812  73.802 51.228\n",
      "<none>                      70.990 51.557\n",
      "- soda         1     3.445  74.434 51.595\n",
      "- wind         1     3.942  74.932 51.881\n",
      "- total_sales  1     7.503  78.493 53.878\n",
      "- dessert      1     8.184  79.174 54.249\n",
      "- staff        2    14.907  85.897 55.754\n",
      "- weekday      4    30.220 101.210 58.808\n",
      "- humidity     1    46.882 117.872 71.361\n",
      "\n",
      "Step:  AIC=50.91\n",
      "pizza ~ weekday + staff + dessert + chips + soda + coffee + total_sales + \n",
      "    humidity + wind\n",
      "\n",
      "              Df Sum of Sq     RSS    AIC\n",
      "- coffee       1     2.746  76.008 50.494\n",
      "- soda         1     3.478  76.740 50.907\n",
      "<none>                      73.261 50.912\n",
      "- wind         1     3.768  77.030 51.069\n",
      "- chips        1     3.843  77.104 51.110\n",
      "- total_sales  1     6.210  79.472 52.411\n",
      "- staff        2    12.769  86.031 53.821\n",
      "- weekday      4    28.244 101.505 56.933\n",
      "- dessert      1    19.108  92.369 58.878\n",
      "- humidity     1    51.268 124.530 71.724\n",
      "\n",
      "Step:  AIC=50.49\n",
      "pizza ~ weekday + staff + dessert + chips + soda + total_sales + \n",
      "    humidity + wind\n",
      "\n",
      "              Df Sum of Sq     RSS    AIC\n",
      "- wind         1     2.355  78.363 49.807\n",
      "<none>                      76.008 50.494\n",
      "- chips        1     3.905  79.913 50.649\n",
      "- total_sales  1     7.477  83.485 52.529\n",
      "- staff        2    13.565  89.573 53.556\n",
      "- soda         1    10.076  86.084 53.847\n",
      "- weekday      4    25.504 101.512 54.936\n",
      "- dessert      1    17.332  93.340 57.327\n",
      "- humidity     1    50.252 126.260 70.317\n",
      "\n",
      "Step:  AIC=49.81\n",
      "pizza ~ weekday + staff + dessert + chips + soda + total_sales + \n",
      "    humidity\n",
      "\n",
      "              Df Sum of Sq     RSS    AIC\n",
      "- chips        1     3.349  81.712 49.606\n",
      "<none>                      78.363 49.807\n",
      "- total_sales  1     6.386  84.749 51.175\n",
      "- soda         1     8.451  86.814 52.210\n",
      "- weekday      4    26.400 104.763 54.291\n",
      "- staff        2    18.137  96.500 54.759\n",
      "- dessert      1    18.129  96.492 56.755\n",
      "- humidity     1    48.081 126.444 68.380\n",
      "\n",
      "Step:  AIC=49.61\n",
      "pizza ~ weekday + staff + dessert + soda + total_sales + humidity\n",
      "\n",
      "              Df Sum of Sq     RSS    AIC\n",
      "<none>                      81.712 49.606\n",
      "- soda         1     7.937  89.650 51.592\n",
      "- total_sales  1    11.014  92.726 53.044\n",
      "- staff        2    17.725  99.438 54.048\n",
      "- dessert      1    15.867  97.579 55.237\n",
      "- weekday      4    38.393 120.105 58.168\n",
      "- humidity     1    45.835 127.547 66.753\n"
     ]
    }
   ],
   "source": [
    "sales_2= load(\"section_b.Rda\")\n",
    "dta = get(sales_2)\n",
    "model_lm = lm(pizza ~ ., data = dta)\n",
    "lm_step = step(model_lm)"
   ]
  },
  {
   "cell_type": "code",
   "execution_count": 211,
   "metadata": {},
   "outputs": [
    {
     "name": "stderr",
     "output_type": "stream",
     "text": [
      "Warning message:\n",
      "“Unknown or uninitialised column: 'temperature'.”Warning message:\n",
      "“Unknown or uninitialised column: 'windspeed'.”"
     ]
    },
    {
     "ename": "ERROR",
     "evalue": "Error in model.frame.default(formula = y ~ x, drop.unused.levels = TRUE): invalid type (NULL) for variable 'y'\n",
     "output_type": "error",
     "traceback": [
      "Error in model.frame.default(formula = y ~ x, drop.unused.levels = TRUE): invalid type (NULL) for variable 'y'\nTraceback:\n",
      "1. fit(a, b, \"poly1\")",
      "2. lm(y ~ x)   # at line 6 of file <text>",
      "3. eval(mf, parent.frame())",
      "4. eval(mf, parent.frame())",
      "5. stats::model.frame(formula = y ~ x, drop.unused.levels = TRUE)",
      "6. model.frame.default(formula = y ~ x, drop.unused.levels = TRUE)"
     ]
    }
   ],
   "source": [
    "\n",
    "fit<-function(x,y,opt,Val=NULL,xlabel=NULL,ylabel=NULL,tit=NULL){\n",
    "  library(texreg)\n",
    "  \n",
    "  if(opt==\"poly1\") {\n",
    "    mdl<-lm(y~x)\n",
    "    xframe<-data.frame(categ=x)\n",
    "    yval<-predict(mdl,newdata=xframe)\n",
    "  }\n",
    "  else if (opt==\"poly2\"){\n",
    "    mdl<-lm(y~poly(x,2))\n",
    "    xframe<-data.frame(categ=x)\n",
    "    yval<-predict(mdl,newdata=xframe)\n",
    "  }\n",
    "  else if (opt==\"poly3\"){\n",
    "    mdl<-lm(y~poly(x,2))\n",
    "    xframe<-data.frame(categ=x)\n",
    "    yval<-predict(mdl,newdata=xframe)\n",
    "  }\n",
    "  else if (opt==\"log\"){\n",
    "    mdl<-lm(y~log(x))\n",
    "    xframe<-data.frame(categ=x)\n",
    "    yval<-predict(mdl,newdata=xframe)\n",
    "  }\n",
    "  \n",
    "  plot(x,y,xlab =\"\",ylab = \"\")\n",
    "  lines(x,yval)\n",
    "  grid(10, 10, lwd = 1,col='black')\n",
    "  \n",
    "  if(!is.null(xlabel)){\n",
    "    title(xlab=xlabel)\n",
    "  }\n",
    "  if(!is.null(ylabel)){\n",
    "    title( ylab=ylabel)\n",
    "  }\n",
    "  if(!is.null(tit)){\n",
    "    title(main=tit)\n",
    "  }\n",
    "  print(screenreg(mdl))\n",
    "  print(mdl)\n",
    "  \n",
    "  if(is.null(Val)) {\n",
    "    attributes(yval)<-NULL\n",
    "    return(yval[Val])\n",
    "  }\n",
    "  \n",
    "  else if (!is.null(Val)) {\n",
    "    #print(attr(yval,\"names\"))\n",
    "    attributes(yval)<-NULL\n",
    "    #print(yval[Val])\n",
    "    return(yval[Val])\n",
    "  }\n",
    "  \n",
    "}\n",
    "\n",
    "a<-dta$coffee\n",
    "b<-dta$temperature\n",
    "c<-dta$humidity\n",
    "d<-dta$windspeed\n",
    "\n",
    "\n",
    "pred1<-fit(a,b,\"poly1\")\n",
    "pred2<-fit(a,c,\"poly1\")\n",
    "pred3<-fit(a,d,\"poly1\")\n",
    "\n",
    "md1<-lm(a~b,data=dta)\n",
    "md2<-lm(a~c,data=dta)\n",
    "md3<-lm(a~d,data=dta)\n",
    "\n",
    "screenreg(list(md1,md2,md3))\n"
   ]
  },
  {
   "cell_type": "code",
   "execution_count": 195,
   "metadata": {},
   "outputs": [
    {
     "name": "stderr",
     "output_type": "stream",
     "text": [
      "Warning message:\n",
      "“not plotting observations with leverage one:\n",
      "  1, 2, 3, 4, 5, 6, 7, 8, 9, 10, 11, 12, 13, 14, 15, 16, 17, 18, 19, 20, 21, 22, 23, 24, 25, 26, 27, 28, 29, 30, 31, 32, 33, 34, 35, 36, 37, 38, 39, 40, 41, 42, 43”Warning message in min(x):\n",
      "“no non-missing arguments to min; returning Inf”Warning message in max(x):\n",
      "“no non-missing arguments to max; returning -Inf”"
     ]
    },
    {
     "ename": "ERROR",
     "evalue": "Error in qqnorm.default(rs, main = main, ylab = ylab23, ylim = ylim, ...): y is empty or has only NAs\n",
     "output_type": "error",
     "traceback": [
      "Error in qqnorm.default(rs, main = main, ylab = ylab23, ylim = ylim, ...): y is empty or has only NAs\nTraceback:\n",
      "1. plot(classifier_log)",
      "2. plot(classifier_log)",
      "3. plot.lm(classifier_log)",
      "4. qqnorm(rs, main = main, ylab = ylab23, ylim = ylim, ...)",
      "5. qqnorm.default(rs, main = main, ylab = ylab23, ylim = ylim, ...)",
      "6. stop(\"y is empty or has only NAs\")"
     ]
    },
    {
     "data": {
      "image/png": "[encoded data removed]",
      "text/plain": [
       "Plot with title “”"
      ]
     },
     "metadata": {},
     "output_type": "display_data"
    }
   ],
   "source": [
    "dta = sales\n",
    "classifier_logreg = lm(pizza ~ ., data = sales)\n",
    "#classifier_log = step(classifier_logreg)\n",
    "plot(classifier_log)"
   ]
  },
  {
   "cell_type": "code",
   "execution_count": 70,
   "metadata": {},
   "outputs": [
    {
     "data": {
      "text/plain": [
       "Call:\n",
       "   aov(formula = model_reg)\n",
       "\n",
       "Terms:\n",
       "                  weekday     staff   dessert      soda total_sales  humidity\n",
       "Sum of Squares  101.13224  13.23347   4.54359   1.41790     1.28836  45.83487\n",
       "Deg. of Freedom         4         2         1         1           1         1\n",
       "                Residuals\n",
       "Sum of Squares   81.71237\n",
       "Deg. of Freedom        32\n",
       "\n",
       "Residual standard error: 1.597971\n",
       "Estimated effects may be unbalanced"
      ]
     },
     "metadata": {},
     "output_type": "display_data"
    }
   ],
   "source": [
    "aov(model_reg)"
   ]
  },
  {
   "cell_type": "code",
   "execution_count": 62,
   "metadata": {},
   "outputs": [
    {
     "data": {
      "text/html": [
       "1277"
      ],
      "text/latex": [
       "1277"
      ],
      "text/markdown": [
       "1277"
      ],
      "text/plain": [
       "[1] 1277"
      ]
     },
     "metadata": {},
     "output_type": "display_data"
    },
    {
     "data": {
      "text/html": [
       "25"
      ],
      "text/latex": [
       "25"
      ],
      "text/markdown": [
       "25"
      ],
      "text/plain": [
       "[1] 25"
      ]
     },
     "metadata": {},
     "output_type": "display_data"
    },
    {
     "data": {
      "text/html": [
       "<table>\n",
       "<thead><tr><th scope=col>staff</th><th scope=col>mean_h</th></tr></thead>\n",
       "<tbody>\n",
       "\t<tr><td>Harry   </td><td>135.8846</td></tr>\n",
       "\t<tr><td>Sara    </td><td>163.3293</td></tr>\n",
       "\t<tr><td>Tom     </td><td>110.2100</td></tr>\n",
       "</tbody>\n",
       "</table>\n"
      ],
      "text/latex": [
       "\\begin{tabular}{r|ll}\n",
       " staff & mean\\_h\\\\\n",
       "\\hline\n",
       "\t Harry    & 135.8846\\\\\n",
       "\t Sara     & 163.3293\\\\\n",
       "\t Tom      & 110.2100\\\\\n",
       "\\end{tabular}\n"
      ],
      "text/markdown": [
       "\n",
       "staff | mean_h | \n",
       "|---|---|---|\n",
       "| Harry    | 135.8846 | \n",
       "| Sara     | 163.3293 | \n",
       "| Tom      | 110.2100 | \n",
       "\n",
       "\n"
      ],
      "text/plain": [
       "  staff mean_h  \n",
       "1 Harry 135.8846\n",
       "2 Sara  163.3293\n",
       "3 Tom   110.2100"
      ]
     },
     "metadata": {},
     "output_type": "display_data"
    }
   ],
   "source": [
    "#b1\n",
    "sum(sales$soda)\n",
    "\n",
    "#b2\n",
    "max(sales$wraps)\n",
    "\n",
    "staff <- group_by(sales, staff)\n",
    "summarise(staff, mean_h = mean(total_sales))"
   ]
  },
  {
   "cell_type": "code",
   "execution_count": 103,
   "metadata": {},
   "outputs": [
    {
     "data": {
      "text/html": [
       "163.329259259259"
      ],
      "text/latex": [
       "163.329259259259"
      ],
      "text/markdown": [
       "163.329259259259"
      ],
      "text/plain": [
       "[1] 163.3293"
      ]
     },
     "metadata": {},
     "output_type": "display_data"
    },
    {
     "data": {
      "text/html": [
       "135.884615384615"
      ],
      "text/latex": [
       "135.884615384615"
      ],
      "text/markdown": [
       "135.884615384615"
      ],
      "text/plain": [
       "[1] 135.8846"
      ]
     },
     "metadata": {},
     "output_type": "display_data"
    },
    {
     "data": {
      "text/html": [
       "<table>\n",
       "<thead><tr><th scope=col>staff</th><th scope=col>total_sales</th></tr></thead>\n",
       "<tbody>\n",
       "\t<tr><td>Harry  </td><td>1766.50</td></tr>\n",
       "\t<tr><td>Sara   </td><td>4409.89</td></tr>\n",
       "\t<tr><td>Tom    </td><td> 330.63</td></tr>\n",
       "</tbody>\n",
       "</table>\n"
      ],
      "text/latex": [
       "\\begin{tabular}{r|ll}\n",
       " staff & total\\_sales\\\\\n",
       "\\hline\n",
       "\t Harry   & 1766.50\\\\\n",
       "\t Sara    & 4409.89\\\\\n",
       "\t Tom     &  330.63\\\\\n",
       "\\end{tabular}\n"
      ],
      "text/markdown": [
       "\n",
       "staff | total_sales | \n",
       "|---|---|---|\n",
       "| Harry   | 1766.50 | \n",
       "| Sara    | 4409.89 | \n",
       "| Tom     |  330.63 | \n",
       "\n",
       "\n"
      ],
      "text/plain": [
       "  staff total_sales\n",
       "1 Harry 1766.50    \n",
       "2 Sara  4409.89    \n",
       "3 Tom    330.63    "
      ]
     },
     "metadata": {},
     "output_type": "display_data"
    },
    {
     "data": {
      "text/html": [
       "135.884615384615"
      ],
      "text/latex": [
       "135.884615384615"
      ],
      "text/markdown": [
       "135.884615384615"
      ],
      "text/plain": [
       "[1] 135.8846"
      ]
     },
     "metadata": {},
     "output_type": "display_data"
    }
   ],
   "source": [
    "sara_sales = filter(sales_df,staff==\"Sara\")$total_sales\n",
    "mean(sara_sales)\n",
    "\n",
    "#b4\n",
    "harry_sales = filter(sales_df,staff==\"Harry\")$total_sales\n",
    "mean(harry_sales)\n",
    "\n",
    "data_by_staff = aggregate(total_sales ~ staff, sales, sum)\n",
    "data_by_staff\n",
    "harry_avg = 1766.5 / 13\n",
    "harry_avg\n"
   ]
  },
  {
   "cell_type": "code",
   "execution_count": 104,
   "metadata": {},
   "outputs": [
    {
     "data": {
      "text/plain": [
       "\n",
       "\tWelch Two Sample t-test\n",
       "\n",
       "data:  total_sales by staff\n",
       "t = -1.9694, df = 24.574, p-value = 0.06028\n",
       "alternative hypothesis: true difference in means is not equal to 0\n",
       "95 percent confidence interval:\n",
       " -56.170716   1.281428\n",
       "sample estimates:\n",
       "mean in group Harry  mean in group Sara \n",
       "           135.8846            163.3293 \n"
      ]
     },
     "metadata": {},
     "output_type": "display_data"
    }
   ],
   "source": [
    "harry_sara = sales[sales$staff == 'Harry' | sales$staff == 'Sara', ]\n",
    "t.test(total_sales ~ staff, data = harry_sara)"
   ]
  },
  {
   "cell_type": "code",
   "execution_count": 121,
   "metadata": {},
   "outputs": [
    {
     "data": {
      "text/html": [
       "<table>\n",
       "<thead><tr><th scope=col>staff.weekday</th><th scope=col>staff.staff</th><th scope=col>staff.pizza</th><th scope=col>staff.wraps</th><th scope=col>staff.pasta</th><th scope=col>staff.dessert</th><th scope=col>staff.fruitcup</th><th scope=col>staff.chips</th><th scope=col>staff.juice</th><th scope=col>staff.soda</th><th scope=col>staff.coffee</th><th scope=col>staff.total_sales</th><th scope=col>staff.temp</th><th scope=col>staff.humidity</th><th scope=col>staff.rainfall</th><th scope=col>staff.wind</th><th scope=col>staff.food</th><th scope=col>staff.totalSales</th></tr></thead>\n",
       "<tbody>\n",
       "\t<tr><td>Tuesday  </td><td>Harry    </td><td>5        </td><td>25       </td><td> 5       </td><td> 5       </td><td>1        </td><td>12       </td><td> 8       </td><td>20       </td><td>41       </td><td>199.95   </td><td>36       </td><td>82       </td><td>0.00     </td><td>12       </td><td>1041     </td><td>35       </td></tr>\n",
       "\t<tr><td>Wednesday</td><td>Sara     </td><td>6        </td><td> 7       </td><td> 3       </td><td> 1       </td><td>0        </td><td> 0       </td><td> 0       </td><td>13       </td><td>33       </td><td>195.74   </td><td>34       </td><td>78       </td><td>0.06     </td><td>16       </td><td>1041     </td><td>16       </td></tr>\n",
       "\t<tr><td>Thursday </td><td>Sara     </td><td>8        </td><td>14       </td><td> 4       </td><td> 1       </td><td>0        </td><td> 0       </td><td>13       </td><td>23       </td><td>34       </td><td>102.68   </td><td>39       </td><td>85       </td><td>0.45     </td><td>16       </td><td>1041     </td><td>26       </td></tr>\n",
       "\t<tr><td>Friday   </td><td>Sara     </td><td>4        </td><td> 5       </td><td> 5       </td><td> 3       </td><td>3        </td><td>20       </td><td> 0       </td><td>13       </td><td>27       </td><td>162.88   </td><td>40       </td><td>85       </td><td>0.00     </td><td>12       </td><td>1041     </td><td>14       </td></tr>\n",
       "\t<tr><td>Monday   </td><td>Harry    </td><td>3        </td><td>10       </td><td> 8       </td><td> 3       </td><td>2        </td><td> 0       </td><td> 5       </td><td>13       </td><td>20       </td><td>101.76   </td><td>36       </td><td>64       </td><td>0.03     </td><td>25       </td><td>1041     </td><td>21       </td></tr>\n",
       "\t<tr><td>Tuesday  </td><td>Sara     </td><td>7        </td><td> 5       </td><td> 1       </td><td> 5       </td><td>2        </td><td> 4       </td><td> 4       </td><td>33       </td><td>23       </td><td>186.94   </td><td>26       </td><td>62       </td><td>0.00     </td><td>23       </td><td>1041     </td><td>13       </td></tr>\n",
       "\t<tr><td>Wednesday</td><td>Sara     </td><td>6        </td><td>19       </td><td> 6       </td><td>10       </td><td>2        </td><td> 2       </td><td> 5       </td><td>15       </td><td>32       </td><td>120.18   </td><td>34       </td><td>59       </td><td>0.00     </td><td>13       </td><td>1041     </td><td>31       </td></tr>\n",
       "\t<tr><td>Thursday </td><td>Sara     </td><td>0        </td><td> 7       </td><td> 6       </td><td> 5       </td><td>0        </td><td>20       </td><td> 6       </td><td>27       </td><td>24       </td><td>228.78   </td><td>33       </td><td>49       </td><td>0.00     </td><td>24       </td><td>1041     </td><td>13       </td></tr>\n",
       "\t<tr><td>Friday   </td><td>Sara     </td><td>3        </td><td> 4       </td><td> 0       </td><td> 3       </td><td>1        </td><td> 3       </td><td> 4       </td><td>12       </td><td>30       </td><td> 88.02   </td><td>20       </td><td>56       </td><td>0.00     </td><td>17       </td><td>1041     </td><td> 7       </td></tr>\n",
       "\t<tr><td>Monday   </td><td>Harry    </td><td>2        </td><td>13       </td><td> 3       </td><td> 6       </td><td>2        </td><td>16       </td><td> 7       </td><td>19       </td><td>27       </td><td>119.57   </td><td>37       </td><td>47       </td><td>0.00     </td><td> 9       </td><td>1041     </td><td>18       </td></tr>\n",
       "\t<tr><td>Tuesday  </td><td>Sara     </td><td>3        </td><td>10       </td><td> 5       </td><td> 5       </td><td>1        </td><td> 2       </td><td> 0       </td><td>33       </td><td>30       </td><td>172.31   </td><td>38       </td><td>56       </td><td>0.00     </td><td>14       </td><td>1041     </td><td>18       </td></tr>\n",
       "\t<tr><td>Wednesday</td><td>Sara     </td><td>4        </td><td>15       </td><td> 4       </td><td> 4       </td><td>2        </td><td> 9       </td><td> 6       </td><td>20       </td><td>27       </td><td>137.65   </td><td>33       </td><td>69       </td><td>0.00     </td><td>14       </td><td>1041     </td><td>23       </td></tr>\n",
       "\t<tr><td>Thursday </td><td>Sara     </td><td>9        </td><td>13       </td><td>14       </td><td>13       </td><td>3        </td><td>13       </td><td> 6       </td><td>29       </td><td>26       </td><td>197.56   </td><td>39       </td><td>64       </td><td>0.00     </td><td>14       </td><td>1041     </td><td>36       </td></tr>\n",
       "\t<tr><td>Friday   </td><td>Sara     </td><td>1        </td><td> 6       </td><td> 2       </td><td> 1       </td><td>0        </td><td>10       </td><td> 1       </td><td>14       </td><td>24       </td><td> 70.00   </td><td>35       </td><td>70       </td><td>0.12     </td><td>24       </td><td>1041     </td><td> 9       </td></tr>\n",
       "\t<tr><td>Monday   </td><td>Harry    </td><td>3        </td><td>14       </td><td> 2       </td><td> 8       </td><td>1        </td><td> 9       </td><td> 2       </td><td>17       </td><td>18       </td><td> 97.00   </td><td>31       </td><td>63       </td><td>0.00     </td><td>14       </td><td>1041     </td><td>19       </td></tr>\n",
       "\t<tr><td>Tuesday  </td><td>Sara     </td><td>8        </td><td>16       </td><td>11       </td><td> 9       </td><td>2        </td><td>11       </td><td> 8       </td><td>31       </td><td>22       </td><td>181.43   </td><td>29       </td><td>70       </td><td>0.00     </td><td>23       </td><td>1041     </td><td>35       </td></tr>\n",
       "\t<tr><td>Wednesday</td><td>Sara     </td><td>7        </td><td>12       </td><td> 5       </td><td> 7       </td><td>1        </td><td>14       </td><td> 3       </td><td>24       </td><td>21       </td><td>125.57   </td><td>26       </td><td>74       </td><td>0.00     </td><td>29       </td><td>1041     </td><td>24       </td></tr>\n",
       "\t<tr><td>Monday   </td><td>Harry    </td><td>3        </td><td>12       </td><td> 6       </td><td> 8       </td><td>2        </td><td> 7       </td><td> 7       </td><td>26       </td><td>31       </td><td>150.51   </td><td>26       </td><td>71       </td><td>0.04     </td><td>17       </td><td>1041     </td><td>21       </td></tr>\n",
       "\t<tr><td>Tuesday  </td><td>Sara     </td><td>8        </td><td>22       </td><td> 1       </td><td> 3       </td><td>3        </td><td>13       </td><td> 5       </td><td>39       </td><td>29       </td><td>177.41   </td><td>29       </td><td>69       </td><td>0.00     </td><td>18       </td><td>1041     </td><td>31       </td></tr>\n",
       "\t<tr><td>Wednesday</td><td>Sara     </td><td>6        </td><td> 8       </td><td> 9       </td><td>10       </td><td>1        </td><td>11       </td><td> 2       </td><td>24       </td><td>48       </td><td>153.84   </td><td>29       </td><td>63       </td><td>0.00     </td><td>14       </td><td>1041     </td><td>23       </td></tr>\n",
       "\t<tr><td>Thursday </td><td>Sara     </td><td>4        </td><td>19       </td><td>10       </td><td> 9       </td><td>3        </td><td> 8       </td><td>12       </td><td>35       </td><td>25       </td><td>205.36   </td><td>34       </td><td>56       </td><td>0.00     </td><td>12       </td><td>1041     </td><td>33       </td></tr>\n",
       "\t<tr><td>Monday   </td><td>Harry    </td><td>6        </td><td>16       </td><td> 9       </td><td> 7       </td><td>1        </td><td>11       </td><td> 2       </td><td>25       </td><td>25       </td><td>138.04   </td><td>36       </td><td>82       </td><td>0.00     </td><td>16       </td><td>1041     </td><td>31       </td></tr>\n",
       "\t<tr><td>Tuesday  </td><td>Sara     </td><td>7        </td><td>23       </td><td>12       </td><td>12       </td><td>4        </td><td>21       </td><td> 5       </td><td>36       </td><td>35       </td><td>236.01   </td><td>33       </td><td>78       </td><td>0.00     </td><td>14       </td><td>1041     </td><td>42       </td></tr>\n",
       "\t<tr><td>Wednesday</td><td>Sara     </td><td>6        </td><td>15       </td><td> 1       </td><td> 6       </td><td>1        </td><td>11       </td><td> 5       </td><td>33       </td><td>33       </td><td>149.58   </td><td>28       </td><td>68       </td><td>0.00     </td><td>17       </td><td>1041     </td><td>22       </td></tr>\n",
       "\t<tr><td>Thursday </td><td>Sara     </td><td>5        </td><td>22       </td><td> 8       </td><td> 4       </td><td>4        </td><td>10       </td><td> 4       </td><td>37       </td><td>35       </td><td>206.17   </td><td>33       </td><td>58       </td><td>0.00     </td><td>18       </td><td>1041     </td><td>35       </td></tr>\n",
       "\t<tr><td>Friday   </td><td>Harry    </td><td>2        </td><td> 5       </td><td>28       </td><td> 8       </td><td>0        </td><td>11       </td><td>21       </td><td>22       </td><td>16       </td><td> 93.10   </td><td>35       </td><td>47       </td><td>0.00     </td><td>23       </td><td>1041     </td><td>35       </td></tr>\n",
       "\t<tr><td>Monday   </td><td>Sara     </td><td>3        </td><td> 9       </td><td> 5       </td><td> 6       </td><td>2        </td><td>10       </td><td> 7       </td><td>36       </td><td>24       </td><td>151.91   </td><td>40       </td><td>70       </td><td>0.00     </td><td>14       </td><td>1041     </td><td>17       </td></tr>\n",
       "\t<tr><td>Tuesday  </td><td>Harry    </td><td>8        </td><td>21       </td><td>10       </td><td> 9       </td><td>2        </td><td>12       </td><td> 7       </td><td>54       </td><td>20       </td><td>217.29   </td><td>39       </td><td>64       </td><td>0.00     </td><td>16       </td><td>1041     </td><td>39       </td></tr>\n",
       "\t<tr><td>Wednesday</td><td>Harry    </td><td>4        </td><td>13       </td><td> 8       </td><td> 8       </td><td>3        </td><td> 9       </td><td> 4       </td><td>34       </td><td>11       </td><td>148.24   </td><td>39       </td><td>59       </td><td>0.00     </td><td>14       </td><td>1041     </td><td>25       </td></tr>\n",
       "\t<tr><td>Thursday </td><td>Harry    </td><td>4        </td><td>14       </td><td> 6       </td><td> 8       </td><td>2        </td><td> 8       </td><td> 5       </td><td>43       </td><td>21       </td><td>168.08   </td><td>45       </td><td>40       </td><td>0.00     </td><td>14       </td><td>1041     </td><td>24       </td></tr>\n",
       "\t<tr><td>Monday   </td><td>Sara     </td><td>6        </td><td>17       </td><td> 3       </td><td> 4       </td><td>2        </td><td> 9       </td><td> 3       </td><td>24       </td><td> 8       </td><td>130.77   </td><td>48       </td><td>71       </td><td>0.00     </td><td>14       </td><td>1041     </td><td>26       </td></tr>\n",
       "\t<tr><td>Tuesday  </td><td>Sara     </td><td>7        </td><td>19       </td><td> 5       </td><td>13       </td><td>1        </td><td>11       </td><td> 4       </td><td>48       </td><td> 8       </td><td>164.54   </td><td>61       </td><td>31       </td><td>0.00     </td><td>16       </td><td>1041     </td><td>31       </td></tr>\n",
       "\t<tr><td>Wednesday</td><td>Harry    </td><td>3        </td><td>13       </td><td> 3       </td><td> 6       </td><td>0        </td><td> 7       </td><td> 4       </td><td>35       </td><td> 4       </td><td>121.41   </td><td>64       </td><td>27       </td><td>0.00     </td><td>14       </td><td>1041     </td><td>19       </td></tr>\n",
       "\t<tr><td>Monday   </td><td>Harry    </td><td>4        </td><td>13       </td><td> 3       </td><td> 2       </td><td>2        </td><td> 8       </td><td> 7       </td><td>30       </td><td> 5       </td><td>128.59   </td><td>47       </td><td>71       </td><td>0.07     </td><td>21       </td><td>1041     </td><td>20       </td></tr>\n",
       "\t<tr><td>Tuesday  </td><td>Sara     </td><td>8        </td><td>14       </td><td> 7       </td><td> 4       </td><td>2        </td><td> 7       </td><td> 6       </td><td>50       </td><td> 6       </td><td>159.23   </td><td>62       </td><td>36       </td><td>0.00     </td><td>12       </td><td>1041     </td><td>29       </td></tr>\n",
       "\t<tr><td>Wednesday</td><td>Sara     </td><td>4        </td><td> 9       </td><td> 8       </td><td> 5       </td><td>2        </td><td> 7       </td><td> 5       </td><td>45       </td><td> 4       </td><td>148.08   </td><td>66       </td><td>44       </td><td>0.00     </td><td>14       </td><td>1041     </td><td>21       </td></tr>\n",
       "\t<tr><td>Thursday </td><td>Sara     </td><td>6        </td><td>18       </td><td> 3       </td><td> 3       </td><td>2        </td><td> 9       </td><td> 4       </td><td>50       </td><td>13       </td><td>164.86   </td><td>56       </td><td>66       </td><td>0.88     </td><td>30       </td><td>1041     </td><td>27       </td></tr>\n",
       "\t<tr><td>Monday   </td><td>Harry    </td><td>2        </td><td> 9       </td><td> 3       </td><td> 1       </td><td>0        </td><td> 4       </td><td> 0       </td><td>26       </td><td>16       </td><td> 82.96   </td><td>56       </td><td>51       </td><td>0.00     </td><td>16       </td><td>1041     </td><td>14       </td></tr>\n",
       "\t<tr><td>Tuesday  </td><td>Sara     </td><td>6        </td><td>25       </td><td>11       </td><td> 9       </td><td>4        </td><td> 9       </td><td>10       </td><td>55       </td><td>14       </td><td>240.87   </td><td>62       </td><td>42       </td><td>0.00     </td><td>14       </td><td>1041     </td><td>42       </td></tr>\n",
       "\t<tr><td>Wednesday</td><td>Sara     </td><td>4        </td><td>15       </td><td> 1       </td><td> 9       </td><td>3        </td><td> 6       </td><td> 4       </td><td>42       </td><td>10       </td><td>151.52   </td><td>76       </td><td>35       </td><td>0.00     </td><td>26       </td><td>1041     </td><td>20       </td></tr>\n",
       "</tbody>\n",
       "</table>\n"
      ],
      "text/latex": [
       "\\begin{tabular}{r|llllllllllllllllll}\n",
       " staff.weekday & staff.staff & staff.pizza & staff.wraps & staff.pasta & staff.dessert & staff.fruitcup & staff.chips & staff.juice & staff.soda & staff.coffee & staff.total\\_sales & staff.temp & staff.humidity & staff.rainfall & staff.wind & staff.food & staff.totalSales\\\\\n",
       "\\hline\n",
       "\t Tuesday   & Harry     & 5         & 25        &  5        &  5        & 1         & 12        &  8        & 20        & 41        & 199.95    & 36        & 82        & 0.00      & 12        & 1041      & 35       \\\\\n",
       "\t Wednesday & Sara      & 6         &  7        &  3        &  1        & 0         &  0        &  0        & 13        & 33        & 195.74    & 34        & 78        & 0.06      & 16        & 1041      & 16       \\\\\n",
       "\t Thursday  & Sara      & 8         & 14        &  4        &  1        & 0         &  0        & 13        & 23        & 34        & 102.68    & 39        & 85        & 0.45      & 16        & 1041      & 26       \\\\\n",
       "\t Friday    & Sara      & 4         &  5        &  5        &  3        & 3         & 20        &  0        & 13        & 27        & 162.88    & 40        & 85        & 0.00      & 12        & 1041      & 14       \\\\\n",
       "\t Monday    & Harry     & 3         & 10        &  8        &  3        & 2         &  0        &  5        & 13        & 20        & 101.76    & 36        & 64        & 0.03      & 25        & 1041      & 21       \\\\\n",
       "\t Tuesday   & Sara      & 7         &  5        &  1        &  5        & 2         &  4        &  4        & 33        & 23        & 186.94    & 26        & 62        & 0.00      & 23        & 1041      & 13       \\\\\n",
       "\t Wednesday & Sara      & 6         & 19        &  6        & 10        & 2         &  2        &  5        & 15        & 32        & 120.18    & 34        & 59        & 0.00      & 13        & 1041      & 31       \\\\\n",
       "\t Thursday  & Sara      & 0         &  7        &  6        &  5        & 0         & 20        &  6        & 27        & 24        & 228.78    & 33        & 49        & 0.00      & 24        & 1041      & 13       \\\\\n",
       "\t Friday    & Sara      & 3         &  4        &  0        &  3        & 1         &  3        &  4        & 12        & 30        &  88.02    & 20        & 56        & 0.00      & 17        & 1041      &  7       \\\\\n",
       "\t Monday    & Harry     & 2         & 13        &  3        &  6        & 2         & 16        &  7        & 19        & 27        & 119.57    & 37        & 47        & 0.00      &  9        & 1041      & 18       \\\\\n",
       "\t Tuesday   & Sara      & 3         & 10        &  5        &  5        & 1         &  2        &  0        & 33        & 30        & 172.31    & 38        & 56        & 0.00      & 14        & 1041      & 18       \\\\\n",
       "\t Wednesday & Sara      & 4         & 15        &  4        &  4        & 2         &  9        &  6        & 20        & 27        & 137.65    & 33        & 69        & 0.00      & 14        & 1041      & 23       \\\\\n",
       "\t Thursday  & Sara      & 9         & 13        & 14        & 13        & 3         & 13        &  6        & 29        & 26        & 197.56    & 39        & 64        & 0.00      & 14        & 1041      & 36       \\\\\n",
       "\t Friday    & Sara      & 1         &  6        &  2        &  1        & 0         & 10        &  1        & 14        & 24        &  70.00    & 35        & 70        & 0.12      & 24        & 1041      &  9       \\\\\n",
       "\t Monday    & Harry     & 3         & 14        &  2        &  8        & 1         &  9        &  2        & 17        & 18        &  97.00    & 31        & 63        & 0.00      & 14        & 1041      & 19       \\\\\n",
       "\t Tuesday   & Sara      & 8         & 16        & 11        &  9        & 2         & 11        &  8        & 31        & 22        & 181.43    & 29        & 70        & 0.00      & 23        & 1041      & 35       \\\\\n",
       "\t Wednesday & Sara      & 7         & 12        &  5        &  7        & 1         & 14        &  3        & 24        & 21        & 125.57    & 26        & 74        & 0.00      & 29        & 1041      & 24       \\\\\n",
       "\t Monday    & Harry     & 3         & 12        &  6        &  8        & 2         &  7        &  7        & 26        & 31        & 150.51    & 26        & 71        & 0.04      & 17        & 1041      & 21       \\\\\n",
       "\t Tuesday   & Sara      & 8         & 22        &  1        &  3        & 3         & 13        &  5        & 39        & 29        & 177.41    & 29        & 69        & 0.00      & 18        & 1041      & 31       \\\\\n",
       "\t Wednesday & Sara      & 6         &  8        &  9        & 10        & 1         & 11        &  2        & 24        & 48        & 153.84    & 29        & 63        & 0.00      & 14        & 1041      & 23       \\\\\n",
       "\t Thursday  & Sara      & 4         & 19        & 10        &  9        & 3         &  8        & 12        & 35        & 25        & 205.36    & 34        & 56        & 0.00      & 12        & 1041      & 33       \\\\\n",
       "\t Monday    & Harry     & 6         & 16        &  9        &  7        & 1         & 11        &  2        & 25        & 25        & 138.04    & 36        & 82        & 0.00      & 16        & 1041      & 31       \\\\\n",
       "\t Tuesday   & Sara      & 7         & 23        & 12        & 12        & 4         & 21        &  5        & 36        & 35        & 236.01    & 33        & 78        & 0.00      & 14        & 1041      & 42       \\\\\n",
       "\t Wednesday & Sara      & 6         & 15        &  1        &  6        & 1         & 11        &  5        & 33        & 33        & 149.58    & 28        & 68        & 0.00      & 17        & 1041      & 22       \\\\\n",
       "\t Thursday  & Sara      & 5         & 22        &  8        &  4        & 4         & 10        &  4        & 37        & 35        & 206.17    & 33        & 58        & 0.00      & 18        & 1041      & 35       \\\\\n",
       "\t Friday    & Harry     & 2         &  5        & 28        &  8        & 0         & 11        & 21        & 22        & 16        &  93.10    & 35        & 47        & 0.00      & 23        & 1041      & 35       \\\\\n",
       "\t Monday    & Sara      & 3         &  9        &  5        &  6        & 2         & 10        &  7        & 36        & 24        & 151.91    & 40        & 70        & 0.00      & 14        & 1041      & 17       \\\\\n",
       "\t Tuesday   & Harry     & 8         & 21        & 10        &  9        & 2         & 12        &  7        & 54        & 20        & 217.29    & 39        & 64        & 0.00      & 16        & 1041      & 39       \\\\\n",
       "\t Wednesday & Harry     & 4         & 13        &  8        &  8        & 3         &  9        &  4        & 34        & 11        & 148.24    & 39        & 59        & 0.00      & 14        & 1041      & 25       \\\\\n",
       "\t Thursday  & Harry     & 4         & 14        &  6        &  8        & 2         &  8        &  5        & 43        & 21        & 168.08    & 45        & 40        & 0.00      & 14        & 1041      & 24       \\\\\n",
       "\t Monday    & Sara      & 6         & 17        &  3        &  4        & 2         &  9        &  3        & 24        &  8        & 130.77    & 48        & 71        & 0.00      & 14        & 1041      & 26       \\\\\n",
       "\t Tuesday   & Sara      & 7         & 19        &  5        & 13        & 1         & 11        &  4        & 48        &  8        & 164.54    & 61        & 31        & 0.00      & 16        & 1041      & 31       \\\\\n",
       "\t Wednesday & Harry     & 3         & 13        &  3        &  6        & 0         &  7        &  4        & 35        &  4        & 121.41    & 64        & 27        & 0.00      & 14        & 1041      & 19       \\\\\n",
       "\t Monday    & Harry     & 4         & 13        &  3        &  2        & 2         &  8        &  7        & 30        &  5        & 128.59    & 47        & 71        & 0.07      & 21        & 1041      & 20       \\\\\n",
       "\t Tuesday   & Sara      & 8         & 14        &  7        &  4        & 2         &  7        &  6        & 50        &  6        & 159.23    & 62        & 36        & 0.00      & 12        & 1041      & 29       \\\\\n",
       "\t Wednesday & Sara      & 4         &  9        &  8        &  5        & 2         &  7        &  5        & 45        &  4        & 148.08    & 66        & 44        & 0.00      & 14        & 1041      & 21       \\\\\n",
       "\t Thursday  & Sara      & 6         & 18        &  3        &  3        & 2         &  9        &  4        & 50        & 13        & 164.86    & 56        & 66        & 0.88      & 30        & 1041      & 27       \\\\\n",
       "\t Monday    & Harry     & 2         &  9        &  3        &  1        & 0         &  4        &  0        & 26        & 16        &  82.96    & 56        & 51        & 0.00      & 16        & 1041      & 14       \\\\\n",
       "\t Tuesday   & Sara      & 6         & 25        & 11        &  9        & 4         &  9        & 10        & 55        & 14        & 240.87    & 62        & 42        & 0.00      & 14        & 1041      & 42       \\\\\n",
       "\t Wednesday & Sara      & 4         & 15        &  1        &  9        & 3         &  6        &  4        & 42        & 10        & 151.52    & 76        & 35        & 0.00      & 26        & 1041      & 20       \\\\\n",
       "\\end{tabular}\n"
      ],
      "text/markdown": [
       "\n",
       "staff.weekday | staff.staff | staff.pizza | staff.wraps | staff.pasta | staff.dessert | staff.fruitcup | staff.chips | staff.juice | staff.soda | staff.coffee | staff.total_sales | staff.temp | staff.humidity | staff.rainfall | staff.wind | staff.food | staff.totalSales | \n",
       "|---|---|---|---|---|---|---|---|---|---|---|---|---|---|---|---|---|---|---|---|---|---|---|---|---|---|---|---|---|---|---|---|---|---|---|---|---|---|---|---|\n",
       "| Tuesday   | Harry     | 5         | 25        |  5        |  5        | 1         | 12        |  8        | 20        | 41        | 199.95    | 36        | 82        | 0.00      | 12        | 1041      | 35        | \n",
       "| Wednesday | Sara      | 6         |  7        |  3        |  1        | 0         |  0        |  0        | 13        | 33        | 195.74    | 34        | 78        | 0.06      | 16        | 1041      | 16        | \n",
       "| Thursday  | Sara      | 8         | 14        |  4        |  1        | 0         |  0        | 13        | 23        | 34        | 102.68    | 39        | 85        | 0.45      | 16        | 1041      | 26        | \n",
       "| Friday    | Sara      | 4         |  5        |  5        |  3        | 3         | 20        |  0        | 13        | 27        | 162.88    | 40        | 85        | 0.00      | 12        | 1041      | 14        | \n",
       "| Monday    | Harry     | 3         | 10        |  8        |  3        | 2         |  0        |  5        | 13        | 20        | 101.76    | 36        | 64        | 0.03      | 25        | 1041      | 21        | \n",
       "| Tuesday   | Sara      | 7         |  5        |  1        |  5        | 2         |  4        |  4        | 33        | 23        | 186.94    | 26        | 62        | 0.00      | 23        | 1041      | 13        | \n",
       "| Wednesday | Sara      | 6         | 19        |  6        | 10        | 2         |  2        |  5        | 15        | 32        | 120.18    | 34        | 59        | 0.00      | 13        | 1041      | 31        | \n",
       "| Thursday  | Sara      | 0         |  7        |  6        |  5        | 0         | 20        |  6        | 27        | 24        | 228.78    | 33        | 49        | 0.00      | 24        | 1041      | 13        | \n",
       "| Friday    | Sara      | 3         |  4        |  0        |  3        | 1         |  3        |  4        | 12        | 30        |  88.02    | 20        | 56        | 0.00      | 17        | 1041      |  7        | \n",
       "| Monday    | Harry     | 2         | 13        |  3        |  6        | 2         | 16        |  7        | 19        | 27        | 119.57    | 37        | 47        | 0.00      |  9        | 1041      | 18        | \n",
       "| Tuesday   | Sara      | 3         | 10        |  5        |  5        | 1         |  2        |  0        | 33        | 30        | 172.31    | 38        | 56        | 0.00      | 14        | 1041      | 18        | \n",
       "| Wednesday | Sara      | 4         | 15        |  4        |  4        | 2         |  9        |  6        | 20        | 27        | 137.65    | 33        | 69        | 0.00      | 14        | 1041      | 23        | \n",
       "| Thursday  | Sara      | 9         | 13        | 14        | 13        | 3         | 13        |  6        | 29        | 26        | 197.56    | 39        | 64        | 0.00      | 14        | 1041      | 36        | \n",
       "| Friday    | Sara      | 1         |  6        |  2        |  1        | 0         | 10        |  1        | 14        | 24        |  70.00    | 35        | 70        | 0.12      | 24        | 1041      |  9        | \n",
       "| Monday    | Harry     | 3         | 14        |  2        |  8        | 1         |  9        |  2        | 17        | 18        |  97.00    | 31        | 63        | 0.00      | 14        | 1041      | 19        | \n",
       "| Tuesday   | Sara      | 8         | 16        | 11        |  9        | 2         | 11        |  8        | 31        | 22        | 181.43    | 29        | 70        | 0.00      | 23        | 1041      | 35        | \n",
       "| Wednesday | Sara      | 7         | 12        |  5        |  7        | 1         | 14        |  3        | 24        | 21        | 125.57    | 26        | 74        | 0.00      | 29        | 1041      | 24        | \n",
       "| Monday    | Harry     | 3         | 12        |  6        |  8        | 2         |  7        |  7        | 26        | 31        | 150.51    | 26        | 71        | 0.04      | 17        | 1041      | 21        | \n",
       "| Tuesday   | Sara      | 8         | 22        |  1        |  3        | 3         | 13        |  5        | 39        | 29        | 177.41    | 29        | 69        | 0.00      | 18        | 1041      | 31        | \n",
       "| Wednesday | Sara      | 6         |  8        |  9        | 10        | 1         | 11        |  2        | 24        | 48        | 153.84    | 29        | 63        | 0.00      | 14        | 1041      | 23        | \n",
       "| Thursday  | Sara      | 4         | 19        | 10        |  9        | 3         |  8        | 12        | 35        | 25        | 205.36    | 34        | 56        | 0.00      | 12        | 1041      | 33        | \n",
       "| Monday    | Harry     | 6         | 16        |  9        |  7        | 1         | 11        |  2        | 25        | 25        | 138.04    | 36        | 82        | 0.00      | 16        | 1041      | 31        | \n",
       "| Tuesday   | Sara      | 7         | 23        | 12        | 12        | 4         | 21        |  5        | 36        | 35        | 236.01    | 33        | 78        | 0.00      | 14        | 1041      | 42        | \n",
       "| Wednesday | Sara      | 6         | 15        |  1        |  6        | 1         | 11        |  5        | 33        | 33        | 149.58    | 28        | 68        | 0.00      | 17        | 1041      | 22        | \n",
       "| Thursday  | Sara      | 5         | 22        |  8        |  4        | 4         | 10        |  4        | 37        | 35        | 206.17    | 33        | 58        | 0.00      | 18        | 1041      | 35        | \n",
       "| Friday    | Harry     | 2         |  5        | 28        |  8        | 0         | 11        | 21        | 22        | 16        |  93.10    | 35        | 47        | 0.00      | 23        | 1041      | 35        | \n",
       "| Monday    | Sara      | 3         |  9        |  5        |  6        | 2         | 10        |  7        | 36        | 24        | 151.91    | 40        | 70        | 0.00      | 14        | 1041      | 17        | \n",
       "| Tuesday   | Harry     | 8         | 21        | 10        |  9        | 2         | 12        |  7        | 54        | 20        | 217.29    | 39        | 64        | 0.00      | 16        | 1041      | 39        | \n",
       "| Wednesday | Harry     | 4         | 13        |  8        |  8        | 3         |  9        |  4        | 34        | 11        | 148.24    | 39        | 59        | 0.00      | 14        | 1041      | 25        | \n",
       "| Thursday  | Harry     | 4         | 14        |  6        |  8        | 2         |  8        |  5        | 43        | 21        | 168.08    | 45        | 40        | 0.00      | 14        | 1041      | 24        | \n",
       "| Monday    | Sara      | 6         | 17        |  3        |  4        | 2         |  9        |  3        | 24        |  8        | 130.77    | 48        | 71        | 0.00      | 14        | 1041      | 26        | \n",
       "| Tuesday   | Sara      | 7         | 19        |  5        | 13        | 1         | 11        |  4        | 48        |  8        | 164.54    | 61        | 31        | 0.00      | 16        | 1041      | 31        | \n",
       "| Wednesday | Harry     | 3         | 13        |  3        |  6        | 0         |  7        |  4        | 35        |  4        | 121.41    | 64        | 27        | 0.00      | 14        | 1041      | 19        | \n",
       "| Monday    | Harry     | 4         | 13        |  3        |  2        | 2         |  8        |  7        | 30        |  5        | 128.59    | 47        | 71        | 0.07      | 21        | 1041      | 20        | \n",
       "| Tuesday   | Sara      | 8         | 14        |  7        |  4        | 2         |  7        |  6        | 50        |  6        | 159.23    | 62        | 36        | 0.00      | 12        | 1041      | 29        | \n",
       "| Wednesday | Sara      | 4         |  9        |  8        |  5        | 2         |  7        |  5        | 45        |  4        | 148.08    | 66        | 44        | 0.00      | 14        | 1041      | 21        | \n",
       "| Thursday  | Sara      | 6         | 18        |  3        |  3        | 2         |  9        |  4        | 50        | 13        | 164.86    | 56        | 66        | 0.88      | 30        | 1041      | 27        | \n",
       "| Monday    | Harry     | 2         |  9        |  3        |  1        | 0         |  4        |  0        | 26        | 16        |  82.96    | 56        | 51        | 0.00      | 16        | 1041      | 14        | \n",
       "| Tuesday   | Sara      | 6         | 25        | 11        |  9        | 4         |  9        | 10        | 55        | 14        | 240.87    | 62        | 42        | 0.00      | 14        | 1041      | 42        | \n",
       "| Wednesday | Sara      | 4         | 15        |  1        |  9        | 3         |  6        |  4        | 42        | 10        | 151.52    | 76        | 35        | 0.00      | 26        | 1041      | 20        | \n",
       "\n",
       "\n"
      ],
      "text/plain": [
       "   staff.weekday staff.staff staff.pizza staff.wraps staff.pasta staff.dessert\n",
       "1  Tuesday       Harry       5           25           5           5           \n",
       "2  Wednesday     Sara        6            7           3           1           \n",
       "3  Thursday      Sara        8           14           4           1           \n",
       "4  Friday        Sara        4            5           5           3           \n",
       "5  Monday        Harry       3           10           8           3           \n",
       "6  Tuesday       Sara        7            5           1           5           \n",
       "7  Wednesday     Sara        6           19           6          10           \n",
       "8  Thursday      Sara        0            7           6           5           \n",
       "9  Friday        Sara        3            4           0           3           \n",
       "10 Monday        Harry       2           13           3           6           \n",
       "11 Tuesday       Sara        3           10           5           5           \n",
       "12 Wednesday     Sara        4           15           4           4           \n",
       "13 Thursday      Sara        9           13          14          13           \n",
       "14 Friday        Sara        1            6           2           1           \n",
       "15 Monday        Harry       3           14           2           8           \n",
       "16 Tuesday       Sara        8           16          11           9           \n",
       "17 Wednesday     Sara        7           12           5           7           \n",
       "18 Monday        Harry       3           12           6           8           \n",
       "19 Tuesday       Sara        8           22           1           3           \n",
       "20 Wednesday     Sara        6            8           9          10           \n",
       "21 Thursday      Sara        4           19          10           9           \n",
       "22 Monday        Harry       6           16           9           7           \n",
       "23 Tuesday       Sara        7           23          12          12           \n",
       "24 Wednesday     Sara        6           15           1           6           \n",
       "25 Thursday      Sara        5           22           8           4           \n",
       "26 Friday        Harry       2            5          28           8           \n",
       "27 Monday        Sara        3            9           5           6           \n",
       "28 Tuesday       Harry       8           21          10           9           \n",
       "29 Wednesday     Harry       4           13           8           8           \n",
       "30 Thursday      Harry       4           14           6           8           \n",
       "31 Monday        Sara        6           17           3           4           \n",
       "32 Tuesday       Sara        7           19           5          13           \n",
       "33 Wednesday     Harry       3           13           3           6           \n",
       "34 Monday        Harry       4           13           3           2           \n",
       "35 Tuesday       Sara        8           14           7           4           \n",
       "36 Wednesday     Sara        4            9           8           5           \n",
       "37 Thursday      Sara        6           18           3           3           \n",
       "38 Monday        Harry       2            9           3           1           \n",
       "39 Tuesday       Sara        6           25          11           9           \n",
       "40 Wednesday     Sara        4           15           1           9           \n",
       "   staff.fruitcup staff.chips staff.juice staff.soda staff.coffee\n",
       "1  1              12           8          20         41          \n",
       "2  0               0           0          13         33          \n",
       "3  0               0          13          23         34          \n",
       "4  3              20           0          13         27          \n",
       "5  2               0           5          13         20          \n",
       "6  2               4           4          33         23          \n",
       "7  2               2           5          15         32          \n",
       "8  0              20           6          27         24          \n",
       "9  1               3           4          12         30          \n",
       "10 2              16           7          19         27          \n",
       "11 1               2           0          33         30          \n",
       "12 2               9           6          20         27          \n",
       "13 3              13           6          29         26          \n",
       "14 0              10           1          14         24          \n",
       "15 1               9           2          17         18          \n",
       "16 2              11           8          31         22          \n",
       "17 1              14           3          24         21          \n",
       "18 2               7           7          26         31          \n",
       "19 3              13           5          39         29          \n",
       "20 1              11           2          24         48          \n",
       "21 3               8          12          35         25          \n",
       "22 1              11           2          25         25          \n",
       "23 4              21           5          36         35          \n",
       "24 1              11           5          33         33          \n",
       "25 4              10           4          37         35          \n",
       "26 0              11          21          22         16          \n",
       "27 2              10           7          36         24          \n",
       "28 2              12           7          54         20          \n",
       "29 3               9           4          34         11          \n",
       "30 2               8           5          43         21          \n",
       "31 2               9           3          24          8          \n",
       "32 1              11           4          48          8          \n",
       "33 0               7           4          35          4          \n",
       "34 2               8           7          30          5          \n",
       "35 2               7           6          50          6          \n",
       "36 2               7           5          45          4          \n",
       "37 2               9           4          50         13          \n",
       "38 0               4           0          26         16          \n",
       "39 4               9          10          55         14          \n",
       "40 3               6           4          42         10          \n",
       "   staff.total_sales staff.temp staff.humidity staff.rainfall staff.wind\n",
       "1  199.95            36         82             0.00           12        \n",
       "2  195.74            34         78             0.06           16        \n",
       "3  102.68            39         85             0.45           16        \n",
       "4  162.88            40         85             0.00           12        \n",
       "5  101.76            36         64             0.03           25        \n",
       "6  186.94            26         62             0.00           23        \n",
       "7  120.18            34         59             0.00           13        \n",
       "8  228.78            33         49             0.00           24        \n",
       "9   88.02            20         56             0.00           17        \n",
       "10 119.57            37         47             0.00            9        \n",
       "11 172.31            38         56             0.00           14        \n",
       "12 137.65            33         69             0.00           14        \n",
       "13 197.56            39         64             0.00           14        \n",
       "14  70.00            35         70             0.12           24        \n",
       "15  97.00            31         63             0.00           14        \n",
       "16 181.43            29         70             0.00           23        \n",
       "17 125.57            26         74             0.00           29        \n",
       "18 150.51            26         71             0.04           17        \n",
       "19 177.41            29         69             0.00           18        \n",
       "20 153.84            29         63             0.00           14        \n",
       "21 205.36            34         56             0.00           12        \n",
       "22 138.04            36         82             0.00           16        \n",
       "23 236.01            33         78             0.00           14        \n",
       "24 149.58            28         68             0.00           17        \n",
       "25 206.17            33         58             0.00           18        \n",
       "26  93.10            35         47             0.00           23        \n",
       "27 151.91            40         70             0.00           14        \n",
       "28 217.29            39         64             0.00           16        \n",
       "29 148.24            39         59             0.00           14        \n",
       "30 168.08            45         40             0.00           14        \n",
       "31 130.77            48         71             0.00           14        \n",
       "32 164.54            61         31             0.00           16        \n",
       "33 121.41            64         27             0.00           14        \n",
       "34 128.59            47         71             0.07           21        \n",
       "35 159.23            62         36             0.00           12        \n",
       "36 148.08            66         44             0.00           14        \n",
       "37 164.86            56         66             0.88           30        \n",
       "38  82.96            56         51             0.00           16        \n",
       "39 240.87            62         42             0.00           14        \n",
       "40 151.52            76         35             0.00           26        \n",
       "   staff.food staff.totalSales\n",
       "1  1041       35              \n",
       "2  1041       16              \n",
       "3  1041       26              \n",
       "4  1041       14              \n",
       "5  1041       21              \n",
       "6  1041       13              \n",
       "7  1041       31              \n",
       "8  1041       13              \n",
       "9  1041        7              \n",
       "10 1041       18              \n",
       "11 1041       18              \n",
       "12 1041       23              \n",
       "13 1041       36              \n",
       "14 1041        9              \n",
       "15 1041       19              \n",
       "16 1041       35              \n",
       "17 1041       24              \n",
       "18 1041       21              \n",
       "19 1041       31              \n",
       "20 1041       23              \n",
       "21 1041       33              \n",
       "22 1041       31              \n",
       "23 1041       42              \n",
       "24 1041       22              \n",
       "25 1041       35              \n",
       "26 1041       35              \n",
       "27 1041       17              \n",
       "28 1041       39              \n",
       "29 1041       25              \n",
       "30 1041       24              \n",
       "31 1041       26              \n",
       "32 1041       31              \n",
       "33 1041       19              \n",
       "34 1041       20              \n",
       "35 1041       29              \n",
       "36 1041       21              \n",
       "37 1041       27              \n",
       "38 1041       14              \n",
       "39 1041       42              \n",
       "40 1041       20              "
      ]
     },
     "metadata": {},
     "output_type": "display_data"
    },
    {
     "data": {
      "text/plain": [
       "\n",
       "\tWelch Two Sample t-test\n",
       "\n",
       "data:  staff.total_sales by staff.staff\n",
       "t = -1.9694, df = 24.574, p-value = 0.06028\n",
       "alternative hypothesis: true difference in means is not equal to 0\n",
       "95 percent confidence interval:\n",
       " -56.170716   1.281428\n",
       "sample estimates:\n",
       "mean in group Harry  mean in group Sara \n",
       "           135.8846            163.3293 \n"
      ]
     },
     "metadata": {},
     "output_type": "display_data"
    }
   ],
   "source": [
    "sh_total = data.frame(staff = sales[-which(sales$staff == 'Tom'),])\n",
    "sh_total\n",
    "t.test(staff.total_sales ~ staff.staff, mu = 0, alt = \"two.sided\", conf\t= 0.95, data=sh_total)"
   ]
  },
  {
   "cell_type": "code",
   "execution_count": 21,
   "metadata": {},
   "outputs": [
    {
     "data": {
      "text/plain": [
       "\n",
       "\tWelch Two Sample t-test\n",
       "\n",
       "data:  harry_sales and sara_sales\n",
       "t = -1.9694, df = 24.574, p-value = 0.06028\n",
       "alternative hypothesis: true difference in means is not equal to 0\n",
       "95 percent confidence interval:\n",
       " -56.170716   1.281428\n",
       "sample estimates:\n",
       "mean of x mean of y \n",
       " 135.8846  163.3293 \n"
      ]
     },
     "metadata": {},
     "output_type": "display_data"
    }
   ],
   "source": [
    "t.test(harry_sales,sara_sales)"
   ]
  },
  {
   "cell_type": "code",
   "execution_count": 22,
   "metadata": {},
   "outputs": [
    {
     "data": {
      "text/html": [
       "<ol class=list-inline>\n",
       "\t<li>27</li>\n",
       "\t<li>85</li>\n",
       "</ol>\n"
      ],
      "text/latex": [
       "\\begin{enumerate*}\n",
       "\\item 27\n",
       "\\item 85\n",
       "\\end{enumerate*}\n"
      ],
      "text/markdown": [
       "1. 27\n",
       "2. 85\n",
       "\n",
       "\n"
      ],
      "text/plain": [
       "[1] 27 85"
      ]
     },
     "metadata": {},
     "output_type": "display_data"
    }
   ],
   "source": [
    "range(sales_df$humidity)"
   ]
  },
  {
   "cell_type": "code",
   "execution_count": 196,
   "metadata": {},
   "outputs": [
    {
     "ename": "ERROR",
     "evalue": "Error in eval(predvars, data, env): object 'wind' not found\n",
     "output_type": "error",
     "traceback": [
      "Error in eval(predvars, data, env): object 'wind' not found\nTraceback:\n",
      "1. lm(coffee ~ wind, data = sales)",
      "2. eval(mf, parent.frame())",
      "3. eval(mf, parent.frame())",
      "4. stats::model.frame(formula = coffee ~ wind, data = sales, drop.unused.levels = TRUE)",
      "5. model.frame.default(formula = coffee ~ wind, data = sales, drop.unused.levels = TRUE)",
      "6. eval(predvars, data, env)",
      "7. eval(predvars, data, env)"
     ]
    }
   ],
   "source": [
    "model1<-lm(coffee~temp,data=sales)\n",
    "model2<-lm(coffee~humidity,data=sales)\n",
    "model3<-lm(coffee~wind,data=sales)"
   ]
  },
  {
   "cell_type": "code",
   "execution_count": 24,
   "metadata": {},
   "outputs": [
    {
     "name": "stderr",
     "output_type": "stream",
     "text": [
      "Version:  1.36.23\n",
      "Date:     2017-03-03\n",
      "Author:   Philip Leifeld (University of Glasgow)\n",
      "\n",
      "Please cite the JSS article in your publications -- see citation(\"texreg\").\n",
      "\n",
      "Attaching package: ‘texreg’\n",
      "\n",
      "The following object is masked from ‘package:tidyr’:\n",
      "\n",
      "    extract\n",
      "\n"
     ]
    },
    {
     "data": {
      "text/html": [
       "<span style=white-space:pre-wrap>'\\n============================================\\n             Model 1    Model 2    Model 3  \\n--------------------------------------------\\n(Intercept)  45.77 ***  -1.66      28.63 ***\\n             (3.76)     (5.55)     (5.36)   \\ntemp         -0.59 ***                      \\n             (0.09)                         \\nhumidity                 0.40 ***           \\n                        (0.09)              \\nwind                               -0.39    \\n                                   (0.31)   \\n--------------------------------------------\\nR^2           0.51       0.32       0.04    \\nAdj. R^2      0.50       0.31       0.01    \\nNum. obs.    43         43         43       \\nRMSE          7.46       8.80      10.50    \\n============================================\\n*** p &lt; 0.001, ** p &lt; 0.01, * p &lt; 0.05\\n'</span>"
      ],
      "text/latex": [
       "'\\textbackslash{}n============================================\\textbackslash{}n             Model 1    Model 2    Model 3  \\textbackslash{}n--------------------------------------------\\textbackslash{}n(Intercept)  45.77 ***  -1.66      28.63 ***\\textbackslash{}n             (3.76)     (5.55)     (5.36)   \\textbackslash{}ntemp         -0.59 ***                      \\textbackslash{}n             (0.09)                         \\textbackslash{}nhumidity                 0.40 ***           \\textbackslash{}n                        (0.09)              \\textbackslash{}nwind                               -0.39    \\textbackslash{}n                                   (0.31)   \\textbackslash{}n--------------------------------------------\\textbackslash{}nR\\textasciicircum{}2           0.51       0.32       0.04    \\textbackslash{}nAdj. R\\textasciicircum{}2      0.50       0.31       0.01    \\textbackslash{}nNum. obs.    43         43         43       \\textbackslash{}nRMSE          7.46       8.80      10.50    \\textbackslash{}n============================================\\textbackslash{}n*** p < 0.001, ** p < 0.01, * p < 0.05\\textbackslash{}n'"
      ],
      "text/markdown": [
       "<span style=white-space:pre-wrap>'\\n============================================\\n             Model 1    Model 2    Model 3  \\n--------------------------------------------\\n(Intercept)  45.77 ***  -1.66      28.63 ***\\n             (3.76)     (5.55)     (5.36)   \\ntemp         -0.59 ***                      \\n             (0.09)                         \\nhumidity                 0.40 ***           \\n                        (0.09)              \\nwind                               -0.39    \\n                                   (0.31)   \\n--------------------------------------------\\nR^2           0.51       0.32       0.04    \\nAdj. R^2      0.50       0.31       0.01    \\nNum. obs.    43         43         43       \\nRMSE          7.46       8.80      10.50    \\n============================================\\n*** p &lt; 0.001, ** p &lt; 0.01, * p &lt; 0.05\\n'</span>"
      ],
      "text/plain": [
       "\n",
       "============================================\n",
       "             Model 1    Model 2    Model 3  \n",
       "--------------------------------------------\n",
       "(Intercept)  45.77 ***  -1.66      28.63 ***\n",
       "             (3.76)     (5.55)     (5.36)   \n",
       "temp         -0.59 ***                      \n",
       "             (0.09)                         \n",
       "humidity                 0.40 ***           \n",
       "                        (0.09)              \n",
       "wind                               -0.39    \n",
       "                                   (0.31)   \n",
       "--------------------------------------------\n",
       "R^2           0.51       0.32       0.04    \n",
       "Adj. R^2      0.50       0.31       0.01    \n",
       "Num. obs.    43         43         43       \n",
       "RMSE          7.46       8.80      10.50    \n",
       "============================================\n",
       "*** p < 0.001, ** p < 0.01, * p < 0.05"
      ]
     },
     "metadata": {},
     "output_type": "display_data"
    }
   ],
   "source": [
    "library(texreg)\n",
    "screenreg(list(model1,model2,model3))\n"
   ]
  },
  {
   "cell_type": "code",
   "execution_count": 25,
   "metadata": {},
   "outputs": [
    {
     "data": {
      "text/html": [
       "<strong>1:</strong> 10.3203701534497"
      ],
      "text/latex": [
       "\\textbf{1:} 10.3203701534497"
      ],
      "text/markdown": [
       "**1:** 10.3203701534497"
      ],
      "text/plain": [
       "       1 \n",
       "10.32037 "
      ]
     },
     "metadata": {},
     "output_type": "display_data"
    },
    {
     "data": {
      "text/html": [
       "<strong>1:</strong> 30.2900609113272"
      ],
      "text/latex": [
       "\\textbf{1:} 30.2900609113272"
      ],
      "text/markdown": [
       "**1:** 30.2900609113272"
      ],
      "text/plain": [
       "       1 \n",
       "30.29006 "
      ]
     },
     "metadata": {},
     "output_type": "display_data"
    }
   ],
   "source": [
    "predict(model2,data.frame(humidity=30))\n",
    "\n",
    "predict(model2,data.frame(humidity=80))\n",
    "#predict(model_1,data.frame(major.claw = 10))\n",
    "\n"
   ]
  },
  {
   "cell_type": "code",
   "execution_count": 26,
   "metadata": {},
   "outputs": [
    {
     "data": {
      "text/plain": [
       "\n",
       " 0  1  2  3  4  5  6  7  8  9 11 \n",
       " 1  2  4  7  8  2  8  4  5  1  1 "
      ]
     },
     "metadata": {},
     "output_type": "display_data"
    },
    {
     "data": {
      "text/html": [
       "<table>\n",
       "<thead><tr><th scope=col>weekday</th><th scope=col>staff</th><th scope=col>pizza</th><th scope=col>wraps</th><th scope=col>pasta</th><th scope=col>dessert</th><th scope=col>fruitcup</th><th scope=col>chips</th><th scope=col>juice</th><th scope=col>soda</th><th scope=col>coffee</th><th scope=col>total_sales</th><th scope=col>temp</th><th scope=col>humidity</th><th scope=col>rainfall</th><th scope=col>wind</th></tr></thead>\n",
       "<tbody>\n",
       "\t<tr><td>Tuesday  </td><td>Harry    </td><td>5        </td><td>25       </td><td>5        </td><td>5        </td><td>1        </td><td>12       </td><td> 8       </td><td>20       </td><td>41       </td><td>199.95   </td><td>36       </td><td>82       </td><td>0.00     </td><td>12       </td></tr>\n",
       "\t<tr><td>Wednesday</td><td>Sara     </td><td>6        </td><td> 7       </td><td>3        </td><td>1        </td><td>0        </td><td> 0       </td><td> 0       </td><td>13       </td><td>33       </td><td>195.74   </td><td>34       </td><td>78       </td><td>0.06     </td><td>16       </td></tr>\n",
       "\t<tr><td>Thursday </td><td>Sara     </td><td>8        </td><td>14       </td><td>4        </td><td>1        </td><td>0        </td><td> 0       </td><td>13       </td><td>23       </td><td>34       </td><td>102.68   </td><td>39       </td><td>85       </td><td>0.45     </td><td>16       </td></tr>\n",
       "\t<tr><td>Friday   </td><td>Sara     </td><td>4        </td><td> 5       </td><td>5        </td><td>3        </td><td>3        </td><td>20       </td><td> 0       </td><td>13       </td><td>27       </td><td>162.88   </td><td>40       </td><td>85       </td><td>0.00     </td><td>12       </td></tr>\n",
       "\t<tr><td>Monday   </td><td>Harry    </td><td>3        </td><td>10       </td><td>8        </td><td>3        </td><td>2        </td><td> 0       </td><td> 5       </td><td>13       </td><td>20       </td><td>101.76   </td><td>36       </td><td>64       </td><td>0.03     </td><td>25       </td></tr>\n",
       "\t<tr><td>Tuesday  </td><td>Sara     </td><td>7        </td><td> 5       </td><td>1        </td><td>5        </td><td>2        </td><td> 4       </td><td> 4       </td><td>33       </td><td>23       </td><td>186.94   </td><td>26       </td><td>62       </td><td>0.00     </td><td>23       </td></tr>\n",
       "</tbody>\n",
       "</table>\n"
      ],
      "text/latex": [
       "\\begin{tabular}{r|llllllllllllllll}\n",
       " weekday & staff & pizza & wraps & pasta & dessert & fruitcup & chips & juice & soda & coffee & total\\_sales & temp & humidity & rainfall & wind\\\\\n",
       "\\hline\n",
       "\t Tuesday   & Harry     & 5         & 25        & 5         & 5         & 1         & 12        &  8        & 20        & 41        & 199.95    & 36        & 82        & 0.00      & 12       \\\\\n",
       "\t Wednesday & Sara      & 6         &  7        & 3         & 1         & 0         &  0        &  0        & 13        & 33        & 195.74    & 34        & 78        & 0.06      & 16       \\\\\n",
       "\t Thursday  & Sara      & 8         & 14        & 4         & 1         & 0         &  0        & 13        & 23        & 34        & 102.68    & 39        & 85        & 0.45      & 16       \\\\\n",
       "\t Friday    & Sara      & 4         &  5        & 5         & 3         & 3         & 20        &  0        & 13        & 27        & 162.88    & 40        & 85        & 0.00      & 12       \\\\\n",
       "\t Monday    & Harry     & 3         & 10        & 8         & 3         & 2         &  0        &  5        & 13        & 20        & 101.76    & 36        & 64        & 0.03      & 25       \\\\\n",
       "\t Tuesday   & Sara      & 7         &  5        & 1         & 5         & 2         &  4        &  4        & 33        & 23        & 186.94    & 26        & 62        & 0.00      & 23       \\\\\n",
       "\\end{tabular}\n"
      ],
      "text/markdown": [
       "\n",
       "weekday | staff | pizza | wraps | pasta | dessert | fruitcup | chips | juice | soda | coffee | total_sales | temp | humidity | rainfall | wind | \n",
       "|---|---|---|---|---|---|\n",
       "| Tuesday   | Harry     | 5         | 25        | 5         | 5         | 1         | 12        |  8        | 20        | 41        | 199.95    | 36        | 82        | 0.00      | 12        | \n",
       "| Wednesday | Sara      | 6         |  7        | 3         | 1         | 0         |  0        |  0        | 13        | 33        | 195.74    | 34        | 78        | 0.06      | 16        | \n",
       "| Thursday  | Sara      | 8         | 14        | 4         | 1         | 0         |  0        | 13        | 23        | 34        | 102.68    | 39        | 85        | 0.45      | 16        | \n",
       "| Friday    | Sara      | 4         |  5        | 5         | 3         | 3         | 20        |  0        | 13        | 27        | 162.88    | 40        | 85        | 0.00      | 12        | \n",
       "| Monday    | Harry     | 3         | 10        | 8         | 3         | 2         |  0        |  5        | 13        | 20        | 101.76    | 36        | 64        | 0.03      | 25        | \n",
       "| Tuesday   | Sara      | 7         |  5        | 1         | 5         | 2         |  4        |  4        | 33        | 23        | 186.94    | 26        | 62        | 0.00      | 23        | \n",
       "\n",
       "\n"
      ],
      "text/plain": [
       "  weekday   staff pizza wraps pasta dessert fruitcup chips juice soda coffee\n",
       "1 Tuesday   Harry 5     25    5     5       1        12     8    20   41    \n",
       "2 Wednesday Sara  6      7    3     1       0         0     0    13   33    \n",
       "3 Thursday  Sara  8     14    4     1       0         0    13    23   34    \n",
       "4 Friday    Sara  4      5    5     3       3        20     0    13   27    \n",
       "5 Monday    Harry 3     10    8     3       2         0     5    13   20    \n",
       "6 Tuesday   Sara  7      5    1     5       2         4     4    33   23    \n",
       "  total_sales temp humidity rainfall wind\n",
       "1 199.95      36   82       0.00     12  \n",
       "2 195.74      34   78       0.06     16  \n",
       "3 102.68      39   85       0.45     16  \n",
       "4 162.88      40   85       0.00     12  \n",
       "5 101.76      36   64       0.03     25  \n",
       "6 186.94      26   62       0.00     23  "
      ]
     },
     "metadata": {},
     "output_type": "display_data"
    },
    {
     "data": {
      "text/html": [
       "<table>\n",
       "<thead><tr><th scope=col>weekday</th><th scope=col>staff</th><th scope=col>pizza</th><th scope=col>wraps</th><th scope=col>pasta</th><th scope=col>dessert</th><th scope=col>fruitcup</th><th scope=col>chips</th><th scope=col>juice</th><th scope=col>soda</th><th scope=col>coffee</th><th scope=col>total_sales</th><th scope=col>temp</th><th scope=col>humidity</th><th scope=col>rainfall</th><th scope=col>wind</th></tr></thead>\n",
       "<tbody>\n",
       "\t<tr><td>Tuesday  </td><td>Harry    </td><td>5        </td><td>25       </td><td>5        </td><td>5        </td><td>1        </td><td>12       </td><td> 8       </td><td>20       </td><td>41       </td><td>199.95   </td><td>36       </td><td>82       </td><td>0.00     </td><td>12       </td></tr>\n",
       "\t<tr><td>Wednesday</td><td>Sara     </td><td>6        </td><td> 7       </td><td>3        </td><td>1        </td><td>0        </td><td> 0       </td><td> 0       </td><td>13       </td><td>33       </td><td>195.74   </td><td>34       </td><td>78       </td><td>0.06     </td><td>16       </td></tr>\n",
       "\t<tr><td>Thursday </td><td>Sara     </td><td>8        </td><td>14       </td><td>4        </td><td>1        </td><td>0        </td><td> 0       </td><td>13       </td><td>23       </td><td>34       </td><td>102.68   </td><td>39       </td><td>85       </td><td>0.45     </td><td>16       </td></tr>\n",
       "\t<tr><td>Friday   </td><td>Sara     </td><td>4        </td><td> 5       </td><td>5        </td><td>3        </td><td>3        </td><td>20       </td><td> 0       </td><td>13       </td><td>27       </td><td>162.88   </td><td>40       </td><td>85       </td><td>0.00     </td><td>12       </td></tr>\n",
       "\t<tr><td>Monday   </td><td>Harry    </td><td>3        </td><td>10       </td><td>8        </td><td>3        </td><td>2        </td><td> 0       </td><td> 5       </td><td>13       </td><td>20       </td><td>101.76   </td><td>36       </td><td>64       </td><td>0.03     </td><td>25       </td></tr>\n",
       "\t<tr><td>Tuesday  </td><td>Sara     </td><td>7        </td><td> 5       </td><td>1        </td><td>5        </td><td>2        </td><td> 4       </td><td> 4       </td><td>33       </td><td>23       </td><td>186.94   </td><td>26       </td><td>62       </td><td>0.00     </td><td>23       </td></tr>\n",
       "</tbody>\n",
       "</table>\n"
      ],
      "text/latex": [
       "\\begin{tabular}{r|llllllllllllllll}\n",
       " weekday & staff & pizza & wraps & pasta & dessert & fruitcup & chips & juice & soda & coffee & total\\_sales & temp & humidity & rainfall & wind\\\\\n",
       "\\hline\n",
       "\t Tuesday   & Harry     & 5         & 25        & 5         & 5         & 1         & 12        &  8        & 20        & 41        & 199.95    & 36        & 82        & 0.00      & 12       \\\\\n",
       "\t Wednesday & Sara      & 6         &  7        & 3         & 1         & 0         &  0        &  0        & 13        & 33        & 195.74    & 34        & 78        & 0.06      & 16       \\\\\n",
       "\t Thursday  & Sara      & 8         & 14        & 4         & 1         & 0         &  0        & 13        & 23        & 34        & 102.68    & 39        & 85        & 0.45      & 16       \\\\\n",
       "\t Friday    & Sara      & 4         &  5        & 5         & 3         & 3         & 20        &  0        & 13        & 27        & 162.88    & 40        & 85        & 0.00      & 12       \\\\\n",
       "\t Monday    & Harry     & 3         & 10        & 8         & 3         & 2         &  0        &  5        & 13        & 20        & 101.76    & 36        & 64        & 0.03      & 25       \\\\\n",
       "\t Tuesday   & Sara      & 7         &  5        & 1         & 5         & 2         &  4        &  4        & 33        & 23        & 186.94    & 26        & 62        & 0.00      & 23       \\\\\n",
       "\\end{tabular}\n"
      ],
      "text/markdown": [
       "\n",
       "weekday | staff | pizza | wraps | pasta | dessert | fruitcup | chips | juice | soda | coffee | total_sales | temp | humidity | rainfall | wind | \n",
       "|---|---|---|---|---|---|\n",
       "| Tuesday   | Harry     | 5         | 25        | 5         | 5         | 1         | 12        |  8        | 20        | 41        | 199.95    | 36        | 82        | 0.00      | 12        | \n",
       "| Wednesday | Sara      | 6         |  7        | 3         | 1         | 0         |  0        |  0        | 13        | 33        | 195.74    | 34        | 78        | 0.06      | 16        | \n",
       "| Thursday  | Sara      | 8         | 14        | 4         | 1         | 0         |  0        | 13        | 23        | 34        | 102.68    | 39        | 85        | 0.45      | 16        | \n",
       "| Friday    | Sara      | 4         |  5        | 5         | 3         | 3         | 20        |  0        | 13        | 27        | 162.88    | 40        | 85        | 0.00      | 12        | \n",
       "| Monday    | Harry     | 3         | 10        | 8         | 3         | 2         |  0        |  5        | 13        | 20        | 101.76    | 36        | 64        | 0.03      | 25        | \n",
       "| Tuesday   | Sara      | 7         |  5        | 1         | 5         | 2         |  4        |  4        | 33        | 23        | 186.94    | 26        | 62        | 0.00      | 23        | \n",
       "\n",
       "\n"
      ],
      "text/plain": [
       "  weekday   staff pizza wraps pasta dessert fruitcup chips juice soda coffee\n",
       "1 Tuesday   Harry 5     25    5     5       1        12     8    20   41    \n",
       "2 Wednesday Sara  6      7    3     1       0         0     0    13   33    \n",
       "3 Thursday  Sara  8     14    4     1       0         0    13    23   34    \n",
       "4 Friday    Sara  4      5    5     3       3        20     0    13   27    \n",
       "5 Monday    Harry 3     10    8     3       2         0     5    13   20    \n",
       "6 Tuesday   Sara  7      5    1     5       2         4     4    33   23    \n",
       "  total_sales temp humidity rainfall wind\n",
       "1 199.95      36   82       0.00     12  \n",
       "2 195.74      34   78       0.06     16  \n",
       "3 102.68      39   85       0.45     16  \n",
       "4 162.88      40   85       0.00     12  \n",
       "5 101.76      36   64       0.03     25  \n",
       "6 186.94      26   62       0.00     23  "
      ]
     },
     "metadata": {},
     "output_type": "display_data"
    }
   ],
   "source": [
    "sales = sales_df\n",
    "table(sales$pizza)\n",
    "head(sales_df)\n",
    "head(sales)"
   ]
  },
  {
   "cell_type": "code",
   "execution_count": 140,
   "metadata": {},
   "outputs": [
    {
     "ename": "ERROR",
     "evalue": "Error in na.fail.default(structure(list(pizza = c(5L, 6L, 8L, 4L, NA, : missing values in object\n",
     "output_type": "error",
     "traceback": [
      "Error in na.fail.default(structure(list(pizza = c(5L, 6L, 8L, 4L, NA, : missing values in object\nTraceback:\n",
      "1. train(pizza ~ ., data = sales, method = \"leapForward\", trControl = train_control)",
      "2. train.formula(pizza ~ ., data = sales, method = \"leapForward\", \n .     trControl = train_control)",
      "3. eval.parent(m)",
      "4. eval(expr, p)",
      "5. eval(expr, p)",
      "6. stats::model.frame(form = pizza ~ ., data = sales, na.action = na.fail)",
      "7. model.frame.default(form = pizza ~ ., data = sales, na.action = na.fail)",
      "8. (function (object, ...) \n . UseMethod(\"na.fail\"))(structure(list(pizza = c(5L, 6L, 8L, 4L, \n . NA, NA, 3L, 7L, 6L, 0L, 3L, NA, NA, 2L, 3L, 4L, 9L, 1L, NA, NA, \n . 3L, 8L, 7L, 11L, 2L, NA, NA, 3L, 8L, 6L, 4L, NA, NA, 4L, 6L, \n . 7L, 6L, 5L, 2L, NA, NA, 3L, 8L, 4L, 4L, NA, NA, NA, NA, NA, NA, \n . NA, NA, NA, NA, 6L, 7L, 3L, NA, NA, 5L, 2L, 4L, 8L, 4L, 6L, 1L, \n . NA, NA, 2L, 6L, 4L, NA, NA, NA, NA, NA, NA, NA, NA, NA, NA, NA, \n . NA, NA, NA, NA, NA, NA, NA, NA, NA, NA, NA, NA, NA, NA, NA, NA, \n . NA, NA, NA, NA, NA, NA, NA, NA, NA, NA, NA, NA, NA, NA), date = structure(c(38L, \n . 41L, 44L, 47L, 50L, 53L, 56L, 59L, 62L, 65L, 67L, 69L, 71L, 1L, \n . 3L, 5L, 7L, 9L, 11L, 13L, 15L, 17L, 19L, 21L, 23L, 25L, 27L, \n . 29L, 31L, 33L, 35L, 37L, 40L, 43L, 46L, 49L, 52L, 55L, 58L, 61L, \n . 64L, 2L, 4L, 6L, 8L, 10L, 12L, 14L, 16L, 18L, 20L, 22L, 24L, \n . 26L, 28L, 30L, 32L, 34L, 36L, 39L, 42L, 45L, 48L, 51L, 54L, 57L, \n . 60L, 63L, 66L, 68L, 70L, 72L, NA, NA, NA, NA, NA, NA, NA, NA, \n . NA, NA, NA, NA, NA, NA, NA, NA, NA, NA, NA, NA, NA, NA, NA, NA, \n . NA, NA, NA, NA, NA, NA, NA, NA, NA, NA, NA, NA, NA, NA, NA, NA, \n . NA), .Label = c(\"01-Feb-10\", \"01-Mar-10\", \"02-Feb-10\", \"02-Mar-10\", \n . \"03-Feb-10\", \"03-Mar-10\", \"04-Feb-10\", \"04-Mar-10\", \"05-Feb-10\", \n . \"05-Mar-10\", \"06-Feb-10\", \"06-Mar-10\", \"07-Feb-10\", \"07-Mar-10\", \n . \"08-Feb-10\", \"08-Mar-10\", \"09-Feb-10\", \"09-Mar-10\", \"10-Feb-10\", \n . \"10-Mar-10\", \"11-Feb-10\", \"11-Mar-10\", \"12-Feb-10\", \"12-Mar-10\", \n . \"13-Feb-10\", \"13-Mar-10\", \"14-Feb-10\", \"14-Mar-10\", \"15-Feb-10\", \n . \"15-Mar-10\", \"16-Feb-10\", \"16-Mar-10\", \"17-Feb-10\", \"17-Mar-10\", \n . \"18-Feb-10\", \"18-Mar-10\", \"19-Feb-10\", \"19-Jan-10\", \"19-Mar-10\", \n . \"20-Feb-10\", \"20-Jan-10\", \"20-Mar-10\", \"21-Feb-10\", \"21-Jan-10\", \n . \"21-Mar-10\", \"22-Feb-10\", \"22-Jan-10\", \"22-Mar-10\", \"23-Feb-10\", \n . \"23-Jan-10\", \"23-Mar-10\", \"24-Feb-10\", \"24-Jan-10\", \"24-Mar-10\", \n . \"25-Feb-10\", \"25-Jan-10\", \"25-Mar-10\", \"26-Feb-10\", \"26-Jan-10\", \n . \"26-Mar-10\", \"27-Feb-10\", \"27-Jan-10\", \"27-Mar-10\", \"28-Feb-10\", \n . \"28-Jan-10\", \"28-Mar-10\", \"29-Jan-10\", \"29-Mar-10\", \"30-Jan-10\", \n . \"30-Mar-10\", \"31-Jan-10\", \"31-Mar-10\"), class = \"factor\"), weekday = structure(c(6L, \n . 7L, 5L, 1L, 3L, 4L, 2L, 6L, 7L, 5L, 1L, 3L, 4L, 2L, 6L, 7L, 5L, \n . 1L, 3L, 4L, 2L, 6L, 7L, 5L, 1L, 3L, 4L, 2L, 6L, 7L, 5L, 1L, 3L, \n . 4L, 2L, 6L, 7L, 5L, 1L, 3L, 4L, 2L, 6L, 7L, 5L, 1L, 3L, 4L, 2L, \n . 6L, 7L, 5L, 1L, 3L, 4L, 2L, 6L, 7L, 5L, 1L, 3L, 4L, 2L, 6L, 7L, \n . 5L, 1L, 3L, 4L, 2L, 6L, 7L, NA, NA, NA, NA, NA, NA, NA, NA, NA, \n . NA, NA, NA, NA, NA, NA, NA, NA, NA, NA, NA, NA, NA, NA, NA, NA, \n . NA, NA, NA, NA, NA, NA, NA, NA, NA, NA, NA, NA, NA, NA, NA, NA\n . ), .Label = c(\"Friday\", \"Monday\", \"Saturday\", \"Sunday\", \"Thursday\", \n . \"Tuesday\", \"Wednesday\"), class = \"factor\"), staff = c(1L, 2L, \n . 2L, 2L, NA, NA, 1L, 2L, 2L, 2L, 2L, NA, NA, 1L, 2L, 2L, 2L, 2L, \n . NA, NA, 1L, 2L, 2L, 3L, 3L, NA, NA, 1L, 2L, 2L, 2L, 4L, NA, NA, \n . 1L, 2L, 2L, 2L, 1L, NA, NA, 2L, 1L, 1L, 1L, NA, NA, NA, NA, NA, \n . NA, NA, NA, NA, NA, 2L, 2L, 1L, 2L, 2L, NA, NA, 1L, 2L, 2L, 2L, \n . 3L, NA, NA, 1L, 2L, 2L, NA, NA, NA, NA, NA, NA, NA, NA, NA, NA, \n . NA, NA, NA, NA, NA, NA, NA, NA, NA, NA, NA, NA, NA, NA, NA, NA, \n . NA, NA, NA, NA, NA, NA, NA, NA, NA, NA, NA, NA, NA, NA, NA), \n .     wraps = c(25L, 7L, 14L, 5L, NA, NA, 10L, 5L, 19L, 7L, 4L, \n .     NA, NA, 13L, 10L, 15L, 13L, 6L, NA, NA, 14L, 16L, 12L, 19L, \n .     4L, NA, NA, 12L, 22L, 8L, 19L, 10L, NA, NA, 16L, 23L, 15L, \n .     22L, 5L, NA, NA, 9L, 21L, 13L, 14L, NA, NA, NA, NA, NA, NA, \n .     NA, NA, NA, NA, 17L, 19L, 13L, 15L, 4L, NA, NA, 13L, 14L, \n .     9L, 18L, 4L, NA, NA, 9L, 25L, 15L, NA, NA, NA, NA, NA, NA, \n .     NA, NA, NA, NA, NA, NA, NA, NA, NA, NA, NA, NA, NA, NA, NA, \n .     NA, NA, NA, NA, NA, NA, NA, NA, NA, NA, NA, NA, NA, NA, NA, \n .     NA, NA, NA, NA, NA), pasta = c(5L, 3L, 4L, 5L, NA, NA, 8L, \n .     1L, 6L, 6L, 0L, NA, NA, 3L, 5L, 4L, 14L, 2L, NA, NA, 2L, \n .     11L, 5L, 12L, 0L, NA, NA, 6L, 1L, 9L, 10L, 4L, NA, NA, 9L, \n .     12L, 1L, 8L, 28L, NA, NA, 5L, 10L, 8L, 6L, NA, NA, NA, NA, \n .     NA, NA, NA, NA, NA, NA, 3L, 5L, 3L, 1L, 5L, NA, NA, 3L, 7L, \n .     8L, 3L, 3L, NA, NA, 3L, 11L, 1L, NA, NA, NA, NA, NA, NA, \n .     NA, NA, NA, NA, NA, NA, NA, NA, NA, NA, NA, NA, NA, NA, NA, \n .     NA, NA, NA, NA, NA, NA, NA, NA, NA, NA, NA, NA, NA, NA, NA, \n .     NA, NA, NA, NA, NA), dessert = c(5L, 1L, 1L, 3L, NA, NA, \n .     3L, 5L, 10L, 5L, 3L, NA, NA, 6L, 5L, 4L, 13L, 1L, NA, NA, \n .     8L, 9L, 7L, 9L, 2L, NA, NA, 8L, 3L, 10L, 9L, 4L, NA, NA, \n .     7L, 12L, 6L, 4L, 8L, NA, NA, 6L, 9L, 8L, 8L, NA, NA, NA, \n .     NA, NA, NA, NA, NA, NA, NA, 4L, 13L, 6L, 5L, 3L, NA, NA, \n .     2L, 4L, 5L, 3L, 5L, NA, NA, 1L, 9L, 9L, NA, NA, NA, NA, NA, \n .     NA, NA, NA, NA, NA, NA, NA, NA, NA, NA, NA, NA, NA, NA, NA, \n .     NA, NA, NA, NA, NA, NA, NA, NA, NA, NA, NA, NA, NA, NA, NA, \n .     NA, NA, NA, NA, NA, NA), fruitcup = c(1L, 0L, 0L, 3L, NA, \n .     NA, 2L, 2L, 2L, 0L, 1L, NA, NA, 2L, 1L, 2L, 3L, 0L, NA, NA, \n .     1L, 2L, 1L, 2L, 2L, NA, NA, 2L, 3L, 1L, 3L, 0L, NA, NA, 1L, \n .     4L, 1L, 4L, 0L, NA, NA, 2L, 2L, 3L, 2L, NA, NA, NA, NA, NA, \n .     NA, NA, NA, NA, NA, 2L, 1L, 0L, 4L, 1L, NA, NA, 2L, 2L, 2L, \n .     2L, 1L, NA, NA, 0L, 4L, 3L, NA, NA, NA, NA, NA, NA, NA, NA, \n .     NA, NA, NA, NA, NA, NA, NA, NA, NA, NA, NA, NA, NA, NA, NA, \n .     NA, NA, NA, NA, NA, NA, NA, NA, NA, NA, NA, NA, NA, NA, NA, \n .     NA, NA, NA), chips = c(12L, 0L, 0L, 20L, NA, NA, 0L, 4L, \n .     2L, 20L, 3L, NA, NA, 16L, 2L, 9L, 13L, 10L, NA, NA, 9L, 11L, \n .     14L, 4L, 25L, NA, NA, 7L, 13L, 11L, 8L, 14L, NA, NA, 11L, \n .     21L, 11L, 10L, 11L, NA, NA, 10L, 12L, 9L, 8L, NA, NA, NA, \n .     NA, NA, NA, NA, NA, NA, NA, 9L, 11L, 7L, 8L, 1L, NA, NA, \n .     8L, 7L, 7L, 9L, 3L, NA, NA, 4L, 9L, 6L, NA, NA, NA, NA, NA, \n .     NA, NA, NA, NA, NA, NA, NA, NA, NA, NA, NA, NA, NA, NA, NA, \n .     NA, NA, NA, NA, NA, NA, NA, NA, NA, NA, NA, NA, NA, NA, NA, \n .     NA, NA, NA, NA, NA, NA), juice = c(8L, 0L, 13L, 0L, NA, NA, \n .     5L, 4L, 5L, 6L, 4L, NA, NA, 7L, 0L, 6L, 6L, 1L, NA, NA, 2L, \n .     8L, 3L, 2L, 2L, NA, NA, 7L, 5L, 2L, 12L, 4L, NA, NA, 2L, \n .     5L, 5L, 4L, 21L, NA, NA, 7L, 7L, 4L, 5L, NA, NA, NA, NA, \n .     NA, NA, NA, NA, NA, NA, 3L, 4L, 4L, 5L, 3L, NA, NA, 7L, 6L, \n .     5L, 4L, 2L, NA, NA, 0L, 10L, 4L, NA, NA, NA, NA, NA, NA, \n .     NA, NA, NA, NA, NA, NA, NA, NA, NA, NA, NA, NA, NA, NA, NA, \n .     NA, NA, NA, NA, NA, NA, NA, NA, NA, NA, NA, NA, NA, NA, NA, \n .     NA, NA, NA, NA, NA), soda = c(20L, 13L, 23L, 13L, NA, NA, \n .     13L, 33L, 15L, 27L, 12L, NA, NA, 19L, 33L, 20L, 29L, 14L, \n .     NA, NA, 17L, 31L, 24L, 31L, 15L, NA, NA, 26L, 39L, 24L, 35L, \n .     11L, NA, NA, 25L, 36L, 33L, 37L, 22L, NA, NA, 36L, 54L, 34L, \n .     43L, NA, NA, NA, NA, NA, NA, NA, NA, NA, NA, 24L, 48L, 35L, \n .     33L, 24L, NA, NA, 30L, 50L, 45L, 50L, 26L, NA, NA, 26L, 55L, \n .     42L, NA, NA, NA, NA, NA, NA, NA, NA, NA, NA, NA, NA, NA, \n .     NA, NA, NA, NA, NA, NA, NA, NA, NA, NA, NA, NA, NA, NA, NA, \n .     NA, NA, NA, NA, NA, NA, NA, NA, NA, NA, NA, NA, NA), coffee = c(41L, \n .     33L, 34L, 27L, NA, NA, 20L, 23L, 32L, 24L, 30L, NA, NA, 27L, \n .     30L, 27L, 26L, 24L, NA, NA, 18L, 22L, 21L, 28L, 23L, NA, \n .     NA, 31L, 29L, 48L, 25L, 31L, NA, NA, 25L, 35L, 33L, 35L, \n .     16L, NA, NA, 24L, 20L, 11L, 21L, NA, NA, NA, NA, NA, NA, \n .     NA, NA, NA, NA, 8L, 8L, 4L, 4L, 3L, NA, NA, 5L, 6L, 4L, 13L, \n .     4L, NA, NA, 16L, 14L, 10L, NA, NA, NA, NA, NA, NA, NA, NA, \n .     NA, NA, NA, NA, NA, NA, NA, NA, NA, NA, NA, NA, NA, NA, NA, \n .     NA, NA, NA, NA, NA, NA, NA, NA, NA, NA, NA, NA, NA, NA, NA, \n .     NA, NA, NA), total_sales = c(199.95, 195.74, 102.68, 162.88, \n .     NA, NA, 101.76, 186.94, 120.18, 228.78, 88.02, NA, NA, 119.57, \n .     172.31, 137.65, 197.56, 70, NA, NA, 97, 181.43, 125.57, 180.63, \n .     75.87, NA, NA, 150.51, 177.41, 153.84, 205.36, NA, NA, 118.54, \n .     138.04, 236.01, 149.58, 206.17, 93.1, NA, NA, 151.91, 217.29, \n .     148.24, 168.08, NA, NA, NA, NA, NA, NA, NA, NA, NA, NA, 130.77, \n .     164.54, 121.41, NA, NA, 127.93, 61.94, 128.59, 159.23, 148.08, \n .     164.86, 74.13, NA, NA, 82.96, 240.87, 151.52, NA, NA, NA, \n .     NA, NA, NA, NA, NA, NA, NA, NA, NA, NA, NA, NA, NA, NA, NA, \n .     NA, NA, NA, NA, NA, NA, NA, NA, NA, NA, NA, NA, NA, NA, NA, \n .     NA, NA, NA, NA, NA, NA, NA, NA), temp = c(36L, 34L, 39L, \n .     40L, 49L, 55L, 36L, 26L, 34L, 33L, 20L, 27L, 32L, 37L, 38L, \n .     33L, 39L, 35L, 32L, 30L, 31L, 29L, 26L, 28L, 30L, 30L, 32L, \n .     26L, 29L, 29L, 34L, 39L, 45L, 41L, 36L, 33L, 28L, 33L, 35L, \n .     34L, 41L, 40L, 39L, 39L, 45L, 47L, 49L, 53L, 56L, 58L, 70L, \n .     67L, 54L, 47L, 47L, 48L, 61L, 64L, 64L, 65L, 67L, 49L, 47L, \n .     62L, 66L, 56L, 49L, 59L, 54L, 56L, 62L, 76L, NA, NA, NA, \n .     NA, NA, NA, NA, NA, NA, NA, NA, NA, NA, NA, NA, NA, NA, NA, \n .     NA, NA, NA, NA, NA, NA, NA, NA, NA, NA, NA, NA, NA, NA, NA, \n .     NA, NA, NA, NA, NA, NA, NA, NA), humidity = c(82L, 78L, 85L, \n .     85L, 80L, 66L, 64L, 62L, 59L, 49L, 56L, 46L, 47L, 47L, 56L, \n .     69L, 64L, 70L, 57L, 53L, 63L, 70L, 74L, 55L, 47L, 49L, 63L, \n .     71L, 69L, 63L, 56L, 37L, 49L, 75L, 82L, 78L, 68L, 58L, 47L, \n .     58L, 64L, 70L, 64L, 59L, 40L, 31L, 34L, 38L, 59L, 55L, 49L, \n .     58L, 74L, 86L, 71L, 71L, 31L, 27L, 37L, 37L, 42L, 71L, 71L, \n .     36L, 44L, 66L, 36L, 38L, 62L, 51L, 42L, 35L, NA, NA, NA, \n .     NA, NA, NA, NA, NA, NA, NA, NA, NA, NA, NA, NA, NA, NA, NA, \n .     NA, NA, NA, NA, NA, NA, NA, NA, NA, NA, NA, NA, NA, NA, NA, \n .     NA, NA, NA, NA, NA, NA, NA, NA), windspeed = c(12L, 16L, \n .     16L, 12L, 17L, 29L, 25L, 23L, 13L, 24L, 17L, 16L, 10L, 9L, \n .     14L, 14L, 14L, 24L, 26L, 8L, 14L, 23L, 29L, 9L, 6L, 13L, \n .     9L, 17L, 18L, 14L, 12L, 8L, 13L, 13L, 16L, 14L, 17L, 18L, \n .     23L, 16L, 13L, 14L, 16L, 14L, 14L, 9L, 8L, 15L, 8L, 17L, \n .     23L, 30L, 13L, 13L, 16L, 14L, 16L, 14L, 15L, 17L, 17L, 22L, \n .     21L, 12L, 14L, 30L, 17L, 16L, 20L, 16L, 14L, 26L, NA, NA, \n .     NA, NA, NA, NA, NA, NA, NA, NA, NA, NA, NA, NA, NA, NA, NA, \n .     NA, NA, NA, NA, NA, NA, NA, NA, NA, NA, NA, NA, NA, NA, NA, \n .     NA, NA, NA, NA, NA, NA, NA, NA, NA), rainfall = c(0, 0.06, \n .     0.45, 0, 0, 0.24, 0.03, 0, 0, 0, 0, 0, 0, 0, 0, 0, 0, 0.12, \n .     0, 0, 0, 0, 0, 0, 0, 0, 0, 0.04, 0, 0, 0, 0, 0, 0.06, 0, \n .     0, 0, 0, 0, 0, 0, 0, 0, 0, 0, 0, 0, 0.09, 0, 0, 0.01, 0.15, \n .     0.19, 0, 0, 0, 0, 0, 0, 0, 0, 0, 0.07, 0, 0, 0.88, 0, 0.06, \n .     0.13, 0, 0, 0, NA, NA, NA, NA, NA, NA, NA, NA, NA, NA, NA, \n .     NA, NA, NA, NA, NA, NA, NA, NA, NA, NA, NA, NA, NA, NA, NA, \n .     NA, NA, NA, NA, NA, NA, NA, NA, NA, NA, NA, NA, NA, NA, NA\n .     ), wind = c(12L, 16L, 16L, 12L, 17L, 29L, 25L, 23L, 13L, \n .     24L, 17L, 16L, 10L, 9L, 14L, 14L, 14L, 24L, 26L, 8L, 14L, \n .     23L, 29L, 9L, 6L, 13L, 9L, 17L, 18L, 14L, 12L, 8L, 13L, 13L, \n .     16L, 14L, 17L, 18L, 23L, 16L, 13L, 14L, 16L, 14L, 14L, 9L, \n .     8L, 15L, 8L, 17L, 23L, 30L, 13L, 13L, 16L, 14L, 16L, 14L, \n .     15L, 17L, 17L, 22L, 21L, 12L, 14L, 30L, 17L, 16L, 20L, 16L, \n .     14L, 26L, NA, NA, NA, NA, NA, NA, NA, NA, NA, NA, NA, NA, \n .     NA, NA, NA, NA, NA, NA, NA, NA, NA, NA, NA, NA, NA, NA, NA, \n .     NA, NA, NA, NA, NA, NA, NA, NA, NA, NA, NA, NA, NA, NA)), class = \"data.frame\", row.names = c(NA, \n . 113L), terms = pizza ~ date + weekday + staff + wraps + pasta + \n .     dessert + fruitcup + chips + juice + soda + coffee + total_sales + \n .     temp + humidity + windspeed + rainfall + wind))",
      "9. na.fail.default(structure(list(pizza = c(5L, 6L, 8L, 4L, NA, \n . NA, 3L, 7L, 6L, 0L, 3L, NA, NA, 2L, 3L, 4L, 9L, 1L, NA, NA, 3L, \n . 8L, 7L, 11L, 2L, NA, NA, 3L, 8L, 6L, 4L, NA, NA, 4L, 6L, 7L, \n . 6L, 5L, 2L, NA, NA, 3L, 8L, 4L, 4L, NA, NA, NA, NA, NA, NA, NA, \n . NA, NA, NA, 6L, 7L, 3L, NA, NA, 5L, 2L, 4L, 8L, 4L, 6L, 1L, NA, \n . NA, 2L, 6L, 4L, NA, NA, NA, NA, NA, NA, NA, NA, NA, NA, NA, NA, \n . NA, NA, NA, NA, NA, NA, NA, NA, NA, NA, NA, NA, NA, NA, NA, NA, \n . NA, NA, NA, NA, NA, NA, NA, NA, NA, NA, NA, NA, NA), date = structure(c(38L, \n . 41L, 44L, 47L, 50L, 53L, 56L, 59L, 62L, 65L, 67L, 69L, 71L, 1L, \n . 3L, 5L, 7L, 9L, 11L, 13L, 15L, 17L, 19L, 21L, 23L, 25L, 27L, \n . 29L, 31L, 33L, 35L, 37L, 40L, 43L, 46L, 49L, 52L, 55L, 58L, 61L, \n . 64L, 2L, 4L, 6L, 8L, 10L, 12L, 14L, 16L, 18L, 20L, 22L, 24L, \n . 26L, 28L, 30L, 32L, 34L, 36L, 39L, 42L, 45L, 48L, 51L, 54L, 57L, \n . 60L, 63L, 66L, 68L, 70L, 72L, NA, NA, NA, NA, NA, NA, NA, NA, \n . NA, NA, NA, NA, NA, NA, NA, NA, NA, NA, NA, NA, NA, NA, NA, NA, \n . NA, NA, NA, NA, NA, NA, NA, NA, NA, NA, NA, NA, NA, NA, NA, NA, \n . NA), .Label = c(\"01-Feb-10\", \"01-Mar-10\", \"02-Feb-10\", \"02-Mar-10\", \n . \"03-Feb-10\", \"03-Mar-10\", \"04-Feb-10\", \"04-Mar-10\", \"05-Feb-10\", \n . \"05-Mar-10\", \"06-Feb-10\", \"06-Mar-10\", \"07-Feb-10\", \"07-Mar-10\", \n . \"08-Feb-10\", \"08-Mar-10\", \"09-Feb-10\", \"09-Mar-10\", \"10-Feb-10\", \n . \"10-Mar-10\", \"11-Feb-10\", \"11-Mar-10\", \"12-Feb-10\", \"12-Mar-10\", \n . \"13-Feb-10\", \"13-Mar-10\", \"14-Feb-10\", \"14-Mar-10\", \"15-Feb-10\", \n . \"15-Mar-10\", \"16-Feb-10\", \"16-Mar-10\", \"17-Feb-10\", \"17-Mar-10\", \n . \"18-Feb-10\", \"18-Mar-10\", \"19-Feb-10\", \"19-Jan-10\", \"19-Mar-10\", \n . \"20-Feb-10\", \"20-Jan-10\", \"20-Mar-10\", \"21-Feb-10\", \"21-Jan-10\", \n . \"21-Mar-10\", \"22-Feb-10\", \"22-Jan-10\", \"22-Mar-10\", \"23-Feb-10\", \n . \"23-Jan-10\", \"23-Mar-10\", \"24-Feb-10\", \"24-Jan-10\", \"24-Mar-10\", \n . \"25-Feb-10\", \"25-Jan-10\", \"25-Mar-10\", \"26-Feb-10\", \"26-Jan-10\", \n . \"26-Mar-10\", \"27-Feb-10\", \"27-Jan-10\", \"27-Mar-10\", \"28-Feb-10\", \n . \"28-Jan-10\", \"28-Mar-10\", \"29-Jan-10\", \"29-Mar-10\", \"30-Jan-10\", \n . \"30-Mar-10\", \"31-Jan-10\", \"31-Mar-10\"), class = \"factor\"), weekday = structure(c(6L, \n . 7L, 5L, 1L, 3L, 4L, 2L, 6L, 7L, 5L, 1L, 3L, 4L, 2L, 6L, 7L, 5L, \n . 1L, 3L, 4L, 2L, 6L, 7L, 5L, 1L, 3L, 4L, 2L, 6L, 7L, 5L, 1L, 3L, \n . 4L, 2L, 6L, 7L, 5L, 1L, 3L, 4L, 2L, 6L, 7L, 5L, 1L, 3L, 4L, 2L, \n . 6L, 7L, 5L, 1L, 3L, 4L, 2L, 6L, 7L, 5L, 1L, 3L, 4L, 2L, 6L, 7L, \n . 5L, 1L, 3L, 4L, 2L, 6L, 7L, NA, NA, NA, NA, NA, NA, NA, NA, NA, \n . NA, NA, NA, NA, NA, NA, NA, NA, NA, NA, NA, NA, NA, NA, NA, NA, \n . NA, NA, NA, NA, NA, NA, NA, NA, NA, NA, NA, NA, NA, NA, NA, NA\n . ), .Label = c(\"Friday\", \"Monday\", \"Saturday\", \"Sunday\", \"Thursday\", \n . \"Tuesday\", \"Wednesday\"), class = \"factor\"), staff = c(1L, 2L, \n . 2L, 2L, NA, NA, 1L, 2L, 2L, 2L, 2L, NA, NA, 1L, 2L, 2L, 2L, 2L, \n . NA, NA, 1L, 2L, 2L, 3L, 3L, NA, NA, 1L, 2L, 2L, 2L, 4L, NA, NA, \n . 1L, 2L, 2L, 2L, 1L, NA, NA, 2L, 1L, 1L, 1L, NA, NA, NA, NA, NA, \n . NA, NA, NA, NA, NA, 2L, 2L, 1L, 2L, 2L, NA, NA, 1L, 2L, 2L, 2L, \n . 3L, NA, NA, 1L, 2L, 2L, NA, NA, NA, NA, NA, NA, NA, NA, NA, NA, \n . NA, NA, NA, NA, NA, NA, NA, NA, NA, NA, NA, NA, NA, NA, NA, NA, \n . NA, NA, NA, NA, NA, NA, NA, NA, NA, NA, NA, NA, NA, NA, NA), \n .     wraps = c(25L, 7L, 14L, 5L, NA, NA, 10L, 5L, 19L, 7L, 4L, \n .     NA, NA, 13L, 10L, 15L, 13L, 6L, NA, NA, 14L, 16L, 12L, 19L, \n .     4L, NA, NA, 12L, 22L, 8L, 19L, 10L, NA, NA, 16L, 23L, 15L, \n .     22L, 5L, NA, NA, 9L, 21L, 13L, 14L, NA, NA, NA, NA, NA, NA, \n .     NA, NA, NA, NA, 17L, 19L, 13L, 15L, 4L, NA, NA, 13L, 14L, \n .     9L, 18L, 4L, NA, NA, 9L, 25L, 15L, NA, NA, NA, NA, NA, NA, \n .     NA, NA, NA, NA, NA, NA, NA, NA, NA, NA, NA, NA, NA, NA, NA, \n .     NA, NA, NA, NA, NA, NA, NA, NA, NA, NA, NA, NA, NA, NA, NA, \n .     NA, NA, NA, NA, NA), pasta = c(5L, 3L, 4L, 5L, NA, NA, 8L, \n .     1L, 6L, 6L, 0L, NA, NA, 3L, 5L, 4L, 14L, 2L, NA, NA, 2L, \n .     11L, 5L, 12L, 0L, NA, NA, 6L, 1L, 9L, 10L, 4L, NA, NA, 9L, \n .     12L, 1L, 8L, 28L, NA, NA, 5L, 10L, 8L, 6L, NA, NA, NA, NA, \n .     NA, NA, NA, NA, NA, NA, 3L, 5L, 3L, 1L, 5L, NA, NA, 3L, 7L, \n .     8L, 3L, 3L, NA, NA, 3L, 11L, 1L, NA, NA, NA, NA, NA, NA, \n .     NA, NA, NA, NA, NA, NA, NA, NA, NA, NA, NA, NA, NA, NA, NA, \n .     NA, NA, NA, NA, NA, NA, NA, NA, NA, NA, NA, NA, NA, NA, NA, \n .     NA, NA, NA, NA, NA), dessert = c(5L, 1L, 1L, 3L, NA, NA, \n .     3L, 5L, 10L, 5L, 3L, NA, NA, 6L, 5L, 4L, 13L, 1L, NA, NA, \n .     8L, 9L, 7L, 9L, 2L, NA, NA, 8L, 3L, 10L, 9L, 4L, NA, NA, \n .     7L, 12L, 6L, 4L, 8L, NA, NA, 6L, 9L, 8L, 8L, NA, NA, NA, \n .     NA, NA, NA, NA, NA, NA, NA, 4L, 13L, 6L, 5L, 3L, NA, NA, \n .     2L, 4L, 5L, 3L, 5L, NA, NA, 1L, 9L, 9L, NA, NA, NA, NA, NA, \n .     NA, NA, NA, NA, NA, NA, NA, NA, NA, NA, NA, NA, NA, NA, NA, \n .     NA, NA, NA, NA, NA, NA, NA, NA, NA, NA, NA, NA, NA, NA, NA, \n .     NA, NA, NA, NA, NA, NA), fruitcup = c(1L, 0L, 0L, 3L, NA, \n .     NA, 2L, 2L, 2L, 0L, 1L, NA, NA, 2L, 1L, 2L, 3L, 0L, NA, NA, \n .     1L, 2L, 1L, 2L, 2L, NA, NA, 2L, 3L, 1L, 3L, 0L, NA, NA, 1L, \n .     4L, 1L, 4L, 0L, NA, NA, 2L, 2L, 3L, 2L, NA, NA, NA, NA, NA, \n .     NA, NA, NA, NA, NA, 2L, 1L, 0L, 4L, 1L, NA, NA, 2L, 2L, 2L, \n .     2L, 1L, NA, NA, 0L, 4L, 3L, NA, NA, NA, NA, NA, NA, NA, NA, \n .     NA, NA, NA, NA, NA, NA, NA, NA, NA, NA, NA, NA, NA, NA, NA, \n .     NA, NA, NA, NA, NA, NA, NA, NA, NA, NA, NA, NA, NA, NA, NA, \n .     NA, NA, NA), chips = c(12L, 0L, 0L, 20L, NA, NA, 0L, 4L, \n .     2L, 20L, 3L, NA, NA, 16L, 2L, 9L, 13L, 10L, NA, NA, 9L, 11L, \n .     14L, 4L, 25L, NA, NA, 7L, 13L, 11L, 8L, 14L, NA, NA, 11L, \n .     21L, 11L, 10L, 11L, NA, NA, 10L, 12L, 9L, 8L, NA, NA, NA, \n .     NA, NA, NA, NA, NA, NA, NA, 9L, 11L, 7L, 8L, 1L, NA, NA, \n .     8L, 7L, 7L, 9L, 3L, NA, NA, 4L, 9L, 6L, NA, NA, NA, NA, NA, \n .     NA, NA, NA, NA, NA, NA, NA, NA, NA, NA, NA, NA, NA, NA, NA, \n .     NA, NA, NA, NA, NA, NA, NA, NA, NA, NA, NA, NA, NA, NA, NA, \n .     NA, NA, NA, NA, NA, NA), juice = c(8L, 0L, 13L, 0L, NA, NA, \n .     5L, 4L, 5L, 6L, 4L, NA, NA, 7L, 0L, 6L, 6L, 1L, NA, NA, 2L, \n .     8L, 3L, 2L, 2L, NA, NA, 7L, 5L, 2L, 12L, 4L, NA, NA, 2L, \n .     5L, 5L, 4L, 21L, NA, NA, 7L, 7L, 4L, 5L, NA, NA, NA, NA, \n .     NA, NA, NA, NA, NA, NA, 3L, 4L, 4L, 5L, 3L, NA, NA, 7L, 6L, \n .     5L, 4L, 2L, NA, NA, 0L, 10L, 4L, NA, NA, NA, NA, NA, NA, \n .     NA, NA, NA, NA, NA, NA, NA, NA, NA, NA, NA, NA, NA, NA, NA, \n .     NA, NA, NA, NA, NA, NA, NA, NA, NA, NA, NA, NA, NA, NA, NA, \n .     NA, NA, NA, NA, NA), soda = c(20L, 13L, 23L, 13L, NA, NA, \n .     13L, 33L, 15L, 27L, 12L, NA, NA, 19L, 33L, 20L, 29L, 14L, \n .     NA, NA, 17L, 31L, 24L, 31L, 15L, NA, NA, 26L, 39L, 24L, 35L, \n .     11L, NA, NA, 25L, 36L, 33L, 37L, 22L, NA, NA, 36L, 54L, 34L, \n .     43L, NA, NA, NA, NA, NA, NA, NA, NA, NA, NA, 24L, 48L, 35L, \n .     33L, 24L, NA, NA, 30L, 50L, 45L, 50L, 26L, NA, NA, 26L, 55L, \n .     42L, NA, NA, NA, NA, NA, NA, NA, NA, NA, NA, NA, NA, NA, \n .     NA, NA, NA, NA, NA, NA, NA, NA, NA, NA, NA, NA, NA, NA, NA, \n .     NA, NA, NA, NA, NA, NA, NA, NA, NA, NA, NA, NA, NA), coffee = c(41L, \n .     33L, 34L, 27L, NA, NA, 20L, 23L, 32L, 24L, 30L, NA, NA, 27L, \n .     30L, 27L, 26L, 24L, NA, NA, 18L, 22L, 21L, 28L, 23L, NA, \n .     NA, 31L, 29L, 48L, 25L, 31L, NA, NA, 25L, 35L, 33L, 35L, \n .     16L, NA, NA, 24L, 20L, 11L, 21L, NA, NA, NA, NA, NA, NA, \n .     NA, NA, NA, NA, 8L, 8L, 4L, 4L, 3L, NA, NA, 5L, 6L, 4L, 13L, \n .     4L, NA, NA, 16L, 14L, 10L, NA, NA, NA, NA, NA, NA, NA, NA, \n .     NA, NA, NA, NA, NA, NA, NA, NA, NA, NA, NA, NA, NA, NA, NA, \n .     NA, NA, NA, NA, NA, NA, NA, NA, NA, NA, NA, NA, NA, NA, NA, \n .     NA, NA, NA), total_sales = c(199.95, 195.74, 102.68, 162.88, \n .     NA, NA, 101.76, 186.94, 120.18, 228.78, 88.02, NA, NA, 119.57, \n .     172.31, 137.65, 197.56, 70, NA, NA, 97, 181.43, 125.57, 180.63, \n .     75.87, NA, NA, 150.51, 177.41, 153.84, 205.36, NA, NA, 118.54, \n .     138.04, 236.01, 149.58, 206.17, 93.1, NA, NA, 151.91, 217.29, \n .     148.24, 168.08, NA, NA, NA, NA, NA, NA, NA, NA, NA, NA, 130.77, \n .     164.54, 121.41, NA, NA, 127.93, 61.94, 128.59, 159.23, 148.08, \n .     164.86, 74.13, NA, NA, 82.96, 240.87, 151.52, NA, NA, NA, \n .     NA, NA, NA, NA, NA, NA, NA, NA, NA, NA, NA, NA, NA, NA, NA, \n .     NA, NA, NA, NA, NA, NA, NA, NA, NA, NA, NA, NA, NA, NA, NA, \n .     NA, NA, NA, NA, NA, NA, NA, NA), temp = c(36L, 34L, 39L, \n .     40L, 49L, 55L, 36L, 26L, 34L, 33L, 20L, 27L, 32L, 37L, 38L, \n .     33L, 39L, 35L, 32L, 30L, 31L, 29L, 26L, 28L, 30L, 30L, 32L, \n .     26L, 29L, 29L, 34L, 39L, 45L, 41L, 36L, 33L, 28L, 33L, 35L, \n .     34L, 41L, 40L, 39L, 39L, 45L, 47L, 49L, 53L, 56L, 58L, 70L, \n .     67L, 54L, 47L, 47L, 48L, 61L, 64L, 64L, 65L, 67L, 49L, 47L, \n .     62L, 66L, 56L, 49L, 59L, 54L, 56L, 62L, 76L, NA, NA, NA, \n .     NA, NA, NA, NA, NA, NA, NA, NA, NA, NA, NA, NA, NA, NA, NA, \n .     NA, NA, NA, NA, NA, NA, NA, NA, NA, NA, NA, NA, NA, NA, NA, \n .     NA, NA, NA, NA, NA, NA, NA, NA), humidity = c(82L, 78L, 85L, \n .     85L, 80L, 66L, 64L, 62L, 59L, 49L, 56L, 46L, 47L, 47L, 56L, \n .     69L, 64L, 70L, 57L, 53L, 63L, 70L, 74L, 55L, 47L, 49L, 63L, \n .     71L, 69L, 63L, 56L, 37L, 49L, 75L, 82L, 78L, 68L, 58L, 47L, \n .     58L, 64L, 70L, 64L, 59L, 40L, 31L, 34L, 38L, 59L, 55L, 49L, \n .     58L, 74L, 86L, 71L, 71L, 31L, 27L, 37L, 37L, 42L, 71L, 71L, \n .     36L, 44L, 66L, 36L, 38L, 62L, 51L, 42L, 35L, NA, NA, NA, \n .     NA, NA, NA, NA, NA, NA, NA, NA, NA, NA, NA, NA, NA, NA, NA, \n .     NA, NA, NA, NA, NA, NA, NA, NA, NA, NA, NA, NA, NA, NA, NA, \n .     NA, NA, NA, NA, NA, NA, NA, NA), windspeed = c(12L, 16L, \n .     16L, 12L, 17L, 29L, 25L, 23L, 13L, 24L, 17L, 16L, 10L, 9L, \n .     14L, 14L, 14L, 24L, 26L, 8L, 14L, 23L, 29L, 9L, 6L, 13L, \n .     9L, 17L, 18L, 14L, 12L, 8L, 13L, 13L, 16L, 14L, 17L, 18L, \n .     23L, 16L, 13L, 14L, 16L, 14L, 14L, 9L, 8L, 15L, 8L, 17L, \n .     23L, 30L, 13L, 13L, 16L, 14L, 16L, 14L, 15L, 17L, 17L, 22L, \n .     21L, 12L, 14L, 30L, 17L, 16L, 20L, 16L, 14L, 26L, NA, NA, \n .     NA, NA, NA, NA, NA, NA, NA, NA, NA, NA, NA, NA, NA, NA, NA, \n .     NA, NA, NA, NA, NA, NA, NA, NA, NA, NA, NA, NA, NA, NA, NA, \n .     NA, NA, NA, NA, NA, NA, NA, NA, NA), rainfall = c(0, 0.06, \n .     0.45, 0, 0, 0.24, 0.03, 0, 0, 0, 0, 0, 0, 0, 0, 0, 0, 0.12, \n .     0, 0, 0, 0, 0, 0, 0, 0, 0, 0.04, 0, 0, 0, 0, 0, 0.06, 0, \n .     0, 0, 0, 0, 0, 0, 0, 0, 0, 0, 0, 0, 0.09, 0, 0, 0.01, 0.15, \n .     0.19, 0, 0, 0, 0, 0, 0, 0, 0, 0, 0.07, 0, 0, 0.88, 0, 0.06, \n .     0.13, 0, 0, 0, NA, NA, NA, NA, NA, NA, NA, NA, NA, NA, NA, \n .     NA, NA, NA, NA, NA, NA, NA, NA, NA, NA, NA, NA, NA, NA, NA, \n .     NA, NA, NA, NA, NA, NA, NA, NA, NA, NA, NA, NA, NA, NA, NA\n .     ), wind = c(12L, 16L, 16L, 12L, 17L, 29L, 25L, 23L, 13L, \n .     24L, 17L, 16L, 10L, 9L, 14L, 14L, 14L, 24L, 26L, 8L, 14L, \n .     23L, 29L, 9L, 6L, 13L, 9L, 17L, 18L, 14L, 12L, 8L, 13L, 13L, \n .     16L, 14L, 17L, 18L, 23L, 16L, 13L, 14L, 16L, 14L, 14L, 9L, \n .     8L, 15L, 8L, 17L, 23L, 30L, 13L, 13L, 16L, 14L, 16L, 14L, \n .     15L, 17L, 17L, 22L, 21L, 12L, 14L, 30L, 17L, 16L, 20L, 16L, \n .     14L, 26L, NA, NA, NA, NA, NA, NA, NA, NA, NA, NA, NA, NA, \n .     NA, NA, NA, NA, NA, NA, NA, NA, NA, NA, NA, NA, NA, NA, NA, \n .     NA, NA, NA, NA, NA, NA, NA, NA, NA, NA, NA, NA, NA, NA)), class = \"data.frame\", row.names = c(NA, \n . 113L), terms = pizza ~ date + weekday + staff + wraps + pasta + \n .     dessert + fruitcup + chips + juice + soda + coffee + total_sales + \n .     temp + humidity + windspeed + rainfall + wind))",
      "10. stop(\"missing values in object\")"
     ]
    }
   ],
   "source": [
    "set.seed(123)\n",
    "train_control <- trainControl(method = 'cv', number = 10)\n",
    "\n",
    "step.model <- train(pizza ~ ., data  = sales,\n",
    "                    method = 'leapForward',\n",
    "                    trControl = train_control)\n",
    "step.model$results\n",
    "step.model$bestTune\n",
    "summary(step.model$finalModel)\n"
   ]
  },
  {
   "cell_type": "code",
   "execution_count": 142,
   "metadata": {},
   "outputs": [
    {
     "data": {},
     "metadata": {},
     "output_type": "display_data"
    },
    {
     "data": {
      "image/png": "[encoded data removed]",
      "text/plain": [
       "plot without title"
      ]
     },
     "metadata": {},
     "output_type": "display_data"
    }
   ],
   "source": [
    "plot(step.model)"
   ]
  },
  {
   "cell_type": "code",
   "execution_count": 80,
   "metadata": {},
   "outputs": [
    {
     "name": "stdout",
     "output_type": "stream",
     "text": [
      "Start:  AIC=59.23\n",
      "pizza ~ weekday + staff + wraps + pasta + dessert + fruitcup + \n",
      "    chips + juice + soda + coffee + total_sales + temp + humidity + \n",
      "    rainfall + wind + food\n",
      "\n"
     ]
    },
    {
     "data": {
      "text/plain": [
       "\n",
       "Call:\n",
       "lm(formula = pizza ~ ., data = sales)\n",
       "\n",
       "Residuals:\n",
       "    Min      1Q  Median      3Q     Max \n",
       "-3.5337 -0.9506  0.1591  0.7564  2.0087 \n",
       "\n",
       "Coefficients: (1 not defined because of singularities)\n",
       "                 Estimate Std. Error t value Pr(>|t|)   \n",
       "(Intercept)      -1.66674    3.97855  -0.419  0.67915   \n",
       "weekdayMonday     1.23528    1.37734   0.897  0.37909   \n",
       "weekdayThursday   3.94176    1.83748   2.145  0.04273 * \n",
       "weekdayTuesday    4.67947    1.96843   2.377  0.02614 * \n",
       "weekdayWednesday  3.00408    1.47046   2.043  0.05268 . \n",
       "staffSara         1.09269    0.78998   1.383  0.17989   \n",
       "staffTom          2.51507    1.52502   1.649  0.11270   \n",
       "wraps             0.05069    0.08071   0.628  0.53618   \n",
       "pasta             0.11028    0.09011   1.224  0.23339   \n",
       "dessert           0.14979    0.12694   1.180  0.25005   \n",
       "fruitcup          0.08841    0.34048   0.260  0.79744   \n",
       "chips            -0.05786    0.05679  -1.019  0.31883   \n",
       "juice            -0.08610    0.10042  -0.857  0.40007   \n",
       "soda              0.04766    0.04963   0.960  0.34696   \n",
       "coffee           -0.04274    0.04904  -0.872  0.39244   \n",
       "total_sales      -0.02218    0.01362  -1.628  0.11715   \n",
       "temp             -0.01343    0.04270  -0.315  0.75589   \n",
       "humidity          0.09896    0.03485   2.839  0.00929 **\n",
       "rainfall         -0.42564    2.97358  -0.143  0.88742   \n",
       "wind             -0.06082    0.06665  -0.912  0.37098   \n",
       "food                   NA         NA      NA       NA   \n",
       "---\n",
       "Signif. codes:  0 ‘***’ 0.001 ‘**’ 0.01 ‘*’ 0.05 ‘.’ 0.1 ‘ ’ 1\n",
       "\n",
       "Residual standard error: 1.71 on 23 degrees of freedom\n",
       "Multiple R-squared:  0.7301,\tAdjusted R-squared:  0.5072 \n",
       "F-statistic: 3.275 on 19 and 23 DF,  p-value: 0.00388\n"
      ]
     },
     "metadata": {},
     "output_type": "display_data"
    }
   ],
   "source": [
    "model_5 = lm(pizza~., sales)\n",
    "model_5_min = lm(pizza~1, sales)\n",
    "model_5_max = lm(pizza~., sales)\n",
    "\n",
    "scp = list(lower=model_5_min,upper=model_5_max)\n",
    "\n",
    "model_selected = stepAIC(model_5, \n",
    "                         direction='forward',\n",
    "                         score=scp, \n",
    "                         steps=1)\n",
    "\n",
    "summary(model_5)"
   ]
  },
  {
   "cell_type": "code",
   "execution_count": 56,
   "metadata": {},
   "outputs": [
    {
     "name": "stderr",
     "output_type": "stream",
     "text": [
      "Loading required package: carData\n",
      "\n",
      "Attaching package: ‘car’\n",
      "\n",
      "The following object is masked from ‘package:dplyr’:\n",
      "\n",
      "    recode\n",
      "\n"
     ]
    },
    {
     "data": {
      "text/plain": [
       "No Studentized residuals with Bonferroni p < 0.05\n",
       "Largest |rstudent|:\n",
       "   rstudent unadjusted p-value Bonferroni p\n",
       "18 2.910895          0.0066197      0.28465"
      ]
     },
     "metadata": {},
     "output_type": "display_data"
    }
   ],
   "source": [
    "library(MASS)\n",
    "library(car)\n",
    "library(ggplot2)\n",
    "library(dplyr)\n",
    "\n",
    "\n",
    "library(scales) # Visualization\n",
    "library(caTools) # Prediction: Splitting Data\n",
    "library(car) # Prediction: Checking Multicollinearity\n",
    "library(e1071) # Prediction: SVM, Naive Bayes, Parameter Tuning\n",
    "library(rpart) # Prediction: Decision Tree\n",
    "library(caret) # Prediction: k-Fold Cross Validatio\n",
    "outlierTest(lm_step)"
   ]
  },
  {
   "cell_type": "code",
   "execution_count": 152,
   "metadata": {},
   "outputs": [
    {
     "data": {
      "text/html": [
       "84.8753429896902"
      ],
      "text/latex": [
       "84.8753429896902"
      ],
      "text/markdown": [
       "84.8753429896902"
      ],
      "text/plain": [
       "[1] 84.87534"
      ]
     },
     "metadata": {},
     "output_type": "display_data"
    }
   ],
   "source": [
    "lm_step = lm(pizza ~ weekday + humidity + staff + dessert + total_sales +  soda, data = sales)\n",
    "rss<-anova(lm_step)[\"Residuals\", \"Sum Sq\"]\n",
    "rss"
   ]
  },
  {
   "cell_type": "code",
   "execution_count": 32,
   "metadata": {},
   "outputs": [
    {
     "data": {
      "text/plain": [
       "\n",
       "Call:\n",
       "lm(formula = pizza ~ weekday + humidity + staff + dessert + total_sales + \n",
       "    soda, data = sales)\n",
       "\n",
       "Residuals:\n",
       "     Min       1Q   Median       3Q      Max \n",
       "-3.06174 -0.99589  0.06394  0.77025  2.96439 \n",
       "\n",
       "Coefficients:\n",
       "                  Estimate Std. Error t value Pr(>|t|)    \n",
       "(Intercept)      -4.572614   1.878000  -2.435 0.020654 *  \n",
       "weekdayMonday     1.699653   1.046001   1.625 0.113993    \n",
       "weekdayThursday   4.080927   1.242567   3.284 0.002480 ** \n",
       "weekdayTuesday    4.984927   1.364267   3.654 0.000916 ***\n",
       "weekdayWednesday  3.282669   1.039462   3.158 0.003455 ** \n",
       "humidity          0.094753   0.022365   4.237 0.000179 ***\n",
       "staffSara         0.790680   0.653504   1.210 0.235177    \n",
       "staffTom          3.155763   1.203885   2.621 0.013293 *  \n",
       "dessert           0.224218   0.089948   2.493 0.018043 *  \n",
       "total_sales      -0.020486   0.009864  -2.077 0.045926 *  \n",
       "soda              0.059439   0.033714   1.763 0.087441 .  \n",
       "---\n",
       "Signif. codes:  0 ‘***’ 0.001 ‘**’ 0.01 ‘*’ 0.05 ‘.’ 0.1 ‘ ’ 1\n",
       "\n",
       "Residual standard error: 1.598 on 32 degrees of freedom\n",
       "Multiple R-squared:  0.6721,\tAdjusted R-squared:  0.5696 \n",
       "F-statistic: 6.558 on 10 and 32 DF,  p-value: 1.99e-05\n"
      ]
     },
     "metadata": {},
     "output_type": "display_data"
    }
   ],
   "source": [
    "summary(lm_step)"
   ]
  },
  {
   "cell_type": "code",
   "execution_count": 163,
   "metadata": {},
   "outputs": [
    {
     "data": {
      "text/html": [
       "81.71237220139"
      ],
      "text/latex": [
       "81.71237220139"
      ],
      "text/markdown": [
       "81.71237220139"
      ],
      "text/plain": [
       "[1] 81.71237"
      ]
     },
     "metadata": {},
     "output_type": "display_data"
    }
   ],
   "source": [
    "#plot(lm.selected)\n",
    "RSS=anova(lm.selected)[\"Residuals\", \"Sum Sq\"]\n",
    "RSS"
   ]
  },
  {
   "cell_type": "code",
   "execution_count": 34,
   "metadata": {},
   "outputs": [
    {
     "data": {
      "text/html": [
       "<table>\n",
       "<thead><tr><th scope=col>weekday</th><th scope=col>staff</th><th scope=col>pizza</th><th scope=col>wraps</th><th scope=col>pasta</th><th scope=col>dessert</th><th scope=col>fruitcup</th><th scope=col>chips</th><th scope=col>juice</th><th scope=col>soda</th><th scope=col>coffee</th><th scope=col>total_sales</th><th scope=col>temp</th><th scope=col>humidity</th><th scope=col>rainfall</th><th scope=col>wind</th></tr></thead>\n",
       "<tbody>\n",
       "\t<tr><td>Thursday</td><td>Tom     </td><td>11      </td><td>19      </td><td>12      </td><td>9       </td><td>2       </td><td>4       </td><td>2       </td><td>31      </td><td>28      </td><td>180.63  </td><td>28      </td><td>55      </td><td>0       </td><td>9       </td></tr>\n",
       "</tbody>\n",
       "</table>\n"
      ],
      "text/latex": [
       "\\begin{tabular}{r|llllllllllllllll}\n",
       " weekday & staff & pizza & wraps & pasta & dessert & fruitcup & chips & juice & soda & coffee & total\\_sales & temp & humidity & rainfall & wind\\\\\n",
       "\\hline\n",
       "\t Thursday & Tom      & 11       & 19       & 12       & 9        & 2        & 4        & 2        & 31       & 28       & 180.63   & 28       & 55       & 0        & 9       \\\\\n",
       "\\end{tabular}\n"
      ],
      "text/markdown": [
       "\n",
       "weekday | staff | pizza | wraps | pasta | dessert | fruitcup | chips | juice | soda | coffee | total_sales | temp | humidity | rainfall | wind | \n",
       "|---|\n",
       "| Thursday | Tom      | 11       | 19       | 12       | 9        | 2        | 4        | 2        | 31       | 28       | 180.63   | 28       | 55       | 0        | 9        | \n",
       "\n",
       "\n"
      ],
      "text/plain": [
       "  weekday  staff pizza wraps pasta dessert fruitcup chips juice soda coffee\n",
       "1 Thursday Tom   11    19    12    9       2        4     2     31   28    \n",
       "  total_sales temp humidity rainfall wind\n",
       "1 180.63      28   55       0        9   "
      ]
     },
     "metadata": {},
     "output_type": "display_data"
    },
    {
     "data": {
      "text/html": [
       "<table>\n",
       "<thead><tr><th scope=col>weekday</th><th scope=col>staff</th><th scope=col>pizza</th><th scope=col>wraps</th><th scope=col>pasta</th><th scope=col>dessert</th><th scope=col>fruitcup</th><th scope=col>chips</th><th scope=col>juice</th><th scope=col>soda</th><th scope=col>coffee</th><th scope=col>total_sales</th><th scope=col>temp</th><th scope=col>humidity</th><th scope=col>rainfall</th><th scope=col>wind</th></tr></thead>\n",
       "<tbody>\n",
       "\t<tr><td>Monday   </td><td>Harry    </td><td> 2       </td><td>13       </td><td> 3       </td><td> 6       </td><td>2        </td><td>16       </td><td>7        </td><td>19       </td><td>27       </td><td>119.57   </td><td>37       </td><td>47       </td><td>0.00     </td><td> 9       </td></tr>\n",
       "\t<tr><td>Tuesday  </td><td>Sara     </td><td> 3       </td><td>10       </td><td> 5       </td><td> 5       </td><td>1        </td><td> 2       </td><td>0        </td><td>33       </td><td>30       </td><td>172.31   </td><td>38       </td><td>56       </td><td>0.00     </td><td>14       </td></tr>\n",
       "\t<tr><td>Wednesday</td><td>Sara     </td><td> 4       </td><td>15       </td><td> 4       </td><td> 4       </td><td>2        </td><td> 9       </td><td>6        </td><td>20       </td><td>27       </td><td>137.65   </td><td>33       </td><td>69       </td><td>0.00     </td><td>14       </td></tr>\n",
       "\t<tr><td>Thursday </td><td>Sara     </td><td> 9       </td><td>13       </td><td>14       </td><td>13       </td><td>3        </td><td>13       </td><td>6        </td><td>29       </td><td>26       </td><td>197.56   </td><td>39       </td><td>64       </td><td>0.00     </td><td>14       </td></tr>\n",
       "\t<tr><td>Friday   </td><td>Sara     </td><td> 1       </td><td> 6       </td><td> 2       </td><td> 1       </td><td>0        </td><td>10       </td><td>1        </td><td>14       </td><td>24       </td><td> 70.00   </td><td>35       </td><td>70       </td><td>0.12     </td><td>24       </td></tr>\n",
       "\t<tr><td>Monday   </td><td>Harry    </td><td> 3       </td><td>14       </td><td> 2       </td><td> 8       </td><td>1        </td><td> 9       </td><td>2        </td><td>17       </td><td>18       </td><td> 97.00   </td><td>31       </td><td>63       </td><td>0.00     </td><td>14       </td></tr>\n",
       "\t<tr><td>Tuesday  </td><td>Sara     </td><td> 8       </td><td>16       </td><td>11       </td><td> 9       </td><td>2        </td><td>11       </td><td>8        </td><td>31       </td><td>22       </td><td>181.43   </td><td>29       </td><td>70       </td><td>0.00     </td><td>23       </td></tr>\n",
       "\t<tr><td>Wednesday</td><td>Sara     </td><td> 7       </td><td>12       </td><td> 5       </td><td> 7       </td><td>1        </td><td>14       </td><td>3        </td><td>24       </td><td>21       </td><td>125.57   </td><td>26       </td><td>74       </td><td>0.00     </td><td>29       </td></tr>\n",
       "\t<tr><td>Thursday </td><td>Tom      </td><td>11       </td><td>19       </td><td>12       </td><td> 9       </td><td>2        </td><td> 4       </td><td>2        </td><td>31       </td><td>28       </td><td>180.63   </td><td>28       </td><td>55       </td><td>0.00     </td><td> 9       </td></tr>\n",
       "\t<tr><td>Friday   </td><td>Tom      </td><td> 2       </td><td> 4       </td><td> 0       </td><td> 2       </td><td>2        </td><td>25       </td><td>2        </td><td>15       </td><td>23       </td><td> 75.87   </td><td>30       </td><td>47       </td><td>0.00     </td><td> 6       </td></tr>\n",
       "\t<tr><td>Monday   </td><td>Harry    </td><td> 3       </td><td>12       </td><td> 6       </td><td> 8       </td><td>2        </td><td> 7       </td><td>7        </td><td>26       </td><td>31       </td><td>150.51   </td><td>26       </td><td>71       </td><td>0.04     </td><td>17       </td></tr>\n",
       "</tbody>\n",
       "</table>\n"
      ],
      "text/latex": [
       "\\begin{tabular}{r|llllllllllllllll}\n",
       " weekday & staff & pizza & wraps & pasta & dessert & fruitcup & chips & juice & soda & coffee & total\\_sales & temp & humidity & rainfall & wind\\\\\n",
       "\\hline\n",
       "\t Monday    & Harry     &  2        & 13        &  3        &  6        & 2         & 16        & 7         & 19        & 27        & 119.57    & 37        & 47        & 0.00      &  9       \\\\\n",
       "\t Tuesday   & Sara      &  3        & 10        &  5        &  5        & 1         &  2        & 0         & 33        & 30        & 172.31    & 38        & 56        & 0.00      & 14       \\\\\n",
       "\t Wednesday & Sara      &  4        & 15        &  4        &  4        & 2         &  9        & 6         & 20        & 27        & 137.65    & 33        & 69        & 0.00      & 14       \\\\\n",
       "\t Thursday  & Sara      &  9        & 13        & 14        & 13        & 3         & 13        & 6         & 29        & 26        & 197.56    & 39        & 64        & 0.00      & 14       \\\\\n",
       "\t Friday    & Sara      &  1        &  6        &  2        &  1        & 0         & 10        & 1         & 14        & 24        &  70.00    & 35        & 70        & 0.12      & 24       \\\\\n",
       "\t Monday    & Harry     &  3        & 14        &  2        &  8        & 1         &  9        & 2         & 17        & 18        &  97.00    & 31        & 63        & 0.00      & 14       \\\\\n",
       "\t Tuesday   & Sara      &  8        & 16        & 11        &  9        & 2         & 11        & 8         & 31        & 22        & 181.43    & 29        & 70        & 0.00      & 23       \\\\\n",
       "\t Wednesday & Sara      &  7        & 12        &  5        &  7        & 1         & 14        & 3         & 24        & 21        & 125.57    & 26        & 74        & 0.00      & 29       \\\\\n",
       "\t Thursday  & Tom       & 11        & 19        & 12        &  9        & 2         &  4        & 2         & 31        & 28        & 180.63    & 28        & 55        & 0.00      &  9       \\\\\n",
       "\t Friday    & Tom       &  2        &  4        &  0        &  2        & 2         & 25        & 2         & 15        & 23        &  75.87    & 30        & 47        & 0.00      &  6       \\\\\n",
       "\t Monday    & Harry     &  3        & 12        &  6        &  8        & 2         &  7        & 7         & 26        & 31        & 150.51    & 26        & 71        & 0.04      & 17       \\\\\n",
       "\\end{tabular}\n"
      ],
      "text/markdown": [
       "\n",
       "weekday | staff | pizza | wraps | pasta | dessert | fruitcup | chips | juice | soda | coffee | total_sales | temp | humidity | rainfall | wind | \n",
       "|---|---|---|---|---|---|---|---|---|---|---|\n",
       "| Monday    | Harry     |  2        | 13        |  3        |  6        | 2         | 16        | 7         | 19        | 27        | 119.57    | 37        | 47        | 0.00      |  9        | \n",
       "| Tuesday   | Sara      |  3        | 10        |  5        |  5        | 1         |  2        | 0         | 33        | 30        | 172.31    | 38        | 56        | 0.00      | 14        | \n",
       "| Wednesday | Sara      |  4        | 15        |  4        |  4        | 2         |  9        | 6         | 20        | 27        | 137.65    | 33        | 69        | 0.00      | 14        | \n",
       "| Thursday  | Sara      |  9        | 13        | 14        | 13        | 3         | 13        | 6         | 29        | 26        | 197.56    | 39        | 64        | 0.00      | 14        | \n",
       "| Friday    | Sara      |  1        |  6        |  2        |  1        | 0         | 10        | 1         | 14        | 24        |  70.00    | 35        | 70        | 0.12      | 24        | \n",
       "| Monday    | Harry     |  3        | 14        |  2        |  8        | 1         |  9        | 2         | 17        | 18        |  97.00    | 31        | 63        | 0.00      | 14        | \n",
       "| Tuesday   | Sara      |  8        | 16        | 11        |  9        | 2         | 11        | 8         | 31        | 22        | 181.43    | 29        | 70        | 0.00      | 23        | \n",
       "| Wednesday | Sara      |  7        | 12        |  5        |  7        | 1         | 14        | 3         | 24        | 21        | 125.57    | 26        | 74        | 0.00      | 29        | \n",
       "| Thursday  | Tom       | 11        | 19        | 12        |  9        | 2         |  4        | 2         | 31        | 28        | 180.63    | 28        | 55        | 0.00      |  9        | \n",
       "| Friday    | Tom       |  2        |  4        |  0        |  2        | 2         | 25        | 2         | 15        | 23        |  75.87    | 30        | 47        | 0.00      |  6        | \n",
       "| Monday    | Harry     |  3        | 12        |  6        |  8        | 2         |  7        | 7         | 26        | 31        | 150.51    | 26        | 71        | 0.04      | 17        | \n",
       "\n",
       "\n"
      ],
      "text/plain": [
       "   weekday   staff pizza wraps pasta dessert fruitcup chips juice soda coffee\n",
       "1  Monday    Harry  2    13     3     6      2        16    7     19   27    \n",
       "2  Tuesday   Sara   3    10     5     5      1         2    0     33   30    \n",
       "3  Wednesday Sara   4    15     4     4      2         9    6     20   27    \n",
       "4  Thursday  Sara   9    13    14    13      3        13    6     29   26    \n",
       "5  Friday    Sara   1     6     2     1      0        10    1     14   24    \n",
       "6  Monday    Harry  3    14     2     8      1         9    2     17   18    \n",
       "7  Tuesday   Sara   8    16    11     9      2        11    8     31   22    \n",
       "8  Wednesday Sara   7    12     5     7      1        14    3     24   21    \n",
       "9  Thursday  Tom   11    19    12     9      2         4    2     31   28    \n",
       "10 Friday    Tom    2     4     0     2      2        25    2     15   23    \n",
       "11 Monday    Harry  3    12     6     8      2         7    7     26   31    \n",
       "   total_sales temp humidity rainfall wind\n",
       "1  119.57      37   47       0.00      9  \n",
       "2  172.31      38   56       0.00     14  \n",
       "3  137.65      33   69       0.00     14  \n",
       "4  197.56      39   64       0.00     14  \n",
       "5   70.00      35   70       0.12     24  \n",
       "6   97.00      31   63       0.00     14  \n",
       "7  181.43      29   70       0.00     23  \n",
       "8  125.57      26   74       0.00     29  \n",
       "9  180.63      28   55       0.00      9  \n",
       "10  75.87      30   47       0.00      6  \n",
       "11 150.51      26   71       0.04     17  "
      ]
     },
     "metadata": {},
     "output_type": "display_data"
    },
    {
     "data": {
      "text/html": [
       "4.86046511627907"
      ],
      "text/latex": [
       "4.86046511627907"
      ],
      "text/markdown": [
       "4.86046511627907"
      ],
      "text/plain": [
       "[1] 4.860465"
      ]
     },
     "metadata": {},
     "output_type": "display_data"
    }
   ],
   "source": [
    "sales[18,]\n",
    "sales[10:20,]\n",
    "mean(sales$pizza)"
   ]
  },
  {
   "cell_type": "code",
   "execution_count": 35,
   "metadata": {},
   "outputs": [],
   "source": [
    "lm.day<-lm(pizza~weekday,data=sales)"
   ]
  },
  {
   "cell_type": "code",
   "execution_count": 36,
   "metadata": {},
   "outputs": [
    {
     "data": {
      "text/plain": [
       "\n",
       "Call:\n",
       "lm(formula = pizza ~ weekday, data = sales)\n",
       "\n",
       "Residuals:\n",
       "    Min      1Q  Median      3Q     Max \n",
       "-5.8750 -1.0000 -0.1667  1.1500  5.1250 \n",
       "\n",
       "Coefficients:\n",
       "                 Estimate Std. Error t value Pr(>|t|)    \n",
       "(Intercept)        2.1667     0.8058   2.689  0.01058 *  \n",
       "weekdayMonday      1.3889     1.0402   1.335  0.18977    \n",
       "weekdayThursday    3.7083     1.0659   3.479  0.00128 ** \n",
       "weekdayTuesday     4.5333     1.0192   4.448 7.32e-05 ***\n",
       "weekdayWednesday   2.8333     1.0192   2.780  0.00841 ** \n",
       "---\n",
       "Signif. codes:  0 ‘***’ 0.001 ‘**’ 0.01 ‘*’ 0.05 ‘.’ 0.1 ‘ ’ 1\n",
       "\n",
       "Residual standard error: 1.974 on 38 degrees of freedom\n",
       "Multiple R-squared:  0.4059,\tAdjusted R-squared:  0.3434 \n",
       "F-statistic:  6.49 on 4 and 38 DF,  p-value: 0.0004402\n"
      ]
     },
     "metadata": {},
     "output_type": "display_data"
    }
   ],
   "source": [
    "summary(lm.day)"
   ]
  },
  {
   "cell_type": "code",
   "execution_count": 37,
   "metadata": {},
   "outputs": [
    {
     "name": "stderr",
     "output_type": "stream",
     "text": [
      "Loading required package: lattice\n",
      "Loading required package: ggplot2\n"
     ]
    },
    {
     "data": {
      "text/plain": [
       "\n",
       "Call:\n",
       "lm(formula = .outcome ~ ., data = dat)\n",
       "\n",
       "Residuals:\n",
       "    Min      1Q  Median      3Q     Max \n",
       "-5.8750 -1.0000 -0.1667  1.1500  5.1250 \n",
       "\n",
       "Coefficients:\n",
       "                 Estimate Std. Error t value Pr(>|t|)    \n",
       "(Intercept)        2.1667     0.8058   2.689  0.01058 *  \n",
       "weekdayMonday      1.3889     1.0402   1.335  0.18977    \n",
       "weekdayThursday    3.7083     1.0659   3.479  0.00128 ** \n",
       "weekdayTuesday     4.5333     1.0192   4.448 7.32e-05 ***\n",
       "weekdayWednesday   2.8333     1.0192   2.780  0.00841 ** \n",
       "---\n",
       "Signif. codes:  0 ‘***’ 0.001 ‘**’ 0.01 ‘*’ 0.05 ‘.’ 0.1 ‘ ’ 1\n",
       "\n",
       "Residual standard error: 1.974 on 38 degrees of freedom\n",
       "Multiple R-squared:  0.4059,\tAdjusted R-squared:  0.3434 \n",
       "F-statistic:  6.49 on 4 and 38 DF,  p-value: 0.0004402\n"
      ]
     },
     "metadata": {},
     "output_type": "display_data"
    }
   ],
   "source": [
    "library(caret)\n",
    "set.seed(1113)\n",
    "train.control = trainControl(method = \"repeatedcv\", number =10, repeats=100)\n",
    "model_new1= train(pizza ~ weekday,  data=sales, method=\"lm\", trControl = train.control)\n",
    "summary(model_new1)\n"
   ]
  },
  {
   "cell_type": "code",
   "execution_count": 38,
   "metadata": {},
   "outputs": [],
   "source": [
    "model_2= train(pizza ~ weekday+temp+wind+humidity,  data=sales, method=\"lm\", trControl = train.control)\n"
   ]
  },
  {
   "cell_type": "code",
   "execution_count": 39,
   "metadata": {},
   "outputs": [],
   "source": [
    "model_weekday = lm(pizza ~ weekday, data=sales)"
   ]
  },
  {
   "cell_type": "code",
   "execution_count": 161,
   "metadata": {},
   "outputs": [
    {
     "ename": "ERROR",
     "evalue": "Error in step(model_all, method = \"forward\"): AIC is -infinity for this model, so 'step' cannot proceed\n",
     "output_type": "error",
     "traceback": [
      "Error in step(model_all, method = \"forward\"): AIC is -infinity for this model, so 'step' cannot proceed\nTraceback:\n",
      "1. step(model_all, method = \"forward\")",
      "2. stop(\"AIC is -infinity for this model, so 'step' cannot proceed\")"
     ]
    }
   ],
   "source": [
    "#Build linear regression model\n",
    "model_all = lm(pizza ~ ., data = sales)\n",
    "\n",
    "# Choosing the best model by AIC in a Stepwise Algorithm\n",
    "# The step() function iteratively removes insignificant predictor variables from the model.\n",
    "model_optimal = step(model_all, method=\"forward\")\n",
    "\n",
    "\n",
    "summary(model_optimal)\n"
   ]
  },
  {
   "cell_type": "code",
   "execution_count": 41,
   "metadata": {},
   "outputs": [
    {
     "data": {
      "text/html": [
       "<table>\n",
       "<thead><tr><th scope=col>Res.Df</th><th scope=col>RSS</th><th scope=col>Df</th><th scope=col>Sum of Sq</th><th scope=col>F</th><th scope=col>Pr(&gt;F)</th></tr></thead>\n",
       "<tbody>\n",
       "\t<tr><td>32         </td><td> 81.71237  </td><td>NA         </td><td>       NA  </td><td>      NA   </td><td>         NA</td></tr>\n",
       "\t<tr><td>38         </td><td>148.03056  </td><td>-6         </td><td>-66.31818  </td><td>4.328561   </td><td>0.002634956</td></tr>\n",
       "</tbody>\n",
       "</table>\n"
      ],
      "text/latex": [
       "\\begin{tabular}{r|llllll}\n",
       " Res.Df & RSS & Df & Sum of Sq & F & Pr(>F)\\\\\n",
       "\\hline\n",
       "\t 32          &  81.71237   & NA          &        NA   &       NA    &          NA\\\\\n",
       "\t 38          & 148.03056   & -6          & -66.31818   & 4.328561    & 0.002634956\\\\\n",
       "\\end{tabular}\n"
      ],
      "text/markdown": [
       "\n",
       "Res.Df | RSS | Df | Sum of Sq | F | Pr(>F) | \n",
       "|---|---|\n",
       "| 32          |  81.71237   | NA          |        NA   |       NA    |          NA | \n",
       "| 38          | 148.03056   | -6          | -66.31818   | 4.328561    | 0.002634956 | \n",
       "\n",
       "\n"
      ],
      "text/plain": [
       "  Res.Df RSS       Df Sum of Sq F        Pr(>F)     \n",
       "1 32      81.71237 NA        NA       NA          NA\n",
       "2 38     148.03056 -6 -66.31818 4.328561 0.002634956"
      ]
     },
     "metadata": {},
     "output_type": "display_data"
    }
   ],
   "source": [
    "anova(lm_step, model_weekday)"
   ]
  },
  {
   "cell_type": "code",
   "execution_count": 42,
   "metadata": {},
   "outputs": [
    {
     "name": "stderr",
     "output_type": "stream",
     "text": [
      "Loading required package: robustbase\n"
     ]
    }
   ],
   "source": [
    "library(cvTools)\n",
    "lm.day<-lm(pizza~weekday,data=sales)\n",
    "lm.day.weather<-lm(pizza~weekday+humidity+wind+temp,data=sales)\n",
    "cv1<-cvFit(lm.day,y=sales$pizza,data=sales,k=10,R=100)\n",
    "cv2<-cvFit(lm.day.weather,y=sales$pizza,data=sales,k=10,R=100)"
   ]
  },
  {
   "cell_type": "code",
   "execution_count": 43,
   "metadata": {},
   "outputs": [
    {
     "data": {
      "text/html": [
       "<strong>CV:</strong> 2.1354046410338"
      ],
      "text/latex": [
       "\\textbf{CV:} 2.1354046410338"
      ],
      "text/markdown": [
       "**CV:** 2.1354046410338"
      ],
      "text/plain": [
       "      CV \n",
       "2.135405 "
      ]
     },
     "metadata": {},
     "output_type": "display_data"
    },
    {
     "data": {
      "text/html": [
       "<strong>CV:</strong> 2.12948588869138"
      ],
      "text/latex": [
       "\\textbf{CV:} 2.12948588869138"
      ],
      "text/markdown": [
       "**CV:** 2.12948588869138"
      ],
      "text/plain": [
       "      CV \n",
       "2.129486 "
      ]
     },
     "metadata": {},
     "output_type": "display_data"
    },
    {
     "data": {
      "text/html": [
       "<strong>CV:</strong> 0.0863923941034099"
      ],
      "text/latex": [
       "\\textbf{CV:} 0.0863923941034099"
      ],
      "text/markdown": [
       "**CV:** 0.0863923941034099"
      ],
      "text/plain": [
       "        CV \n",
       "0.08639239 "
      ]
     },
     "metadata": {},
     "output_type": "display_data"
    },
    {
     "data": {
      "text/html": [
       "<strong>CV:</strong> 0.125295210643142"
      ],
      "text/latex": [
       "\\textbf{CV:} 0.125295210643142"
      ],
      "text/markdown": [
       "**CV:** 0.125295210643142"
      ],
      "text/plain": [
       "       CV \n",
       "0.1252952 "
      ]
     },
     "metadata": {},
     "output_type": "display_data"
    }
   ],
   "source": [
    "cv1$cv\n",
    "cv2$cv\n",
    "cv1$se\n",
    "cv2$se"
   ]
  },
  {
   "cell_type": "code",
   "execution_count": 7,
   "metadata": {},
   "outputs": [
    {
     "data": {
      "text/html": [
       "<table>\n",
       "<thead><tr><th></th><th scope=col>pregnant</th><th scope=col>glucose</th><th scope=col>pressure</th><th scope=col>triceps</th><th scope=col>insulin</th><th scope=col>mass</th><th scope=col>pedigree</th><th scope=col>age</th><th scope=col>glucagon</th><th scope=col>log_glucagon</th><th scope=col>diabetes</th></tr></thead>\n",
       "<tbody>\n",
       "\t<tr><th scope=row>4</th><td>1        </td><td> 89      </td><td>66       </td><td>23       </td><td> 94      </td><td>28.1     </td><td>0.167    </td><td>21       </td><td> 1.113194</td><td>0.1072331</td><td>neg      </td></tr>\n",
       "\t<tr><th scope=row>5</th><td>0        </td><td>137      </td><td>40       </td><td>35       </td><td>168      </td><td>43.1     </td><td>2.288    </td><td>33       </td><td> 3.376885</td><td>1.2169536</td><td>pos      </td></tr>\n",
       "\t<tr><th scope=row>7</th><td>3        </td><td> 78      </td><td>50       </td><td>32       </td><td> 88      </td><td>31.0     </td><td>0.248    </td><td>26       </td><td>13.606157</td><td>2.6105224</td><td>pos      </td></tr>\n",
       "\t<tr><th scope=row>9</th><td>2        </td><td>197      </td><td>70       </td><td>45       </td><td>543      </td><td>30.5     </td><td>0.158    </td><td>53       </td><td> 1.608079</td><td>0.4750404</td><td>pos      </td></tr>\n",
       "\t<tr><th scope=row>14</th><td>1        </td><td>189      </td><td>60       </td><td>23       </td><td>846      </td><td>30.1     </td><td>0.398    </td><td>59       </td><td> 4.689861</td><td>1.5454030</td><td>pos      </td></tr>\n",
       "\t<tr><th scope=row>15</th><td>5        </td><td>166      </td><td>72       </td><td>19       </td><td>175      </td><td>25.8     </td><td>0.587    </td><td>51       </td><td> 5.716373</td><td>1.7433345</td><td>pos      </td></tr>\n",
       "</tbody>\n",
       "</table>\n"
      ],
      "text/latex": [
       "\\begin{tabular}{r|lllllllllll}\n",
       "  & pregnant & glucose & pressure & triceps & insulin & mass & pedigree & age & glucagon & log\\_glucagon & diabetes\\\\\n",
       "\\hline\n",
       "\t4 & 1         &  89       & 66        & 23        &  94       & 28.1      & 0.167     & 21        &  1.113194 & 0.1072331 & neg      \\\\\n",
       "\t5 & 0         & 137       & 40        & 35        & 168       & 43.1      & 2.288     & 33        &  3.376885 & 1.2169536 & pos      \\\\\n",
       "\t7 & 3         &  78       & 50        & 32        &  88       & 31.0      & 0.248     & 26        & 13.606157 & 2.6105224 & pos      \\\\\n",
       "\t9 & 2         & 197       & 70        & 45        & 543       & 30.5      & 0.158     & 53        &  1.608079 & 0.4750404 & pos      \\\\\n",
       "\t14 & 1         & 189       & 60        & 23        & 846       & 30.1      & 0.398     & 59        &  4.689861 & 1.5454030 & pos      \\\\\n",
       "\t15 & 5         & 166       & 72        & 19        & 175       & 25.8      & 0.587     & 51        &  5.716373 & 1.7433345 & pos      \\\\\n",
       "\\end{tabular}\n"
      ],
      "text/markdown": [
       "\n",
       "| <!--/--> | pregnant | glucose | pressure | triceps | insulin | mass | pedigree | age | glucagon | log_glucagon | diabetes | \n",
       "|---|---|---|---|---|---|\n",
       "| 4 | 1         |  89       | 66        | 23        |  94       | 28.1      | 0.167     | 21        |  1.113194 | 0.1072331 | neg       | \n",
       "| 5 | 0         | 137       | 40        | 35        | 168       | 43.1      | 2.288     | 33        |  3.376885 | 1.2169536 | pos       | \n",
       "| 7 | 3         |  78       | 50        | 32        |  88       | 31.0      | 0.248     | 26        | 13.606157 | 2.6105224 | pos       | \n",
       "| 9 | 2         | 197       | 70        | 45        | 543       | 30.5      | 0.158     | 53        |  1.608079 | 0.4750404 | pos       | \n",
       "| 14 | 1         | 189       | 60        | 23        | 846       | 30.1      | 0.398     | 59        |  4.689861 | 1.5454030 | pos       | \n",
       "| 15 | 5         | 166       | 72        | 19        | 175       | 25.8      | 0.587     | 51        |  5.716373 | 1.7433345 | pos       | \n",
       "\n",
       "\n"
      ],
      "text/plain": [
       "   pregnant glucose pressure triceps insulin mass pedigree age glucagon \n",
       "4  1         89     66       23       94     28.1 0.167    21   1.113194\n",
       "5  0        137     40       35      168     43.1 2.288    33   3.376885\n",
       "7  3         78     50       32       88     31.0 0.248    26  13.606157\n",
       "9  2        197     70       45      543     30.5 0.158    53   1.608079\n",
       "14 1        189     60       23      846     30.1 0.398    59   4.689861\n",
       "15 5        166     72       19      175     25.8 0.587    51   5.716373\n",
       "   log_glucagon diabetes\n",
       "4  0.1072331    neg     \n",
       "5  1.2169536    pos     \n",
       "7  2.6105224    pos     \n",
       "9  0.4750404    pos     \n",
       "14 1.5454030    pos     \n",
       "15 1.7433345    pos     "
      ]
     },
     "metadata": {},
     "output_type": "display_data"
    }
   ],
   "source": [
    "\n",
    "medical_dats = load(\"section_d.Rda\")\n",
    "medical_data = get(medical_dats)\n",
    "head(medical_data)"
   ]
  },
  {
   "cell_type": "code",
   "execution_count": 9,
   "metadata": {},
   "outputs": [
    {
     "data": {},
     "metadata": {},
     "output_type": "display_data"
    },
    {
     "data": {},
     "metadata": {},
     "output_type": "display_data"
    },
    {
     "data": {
      "image/png": "[encoded data removed]",
      "text/plain": [
       "plot without title"
      ]
     },
     "metadata": {},
     "output_type": "display_data"
    },
    {
     "data": {
      "image/png": "[encoded data removed]",
      "text/plain": [
       "plot without title"
      ]
     },
     "metadata": {},
     "output_type": "display_data"
    }
   ],
   "source": [
    "ggplot(medical_data, aes(x = glucagon)) + geom_bar() + theme_classic() + \n",
    "  ggtitle('Insulin Entries') +\n",
    "  theme(plot.title = element_text(hjust = 0.5))\n",
    "  \n",
    "  \n",
    "ggplot(medical_data, aes(x =log_glucagon)) + geom_bar() + theme_classic() + \n",
    "  ggtitle('Insulin Entries') +\n",
    "  theme(plot.title = element_text(hjust = 0.5))\n"
   ]
  },
  {
   "cell_type": "code",
   "execution_count": 11,
   "metadata": {},
   "outputs": [
    {
     "data": {},
     "metadata": {},
     "output_type": "display_data"
    },
    {
     "data": {
      "image/png": "[encoded data removed]",
      "text/plain": [
       "plot without title"
      ]
     },
     "metadata": {},
     "output_type": "display_data"
    }
   ],
   "source": [
    "\n",
    "\n",
    "ggplot(medical_data, aes(x = mass, y = log_glucagon, col = diabetes)) + geom_point() + theme_classic() + \n",
    "  scale_y_continuous('Glucose mg/dL', breaks = c(-1, -2, -3, 0, 1)) +\n",
    "  scale_x_continuous('log(Insulin) mu U/ml', breaks = c(50, 100, 150, 200, 250)) + \n",
    "  ggtitle('Cases of diabetes: Gender vs Age') +\n",
    "  theme(plot.title = element_text(hjust = 0.5)) +\n",
    "  scale_color_discrete(name = '', labels = c('negative', 'positive'))"
   ]
  },
  {
   "cell_type": "code",
   "execution_count": 46,
   "metadata": {},
   "outputs": [
    {
     "data": {
      "image/png": "[encoded data removed]",
      "text/plain": [
       "Plot with title “Histogram of medical_data$glucagon”"
      ]
     },
     "metadata": {},
     "output_type": "display_data"
    },
    {
     "data": {
      "image/png": "[encoded data removed]",
      "text/plain": [
       "Plot with title “Histogram of medical_data$log_glucagon”"
      ]
     },
     "metadata": {},
     "output_type": "display_data"
    }
   ],
   "source": [
    "hist(medical_data$glucagon)\n",
    "hist(medical_data$log_glucagon)"
   ]
  },
  {
   "cell_type": "code",
   "execution_count": 58,
   "metadata": {},
   "outputs": [
    {
     "data": {
      "text/plain": [
       "Length  Class   Mode \n",
       "     0   NULL   NULL "
      ]
     },
     "metadata": {},
     "output_type": "display_data"
    },
    {
     "data": {
      "text/plain": [
       "Length  Class   Mode \n",
       "     0   NULL   NULL "
      ]
     },
     "metadata": {},
     "output_type": "display_data"
    }
   ],
   "source": [
    "summary(medical_data $ log_glucagon_rs)\n",
    "summary(medical_data $ mass_rs)"
   ]
  },
  {
   "cell_type": "code",
   "execution_count": 160,
   "metadata": {},
   "outputs": [
    {
     "data": {
      "image/png": "[encoded data removed]",
      "text/plain": [
       "Plot with title “Cases of Diabetes Onset”"
      ]
     },
     "metadata": {},
     "output_type": "display_data"
    }
   ],
   "source": [
    "# Color of the points\n",
    "color_points = rgb(red = 110, green = 200, blue = 110, alpha = 80, maxColorValue = 255)\n",
    "\n",
    "# Color  of the points2\n",
    "color_points2 = rgb(red = 0, green = 0, blue = 10, alpha = 455, maxColorValue = 500)\n",
    "\n",
    "plot(\n",
    "   mass ~ log_glucagon, data = medical_data,\n",
    "   main = \"Cases of Diabetes Onset\",\n",
    "  xlab = \"mass\",\n",
    "  ylab = \"log_glucagon\",\n",
    "  frame.plot = FALSE,\n",
    "  pch = 16,\n",
    "  col = factor(medical_data$log_glucagon)\n",
    ")\n",
    "\n",
    "\n",
    "\n",
    "# Legend\n",
    "legend(\"topright\", cex =1, legend= c(\"negative\",\"positive\"),pch = c(16,NA), lty=c(NA,1), col=c(color_points,color_points2), horiz=T)\n",
    "\n",
    "\n",
    "\n"
   ]
  },
  {
   "cell_type": "code",
   "execution_count": 51,
   "metadata": {},
   "outputs": [
    {
     "data": {},
     "metadata": {},
     "output_type": "display_data"
    },
    {
     "data": {
      "image/png": "[encoded data removed]",
      "text/plain": [
       "plot without title"
      ]
     },
     "metadata": {},
     "output_type": "display_data"
    }
   ],
   "source": [
    "ggplot(data = medical_data) + \n",
    "    geom_point(mapping = aes(x = mass, y=log_glucagon, color = diabetes))+\n",
    "    scale_color_manual(values=c('black','red'))+\n",
    "    scale_x_continuous(limits = c(0, 80)) +\n",
    "    scale_y_continuous(limits = c(-3, 4)) +\n",
    "    labs(y = \"log(Glucagon) ug/ml\", x=\"Mass kg\") +\n",
    "    ggtitle(\"Cases of diabetes onset\")"
   ]
  },
  {
   "cell_type": "code",
   "execution_count": 59,
   "metadata": {},
   "outputs": [
    {
     "data": {
      "text/plain": [
       "       V1          \n",
       " Min.   :-3.17809  \n",
       " 1st Qu.:-0.65773  \n",
       " Median :-0.09217  \n",
       " Mean   : 0.00000  \n",
       " 3rd Qu.: 0.63723  \n",
       " Max.   : 3.29819  "
      ]
     },
     "metadata": {},
     "output_type": "display_data"
    },
    {
     "data": {
      "text/plain": [
       "       V1          \n",
       " Min.   :-2.11823  \n",
       " 1st Qu.:-0.66683  \n",
       " Median : 0.01619  \n",
       " Mean   : 0.00000  \n",
       " 3rd Qu.: 0.57114  \n",
       " Max.   : 4.83999  "
      ]
     },
     "metadata": {},
     "output_type": "display_data"
    }
   ],
   "source": [
    "medical_data$log_glucagon_rs <- scale(medical_data$log_glucagon)\n",
    "medical_data$mass_rs <- scale(medical_data$mass)\n",
    "summary(medical_data $ log_glucagon_rs)\n",
    "summary(medical_data $ mass_rs)"
   ]
  },
  {
   "cell_type": "code",
   "execution_count": 159,
   "metadata": {},
   "outputs": [
    {
     "data": {
      "text/plain": [
       "     y_pred_test\n",
       "      neg pos\n",
       "  neg  97   6\n",
       "  pos  24  30"
      ]
     },
     "metadata": {},
     "output_type": "display_data"
    },
    {
     "data": {
      "text/html": [
       "<table>\n",
       "<thead><tr><th></th><th scope=col>pregnant</th><th scope=col>glucose</th><th scope=col>pressure</th><th scope=col>triceps</th><th scope=col>insulin</th><th scope=col>mass</th><th scope=col>pedigree</th><th scope=col>age</th><th scope=col>glucagon</th><th scope=col>log_glucagon</th><th scope=col>diabetes</th><th scope=col>log_glucagon_rs</th><th scope=col>mass_rs</th><th scope=col>predicted_type</th></tr></thead>\n",
       "<tbody>\n",
       "\t<tr><th scope=row>5</th><td> 0         </td><td>137        </td><td> 40        </td><td>35         </td><td>168        </td><td>43.1       </td><td>2.288      </td><td>33         </td><td> 3.3768847 </td><td> 1.2169536 </td><td>pos        </td><td> 1.3477438 </td><td> 1.42490909</td><td>pos        </td></tr>\n",
       "\t<tr><th scope=row>7</th><td> 3         </td><td> 78        </td><td> 50        </td><td>32         </td><td> 88        </td><td>31.0       </td><td>0.248      </td><td>26         </td><td>13.6061566 </td><td> 2.6105224 </td><td>pos        </td><td> 2.8910843 </td><td>-0.29685909</td><td>pos        </td></tr>\n",
       "\t<tr><th scope=row>15</th><td> 5         </td><td>166        </td><td> 72        </td><td>19         </td><td>175        </td><td>25.8       </td><td>0.587      </td><td>51         </td><td> 5.7163726 </td><td> 1.7433345 </td><td>pos        </td><td> 1.9306967 </td><td>-1.03679252</td><td>pos        </td></tr>\n",
       "\t<tr><th scope=row>25</th><td>11         </td><td>143        </td><td> 94        </td><td>33         </td><td>146        </td><td>36.6       </td><td>0.254      </td><td>51         </td><td> 3.3559864 </td><td> 1.2107457 </td><td>pos        </td><td> 1.3408688 </td><td> 0.49999230</td><td>pos        </td></tr>\n",
       "\t<tr><th scope=row>44</th><td> 9         </td><td>171        </td><td>110        </td><td>24         </td><td>240        </td><td>45.4       </td><td>0.721      </td><td>54         </td><td> 4.9178985 </td><td> 1.5928813 </td><td>pos        </td><td> 1.7640738 </td><td> 1.75218734</td><td>pos        </td></tr>\n",
       "\t<tr><th scope=row>69</th><td> 1         </td><td> 95        </td><td> 66        </td><td>13         </td><td> 38        </td><td>19.6       </td><td>0.334      </td><td>25         </td><td> 4.8057286 </td><td> 1.5698087 </td><td>neg        </td><td> 1.7385215 </td><td>-1.91902084</td><td>pos        </td></tr>\n",
       "\t<tr><th scope=row>70</th><td> 4         </td><td>146        </td><td> 85        </td><td>27         </td><td>100        </td><td>28.9       </td><td>0.189      </td><td>27         </td><td> 2.6448992 </td><td> 0.9726330 </td><td>neg        </td><td> 1.0771652 </td><td>-0.59567836</td><td>pos        </td></tr>\n",
       "\t<tr><th scope=row>100</th><td> 1         </td><td>122        </td><td> 90        </td><td>51         </td><td>220        </td><td>49.7       </td><td>0.325      </td><td>31         </td><td> 2.7702572 </td><td> 1.0189402 </td><td>pos        </td><td> 1.1284492 </td><td> 2.36405537</td><td>pos        </td></tr>\n",
       "\t<tr><th scope=row>121</th><td> 0         </td><td>162        </td><td> 76        </td><td>56         </td><td>100        </td><td>53.2       </td><td>0.759      </td><td>25         </td><td> 1.4486124 </td><td> 0.3706062 </td><td>pos        </td><td> 0.4104365 </td><td> 2.86208749</td><td>pos        </td></tr>\n",
       "\t<tr><th scope=row>126</th><td> 1         </td><td> 88        </td><td> 30        </td><td>42         </td><td> 99        </td><td>55.0       </td><td>0.496      </td><td>26         </td><td> 2.1964167 </td><td> 0.7868273 </td><td>pos        </td><td> 0.8713903 </td><td> 3.11821830</td><td>pos        </td></tr>\n",
       "\t<tr><th scope=row>160</th><td>17         </td><td>163        </td><td> 72        </td><td>41         </td><td>114        </td><td>40.9       </td><td>0.817      </td><td>47         </td><td> 4.8379683 </td><td> 1.5764949 </td><td>pos        </td><td> 1.7459262 </td><td> 1.11186033</td><td>pos        </td></tr>\n",
       "\t<tr><th scope=row>163</th><td> 0         </td><td>114        </td><td> 80        </td><td>34         </td><td>285        </td><td>44.2       </td><td>0.167      </td><td>27         </td><td> 1.1067870 </td><td> 0.1014612 </td><td>neg        </td><td> 0.1123656 </td><td> 1.58143347</td><td>pos        </td></tr>\n",
       "\t<tr><th scope=row>216</th><td>12         </td><td>151        </td><td> 70        </td><td>40         </td><td>271        </td><td>41.8       </td><td>0.742      </td><td>38         </td><td> 1.5051136 </td><td> 0.4088684 </td><td>pos        </td><td> 0.4528109 </td><td> 1.23992574</td><td>pos        </td></tr>\n",
       "\t<tr><th scope=row>232</th><td> 6         </td><td>134        </td><td> 80        </td><td>37         </td><td>370        </td><td>46.2       </td><td>0.238      </td><td>46         </td><td> 1.8005456 </td><td> 0.5880897 </td><td>pos        </td><td> 0.6512938 </td><td> 1.86602326</td><td>pos        </td></tr>\n",
       "\t<tr><th scope=row>237</th><td> 7         </td><td>181        </td><td> 84        </td><td>21         </td><td>192        </td><td>35.9       </td><td>0.586      </td><td>51         </td><td> 2.6242671 </td><td> 0.9648017 </td><td>pos        </td><td> 1.0684922 </td><td> 0.40038588</td><td>pos        </td></tr>\n",
       "\t<tr><th scope=row>292</th><td> 0         </td><td>107        </td><td> 62        </td><td>30         </td><td> 74        </td><td>36.6       </td><td>0.757      </td><td>25         </td><td> 2.4208478 </td><td> 0.8841178 </td><td>pos        </td><td> 0.9791370 </td><td> 0.49999230</td><td>pos        </td></tr>\n",
       "\t<tr><th scope=row>297</th><td> 2         </td><td>146        </td><td> 70        </td><td>38         </td><td>360        </td><td>28.0       </td><td>0.337      </td><td>29         </td><td> 5.6221899 </td><td> 1.7267213 </td><td>pos        </td><td> 1.9122980 </td><td>-0.72374376</td><td>pos        </td></tr>\n",
       "\t<tr><th scope=row>302</th><td> 2         </td><td>144        </td><td> 58        </td><td>33         </td><td>135        </td><td>31.6       </td><td>0.422      </td><td>25         </td><td> 3.0136778 </td><td> 1.1031612 </td><td>pos        </td><td> 1.2217218 </td><td>-0.21148215</td><td>pos        </td></tr>\n",
       "\t<tr><th scope=row>309</th><td> 0         </td><td>128        </td><td> 68        </td><td>19         </td><td>180        </td><td>30.5       </td><td>1.391      </td><td>25         </td><td> 7.4995755 </td><td> 2.0148464 </td><td>pos        </td><td> 2.2313890 </td><td>-0.36800653</td><td>pos        </td></tr>\n",
       "\t<tr><th scope=row>361</th><td> 5         </td><td>189        </td><td> 64        </td><td>33         </td><td>325        </td><td>31.2       </td><td>0.583      </td><td>29         </td><td> 7.4204502 </td><td> 2.0042397 </td><td>pos        </td><td> 2.2196424 </td><td>-0.26840011</td><td>pos        </td></tr>\n",
       "\t<tr><th scope=row>397</th><td> 3         </td><td> 96        </td><td> 56        </td><td>34         </td><td>115        </td><td>24.7       </td><td>0.944      </td><td>39         </td><td> 4.7732481 </td><td> 1.5630270 </td><td>neg        </td><td> 1.7310110 </td><td>-1.19331690</td><td>pos        </td></tr>\n",
       "\t<tr><th scope=row>403</th><td> 5         </td><td>136        </td><td> 84        </td><td>41         </td><td> 88        </td><td>35.0       </td><td>0.286      </td><td>35         </td><td> 3.6742775 </td><td> 1.3013565 </td><td>pos        </td><td> 1.4412178 </td><td> 0.27232048</td><td>pos        </td></tr>\n",
       "\t<tr><th scope=row>413</th><td> 1         </td><td>143        </td><td> 84        </td><td>23         </td><td>310        </td><td>42.4       </td><td>1.076      </td><td>22         </td><td> 2.3802951 </td><td> 0.8672245 </td><td>neg        </td><td> 0.9604281 </td><td> 1.32530267</td><td>pos        </td></tr>\n",
       "\t<tr><th scope=row>416</th><td> 3         </td><td>173        </td><td> 84        </td><td>33         </td><td>474        </td><td>35.7       </td><td>0.258      </td><td>22         </td><td> 3.6740781 </td><td> 1.3013023 </td><td>pos        </td><td> 1.4411577 </td><td> 0.37192690</td><td>pos        </td></tr>\n",
       "\t<tr><th scope=row>430</th><td> 1         </td><td> 95        </td><td> 82        </td><td>25         </td><td>180        </td><td>35.0       </td><td>0.233      </td><td>43         </td><td> 2.0124216 </td><td> 0.6993388 </td><td>pos        </td><td> 0.7744992 </td><td> 0.27232048</td><td>pos        </td></tr>\n",
       "\t<tr><th scope=row>446</th><td> 0         </td><td>180        </td><td> 78        </td><td>63         </td><td> 14        </td><td>59.4       </td><td>2.420      </td><td>25         </td><td> 0.6815442 </td><td>-0.3833942 </td><td>pos        </td><td>-0.4245989 </td><td> 3.74431582</td><td>pos        </td></tr>\n",
       "\t<tr><th scope=row>453</th><td> 0         </td><td> 91        </td><td> 68        </td><td>32         </td><td>210        </td><td>39.9       </td><td>0.381      </td><td>25         </td><td> 1.5274013 </td><td> 0.4235678 </td><td>neg        </td><td> 0.4690901 </td><td> 0.96956544</td><td>pos        </td></tr>\n",
       "\t<tr><th scope=row>459</th><td>10         </td><td>148        </td><td> 84        </td><td>48         </td><td>237        </td><td>37.6       </td><td>1.001      </td><td>51         </td><td> 2.4033086 </td><td> 0.8768464 </td><td>pos        </td><td> 0.9710841 </td><td> 0.64228719</td><td>pos        </td></tr>\n",
       "\t<tr><th scope=row>477</th><td> 2         </td><td>105        </td><td> 80        </td><td>45         </td><td>191        </td><td>33.7       </td><td>0.711      </td><td>29         </td><td> 3.4990186 </td><td> 1.2524825 </td><td>pos        </td><td> 1.3870912 </td><td> 0.08733712</td><td>pos        </td></tr>\n",
       "\t<tr><th scope=row>541</th><td> 8         </td><td>100        </td><td> 74        </td><td>40         </td><td>215        </td><td>39.4       </td><td>0.661      </td><td>43         </td><td> 1.8953734 </td><td> 0.6394158 </td><td>pos        </td><td> 0.7081361 </td><td> 0.89841800</td><td>pos        </td></tr>\n",
       "\t<tr><th scope=row>546</th><td> 8         </td><td>186        </td><td> 90        </td><td>35         </td><td>225        </td><td>34.5       </td><td>0.423      </td><td>37         </td><td> 2.4091440 </td><td> 0.8792715 </td><td>pos        </td><td> 0.9737699 </td><td> 0.20117303</td><td>pos        </td></tr>\n",
       "\t<tr><th scope=row>604</th><td> 7         </td><td>150        </td><td> 78        </td><td>29         </td><td>126        </td><td>35.2       </td><td>0.692      </td><td>54         </td><td> 2.7190209 </td><td> 1.0002718 </td><td>pos        </td><td> 1.1077745 </td><td> 0.30077946</td><td>pos        </td></tr>\n",
       "\t<tr><th scope=row>612</th><td> 3         </td><td>174        </td><td> 58        </td><td>22         </td><td>194        </td><td>32.9       </td><td>0.593      </td><td>36         </td><td> 4.7718173 </td><td> 1.5627272 </td><td>pos        </td><td> 1.7306790 </td><td>-0.02649879</td><td>pos        </td></tr>\n",
       "\t<tr><th scope=row>660</th><td> 3         </td><td> 80        </td><td> 82        </td><td>31         </td><td> 70        </td><td>34.2       </td><td>1.292      </td><td>27         </td><td> 2.4309671 </td><td> 0.8882892 </td><td>pos        </td><td> 0.9837567 </td><td> 0.15848456</td><td>pos        </td></tr>\n",
       "\t<tr><th scope=row>690</th><td> 1         </td><td>144        </td><td> 82        </td><td>46         </td><td>180        </td><td>46.1       </td><td>0.335      </td><td>46         </td><td> 2.1687619 </td><td> 0.7741564 </td><td>pos        </td><td> 0.8573577 </td><td> 1.85179377</td><td>pos        </td></tr>\n",
       "\t<tr><th scope=row>756</th><td> 1         </td><td>128        </td><td> 88        </td><td>39         </td><td>110        </td><td>36.5       </td><td>1.057      </td><td>37         </td><td> 5.2667623 </td><td> 1.6614158 </td><td>pos        </td><td> 1.8399740 </td><td> 0.48576281</td><td>pos        </td></tr>\n",
       "</tbody>\n",
       "</table>\n"
      ],
      "text/latex": [
       "\\begin{tabular}{r|llllllllllllll}\n",
       "  & pregnant & glucose & pressure & triceps & insulin & mass & pedigree & age & glucagon & log\\_glucagon & diabetes & log\\_glucagon\\_rs & mass\\_rs & predicted\\_type\\\\\n",
       "\\hline\n",
       "\t5 &  0          & 137         &  40         & 35          & 168         & 43.1        & 2.288       & 33          &  3.3768847  &  1.2169536  & pos         &  1.3477438  &  1.42490909 & pos        \\\\\n",
       "\t7 &  3          &  78         &  50         & 32          &  88         & 31.0        & 0.248       & 26          & 13.6061566  &  2.6105224  & pos         &  2.8910843  & -0.29685909 & pos        \\\\\n",
       "\t15 &  5          & 166         &  72         & 19          & 175         & 25.8        & 0.587       & 51          &  5.7163726  &  1.7433345  & pos         &  1.9306967  & -1.03679252 & pos        \\\\\n",
       "\t25 & 11          & 143         &  94         & 33          & 146         & 36.6        & 0.254       & 51          &  3.3559864  &  1.2107457  & pos         &  1.3408688  &  0.49999230 & pos        \\\\\n",
       "\t44 &  9          & 171         & 110         & 24          & 240         & 45.4        & 0.721       & 54          &  4.9178985  &  1.5928813  & pos         &  1.7640738  &  1.75218734 & pos        \\\\\n",
       "\t69 &  1          &  95         &  66         & 13          &  38         & 19.6        & 0.334       & 25          &  4.8057286  &  1.5698087  & neg         &  1.7385215  & -1.91902084 & pos        \\\\\n",
       "\t70 &  4          & 146         &  85         & 27          & 100         & 28.9        & 0.189       & 27          &  2.6448992  &  0.9726330  & neg         &  1.0771652  & -0.59567836 & pos        \\\\\n",
       "\t100 &  1          & 122         &  90         & 51          & 220         & 49.7        & 0.325       & 31          &  2.7702572  &  1.0189402  & pos         &  1.1284492  &  2.36405537 & pos        \\\\\n",
       "\t121 &  0          & 162         &  76         & 56          & 100         & 53.2        & 0.759       & 25          &  1.4486124  &  0.3706062  & pos         &  0.4104365  &  2.86208749 & pos        \\\\\n",
       "\t126 &  1          &  88         &  30         & 42          &  99         & 55.0        & 0.496       & 26          &  2.1964167  &  0.7868273  & pos         &  0.8713903  &  3.11821830 & pos        \\\\\n",
       "\t160 & 17          & 163         &  72         & 41          & 114         & 40.9        & 0.817       & 47          &  4.8379683  &  1.5764949  & pos         &  1.7459262  &  1.11186033 & pos        \\\\\n",
       "\t163 &  0          & 114         &  80         & 34          & 285         & 44.2        & 0.167       & 27          &  1.1067870  &  0.1014612  & neg         &  0.1123656  &  1.58143347 & pos        \\\\\n",
       "\t216 & 12          & 151         &  70         & 40          & 271         & 41.8        & 0.742       & 38          &  1.5051136  &  0.4088684  & pos         &  0.4528109  &  1.23992574 & pos        \\\\\n",
       "\t232 &  6          & 134         &  80         & 37          & 370         & 46.2        & 0.238       & 46          &  1.8005456  &  0.5880897  & pos         &  0.6512938  &  1.86602326 & pos        \\\\\n",
       "\t237 &  7          & 181         &  84         & 21          & 192         & 35.9        & 0.586       & 51          &  2.6242671  &  0.9648017  & pos         &  1.0684922  &  0.40038588 & pos        \\\\\n",
       "\t292 &  0          & 107         &  62         & 30          &  74         & 36.6        & 0.757       & 25          &  2.4208478  &  0.8841178  & pos         &  0.9791370  &  0.49999230 & pos        \\\\\n",
       "\t297 &  2          & 146         &  70         & 38          & 360         & 28.0        & 0.337       & 29          &  5.6221899  &  1.7267213  & pos         &  1.9122980  & -0.72374376 & pos        \\\\\n",
       "\t302 &  2          & 144         &  58         & 33          & 135         & 31.6        & 0.422       & 25          &  3.0136778  &  1.1031612  & pos         &  1.2217218  & -0.21148215 & pos        \\\\\n",
       "\t309 &  0          & 128         &  68         & 19          & 180         & 30.5        & 1.391       & 25          &  7.4995755  &  2.0148464  & pos         &  2.2313890  & -0.36800653 & pos        \\\\\n",
       "\t361 &  5          & 189         &  64         & 33          & 325         & 31.2        & 0.583       & 29          &  7.4204502  &  2.0042397  & pos         &  2.2196424  & -0.26840011 & pos        \\\\\n",
       "\t397 &  3          &  96         &  56         & 34          & 115         & 24.7        & 0.944       & 39          &  4.7732481  &  1.5630270  & neg         &  1.7310110  & -1.19331690 & pos        \\\\\n",
       "\t403 &  5          & 136         &  84         & 41          &  88         & 35.0        & 0.286       & 35          &  3.6742775  &  1.3013565  & pos         &  1.4412178  &  0.27232048 & pos        \\\\\n",
       "\t413 &  1          & 143         &  84         & 23          & 310         & 42.4        & 1.076       & 22          &  2.3802951  &  0.8672245  & neg         &  0.9604281  &  1.32530267 & pos        \\\\\n",
       "\t416 &  3          & 173         &  84         & 33          & 474         & 35.7        & 0.258       & 22          &  3.6740781  &  1.3013023  & pos         &  1.4411577  &  0.37192690 & pos        \\\\\n",
       "\t430 &  1          &  95         &  82         & 25          & 180         & 35.0        & 0.233       & 43          &  2.0124216  &  0.6993388  & pos         &  0.7744992  &  0.27232048 & pos        \\\\\n",
       "\t446 &  0          & 180         &  78         & 63          &  14         & 59.4        & 2.420       & 25          &  0.6815442  & -0.3833942  & pos         & -0.4245989  &  3.74431582 & pos        \\\\\n",
       "\t453 &  0          &  91         &  68         & 32          & 210         & 39.9        & 0.381       & 25          &  1.5274013  &  0.4235678  & neg         &  0.4690901  &  0.96956544 & pos        \\\\\n",
       "\t459 & 10          & 148         &  84         & 48          & 237         & 37.6        & 1.001       & 51          &  2.4033086  &  0.8768464  & pos         &  0.9710841  &  0.64228719 & pos        \\\\\n",
       "\t477 &  2          & 105         &  80         & 45          & 191         & 33.7        & 0.711       & 29          &  3.4990186  &  1.2524825  & pos         &  1.3870912  &  0.08733712 & pos        \\\\\n",
       "\t541 &  8          & 100         &  74         & 40          & 215         & 39.4        & 0.661       & 43          &  1.8953734  &  0.6394158  & pos         &  0.7081361  &  0.89841800 & pos        \\\\\n",
       "\t546 &  8          & 186         &  90         & 35          & 225         & 34.5        & 0.423       & 37          &  2.4091440  &  0.8792715  & pos         &  0.9737699  &  0.20117303 & pos        \\\\\n",
       "\t604 &  7          & 150         &  78         & 29          & 126         & 35.2        & 0.692       & 54          &  2.7190209  &  1.0002718  & pos         &  1.1077745  &  0.30077946 & pos        \\\\\n",
       "\t612 &  3          & 174         &  58         & 22          & 194         & 32.9        & 0.593       & 36          &  4.7718173  &  1.5627272  & pos         &  1.7306790  & -0.02649879 & pos        \\\\\n",
       "\t660 &  3          &  80         &  82         & 31          &  70         & 34.2        & 1.292       & 27          &  2.4309671  &  0.8882892  & pos         &  0.9837567  &  0.15848456 & pos        \\\\\n",
       "\t690 &  1          & 144         &  82         & 46          & 180         & 46.1        & 0.335       & 46          &  2.1687619  &  0.7741564  & pos         &  0.8573577  &  1.85179377 & pos        \\\\\n",
       "\t756 &  1          & 128         &  88         & 39          & 110         & 36.5        & 1.057       & 37          &  5.2667623  &  1.6614158  & pos         &  1.8399740  &  0.48576281 & pos        \\\\\n",
       "\\end{tabular}\n"
      ],
      "text/markdown": [
       "\n",
       "| <!--/--> | pregnant | glucose | pressure | triceps | insulin | mass | pedigree | age | glucagon | log_glucagon | diabetes | log_glucagon_rs | mass_rs | predicted_type | \n",
       "|---|---|---|---|---|---|---|---|---|---|---|---|---|---|---|---|---|---|---|---|---|---|---|---|---|---|---|---|---|---|---|---|---|---|---|---|\n",
       "| 5 |  0          | 137         |  40         | 35          | 168         | 43.1        | 2.288       | 33          |  3.3768847  |  1.2169536  | pos         |  1.3477438  |  1.42490909 | pos         | \n",
       "| 7 |  3          |  78         |  50         | 32          |  88         | 31.0        | 0.248       | 26          | 13.6061566  |  2.6105224  | pos         |  2.8910843  | -0.29685909 | pos         | \n",
       "| 15 |  5          | 166         |  72         | 19          | 175         | 25.8        | 0.587       | 51          |  5.7163726  |  1.7433345  | pos         |  1.9306967  | -1.03679252 | pos         | \n",
       "| 25 | 11          | 143         |  94         | 33          | 146         | 36.6        | 0.254       | 51          |  3.3559864  |  1.2107457  | pos         |  1.3408688  |  0.49999230 | pos         | \n",
       "| 44 |  9          | 171         | 110         | 24          | 240         | 45.4        | 0.721       | 54          |  4.9178985  |  1.5928813  | pos         |  1.7640738  |  1.75218734 | pos         | \n",
       "| 69 |  1          |  95         |  66         | 13          |  38         | 19.6        | 0.334       | 25          |  4.8057286  |  1.5698087  | neg         |  1.7385215  | -1.91902084 | pos         | \n",
       "| 70 |  4          | 146         |  85         | 27          | 100         | 28.9        | 0.189       | 27          |  2.6448992  |  0.9726330  | neg         |  1.0771652  | -0.59567836 | pos         | \n",
       "| 100 |  1          | 122         |  90         | 51          | 220         | 49.7        | 0.325       | 31          |  2.7702572  |  1.0189402  | pos         |  1.1284492  |  2.36405537 | pos         | \n",
       "| 121 |  0          | 162         |  76         | 56          | 100         | 53.2        | 0.759       | 25          |  1.4486124  |  0.3706062  | pos         |  0.4104365  |  2.86208749 | pos         | \n",
       "| 126 |  1          |  88         |  30         | 42          |  99         | 55.0        | 0.496       | 26          |  2.1964167  |  0.7868273  | pos         |  0.8713903  |  3.11821830 | pos         | \n",
       "| 160 | 17          | 163         |  72         | 41          | 114         | 40.9        | 0.817       | 47          |  4.8379683  |  1.5764949  | pos         |  1.7459262  |  1.11186033 | pos         | \n",
       "| 163 |  0          | 114         |  80         | 34          | 285         | 44.2        | 0.167       | 27          |  1.1067870  |  0.1014612  | neg         |  0.1123656  |  1.58143347 | pos         | \n",
       "| 216 | 12          | 151         |  70         | 40          | 271         | 41.8        | 0.742       | 38          |  1.5051136  |  0.4088684  | pos         |  0.4528109  |  1.23992574 | pos         | \n",
       "| 232 |  6          | 134         |  80         | 37          | 370         | 46.2        | 0.238       | 46          |  1.8005456  |  0.5880897  | pos         |  0.6512938  |  1.86602326 | pos         | \n",
       "| 237 |  7          | 181         |  84         | 21          | 192         | 35.9        | 0.586       | 51          |  2.6242671  |  0.9648017  | pos         |  1.0684922  |  0.40038588 | pos         | \n",
       "| 292 |  0          | 107         |  62         | 30          |  74         | 36.6        | 0.757       | 25          |  2.4208478  |  0.8841178  | pos         |  0.9791370  |  0.49999230 | pos         | \n",
       "| 297 |  2          | 146         |  70         | 38          | 360         | 28.0        | 0.337       | 29          |  5.6221899  |  1.7267213  | pos         |  1.9122980  | -0.72374376 | pos         | \n",
       "| 302 |  2          | 144         |  58         | 33          | 135         | 31.6        | 0.422       | 25          |  3.0136778  |  1.1031612  | pos         |  1.2217218  | -0.21148215 | pos         | \n",
       "| 309 |  0          | 128         |  68         | 19          | 180         | 30.5        | 1.391       | 25          |  7.4995755  |  2.0148464  | pos         |  2.2313890  | -0.36800653 | pos         | \n",
       "| 361 |  5          | 189         |  64         | 33          | 325         | 31.2        | 0.583       | 29          |  7.4204502  |  2.0042397  | pos         |  2.2196424  | -0.26840011 | pos         | \n",
       "| 397 |  3          |  96         |  56         | 34          | 115         | 24.7        | 0.944       | 39          |  4.7732481  |  1.5630270  | neg         |  1.7310110  | -1.19331690 | pos         | \n",
       "| 403 |  5          | 136         |  84         | 41          |  88         | 35.0        | 0.286       | 35          |  3.6742775  |  1.3013565  | pos         |  1.4412178  |  0.27232048 | pos         | \n",
       "| 413 |  1          | 143         |  84         | 23          | 310         | 42.4        | 1.076       | 22          |  2.3802951  |  0.8672245  | neg         |  0.9604281  |  1.32530267 | pos         | \n",
       "| 416 |  3          | 173         |  84         | 33          | 474         | 35.7        | 0.258       | 22          |  3.6740781  |  1.3013023  | pos         |  1.4411577  |  0.37192690 | pos         | \n",
       "| 430 |  1          |  95         |  82         | 25          | 180         | 35.0        | 0.233       | 43          |  2.0124216  |  0.6993388  | pos         |  0.7744992  |  0.27232048 | pos         | \n",
       "| 446 |  0          | 180         |  78         | 63          |  14         | 59.4        | 2.420       | 25          |  0.6815442  | -0.3833942  | pos         | -0.4245989  |  3.74431582 | pos         | \n",
       "| 453 |  0          |  91         |  68         | 32          | 210         | 39.9        | 0.381       | 25          |  1.5274013  |  0.4235678  | neg         |  0.4690901  |  0.96956544 | pos         | \n",
       "| 459 | 10          | 148         |  84         | 48          | 237         | 37.6        | 1.001       | 51          |  2.4033086  |  0.8768464  | pos         |  0.9710841  |  0.64228719 | pos         | \n",
       "| 477 |  2          | 105         |  80         | 45          | 191         | 33.7        | 0.711       | 29          |  3.4990186  |  1.2524825  | pos         |  1.3870912  |  0.08733712 | pos         | \n",
       "| 541 |  8          | 100         |  74         | 40          | 215         | 39.4        | 0.661       | 43          |  1.8953734  |  0.6394158  | pos         |  0.7081361  |  0.89841800 | pos         | \n",
       "| 546 |  8          | 186         |  90         | 35          | 225         | 34.5        | 0.423       | 37          |  2.4091440  |  0.8792715  | pos         |  0.9737699  |  0.20117303 | pos         | \n",
       "| 604 |  7          | 150         |  78         | 29          | 126         | 35.2        | 0.692       | 54          |  2.7190209  |  1.0002718  | pos         |  1.1077745  |  0.30077946 | pos         | \n",
       "| 612 |  3          | 174         |  58         | 22          | 194         | 32.9        | 0.593       | 36          |  4.7718173  |  1.5627272  | pos         |  1.7306790  | -0.02649879 | pos         | \n",
       "| 660 |  3          |  80         |  82         | 31          |  70         | 34.2        | 1.292       | 27          |  2.4309671  |  0.8882892  | pos         |  0.9837567  |  0.15848456 | pos         | \n",
       "| 690 |  1          | 144         |  82         | 46          | 180         | 46.1        | 0.335       | 46          |  2.1687619  |  0.7741564  | pos         |  0.8573577  |  1.85179377 | pos         | \n",
       "| 756 |  1          | 128         |  88         | 39          | 110         | 36.5        | 1.057       | 37          |  5.2667623  |  1.6614158  | pos         |  1.8399740  |  0.48576281 | pos         | \n",
       "\n",
       "\n"
      ],
      "text/plain": [
       "    pregnant glucose pressure triceps insulin mass pedigree age glucagon  \n",
       "5    0       137      40      35      168     43.1 2.288    33   3.3768847\n",
       "7    3        78      50      32       88     31.0 0.248    26  13.6061566\n",
       "15   5       166      72      19      175     25.8 0.587    51   5.7163726\n",
       "25  11       143      94      33      146     36.6 0.254    51   3.3559864\n",
       "44   9       171     110      24      240     45.4 0.721    54   4.9178985\n",
       "69   1        95      66      13       38     19.6 0.334    25   4.8057286\n",
       "70   4       146      85      27      100     28.9 0.189    27   2.6448992\n",
       "100  1       122      90      51      220     49.7 0.325    31   2.7702572\n",
       "121  0       162      76      56      100     53.2 0.759    25   1.4486124\n",
       "126  1        88      30      42       99     55.0 0.496    26   2.1964167\n",
       "160 17       163      72      41      114     40.9 0.817    47   4.8379683\n",
       "163  0       114      80      34      285     44.2 0.167    27   1.1067870\n",
       "216 12       151      70      40      271     41.8 0.742    38   1.5051136\n",
       "232  6       134      80      37      370     46.2 0.238    46   1.8005456\n",
       "237  7       181      84      21      192     35.9 0.586    51   2.6242671\n",
       "292  0       107      62      30       74     36.6 0.757    25   2.4208478\n",
       "297  2       146      70      38      360     28.0 0.337    29   5.6221899\n",
       "302  2       144      58      33      135     31.6 0.422    25   3.0136778\n",
       "309  0       128      68      19      180     30.5 1.391    25   7.4995755\n",
       "361  5       189      64      33      325     31.2 0.583    29   7.4204502\n",
       "397  3        96      56      34      115     24.7 0.944    39   4.7732481\n",
       "403  5       136      84      41       88     35.0 0.286    35   3.6742775\n",
       "413  1       143      84      23      310     42.4 1.076    22   2.3802951\n",
       "416  3       173      84      33      474     35.7 0.258    22   3.6740781\n",
       "430  1        95      82      25      180     35.0 0.233    43   2.0124216\n",
       "446  0       180      78      63       14     59.4 2.420    25   0.6815442\n",
       "453  0        91      68      32      210     39.9 0.381    25   1.5274013\n",
       "459 10       148      84      48      237     37.6 1.001    51   2.4033086\n",
       "477  2       105      80      45      191     33.7 0.711    29   3.4990186\n",
       "541  8       100      74      40      215     39.4 0.661    43   1.8953734\n",
       "546  8       186      90      35      225     34.5 0.423    37   2.4091440\n",
       "604  7       150      78      29      126     35.2 0.692    54   2.7190209\n",
       "612  3       174      58      22      194     32.9 0.593    36   4.7718173\n",
       "660  3        80      82      31       70     34.2 1.292    27   2.4309671\n",
       "690  1       144      82      46      180     46.1 0.335    46   2.1687619\n",
       "756  1       128      88      39      110     36.5 1.057    37   5.2667623\n",
       "    log_glucagon diabetes log_glucagon_rs mass_rs     predicted_type\n",
       "5    1.2169536   pos       1.3477438       1.42490909 pos           \n",
       "7    2.6105224   pos       2.8910843      -0.29685909 pos           \n",
       "15   1.7433345   pos       1.9306967      -1.03679252 pos           \n",
       "25   1.2107457   pos       1.3408688       0.49999230 pos           \n",
       "44   1.5928813   pos       1.7640738       1.75218734 pos           \n",
       "69   1.5698087   neg       1.7385215      -1.91902084 pos           \n",
       "70   0.9726330   neg       1.0771652      -0.59567836 pos           \n",
       "100  1.0189402   pos       1.1284492       2.36405537 pos           \n",
       "121  0.3706062   pos       0.4104365       2.86208749 pos           \n",
       "126  0.7868273   pos       0.8713903       3.11821830 pos           \n",
       "160  1.5764949   pos       1.7459262       1.11186033 pos           \n",
       "163  0.1014612   neg       0.1123656       1.58143347 pos           \n",
       "216  0.4088684   pos       0.4528109       1.23992574 pos           \n",
       "232  0.5880897   pos       0.6512938       1.86602326 pos           \n",
       "237  0.9648017   pos       1.0684922       0.40038588 pos           \n",
       "292  0.8841178   pos       0.9791370       0.49999230 pos           \n",
       "297  1.7267213   pos       1.9122980      -0.72374376 pos           \n",
       "302  1.1031612   pos       1.2217218      -0.21148215 pos           \n",
       "309  2.0148464   pos       2.2313890      -0.36800653 pos           \n",
       "361  2.0042397   pos       2.2196424      -0.26840011 pos           \n",
       "397  1.5630270   neg       1.7310110      -1.19331690 pos           \n",
       "403  1.3013565   pos       1.4412178       0.27232048 pos           \n",
       "413  0.8672245   neg       0.9604281       1.32530267 pos           \n",
       "416  1.3013023   pos       1.4411577       0.37192690 pos           \n",
       "430  0.6993388   pos       0.7744992       0.27232048 pos           \n",
       "446 -0.3833942   pos      -0.4245989       3.74431582 pos           \n",
       "453  0.4235678   neg       0.4690901       0.96956544 pos           \n",
       "459  0.8768464   pos       0.9710841       0.64228719 pos           \n",
       "477  1.2524825   pos       1.3870912       0.08733712 pos           \n",
       "541  0.6394158   pos       0.7081361       0.89841800 pos           \n",
       "546  0.8792715   pos       0.9737699       0.20117303 pos           \n",
       "604  1.0002718   pos       1.1077745       0.30077946 pos           \n",
       "612  1.5627272   pos       1.7306790      -0.02649879 pos           \n",
       "660  0.8882892   pos       0.9837567       0.15848456 pos           \n",
       "690  0.7741564   pos       0.8573577       1.85179377 pos           \n",
       "756  1.6614158   pos       1.8399740       0.48576281 pos           "
      ]
     },
     "metadata": {},
     "output_type": "display_data"
    },
    {
     "data": {
      "text/html": [
       "1"
      ],
      "text/latex": [
       "1"
      ],
      "text/markdown": [
       "1"
      ],
      "text/plain": [
       "[1] 1"
      ]
     },
     "metadata": {},
     "output_type": "display_data"
    }
   ],
   "source": [
    "predicted_probs_test = predict(classifier_logreg, type = 'response', newdata = test_data)\n",
    "y_pred_test = ifelse(predicted_probs_test > 0.5, 'pos', 'neg')\n",
    "\n",
    "table(test_data$diabetes,y_pred_test)\n",
    "test_data$predicted_type = y_pred_test\n",
    "test_data[test_data$predicted_type == \"pos\",]\n",
    "tpr = length(test_data[test_data$diabetes== y_pred_test & y_pred_test == \"pos\",] )/length(test_data[test_data$diabetes==\"pos\",])\n",
    "tpr"
   ]
  },
  {
   "cell_type": "code",
   "execution_count": 125,
   "metadata": {},
   "outputs": [
    {
     "data": {
      "text/html": [
       "1.67040428842285e-17"
      ],
      "text/latex": [
       "1.67040428842285e-17"
      ],
      "text/markdown": [
       "1.67040428842285e-17"
      ],
      "text/plain": [
       "[1] 1.670404e-17"
      ]
     },
     "metadata": {},
     "output_type": "display_data"
    },
    {
     "data": {
      "text/html": [
       "1.51414088449151e-16"
      ],
      "text/latex": [
       "1.51414088449151e-16"
      ],
      "text/markdown": [
       "1.51414088449151e-16"
      ],
      "text/plain": [
       "[1] 1.514141e-16"
      ]
     },
     "metadata": {},
     "output_type": "display_data"
    },
    {
     "data": {
      "text/html": [
       "1"
      ],
      "text/latex": [
       "1"
      ],
      "text/markdown": [
       "1"
      ],
      "text/plain": [
       "[1] 1"
      ]
     },
     "metadata": {},
     "output_type": "display_data"
    },
    {
     "data": {
      "text/html": [
       "1"
      ],
      "text/latex": [
       "1"
      ],
      "text/markdown": [
       "1"
      ],
      "text/plain": [
       "[1] 1"
      ]
     },
     "metadata": {},
     "output_type": "display_data"
    }
   ],
   "source": [
    "mean(medical_data$log_glucagon_rs)\n",
    "mean(medical_data$mass_rs)\n",
    "\n",
    "sd(medical_data$log_glucagon_rs)\n",
    "sd(medical_data$mass_rs)\n"
   ]
  },
  {
   "cell_type": "code",
   "execution_count": 126,
   "metadata": {},
   "outputs": [
    {
     "data": {
      "text/html": [
       "<table>\n",
       "<thead><tr><th></th><th scope=col>pregnant</th><th scope=col>glucose</th><th scope=col>pressure</th><th scope=col>triceps</th><th scope=col>insulin</th><th scope=col>mass</th><th scope=col>pedigree</th><th scope=col>age</th><th scope=col>glucagon</th><th scope=col>log_glucagon</th><th scope=col>diabetes</th><th scope=col>log_glucagon_rs</th><th scope=col>mass_rs</th></tr></thead>\n",
       "<tbody>\n",
       "\t<tr><th scope=row>4</th><td>1         </td><td> 89       </td><td>66        </td><td>23        </td><td> 94       </td><td>28.1      </td><td>0.167     </td><td>21        </td><td> 1.113194 </td><td>0.1072331 </td><td>neg       </td><td>0.1187578 </td><td>-0.7095143</td></tr>\n",
       "\t<tr><th scope=row>5</th><td>0         </td><td>137       </td><td>40        </td><td>35        </td><td>168       </td><td>43.1      </td><td>2.288     </td><td>33        </td><td> 3.376885 </td><td>1.2169536 </td><td>pos       </td><td>1.3477438 </td><td> 1.4249091</td></tr>\n",
       "\t<tr><th scope=row>7</th><td>3         </td><td> 78       </td><td>50        </td><td>32        </td><td> 88       </td><td>31.0      </td><td>0.248     </td><td>26        </td><td>13.606157 </td><td>2.6105224 </td><td>pos       </td><td>2.8910843 </td><td>-0.2968591</td></tr>\n",
       "\t<tr><th scope=row>9</th><td>2         </td><td>197       </td><td>70        </td><td>45        </td><td>543       </td><td>30.5      </td><td>0.158     </td><td>53        </td><td> 1.608079 </td><td>0.4750404 </td><td>pos       </td><td>0.5260947 </td><td>-0.3680065</td></tr>\n",
       "\t<tr><th scope=row>14</th><td>1         </td><td>189       </td><td>60        </td><td>23        </td><td>846       </td><td>30.1      </td><td>0.398     </td><td>59        </td><td> 4.689861 </td><td>1.5454030 </td><td>pos       </td><td>1.7114928 </td><td>-0.4249245</td></tr>\n",
       "\t<tr><th scope=row>15</th><td>5         </td><td>166       </td><td>72        </td><td>19        </td><td>175       </td><td>25.8      </td><td>0.587     </td><td>51        </td><td> 5.716373 </td><td>1.7433345 </td><td>pos       </td><td>1.9306967 </td><td>-1.0367925</td></tr>\n",
       "</tbody>\n",
       "</table>\n"
      ],
      "text/latex": [
       "\\begin{tabular}{r|lllllllllllll}\n",
       "  & pregnant & glucose & pressure & triceps & insulin & mass & pedigree & age & glucagon & log\\_glucagon & diabetes & log\\_glucagon\\_rs & mass\\_rs\\\\\n",
       "\\hline\n",
       "\t4 & 1          &  89        & 66         & 23         &  94        & 28.1       & 0.167      & 21         &  1.113194  & 0.1072331  & neg        & 0.1187578  & -0.7095143\\\\\n",
       "\t5 & 0          & 137        & 40         & 35         & 168        & 43.1       & 2.288      & 33         &  3.376885  & 1.2169536  & pos        & 1.3477438  &  1.4249091\\\\\n",
       "\t7 & 3          &  78        & 50         & 32         &  88        & 31.0       & 0.248      & 26         & 13.606157  & 2.6105224  & pos        & 2.8910843  & -0.2968591\\\\\n",
       "\t9 & 2          & 197        & 70         & 45         & 543        & 30.5       & 0.158      & 53         &  1.608079  & 0.4750404  & pos        & 0.5260947  & -0.3680065\\\\\n",
       "\t14 & 1          & 189        & 60         & 23         & 846        & 30.1       & 0.398      & 59         &  4.689861  & 1.5454030  & pos        & 1.7114928  & -0.4249245\\\\\n",
       "\t15 & 5          & 166        & 72         & 19         & 175        & 25.8       & 0.587      & 51         &  5.716373  & 1.7433345  & pos        & 1.9306967  & -1.0367925\\\\\n",
       "\\end{tabular}\n"
      ],
      "text/markdown": [
       "\n",
       "| <!--/--> | pregnant | glucose | pressure | triceps | insulin | mass | pedigree | age | glucagon | log_glucagon | diabetes | log_glucagon_rs | mass_rs | \n",
       "|---|---|---|---|---|---|\n",
       "| 4 | 1          |  89        | 66         | 23         |  94        | 28.1       | 0.167      | 21         |  1.113194  | 0.1072331  | neg        | 0.1187578  | -0.7095143 | \n",
       "| 5 | 0          | 137        | 40         | 35         | 168        | 43.1       | 2.288      | 33         |  3.376885  | 1.2169536  | pos        | 1.3477438  |  1.4249091 | \n",
       "| 7 | 3          |  78        | 50         | 32         |  88        | 31.0       | 0.248      | 26         | 13.606157  | 2.6105224  | pos        | 2.8910843  | -0.2968591 | \n",
       "| 9 | 2          | 197        | 70         | 45         | 543        | 30.5       | 0.158      | 53         |  1.608079  | 0.4750404  | pos        | 0.5260947  | -0.3680065 | \n",
       "| 14 | 1          | 189        | 60         | 23         | 846        | 30.1       | 0.398      | 59         |  4.689861  | 1.5454030  | pos        | 1.7114928  | -0.4249245 | \n",
       "| 15 | 5          | 166        | 72         | 19         | 175        | 25.8       | 0.587      | 51         |  5.716373  | 1.7433345  | pos        | 1.9306967  | -1.0367925 | \n",
       "\n",
       "\n"
      ],
      "text/plain": [
       "   pregnant glucose pressure triceps insulin mass pedigree age glucagon \n",
       "4  1         89     66       23       94     28.1 0.167    21   1.113194\n",
       "5  0        137     40       35      168     43.1 2.288    33   3.376885\n",
       "7  3         78     50       32       88     31.0 0.248    26  13.606157\n",
       "9  2        197     70       45      543     30.5 0.158    53   1.608079\n",
       "14 1        189     60       23      846     30.1 0.398    59   4.689861\n",
       "15 5        166     72       19      175     25.8 0.587    51   5.716373\n",
       "   log_glucagon diabetes log_glucagon_rs mass_rs   \n",
       "4  0.1072331    neg      0.1187578       -0.7095143\n",
       "5  1.2169536    pos      1.3477438        1.4249091\n",
       "7  2.6105224    pos      2.8910843       -0.2968591\n",
       "9  0.4750404    pos      0.5260947       -0.3680065\n",
       "14 1.5454030    pos      1.7114928       -0.4249245\n",
       "15 1.7433345    pos      1.9306967       -1.0367925"
      ]
     },
     "metadata": {},
     "output_type": "display_data"
    }
   ],
   "source": [
    "head(medical_data)"
   ]
  },
  {
   "cell_type": "code",
   "execution_count": 86,
   "metadata": {},
   "outputs": [
    {
     "data": {
      "text/html": [
       "<ol class=list-inline>\n",
       "\t<li>'medical_data'</li>\n",
       "\t<li>'test_data'</li>\n",
       "\t<li>'train_data'</li>\n",
       "</ol>\n"
      ],
      "text/latex": [
       "\\begin{enumerate*}\n",
       "\\item 'medical\\_data'\n",
       "\\item 'test\\_data'\n",
       "\\item 'train\\_data'\n",
       "\\end{enumerate*}\n"
      ],
      "text/markdown": [
       "1. 'medical_data'\n",
       "2. 'test_data'\n",
       "3. 'train_data'\n",
       "\n",
       "\n"
      ],
      "text/plain": [
       "[1] \"medical_data\" \"test_data\"    \"train_data\"  "
      ]
     },
     "metadata": {},
     "output_type": "display_data"
    }
   ],
   "source": [
    "sectione = load(\"section_e.Rda\")\n",
    "sectione"
   ]
  },
  {
   "cell_type": "code",
   "execution_count": 87,
   "metadata": {},
   "outputs": [],
   "source": [
    "wtf = get(sectione[2])"
   ]
  },
  {
   "cell_type": "code",
   "execution_count": 88,
   "metadata": {},
   "outputs": [
    {
     "data": {
      "text/html": [
       "<table>\n",
       "<thead><tr><th></th><th scope=col>pregnant</th><th scope=col>glucose</th><th scope=col>pressure</th><th scope=col>triceps</th><th scope=col>insulin</th><th scope=col>mass</th><th scope=col>pedigree</th><th scope=col>age</th><th scope=col>glucagon</th><th scope=col>log_glucagon</th><th scope=col>diabetes</th><th scope=col>log_glucagon_rs</th><th scope=col>mass_rs</th></tr></thead>\n",
       "<tbody>\n",
       "\t<tr><th scope=row>4</th><td> 1         </td><td> 89        </td><td>66         </td><td>23         </td><td> 94        </td><td>28.1       </td><td>0.167      </td><td>21         </td><td> 1.1131937 </td><td> 0.10723306</td><td>neg        </td><td> 0.11875777</td><td>-0.7095143 </td></tr>\n",
       "\t<tr><th scope=row>5</th><td> 0         </td><td>137        </td><td>40         </td><td>35         </td><td>168        </td><td>43.1       </td><td>2.288      </td><td>33         </td><td> 3.3768847 </td><td> 1.21695360</td><td>pos        </td><td> 1.34774384</td><td> 1.4249091 </td></tr>\n",
       "\t<tr><th scope=row>7</th><td> 3         </td><td> 78        </td><td>50         </td><td>32         </td><td> 88        </td><td>31.0       </td><td>0.248      </td><td>26         </td><td>13.6061566 </td><td> 2.61052238</td><td>pos        </td><td> 2.89108431</td><td>-0.2968591 </td></tr>\n",
       "\t<tr><th scope=row>15</th><td> 5         </td><td>166        </td><td>72         </td><td>19         </td><td>175        </td><td>25.8       </td><td>0.587      </td><td>51         </td><td> 5.7163726 </td><td> 1.74333445</td><td>pos        </td><td> 1.93069668</td><td>-1.0367925 </td></tr>\n",
       "\t<tr><th scope=row>17</th><td> 0         </td><td>118        </td><td>84         </td><td>47         </td><td>230        </td><td>45.8       </td><td>0.551      </td><td>31         </td><td> 0.9628553 </td><td>-0.03785219</td><td>pos        </td><td>-0.04192029</td><td> 1.8091053 </td></tr>\n",
       "\t<tr><th scope=row>25</th><td>11         </td><td>143        </td><td>94         </td><td>33         </td><td>146        </td><td>36.6       </td><td>0.254      </td><td>51         </td><td> 3.3559864 </td><td> 1.21074573</td><td>pos        </td><td> 1.34086879</td><td> 0.4999923 </td></tr>\n",
       "</tbody>\n",
       "</table>\n"
      ],
      "text/latex": [
       "\\begin{tabular}{r|lllllllllllll}\n",
       "  & pregnant & glucose & pressure & triceps & insulin & mass & pedigree & age & glucagon & log\\_glucagon & diabetes & log\\_glucagon\\_rs & mass\\_rs\\\\\n",
       "\\hline\n",
       "\t4 &  1          &  89         & 66          & 23          &  94         & 28.1        & 0.167       & 21          &  1.1131937  &  0.10723306 & neg         &  0.11875777 & -0.7095143 \\\\\n",
       "\t5 &  0          & 137         & 40          & 35          & 168         & 43.1        & 2.288       & 33          &  3.3768847  &  1.21695360 & pos         &  1.34774384 &  1.4249091 \\\\\n",
       "\t7 &  3          &  78         & 50          & 32          &  88         & 31.0        & 0.248       & 26          & 13.6061566  &  2.61052238 & pos         &  2.89108431 & -0.2968591 \\\\\n",
       "\t15 &  5          & 166         & 72          & 19          & 175         & 25.8        & 0.587       & 51          &  5.7163726  &  1.74333445 & pos         &  1.93069668 & -1.0367925 \\\\\n",
       "\t17 &  0          & 118         & 84          & 47          & 230         & 45.8        & 0.551       & 31          &  0.9628553  & -0.03785219 & pos         & -0.04192029 &  1.8091053 \\\\\n",
       "\t25 & 11          & 143         & 94          & 33          & 146         & 36.6        & 0.254       & 51          &  3.3559864  &  1.21074573 & pos         &  1.34086879 &  0.4999923 \\\\\n",
       "\\end{tabular}\n"
      ],
      "text/markdown": [
       "\n",
       "| <!--/--> | pregnant | glucose | pressure | triceps | insulin | mass | pedigree | age | glucagon | log_glucagon | diabetes | log_glucagon_rs | mass_rs | \n",
       "|---|---|---|---|---|---|\n",
       "| 4 |  1          |  89         | 66          | 23          |  94         | 28.1        | 0.167       | 21          |  1.1131937  |  0.10723306 | neg         |  0.11875777 | -0.7095143  | \n",
       "| 5 |  0          | 137         | 40          | 35          | 168         | 43.1        | 2.288       | 33          |  3.3768847  |  1.21695360 | pos         |  1.34774384 |  1.4249091  | \n",
       "| 7 |  3          |  78         | 50          | 32          |  88         | 31.0        | 0.248       | 26          | 13.6061566  |  2.61052238 | pos         |  2.89108431 | -0.2968591  | \n",
       "| 15 |  5          | 166         | 72          | 19          | 175         | 25.8        | 0.587       | 51          |  5.7163726  |  1.74333445 | pos         |  1.93069668 | -1.0367925  | \n",
       "| 17 |  0          | 118         | 84          | 47          | 230         | 45.8        | 0.551       | 31          |  0.9628553  | -0.03785219 | pos         | -0.04192029 |  1.8091053  | \n",
       "| 25 | 11          | 143         | 94          | 33          | 146         | 36.6        | 0.254       | 51          |  3.3559864  |  1.21074573 | pos         |  1.34086879 |  0.4999923  | \n",
       "\n",
       "\n"
      ],
      "text/plain": [
       "   pregnant glucose pressure triceps insulin mass pedigree age glucagon  \n",
       "4   1        89     66       23       94     28.1 0.167    21   1.1131937\n",
       "5   0       137     40       35      168     43.1 2.288    33   3.3768847\n",
       "7   3        78     50       32       88     31.0 0.248    26  13.6061566\n",
       "15  5       166     72       19      175     25.8 0.587    51   5.7163726\n",
       "17  0       118     84       47      230     45.8 0.551    31   0.9628553\n",
       "25 11       143     94       33      146     36.6 0.254    51   3.3559864\n",
       "   log_glucagon diabetes log_glucagon_rs mass_rs   \n",
       "4   0.10723306  neg       0.11875777     -0.7095143\n",
       "5   1.21695360  pos       1.34774384      1.4249091\n",
       "7   2.61052238  pos       2.89108431     -0.2968591\n",
       "15  1.74333445  pos       1.93069668     -1.0367925\n",
       "17 -0.03785219  pos      -0.04192029      1.8091053\n",
       "25  1.21074573  pos       1.34086879      0.4999923"
      ]
     },
     "metadata": {},
     "output_type": "display_data"
    }
   ],
   "source": [
    "head(wtf)"
   ]
  },
  {
   "cell_type": "code",
   "execution_count": 89,
   "metadata": {},
   "outputs": [],
   "source": [
    "train=get(sectione[3])\n",
    "test=wtf"
   ]
  },
  {
   "cell_type": "code",
   "execution_count": 90,
   "metadata": {},
   "outputs": [
    {
     "data": {
      "text/html": [
       "<table>\n",
       "<thead><tr><th></th><th scope=col>pregnant</th><th scope=col>glucose</th><th scope=col>pressure</th><th scope=col>triceps</th><th scope=col>insulin</th><th scope=col>mass</th><th scope=col>pedigree</th><th scope=col>age</th><th scope=col>glucagon</th><th scope=col>log_glucagon</th><th scope=col>diabetes</th><th scope=col>log_glucagon_rs</th><th scope=col>mass_rs</th></tr></thead>\n",
       "<tbody>\n",
       "\t<tr><th scope=row>217</th><td> 5        </td><td>109       </td><td> 62       </td><td>41        </td><td>129       </td><td>35.8      </td><td>0.514     </td><td>25        </td><td>0.8596743 </td><td>-0.1512017</td><td>pos       </td><td>-0.1674519</td><td> 0.3861564</td></tr>\n",
       "\t<tr><th scope=row>298</th><td> 0        </td><td>126       </td><td> 84       </td><td>29        </td><td>215       </td><td>30.7      </td><td>0.520     </td><td>24        </td><td>0.6910895 </td><td>-0.3694860</td><td>neg       </td><td>-0.4091959</td><td>-0.3395476</td></tr>\n",
       "\t<tr><th scope=row>442</th><td> 2        </td><td> 83       </td><td> 66       </td><td>23        </td><td> 50       </td><td>32.2      </td><td>0.497     </td><td>22        </td><td>0.7436729 </td><td>-0.2961540</td><td>neg       </td><td>-0.3279827</td><td>-0.1261052</td></tr>\n",
       "\t<tr><th scope=row>689</th><td> 1        </td><td>140       </td><td> 74       </td><td>26        </td><td>180       </td><td>24.1      </td><td>0.828     </td><td>23        </td><td>0.5189233 </td><td>-0.6559992</td><td>neg       </td><td>-0.7265017</td><td>-1.2786938</td></tr>\n",
       "\t<tr><th scope=row>162</th><td> 7        </td><td>102       </td><td> 74       </td><td>40        </td><td>105       </td><td>37.2      </td><td>0.204     </td><td>45        </td><td>0.2469354 </td><td>-1.3986287</td><td>neg       </td><td>-1.5489442</td><td> 0.5853692</td></tr>\n",
       "\t<tr><th scope=row>673</th><td>10        </td><td> 68       </td><td>106       </td><td>23        </td><td> 49       </td><td>35.5      </td><td>0.285     </td><td>47        </td><td>0.3128466 </td><td>-1.1620422</td><td>neg       </td><td>-1.2869309</td><td> 0.3434679</td></tr>\n",
       "</tbody>\n",
       "</table>\n"
      ],
      "text/latex": [
       "\\begin{tabular}{r|lllllllllllll}\n",
       "  & pregnant & glucose & pressure & triceps & insulin & mass & pedigree & age & glucagon & log\\_glucagon & diabetes & log\\_glucagon\\_rs & mass\\_rs\\\\\n",
       "\\hline\n",
       "\t217 &  5         & 109        &  62        & 41         & 129        & 35.8       & 0.514      & 25         & 0.8596743  & -0.1512017 & pos        & -0.1674519 &  0.3861564\\\\\n",
       "\t298 &  0         & 126        &  84        & 29         & 215        & 30.7       & 0.520      & 24         & 0.6910895  & -0.3694860 & neg        & -0.4091959 & -0.3395476\\\\\n",
       "\t442 &  2         &  83        &  66        & 23         &  50        & 32.2       & 0.497      & 22         & 0.7436729  & -0.2961540 & neg        & -0.3279827 & -0.1261052\\\\\n",
       "\t689 &  1         & 140        &  74        & 26         & 180        & 24.1       & 0.828      & 23         & 0.5189233  & -0.6559992 & neg        & -0.7265017 & -1.2786938\\\\\n",
       "\t162 &  7         & 102        &  74        & 40         & 105        & 37.2       & 0.204      & 45         & 0.2469354  & -1.3986287 & neg        & -1.5489442 &  0.5853692\\\\\n",
       "\t673 & 10         &  68        & 106        & 23         &  49        & 35.5       & 0.285      & 47         & 0.3128466  & -1.1620422 & neg        & -1.2869309 &  0.3434679\\\\\n",
       "\\end{tabular}\n"
      ],
      "text/markdown": [
       "\n",
       "| <!--/--> | pregnant | glucose | pressure | triceps | insulin | mass | pedigree | age | glucagon | log_glucagon | diabetes | log_glucagon_rs | mass_rs | \n",
       "|---|---|---|---|---|---|\n",
       "| 217 |  5         | 109        |  62        | 41         | 129        | 35.8       | 0.514      | 25         | 0.8596743  | -0.1512017 | pos        | -0.1674519 |  0.3861564 | \n",
       "| 298 |  0         | 126        |  84        | 29         | 215        | 30.7       | 0.520      | 24         | 0.6910895  | -0.3694860 | neg        | -0.4091959 | -0.3395476 | \n",
       "| 442 |  2         |  83        |  66        | 23         |  50        | 32.2       | 0.497      | 22         | 0.7436729  | -0.2961540 | neg        | -0.3279827 | -0.1261052 | \n",
       "| 689 |  1         | 140        |  74        | 26         | 180        | 24.1       | 0.828      | 23         | 0.5189233  | -0.6559992 | neg        | -0.7265017 | -1.2786938 | \n",
       "| 162 |  7         | 102        |  74        | 40         | 105        | 37.2       | 0.204      | 45         | 0.2469354  | -1.3986287 | neg        | -1.5489442 |  0.5853692 | \n",
       "| 673 | 10         |  68        | 106        | 23         |  49        | 35.5       | 0.285      | 47         | 0.3128466  | -1.1620422 | neg        | -1.2869309 |  0.3434679 | \n",
       "\n",
       "\n"
      ],
      "text/plain": [
       "    pregnant glucose pressure triceps insulin mass pedigree age glucagon \n",
       "217  5       109      62      41      129     35.8 0.514    25  0.8596743\n",
       "298  0       126      84      29      215     30.7 0.520    24  0.6910895\n",
       "442  2        83      66      23       50     32.2 0.497    22  0.7436729\n",
       "689  1       140      74      26      180     24.1 0.828    23  0.5189233\n",
       "162  7       102      74      40      105     37.2 0.204    45  0.2469354\n",
       "673 10        68     106      23       49     35.5 0.285    47  0.3128466\n",
       "    log_glucagon diabetes log_glucagon_rs mass_rs   \n",
       "217 -0.1512017   pos      -0.1674519       0.3861564\n",
       "298 -0.3694860   neg      -0.4091959      -0.3395476\n",
       "442 -0.2961540   neg      -0.3279827      -0.1261052\n",
       "689 -0.6559992   neg      -0.7265017      -1.2786938\n",
       "162 -1.3986287   neg      -1.5489442       0.5853692\n",
       "673 -1.1620422   neg      -1.2869309       0.3434679"
      ]
     },
     "metadata": {},
     "output_type": "display_data"
    }
   ],
   "source": [
    "head(train)"
   ]
  },
  {
   "cell_type": "code",
   "execution_count": 91,
   "metadata": {},
   "outputs": [],
   "source": [
    "classifier_logreg = glm(diabetes ~ log_glucagon_rs + mass_rs, family = binomial(link='logit'), data = train)\n",
    "model1 <- glm(diabetes~log_glucagon_rs+mass_rs,data=train_data,family=binomial)"
   ]
  },
  {
   "cell_type": "code",
   "execution_count": 92,
   "metadata": {},
   "outputs": [
    {
     "data": {
      "text/plain": [
       "    pregnant         glucose       pressure        triceps         insulin   \n",
       " Min.   : 0.000   Min.   : 56   Min.   : 24.0   Min.   : 7.00   Min.   : 14  \n",
       " 1st Qu.: 1.000   1st Qu.: 98   1st Qu.: 64.0   1st Qu.:19.00   1st Qu.: 73  \n",
       " Median : 2.000   Median :114   Median : 72.0   Median :28.00   Median :114  \n",
       " Mean   : 3.223   Mean   :119   Mean   : 71.4   Mean   :28.54   Mean   :138  \n",
       " 3rd Qu.: 5.000   3rd Qu.:139   3rd Qu.: 80.0   3rd Qu.:35.00   3rd Qu.:180  \n",
       " Max.   :17.000   Max.   :191   Max.   :110.0   Max.   :63.00   Max.   :600  \n",
       "      mass          pedigree           age            glucagon.V1    \n",
       " Min.   :18.20   Min.   :0.1150   Min.   :21.00   Min.   : 0.129235  \n",
       " 1st Qu.:27.80   1st Qu.:0.2860   1st Qu.:23.00   1st Qu.: 0.601638  \n",
       " Median :32.00   Median :0.4630   Median :27.00   Median : 1.000688  \n",
       " Mean   :32.53   Mean   :0.5295   Mean   :31.01   Mean   : 1.519069  \n",
       " 3rd Qu.:36.50   3rd Qu.:0.6780   3rd Qu.:36.00   3rd Qu.: 1.770320  \n",
       " Max.   :59.40   Max.   :2.4200   Max.   :81.00   Max.   :13.606157  \n",
       "   log_glucagon.V1    diabetes   log_glucagon_rs.V1      mass_rs.V1     \n",
       " Min.   :-2.0461245   neg:103   Min.   :-2.2660286   Min.   :-2.118234  \n",
       " 1st Qu.:-0.5080998   pos: 54   1st Qu.:-0.5627070   1st Qu.:-0.752203  \n",
       " Median : 0.0006873             Median : 0.0007612   Median :-0.154564  \n",
       " Mean   : 0.0344651             Mean   : 0.0381692   Mean   :-0.079701  \n",
       " 3rd Qu.: 0.5711605             3rd Qu.: 0.6325451   3rd Qu.: 0.485763  \n",
       " Max.   : 2.6105224             Max.   : 2.8910843   Max.   : 3.744316  "
      ]
     },
     "metadata": {},
     "output_type": "display_data"
    }
   ],
   "source": [
    "summary(test)"
   ]
  },
  {
   "cell_type": "code",
   "execution_count": 93,
   "metadata": {},
   "outputs": [
    {
     "data": {
      "text/plain": [
       "\n",
       "Call:\n",
       "glm(formula = diabetes ~ log_glucagon_rs + mass_rs, family = binomial(link = \"logit\"), \n",
       "    data = train)\n",
       "\n",
       "Deviance Residuals: \n",
       "    Min       1Q   Median       3Q      Max  \n",
       "-1.9003  -0.7444  -0.4413   0.7784   2.3769  \n",
       "\n",
       "Coefficients:\n",
       "                Estimate Std. Error z value Pr(>|z|)    \n",
       "(Intercept)      -0.9621     0.1722  -5.587 2.31e-08 ***\n",
       "log_glucagon_rs   1.2204     0.1949   6.261 3.82e-10 ***\n",
       "mass_rs           0.5301     0.1801   2.943  0.00325 ** \n",
       "---\n",
       "Signif. codes:  0 ‘***’ 0.001 ‘**’ 0.01 ‘*’ 0.05 ‘.’ 0.1 ‘ ’ 1\n",
       "\n",
       "(Dispersion parameter for binomial family taken to be 1)\n",
       "\n",
       "    Null deviance: 295.82  on 234  degrees of freedom\n",
       "Residual deviance: 227.56  on 232  degrees of freedom\n",
       "AIC: 233.56\n",
       "\n",
       "Number of Fisher Scoring iterations: 5\n"
      ]
     },
     "metadata": {},
     "output_type": "display_data"
    },
    {
     "data": {
      "text/plain": [
       "\n",
       "Call:\n",
       "glm(formula = diabetes ~ log_glucagon_rs + mass_rs, family = binomial, \n",
       "    data = train_data)\n",
       "\n",
       "Deviance Residuals: \n",
       "    Min       1Q   Median       3Q      Max  \n",
       "-1.9003  -0.7444  -0.4413   0.7784   2.3769  \n",
       "\n",
       "Coefficients:\n",
       "                Estimate Std. Error z value Pr(>|z|)    \n",
       "(Intercept)      -0.9621     0.1722  -5.587 2.31e-08 ***\n",
       "log_glucagon_rs   1.2204     0.1949   6.261 3.82e-10 ***\n",
       "mass_rs           0.5301     0.1801   2.943  0.00325 ** \n",
       "---\n",
       "Signif. codes:  0 ‘***’ 0.001 ‘**’ 0.01 ‘*’ 0.05 ‘.’ 0.1 ‘ ’ 1\n",
       "\n",
       "(Dispersion parameter for binomial family taken to be 1)\n",
       "\n",
       "    Null deviance: 295.82  on 234  degrees of freedom\n",
       "Residual deviance: 227.56  on 232  degrees of freedom\n",
       "AIC: 233.56\n",
       "\n",
       "Number of Fisher Scoring iterations: 5\n"
      ]
     },
     "metadata": {},
     "output_type": "display_data"
    }
   ],
   "source": [
    "summary(classifier_logreg)\n",
    "summary(model1)"
   ]
  },
  {
   "cell_type": "code",
   "execution_count": 148,
   "metadata": {},
   "outputs": [
    {
     "ename": "ERROR",
     "evalue": "Error in is.factor(reference): argument \"reference\" is missing, with no default\n",
     "output_type": "error",
     "traceback": [
      "Error in is.factor(reference): argument \"reference\" is missing, with no default\nTraceback:\n",
      "1. confusionMatrix(prediction)",
      "2. confusionMatrix.default(prediction)",
      "3. is.factor(reference)"
     ]
    }
   ],
   "source": [
    "prediction = predict(classifier_logreg, data=train)\n",
    "#prediction\n",
    "confusionMatrix(prediction)"
   ]
  },
  {
   "cell_type": "code",
   "execution_count": 94,
   "metadata": {},
   "outputs": [
    {
     "data": {
      "text/plain": [
       "       \n",
       "        neg pos\n",
       "  FALSE  97  24\n",
       "  TRUE    6  30"
      ]
     },
     "metadata": {},
     "output_type": "display_data"
    }
   ],
   "source": [
    "\n",
    "# Predicting the Validation set results\n",
    "prediction = predict(classifier_logreg, type = 'response', newdata = test)\n",
    "y_pred = ifelse(prediction > 0.5, 1, 0)\n",
    "\n",
    "\n",
    "# Checking the prediction accuracy\n",
    "table(y_pred > 0.5, test$diabetes) # Confusion matrix"
   ]
  },
  {
   "cell_type": "code",
   "execution_count": 95,
   "metadata": {},
   "outputs": [],
   "source": [
    "#table(predicted=prediction, actual=test$diabetes)"
   ]
  },
  {
   "cell_type": "code",
   "execution_count": 96,
   "metadata": {},
   "outputs": [],
   "source": [
    "prob_medical_data <- predict(model1,type=\"resp\",newdata = test_data)"
   ]
  },
  {
   "cell_type": "code",
   "execution_count": 97,
   "metadata": {},
   "outputs": [],
   "source": [
    "#prediction"
   ]
  },
  {
   "cell_type": "code",
   "execution_count": 98,
   "metadata": {},
   "outputs": [],
   "source": [
    "#prob_medical_data"
   ]
  },
  {
   "cell_type": "code",
   "execution_count": 99,
   "metadata": {},
   "outputs": [
    {
     "data": {
      "text/plain": [
       "         actual\n",
       "predicted neg pos\n",
       "      neg  97  24\n",
       "      pos   6  30"
      ]
     },
     "metadata": {},
     "output_type": "display_data"
    },
    {
     "data": {
      "text/plain": [
       " pred_medical_data\n",
       " neg:121          \n",
       " pos: 36          "
      ]
     },
     "metadata": {},
     "output_type": "display_data"
    }
   ],
   "source": [
    "model1 <- glm(diabetes~log_glucagon_rs+mass_rs,data=train_data,family=binomial)\n",
    "\n",
    "#e2\n",
    "prob_medical_data <- predict(model1,type=\"resp\",newdata = test_data)\n",
    "pred_medical_data <- ifelse(prob_medical_data>0.5, \"pos\", \"neg\")\n",
    "\n",
    "#e3\n",
    "table(predicted=pred_medical_data, actual=test_data$diabetes)\n",
    "#confusionMatrix(pred_medical_data, test$diabetes)\n",
    "summary(data.frame(pred_medical_data))"
   ]
  },
  {
   "cell_type": "code",
   "execution_count": 100,
   "metadata": {},
   "outputs": [],
   "source": [
    "train_data_x = train_data\n",
    "train_data_x$glucose_rs = scale(train_data_x$glucose)\n",
    "#already has mass_rs\n",
    "\n",
    "test_data_x = test_data\n",
    "test_data_x$glucose_rs = scale(test_data_x$glucose)"
   ]
  },
  {
   "cell_type": "code",
   "execution_count": 102,
   "metadata": {},
   "outputs": [
    {
     "data": {
      "text/plain": [
       " 0 1 2 3 4 5 6 7 8 9 11\n",
       "                       \n",
       " 1 2 4 7 8 2 8 4 5 1  1"
      ]
     },
     "metadata": {},
     "output_type": "display_data"
    }
   ],
   "source": [
    "ftable(sales$pizza)"
   ]
  },
  {
   "cell_type": "code",
   "execution_count": 204,
   "metadata": {},
   "outputs": [
    {
     "data": {
      "text/plain": [
       "                 \n",
       "pred_medical_data neg pos\n",
       "                0  97  24\n",
       "                1   6  30"
      ]
     },
     "metadata": {},
     "output_type": "display_data"
    },
    {
     "data": {
      "text/plain": [
       "     \n",
       "      FALSE TRUE\n",
       "  neg    97    6\n",
       "  pos    24   30"
      ]
     },
     "metadata": {},
     "output_type": "display_data"
    }
   ],
   "source": [
    "table( pred_medical_data, test$diabetes ) # Confusion matrix\n",
    "table(test$diabetes, y_pred > 0.5)"
   ]
  },
  {
   "cell_type": "code",
   "execution_count": 170,
   "metadata": {},
   "outputs": [
    {
     "data": {
      "text/html": [
       "0.357142857142857"
      ],
      "text/latex": [
       "0.357142857142857"
      ],
      "text/markdown": [
       "0.357142857142857"
      ],
      "text/plain": [
       "[1] 0.3571429"
      ]
     },
     "metadata": {},
     "output_type": "display_data"
    }
   ],
   "source": [
    "#correctly predicted\n",
    "25/70"
   ]
  },
  {
   "cell_type": "code",
   "execution_count": 214,
   "metadata": {},
   "outputs": [
    {
     "data": {
      "text/html": [
       "'Accuracy 0.7834394904'"
      ],
      "text/latex": [
       "'Accuracy 0.7834394904'"
      ],
      "text/markdown": [
       "'Accuracy 0.7834394904'"
      ],
      "text/plain": [
       "[1] \"Accuracy 0.7834394904\""
      ]
     },
     "metadata": {},
     "output_type": "display_data"
    }
   ],
   "source": [
    "error <- mean(test$diabetes != pred_medical_data) # Misclassification error\n",
    "paste('Accuracy',round(1-error,10))   #0.3"
   ]
  },
  {
   "cell_type": "code",
   "execution_count": 217,
   "metadata": {},
   "outputs": [
    {
     "data": {
      "text/html": [
       "'Accuracy 0.8089171975'"
      ],
      "text/latex": [
       "'Accuracy 0.8089171975'"
      ],
      "text/markdown": [
       "'Accuracy 0.8089171975'"
      ],
      "text/plain": [
       "[1] \"Accuracy 0.8089171975\""
      ]
     },
     "metadata": {},
     "output_type": "display_data"
    }
   ],
   "source": [
    "error <- mean(test$diabetes != pred_medical_data) # Misclassification error\n",
    "paste('Accuracy',round(1-error,10))   #0.5"
   ]
  },
  {
   "cell_type": "code",
   "execution_count": 84,
   "metadata": {},
   "outputs": [
    {
     "ename": "ERROR",
     "evalue": "Error in eval(expr, envir, enclos): object 'train_data' not found\n",
     "output_type": "error",
     "traceback": [
      "Error in eval(expr, envir, enclos): object 'train_data' not found\nTraceback:\n"
     ]
    }
   ],
   "source": [
    "train_data_x = train_data\n",
    "train_data_x$glucose_rs = scale(train_data_x$glucose)\n",
    "#already has mass_rs\n",
    "\n",
    "test_data_x = test_data\n",
    "test_data_x$glucose_rs = scale(test_data_x$glucose)"
   ]
  },
  {
   "cell_type": "code",
   "execution_count": 303,
   "metadata": {},
   "outputs": [],
   "source": [
    "#knn\n",
    "\n",
    "model_knn <- train(diabetes~ log_glucagon_rs+mass_rs, data=train, method=\"knn\") #,tuneGrid = expand.grid(k = 1:10),# tuneGrid = expand.grid(k = 1:100))\n",
    "    #trControl=method(\"none\"))"
   ]
  },
  {
   "cell_type": "code",
   "execution_count": 304,
   "metadata": {},
   "outputs": [
    {
     "data": {
      "text/plain": [
       "            Length Class      Mode     \n",
       "learn       2      -none-     list     \n",
       "k           1      -none-     numeric  \n",
       "theDots     0      -none-     list     \n",
       "xNames      2      -none-     character\n",
       "problemType 1      -none-     character\n",
       "tuneValue   1      data.frame list     \n",
       "obsLevels   2      -none-     character\n",
       "param       0      -none-     list     "
      ]
     },
     "metadata": {},
     "output_type": "display_data"
    },
    {
     "name": "stdout",
     "output_type": "stream",
     "text": [
      "k-Nearest Neighbors \n",
      "\n",
      "235 samples\n",
      "  2 predictor\n",
      "  2 classes: 'neg', 'pos' \n",
      "\n",
      "No pre-processing\n",
      "Resampling: Bootstrapped (25 reps) \n",
      "Summary of sample sizes: 235, 235, 235, 235, 235, 235, ... \n",
      "Resampling results across tuning parameters:\n",
      "\n",
      "  k  Accuracy   Kappa    \n",
      "  5  0.7160526  0.3462861\n",
      "  7  0.7325985  0.3759634\n",
      "  9  0.7408694  0.3898639\n",
      "\n",
      "Accuracy was used to select the optimal model using the largest value.\n",
      "The final value used for the model was k = 9.\n"
     ]
    }
   ],
   "source": [
    "summary(model_knn)\n",
    "print(model_knn)"
   ]
  },
  {
   "cell_type": "code",
   "execution_count": 305,
   "metadata": {},
   "outputs": [
    {
     "data": {
      "text/html": [
       "'Accuracy 0.7962'"
      ],
      "text/latex": [
       "'Accuracy 0.7962'"
      ],
      "text/markdown": [
       "'Accuracy 0.7962'"
      ],
      "text/plain": [
       "[1] \"Accuracy 0.7962\""
      ]
     },
     "metadata": {},
     "output_type": "display_data"
    }
   ],
   "source": [
    "y_pred = predict(model_knn, newdata = test)\n",
    "\n",
    "\n",
    "error <- mean(test$diabetes != y_pred) # Misclassification error\n",
    "paste('Accuracy',round(1-error,4))"
   ]
  },
  {
   "cell_type": "code",
   "execution_count": 322,
   "metadata": {},
   "outputs": [],
   "source": [
    "K_values = c( seq(2,12,2), seq(15,55,5), seq(60,200,10) )\n",
    "\n",
    "set.seed(123)\n",
    "model_knn_2 <- train(diabetes~ log_glucagon_rs+mass_rs, data=train, method=\"knn\", tuneGrid = expand.grid(k = K_values))"
   ]
  },
  {
   "cell_type": "code",
   "execution_count": 323,
   "metadata": {},
   "outputs": [],
   "source": [
    "t = plot(model_knn_2)"
   ]
  },
  {
   "cell_type": "code",
   "execution_count": 324,
   "metadata": {},
   "outputs": [
    {
     "data": {},
     "metadata": {},
     "output_type": "display_data"
    },
    {
     "data": {
      "image/png": "[encoded data removed]",
      "text/plain": [
       "plot without title"
      ]
     },
     "metadata": {},
     "output_type": "display_data"
    }
   ],
   "source": [
    "t"
   ]
  },
  {
   "cell_type": "code",
   "execution_count": 325,
   "metadata": {},
   "outputs": [
    {
     "name": "stdout",
     "output_type": "stream",
     "text": [
      "k-Nearest Neighbors \n",
      "\n",
      "235 samples\n",
      "  2 predictor\n",
      "  2 classes: 'neg', 'pos' \n",
      "\n",
      "No pre-processing\n",
      "Resampling: Bootstrapped (25 reps) \n",
      "Summary of sample sizes: 235, 235, 235, 235, 235, 235, ... \n",
      "Resampling results across tuning parameters:\n",
      "\n",
      "  k    Accuracy   Kappa     \n",
      "    2  0.6944503  0.30119062\n",
      "    4  0.7133332  0.33362086\n",
      "    6  0.7315505  0.36271521\n",
      "    8  0.7363729  0.36425503\n",
      "   10  0.7436682  0.37734977\n",
      "   12  0.7443270  0.37534079\n",
      "   15  0.7583015  0.39979607\n",
      "   20  0.7701550  0.42629943\n",
      "   25  0.7769978  0.44459174\n",
      "   30  0.7790267  0.44221541\n",
      "   35  0.7842299  0.45382247\n",
      "   40  0.7822534  0.44619140\n",
      "   45  0.7835841  0.44633260\n",
      "   50  0.7832988  0.44197082\n",
      "   55  0.7832028  0.43836926\n",
      "   60  0.7832084  0.43800478\n",
      "   70  0.7794087  0.42306110\n",
      "   80  0.7708882  0.38804984\n",
      "   90  0.7583930  0.34417689\n",
      "  100  0.7455633  0.29701931\n",
      "  110  0.7237517  0.20781601\n",
      "  120  0.7108834  0.14879327\n",
      "  130  0.7008831  0.10527445\n",
      "  140  0.6927114  0.07407018\n",
      "  150  0.6880210  0.04895847\n",
      "  160  0.6851459  0.03286925\n",
      "  170  0.6819074  0.01195876\n",
      "  180  0.6794074  0.00000000\n",
      "  190  0.6794074  0.00000000\n",
      "  200  0.6794074  0.00000000\n",
      "\n",
      "Accuracy was used to select the optimal model using the largest value.\n",
      "The final value used for the model was k = 35.\n"
     ]
    },
    {
     "data": {
      "text/html": [
       "'Accuracy 0.8153'"
      ],
      "text/latex": [
       "'Accuracy 0.8153'"
      ],
      "text/markdown": [
       "'Accuracy 0.8153'"
      ],
      "text/plain": [
       "[1] \"Accuracy 0.8153\""
      ]
     },
     "metadata": {},
     "output_type": "display_data"
    }
   ],
   "source": [
    "print(model_knn_2)\n",
    "\n",
    "y_pred = predict(model_knn_2, newdata = test)\n",
    "\n",
    "\n",
    "error <- mean(test$diabetes != y_pred) # Misclassification error\n",
    "paste('Accuracy',round(1-error,4))"
   ]
  },
  {
   "cell_type": "code",
   "execution_count": 326,
   "metadata": {},
   "outputs": [],
   "source": [
    "full = bind_rows(train, test)"
   ]
  },
  {
   "cell_type": "code",
   "execution_count": 327,
   "metadata": {},
   "outputs": [
    {
     "data": {
      "text/html": [
       "<ol class=list-inline>\n",
       "\t<li>235</li>\n",
       "\t<li>13</li>\n",
       "</ol>\n"
      ],
      "text/latex": [
       "\\begin{enumerate*}\n",
       "\\item 235\n",
       "\\item 13\n",
       "\\end{enumerate*}\n"
      ],
      "text/markdown": [
       "1. 235\n",
       "2. 13\n",
       "\n",
       "\n"
      ],
      "text/plain": [
       "[1] 235  13"
      ]
     },
     "metadata": {},
     "output_type": "display_data"
    },
    {
     "data": {
      "text/html": [
       "<ol class=list-inline>\n",
       "\t<li>157</li>\n",
       "\t<li>13</li>\n",
       "</ol>\n"
      ],
      "text/latex": [
       "\\begin{enumerate*}\n",
       "\\item 157\n",
       "\\item 13\n",
       "\\end{enumerate*}\n"
      ],
      "text/markdown": [
       "1. 157\n",
       "2. 13\n",
       "\n",
       "\n"
      ],
      "text/plain": [
       "[1] 157  13"
      ]
     },
     "metadata": {},
     "output_type": "display_data"
    },
    {
     "data": {
      "text/html": [
       "<ol class=list-inline>\n",
       "\t<li>392</li>\n",
       "\t<li>13</li>\n",
       "</ol>\n"
      ],
      "text/latex": [
       "\\begin{enumerate*}\n",
       "\\item 392\n",
       "\\item 13\n",
       "\\end{enumerate*}\n"
      ],
      "text/markdown": [
       "1. 392\n",
       "2. 13\n",
       "\n",
       "\n"
      ],
      "text/plain": [
       "[1] 392  13"
      ]
     },
     "metadata": {},
     "output_type": "display_data"
    }
   ],
   "source": [
    "dim(train)\n",
    "dim(test)\n",
    "dim(full)"
   ]
  },
  {
   "cell_type": "code",
   "execution_count": 328,
   "metadata": {},
   "outputs": [
    {
     "data": {
      "text/html": [
       "0.599489795918367"
      ],
      "text/latex": [
       "0.599489795918367"
      ],
      "text/markdown": [
       "0.599489795918367"
      ],
      "text/plain": [
       "[1] 0.5994898"
      ]
     },
     "metadata": {},
     "output_type": "display_data"
    }
   ],
   "source": [
    "235/392"
   ]
  },
  {
   "cell_type": "code",
   "execution_count": 344,
   "metadata": {},
   "outputs": [],
   "source": [
    "set.seed(123)\n",
    "train.control = trainControl(method = \"repeatedcv\", p=0.6, repeats=20)"
   ]
  },
  {
   "cell_type": "code",
   "execution_count": 345,
   "metadata": {},
   "outputs": [],
   "source": [
    "model_knn_3 <- train(diabetes~ log_glucagon_rs+mass_rs, data=train, method=\"knn\", tuneGrid = expand.grid(k = K_values), trControl = train.control)"
   ]
  },
  {
   "cell_type": "code",
   "execution_count": 346,
   "metadata": {},
   "outputs": [
    {
     "data": {
      "text/plain": [
       "            Length Class      Mode     \n",
       "learn       2      -none-     list     \n",
       "k           1      -none-     numeric  \n",
       "theDots     0      -none-     list     \n",
       "xNames      2      -none-     character\n",
       "problemType 1      -none-     character\n",
       "tuneValue   1      data.frame list     \n",
       "obsLevels   2      -none-     character\n",
       "param       0      -none-     list     "
      ]
     },
     "metadata": {},
     "output_type": "display_data"
    }
   ],
   "source": [
    "summary(model_knn_3)"
   ]
  },
  {
   "cell_type": "code",
   "execution_count": 347,
   "metadata": {},
   "outputs": [
    {
     "name": "stdout",
     "output_type": "stream",
     "text": [
      "k-Nearest Neighbors \n",
      "\n",
      "235 samples\n",
      "  2 predictor\n",
      "  2 classes: 'neg', 'pos' \n",
      "\n",
      "No pre-processing\n",
      "Resampling: Cross-Validated (10 fold, repeated 20 times) \n",
      "Summary of sample sizes: 212, 212, 212, 211, 212, 211, ... \n",
      "Resampling results across tuning parameters:\n",
      "\n",
      "  k    Accuracy   Kappa       \n",
      "    2  0.6784280  0.2733295355\n",
      "    4  0.7285433  0.3645488299\n",
      "    6  0.7542498  0.4179747618\n",
      "    8  0.7524909  0.4067052384\n",
      "   10  0.7635343  0.4237065663\n",
      "   12  0.7781168  0.4534961795\n",
      "   15  0.7894293  0.4755179621\n",
      "   20  0.7873839  0.4719144923\n",
      "   25  0.7869590  0.4682197704\n",
      "   30  0.7809708  0.4446769992\n",
      "   35  0.7839213  0.4479254618\n",
      "   40  0.7879430  0.4540061493\n",
      "   45  0.7839213  0.4418228919\n",
      "   50  0.7907617  0.4580177493\n",
      "   55  0.7890234  0.4472654091\n",
      "   60  0.7902923  0.4488302047\n",
      "   70  0.7811339  0.4141123847\n",
      "   80  0.7607493  0.3418234610\n",
      "   90  0.7546896  0.3120806788\n",
      "  100  0.7027108  0.1155451231\n",
      "  110  0.6761817  0.0004855483\n",
      "  120  0.6774868  0.0028235294\n",
      "  130  0.6768347  0.0000000000\n",
      "  140  0.6768347  0.0000000000\n",
      "  150  0.6768347  0.0000000000\n",
      "  160  0.6768347  0.0000000000\n",
      "  170  0.6768347  0.0000000000\n",
      "  180  0.6768347  0.0000000000\n",
      "  190  0.6768347  0.0000000000\n",
      "  200  0.6768347  0.0000000000\n",
      "\n",
      "Accuracy was used to select the optimal model using the largest value.\n",
      "The final value used for the model was k = 50.\n"
     ]
    }
   ],
   "source": [
    "print(model_knn_3)"
   ]
  },
  {
   "cell_type": "code",
   "execution_count": 348,
   "metadata": {},
   "outputs": [
    {
     "data": {},
     "metadata": {},
     "output_type": "display_data"
    },
    {
     "data": {
      "image/png": "[encoded data removed]",
      "text/plain": [
       "plot without title"
      ]
     },
     "metadata": {},
     "output_type": "display_data"
    }
   ],
   "source": [
    "plot(model_knn_3)"
   ]
  },
  {
   "cell_type": "code",
   "execution_count": 349,
   "metadata": {},
   "outputs": [
    {
     "ename": "ERROR",
     "evalue": "Error in knn(train = train_data_x, test = test_data_x, cl = train_data_y, : could not find function \"knn\"\n",
     "output_type": "error",
     "traceback": [
      "Error in knn(train = train_data_x, test = test_data_x, cl = train_data_y, : could not find function \"knn\"\nTraceback:\n"
     ]
    }
   ],
   "source": []
  },
  {
   "cell_type": "code",
   "execution_count": 350,
   "metadata": {},
   "outputs": [],
   "source": [
    " library(class)"
   ]
  },
  {
   "cell_type": "code",
   "execution_count": 351,
   "metadata": {},
   "outputs": [
    {
     "data": {
      "image/png": "[encoded data removed]",
      "text/plain": [
       "plot without title"
      ]
     },
     "metadata": {},
     "output_type": "display_data"
    }
   ],
   "source": [
    "K_values = c( seq(2,12,2), seq(15,55,5), seq(60,200,10) )\n",
    "m_vals <- rep(0,30)\n",
    "sd_vals <- rep(0,30)\n",
    "\n",
    "for (i in 1:30){\n",
    "  missclass_vals <- rep(0,20)\n",
    "  for (j in 1:20){\n",
    "    train_rows <- sample(1:392,235)\n",
    "    train_data <- medical_data[train_rows,]\n",
    "    test_data <- medical_data[-train_rows,]\n",
    "    train_data_x <- dplyr::select(train_data, log_glucagon_rs, mass_rs)\n",
    "    test_data_x <- dplyr::select(test_data, log_glucagon_rs, mass_rs)\n",
    "    train_data_y <- unlist(train_data$diabetes)\n",
    "    test_data_y <- unlist(test_data$diabetes)\n",
    "    pred_knn <- knn(train = train_data_x, test = test_data_x, cl = train_data_y,k = K_values[i])\n",
    "    missclass_vals[j] <- sum(pred_knn!=test_data$diabetes)/length(test_data_y)\n",
    "  }\n",
    "  m_vals[i]<-mean(missclass_vals)\n",
    "  sd_vals[i]<-sd(missclass_vals)\n",
    "}\n",
    "plot(K_values,m_vals,ylim=c(0.10,0.50))\n",
    "points(K_values,m_vals+sd_vals,pch=3)\n",
    "points(K_values,m_vals-sd_vals,pch=3)"
   ]
  },
  {
   "cell_type": "code",
   "execution_count": 384,
   "metadata": {},
   "outputs": [
    {
     "name": "stderr",
     "output_type": "stream",
     "text": [
      "Warning message in FUN(X[[i]], ...):\n",
      "“Numerical 0 probability for all classes with observation 81”Warning message in FUN(X[[i]], ...):\n",
      "“Numerical 0 probability for all classes with observation 82”Warning message in FUN(X[[i]], ...):\n",
      "“Numerical 0 probability for all classes with observation 82”Warning message in FUN(X[[i]], ...):\n",
      "“Numerical 0 probability for all classes with observation 85”Warning message in FUN(X[[i]], ...):\n",
      "“Numerical 0 probability for all classes with observation 84”Warning message in FUN(X[[i]], ...):\n",
      "“Numerical 0 probability for all classes with observation 79”Warning message in FUN(X[[i]], ...):\n",
      "“Numerical 0 probability for all classes with observation 92”Warning message in FUN(X[[i]], ...):\n",
      "“Numerical 0 probability for all classes with observation 86”Warning message in FUN(X[[i]], ...):\n",
      "“Numerical 0 probability for all classes with observation 93”Warning message in FUN(X[[i]], ...):\n",
      "“Numerical 0 probability for all classes with observation 82”"
     ]
    }
   ],
   "source": [
    "set.seed(124)\n",
    "#train.control = trainControl(method = \"repeatedcv\", number=5, repeats=3)\n",
    "model_nb = train(diabetes ~ log_glucagon_rs+mass_rs,  data=train, method=\"nb\") #, trControl = train.control)\n"
   ]
  },
  {
   "cell_type": "code",
   "execution_count": 388,
   "metadata": {},
   "outputs": [
    {
     "data": {
      "text/html": [
       "<ol class=list-inline>\n",
       "\t<li>235</li>\n",
       "\t<li>13</li>\n",
       "</ol>\n"
      ],
      "text/latex": [
       "\\begin{enumerate*}\n",
       "\\item 235\n",
       "\\item 13\n",
       "\\end{enumerate*}\n"
      ],
      "text/markdown": [
       "1. 235\n",
       "2. 13\n",
       "\n",
       "\n"
      ],
      "text/plain": [
       "[1] 235  13"
      ]
     },
     "metadata": {},
     "output_type": "display_data"
    },
    {
     "name": "stdout",
     "output_type": "stream",
     "text": [
      "Naive Bayes \n",
      "\n",
      "235 samples\n",
      "  2 predictor\n",
      "  2 classes: 'neg', 'pos' \n",
      "\n",
      "No pre-processing\n",
      "Resampling: Bootstrapped (25 reps) \n",
      "Summary of sample sizes: 235, 235, 235, 235, 235, 235, ... \n",
      "Resampling results across tuning parameters:\n",
      "\n",
      "  usekernel  Accuracy   Kappa    \n",
      "  FALSE      0.7866762  0.4789765\n",
      "   TRUE      0.7829310  0.4694118\n",
      "\n",
      "Tuning parameter 'fL' was held constant at a value of 0\n",
      "Tuning\n",
      " parameter 'adjust' was held constant at a value of 1\n",
      "Accuracy was used to select the optimal model using the largest value.\n",
      "The final values used for the model were fL = 0, usekernel = FALSE and adjust\n",
      " = 1.\n"
     ]
    }
   ],
   "source": [
    "dim(train)\n",
    "print(model_nb)"
   ]
  },
  {
   "cell_type": "code",
   "execution_count": 386,
   "metadata": {},
   "outputs": [
    {
     "data": {
      "text/html": [
       "'Accuracy 0.8089'"
      ],
      "text/latex": [
       "'Accuracy 0.8089'"
      ],
      "text/markdown": [
       "'Accuracy 0.8089'"
      ],
      "text/plain": [
       "[1] \"Accuracy 0.8089\""
      ]
     },
     "metadata": {},
     "output_type": "display_data"
    }
   ],
   "source": [
    "y_pred_ = predict(model_nb, newdata = test)\n",
    "\n",
    "\n",
    "error <- mean(test$diabetes != y_pred_) # Misclassification error\n",
    "paste('Accuracy',round(1-error,4))"
   ]
  },
  {
   "cell_type": "code",
   "execution_count": 372,
   "metadata": {},
   "outputs": [
    {
     "ename": "ERROR",
     "evalue": "Error: `data` and `reference` should be factors with the same levels.\n",
     "output_type": "error",
     "traceback": [
      "Error: `data` and `reference` should be factors with the same levels.\nTraceback:\n",
      "1. confusionMatrix(pred_medical_data, test$diabetes)",
      "2. confusionMatrix.default(pred_medical_data, test$diabetes)",
      "3. stop(\"`data` and `reference` should be factors with the same levels.\", \n .     call. = FALSE)"
     ]
    }
   ],
   "source": [
    "prob_medical_data <- predict(model_nb,newdata = test)\n",
    "#pred_medical_data <- ifelse(prob_medical_data>0.5, \"pos\", \"neg\")\n",
    "\n",
    "#e3\n",
    "confusionMatrix(pred_medical_data, test$diabetes)"
   ]
  },
  {
   "cell_type": "code",
   "execution_count": 370,
   "metadata": {},
   "outputs": [
    {
     "data": {
      "text/html": [
       "<ol class=list-inline>\n",
       "\t<li>neg</li>\n",
       "\t<li>pos</li>\n",
       "\t<li>pos</li>\n",
       "\t<li>pos</li>\n",
       "\t<li>neg</li>\n",
       "\t<li>pos</li>\n",
       "\t<li>neg</li>\n",
       "\t<li>neg</li>\n",
       "\t<li>neg</li>\n",
       "\t<li>neg</li>\n",
       "\t<li>neg</li>\n",
       "\t<li>pos</li>\n",
       "\t<li>neg</li>\n",
       "\t<li>neg</li>\n",
       "\t<li>neg</li>\n",
       "\t<li>neg</li>\n",
       "\t<li>pos</li>\n",
       "\t<li>neg</li>\n",
       "\t<li>neg</li>\n",
       "\t<li>neg</li>\n",
       "\t<li>neg</li>\n",
       "\t<li>neg</li>\n",
       "\t<li>pos</li>\n",
       "\t<li>neg</li>\n",
       "\t<li>neg</li>\n",
       "\t<li>neg</li>\n",
       "\t<li>neg</li>\n",
       "\t<li>neg</li>\n",
       "\t<li>neg</li>\n",
       "\t<li>neg</li>\n",
       "\t<li>neg</li>\n",
       "\t<li>neg</li>\n",
       "\t<li>neg</li>\n",
       "\t<li>neg</li>\n",
       "\t<li>pos</li>\n",
       "\t<li>neg</li>\n",
       "\t<li>neg</li>\n",
       "\t<li>neg</li>\n",
       "\t<li>neg</li>\n",
       "\t<li>neg</li>\n",
       "\t<li>neg</li>\n",
       "\t<li>neg</li>\n",
       "\t<li>neg</li>\n",
       "\t<li>neg</li>\n",
       "\t<li>neg</li>\n",
       "\t<li>neg</li>\n",
       "\t<li>neg</li>\n",
       "\t<li>neg</li>\n",
       "\t<li>neg</li>\n",
       "\t<li>neg</li>\n",
       "\t<li>neg</li>\n",
       "\t<li>neg</li>\n",
       "\t<li>pos</li>\n",
       "\t<li>neg</li>\n",
       "\t<li>neg</li>\n",
       "\t<li>neg</li>\n",
       "\t<li>neg</li>\n",
       "\t<li>neg</li>\n",
       "\t<li>neg</li>\n",
       "\t<li>pos</li>\n",
       "\t<li>neg</li>\n",
       "\t<li>pos</li>\n",
       "\t<li>pos</li>\n",
       "\t<li>neg</li>\n",
       "\t<li>pos</li>\n",
       "\t<li>neg</li>\n",
       "\t<li>pos</li>\n",
       "\t<li>neg</li>\n",
       "\t<li>neg</li>\n",
       "\t<li>neg</li>\n",
       "\t<li>neg</li>\n",
       "\t<li>neg</li>\n",
       "\t<li>neg</li>\n",
       "\t<li>neg</li>\n",
       "\t<li>neg</li>\n",
       "\t<li>neg</li>\n",
       "\t<li>neg</li>\n",
       "\t<li>pos</li>\n",
       "\t<li>neg</li>\n",
       "\t<li>neg</li>\n",
       "\t<li>neg</li>\n",
       "\t<li>neg</li>\n",
       "\t<li>neg</li>\n",
       "\t<li>neg</li>\n",
       "\t<li>neg</li>\n",
       "\t<li>neg</li>\n",
       "\t<li>neg</li>\n",
       "\t<li>pos</li>\n",
       "\t<li>neg</li>\n",
       "\t<li>pos</li>\n",
       "\t<li>neg</li>\n",
       "\t<li>pos</li>\n",
       "\t<li>neg</li>\n",
       "\t<li>neg</li>\n",
       "\t<li>pos</li>\n",
       "\t<li>neg</li>\n",
       "\t<li>neg</li>\n",
       "\t<li>neg</li>\n",
       "\t<li>neg</li>\n",
       "\t<li>neg</li>\n",
       "\t<li>neg</li>\n",
       "\t<li>neg</li>\n",
       "\t<li>pos</li>\n",
       "\t<li>neg</li>\n",
       "\t<li>neg</li>\n",
       "\t<li>pos</li>\n",
       "\t<li>neg</li>\n",
       "\t<li>neg</li>\n",
       "\t<li>neg</li>\n",
       "\t<li>neg</li>\n",
       "\t<li>neg</li>\n",
       "\t<li>neg</li>\n",
       "\t<li>neg</li>\n",
       "\t<li>neg</li>\n",
       "\t<li>neg</li>\n",
       "\t<li>neg</li>\n",
       "\t<li>neg</li>\n",
       "\t<li>neg</li>\n",
       "\t<li>pos</li>\n",
       "\t<li>neg</li>\n",
       "\t<li>neg</li>\n",
       "\t<li>pos</li>\n",
       "\t<li>neg</li>\n",
       "\t<li>neg</li>\n",
       "\t<li>neg</li>\n",
       "\t<li>neg</li>\n",
       "\t<li>neg</li>\n",
       "\t<li>neg</li>\n",
       "\t<li>neg</li>\n",
       "\t<li>pos</li>\n",
       "\t<li>pos</li>\n",
       "\t<li>neg</li>\n",
       "\t<li>neg</li>\n",
       "\t<li>neg</li>\n",
       "\t<li>neg</li>\n",
       "\t<li>neg</li>\n",
       "\t<li>neg</li>\n",
       "\t<li>neg</li>\n",
       "\t<li>neg</li>\n",
       "\t<li>neg</li>\n",
       "\t<li>neg</li>\n",
       "\t<li>pos</li>\n",
       "\t<li>neg</li>\n",
       "\t<li>neg</li>\n",
       "\t<li>neg</li>\n",
       "\t<li>neg</li>\n",
       "\t<li>neg</li>\n",
       "\t<li>pos</li>\n",
       "\t<li>neg</li>\n",
       "\t<li>neg</li>\n",
       "\t<li>neg</li>\n",
       "\t<li>neg</li>\n",
       "\t<li>neg</li>\n",
       "\t<li>neg</li>\n",
       "\t<li>neg</li>\n",
       "\t<li>pos</li>\n",
       "\t<li>neg</li>\n",
       "</ol>\n",
       "\n",
       "<details>\n",
       "\t<summary style=display:list-item;cursor:pointer>\n",
       "\t\t<strong>Levels</strong>:\n",
       "\t</summary>\n",
       "\t<ol class=list-inline>\n",
       "\t\t<li>'neg'</li>\n",
       "\t\t<li>'pos'</li>\n",
       "\t</ol>\n",
       "</details>"
      ],
      "text/latex": [
       "\\begin{enumerate*}\n",
       "\\item neg\n",
       "\\item pos\n",
       "\\item pos\n",
       "\\item pos\n",
       "\\item neg\n",
       "\\item pos\n",
       "\\item neg\n",
       "\\item neg\n",
       "\\item neg\n",
       "\\item neg\n",
       "\\item neg\n",
       "\\item pos\n",
       "\\item neg\n",
       "\\item neg\n",
       "\\item neg\n",
       "\\item neg\n",
       "\\item pos\n",
       "\\item neg\n",
       "\\item neg\n",
       "\\item neg\n",
       "\\item neg\n",
       "\\item neg\n",
       "\\item pos\n",
       "\\item neg\n",
       "\\item neg\n",
       "\\item neg\n",
       "\\item neg\n",
       "\\item neg\n",
       "\\item neg\n",
       "\\item neg\n",
       "\\item neg\n",
       "\\item neg\n",
       "\\item neg\n",
       "\\item neg\n",
       "\\item pos\n",
       "\\item neg\n",
       "\\item neg\n",
       "\\item neg\n",
       "\\item neg\n",
       "\\item neg\n",
       "\\item neg\n",
       "\\item neg\n",
       "\\item neg\n",
       "\\item neg\n",
       "\\item neg\n",
       "\\item neg\n",
       "\\item neg\n",
       "\\item neg\n",
       "\\item neg\n",
       "\\item neg\n",
       "\\item neg\n",
       "\\item neg\n",
       "\\item pos\n",
       "\\item neg\n",
       "\\item neg\n",
       "\\item neg\n",
       "\\item neg\n",
       "\\item neg\n",
       "\\item neg\n",
       "\\item pos\n",
       "\\item neg\n",
       "\\item pos\n",
       "\\item pos\n",
       "\\item neg\n",
       "\\item pos\n",
       "\\item neg\n",
       "\\item pos\n",
       "\\item neg\n",
       "\\item neg\n",
       "\\item neg\n",
       "\\item neg\n",
       "\\item neg\n",
       "\\item neg\n",
       "\\item neg\n",
       "\\item neg\n",
       "\\item neg\n",
       "\\item neg\n",
       "\\item pos\n",
       "\\item neg\n",
       "\\item neg\n",
       "\\item neg\n",
       "\\item neg\n",
       "\\item neg\n",
       "\\item neg\n",
       "\\item neg\n",
       "\\item neg\n",
       "\\item neg\n",
       "\\item pos\n",
       "\\item neg\n",
       "\\item pos\n",
       "\\item neg\n",
       "\\item pos\n",
       "\\item neg\n",
       "\\item neg\n",
       "\\item pos\n",
       "\\item neg\n",
       "\\item neg\n",
       "\\item neg\n",
       "\\item neg\n",
       "\\item neg\n",
       "\\item neg\n",
       "\\item neg\n",
       "\\item pos\n",
       "\\item neg\n",
       "\\item neg\n",
       "\\item pos\n",
       "\\item neg\n",
       "\\item neg\n",
       "\\item neg\n",
       "\\item neg\n",
       "\\item neg\n",
       "\\item neg\n",
       "\\item neg\n",
       "\\item neg\n",
       "\\item neg\n",
       "\\item neg\n",
       "\\item neg\n",
       "\\item neg\n",
       "\\item pos\n",
       "\\item neg\n",
       "\\item neg\n",
       "\\item pos\n",
       "\\item neg\n",
       "\\item neg\n",
       "\\item neg\n",
       "\\item neg\n",
       "\\item neg\n",
       "\\item neg\n",
       "\\item neg\n",
       "\\item pos\n",
       "\\item pos\n",
       "\\item neg\n",
       "\\item neg\n",
       "\\item neg\n",
       "\\item neg\n",
       "\\item neg\n",
       "\\item neg\n",
       "\\item neg\n",
       "\\item neg\n",
       "\\item neg\n",
       "\\item neg\n",
       "\\item pos\n",
       "\\item neg\n",
       "\\item neg\n",
       "\\item neg\n",
       "\\item neg\n",
       "\\item neg\n",
       "\\item pos\n",
       "\\item neg\n",
       "\\item neg\n",
       "\\item neg\n",
       "\\item neg\n",
       "\\item neg\n",
       "\\item neg\n",
       "\\item neg\n",
       "\\item pos\n",
       "\\item neg\n",
       "\\end{enumerate*}\n",
       "\n",
       "\\emph{Levels}: \\begin{enumerate*}\n",
       "\\item 'neg'\n",
       "\\item 'pos'\n",
       "\\end{enumerate*}\n"
      ],
      "text/markdown": [
       "1. neg\n",
       "2. pos\n",
       "3. pos\n",
       "4. pos\n",
       "5. neg\n",
       "6. pos\n",
       "7. neg\n",
       "8. neg\n",
       "9. neg\n",
       "10. neg\n",
       "11. neg\n",
       "12. pos\n",
       "13. neg\n",
       "14. neg\n",
       "15. neg\n",
       "16. neg\n",
       "17. pos\n",
       "18. neg\n",
       "19. neg\n",
       "20. neg\n",
       "21. neg\n",
       "22. neg\n",
       "23. pos\n",
       "24. neg\n",
       "25. neg\n",
       "26. neg\n",
       "27. neg\n",
       "28. neg\n",
       "29. neg\n",
       "30. neg\n",
       "31. neg\n",
       "32. neg\n",
       "33. neg\n",
       "34. neg\n",
       "35. pos\n",
       "36. neg\n",
       "37. neg\n",
       "38. neg\n",
       "39. neg\n",
       "40. neg\n",
       "41. neg\n",
       "42. neg\n",
       "43. neg\n",
       "44. neg\n",
       "45. neg\n",
       "46. neg\n",
       "47. neg\n",
       "48. neg\n",
       "49. neg\n",
       "50. neg\n",
       "51. neg\n",
       "52. neg\n",
       "53. pos\n",
       "54. neg\n",
       "55. neg\n",
       "56. neg\n",
       "57. neg\n",
       "58. neg\n",
       "59. neg\n",
       "60. pos\n",
       "61. neg\n",
       "62. pos\n",
       "63. pos\n",
       "64. neg\n",
       "65. pos\n",
       "66. neg\n",
       "67. pos\n",
       "68. neg\n",
       "69. neg\n",
       "70. neg\n",
       "71. neg\n",
       "72. neg\n",
       "73. neg\n",
       "74. neg\n",
       "75. neg\n",
       "76. neg\n",
       "77. neg\n",
       "78. pos\n",
       "79. neg\n",
       "80. neg\n",
       "81. neg\n",
       "82. neg\n",
       "83. neg\n",
       "84. neg\n",
       "85. neg\n",
       "86. neg\n",
       "87. neg\n",
       "88. pos\n",
       "89. neg\n",
       "90. pos\n",
       "91. neg\n",
       "92. pos\n",
       "93. neg\n",
       "94. neg\n",
       "95. pos\n",
       "96. neg\n",
       "97. neg\n",
       "98. neg\n",
       "99. neg\n",
       "100. neg\n",
       "101. neg\n",
       "102. neg\n",
       "103. pos\n",
       "104. neg\n",
       "105. neg\n",
       "106. pos\n",
       "107. neg\n",
       "108. neg\n",
       "109. neg\n",
       "110. neg\n",
       "111. neg\n",
       "112. neg\n",
       "113. neg\n",
       "114. neg\n",
       "115. neg\n",
       "116. neg\n",
       "117. neg\n",
       "118. neg\n",
       "119. pos\n",
       "120. neg\n",
       "121. neg\n",
       "122. pos\n",
       "123. neg\n",
       "124. neg\n",
       "125. neg\n",
       "126. neg\n",
       "127. neg\n",
       "128. neg\n",
       "129. neg\n",
       "130. pos\n",
       "131. pos\n",
       "132. neg\n",
       "133. neg\n",
       "134. neg\n",
       "135. neg\n",
       "136. neg\n",
       "137. neg\n",
       "138. neg\n",
       "139. neg\n",
       "140. neg\n",
       "141. neg\n",
       "142. pos\n",
       "143. neg\n",
       "144. neg\n",
       "145. neg\n",
       "146. neg\n",
       "147. neg\n",
       "148. pos\n",
       "149. neg\n",
       "150. neg\n",
       "151. neg\n",
       "152. neg\n",
       "153. neg\n",
       "154. neg\n",
       "155. neg\n",
       "156. pos\n",
       "157. neg\n",
       "\n",
       "\n",
       "\n",
       "**Levels**: 1. 'neg'\n",
       "2. 'pos'\n",
       "\n",
       "\n"
      ],
      "text/plain": [
       "  [1] neg pos pos pos neg pos neg neg neg neg neg pos neg neg neg neg pos neg\n",
       " [19] neg neg neg neg pos neg neg neg neg neg neg neg neg neg neg neg pos neg\n",
       " [37] neg neg neg neg neg neg neg neg neg neg neg neg neg neg neg neg pos neg\n",
       " [55] neg neg neg neg neg pos neg pos pos neg pos neg pos neg neg neg neg neg\n",
       " [73] neg neg neg neg neg pos neg neg neg neg neg neg neg neg neg pos neg pos\n",
       " [91] neg pos neg neg pos neg neg neg neg neg neg neg pos neg neg pos neg neg\n",
       "[109] neg neg neg neg neg neg neg neg neg neg pos neg neg pos neg neg neg neg\n",
       "[127] neg neg neg pos pos neg neg neg neg neg neg neg neg neg neg pos neg neg\n",
       "[145] neg neg neg pos neg neg neg neg neg neg neg pos neg\n",
       "Levels: neg pos"
      ]
     },
     "metadata": {},
     "output_type": "display_data"
    }
   ],
   "source": [
    "prob_medical_data"
   ]
  },
  {
   "cell_type": "code",
   "execution_count": 371,
   "metadata": {},
   "outputs": [
    {
     "data": {
      "text/html": [
       "<ol class=list-inline>\n",
       "\t<li>neg</li>\n",
       "\t<li>pos</li>\n",
       "\t<li>pos</li>\n",
       "\t<li>pos</li>\n",
       "\t<li>pos</li>\n",
       "\t<li>pos</li>\n",
       "\t<li>pos</li>\n",
       "\t<li>neg</li>\n",
       "\t<li>neg</li>\n",
       "\t<li>neg</li>\n",
       "\t<li>neg</li>\n",
       "\t<li>pos</li>\n",
       "\t<li>neg</li>\n",
       "\t<li>neg</li>\n",
       "\t<li>neg</li>\n",
       "\t<li>neg</li>\n",
       "\t<li>neg</li>\n",
       "\t<li>pos</li>\n",
       "\t<li>neg</li>\n",
       "\t<li>neg</li>\n",
       "\t<li>neg</li>\n",
       "\t<li>pos</li>\n",
       "\t<li>neg</li>\n",
       "\t<li>neg</li>\n",
       "\t<li>pos</li>\n",
       "\t<li>pos</li>\n",
       "\t<li>pos</li>\n",
       "\t<li>neg</li>\n",
       "\t<li>neg</li>\n",
       "\t<li>neg</li>\n",
       "\t<li>neg</li>\n",
       "\t<li>neg</li>\n",
       "\t<li>neg</li>\n",
       "\t<li>neg</li>\n",
       "\t<li>pos</li>\n",
       "\t<li>neg</li>\n",
       "\t<li>pos</li>\n",
       "\t<li>neg</li>\n",
       "\t<li>neg</li>\n",
       "\t<li>neg</li>\n",
       "\t<li>pos</li>\n",
       "\t<li>pos</li>\n",
       "\t<li>pos</li>\n",
       "\t<li>pos</li>\n",
       "\t<li>neg</li>\n",
       "\t<li>pos</li>\n",
       "\t<li>pos</li>\n",
       "\t<li>pos</li>\n",
       "\t<li>pos</li>\n",
       "\t<li>neg</li>\n",
       "\t<li>pos</li>\n",
       "\t<li>neg</li>\n",
       "\t<li>pos</li>\n",
       "\t<li>pos</li>\n",
       "\t<li>neg</li>\n",
       "\t<li>neg</li>\n",
       "\t<li>neg</li>\n",
       "\t<li>neg</li>\n",
       "\t<li>neg</li>\n",
       "\t<li>neg</li>\n",
       "\t<li>neg</li>\n",
       "\t<li>pos</li>\n",
       "\t<li>pos</li>\n",
       "\t<li>pos</li>\n",
       "\t<li>pos</li>\n",
       "\t<li>neg</li>\n",
       "\t<li>pos</li>\n",
       "\t<li>neg</li>\n",
       "\t<li>neg</li>\n",
       "\t<li>neg</li>\n",
       "\t<li>neg</li>\n",
       "\t<li>pos</li>\n",
       "\t<li>neg</li>\n",
       "\t<li>neg</li>\n",
       "\t<li>neg</li>\n",
       "\t<li>neg</li>\n",
       "\t<li>neg</li>\n",
       "\t<li>pos</li>\n",
       "\t<li>neg</li>\n",
       "\t<li>pos</li>\n",
       "\t<li>neg</li>\n",
       "\t<li>neg</li>\n",
       "\t<li>neg</li>\n",
       "\t<li>neg</li>\n",
       "\t<li>neg</li>\n",
       "\t<li>neg</li>\n",
       "\t<li>neg</li>\n",
       "\t<li>pos</li>\n",
       "\t<li>neg</li>\n",
       "\t<li>neg</li>\n",
       "\t<li>neg</li>\n",
       "\t<li>pos</li>\n",
       "\t<li>neg</li>\n",
       "\t<li>neg</li>\n",
       "\t<li>pos</li>\n",
       "\t<li>neg</li>\n",
       "\t<li>pos</li>\n",
       "\t<li>neg</li>\n",
       "\t<li>pos</li>\n",
       "\t<li>neg</li>\n",
       "\t<li>neg</li>\n",
       "\t<li>neg</li>\n",
       "\t<li>pos</li>\n",
       "\t<li>neg</li>\n",
       "\t<li>neg</li>\n",
       "\t<li>pos</li>\n",
       "\t<li>neg</li>\n",
       "\t<li>pos</li>\n",
       "\t<li>neg</li>\n",
       "\t<li>pos</li>\n",
       "\t<li>neg</li>\n",
       "\t<li>neg</li>\n",
       "\t<li>pos</li>\n",
       "\t<li>neg</li>\n",
       "\t<li>neg</li>\n",
       "\t<li>neg</li>\n",
       "\t<li>neg</li>\n",
       "\t<li>neg</li>\n",
       "\t<li>pos</li>\n",
       "\t<li>neg</li>\n",
       "\t<li>neg</li>\n",
       "\t<li>pos</li>\n",
       "\t<li>neg</li>\n",
       "\t<li>neg</li>\n",
       "\t<li>neg</li>\n",
       "\t<li>neg</li>\n",
       "\t<li>pos</li>\n",
       "\t<li>neg</li>\n",
       "\t<li>neg</li>\n",
       "\t<li>pos</li>\n",
       "\t<li>pos</li>\n",
       "\t<li>neg</li>\n",
       "\t<li>neg</li>\n",
       "\t<li>neg</li>\n",
       "\t<li>neg</li>\n",
       "\t<li>neg</li>\n",
       "\t<li>neg</li>\n",
       "\t<li>pos</li>\n",
       "\t<li>pos</li>\n",
       "\t<li>neg</li>\n",
       "\t<li>neg</li>\n",
       "\t<li>pos</li>\n",
       "\t<li>pos</li>\n",
       "\t<li>neg</li>\n",
       "\t<li>neg</li>\n",
       "\t<li>neg</li>\n",
       "\t<li>neg</li>\n",
       "\t<li>pos</li>\n",
       "\t<li>neg</li>\n",
       "\t<li>neg</li>\n",
       "\t<li>neg</li>\n",
       "\t<li>neg</li>\n",
       "\t<li>neg</li>\n",
       "\t<li>neg</li>\n",
       "\t<li>neg</li>\n",
       "\t<li>pos</li>\n",
       "\t<li>neg</li>\n",
       "</ol>\n",
       "\n",
       "<details>\n",
       "\t<summary style=display:list-item;cursor:pointer>\n",
       "\t\t<strong>Levels</strong>:\n",
       "\t</summary>\n",
       "\t<ol class=list-inline>\n",
       "\t\t<li>'neg'</li>\n",
       "\t\t<li>'pos'</li>\n",
       "\t</ol>\n",
       "</details>"
      ],
      "text/latex": [
       "\\begin{enumerate*}\n",
       "\\item neg\n",
       "\\item pos\n",
       "\\item pos\n",
       "\\item pos\n",
       "\\item pos\n",
       "\\item pos\n",
       "\\item pos\n",
       "\\item neg\n",
       "\\item neg\n",
       "\\item neg\n",
       "\\item neg\n",
       "\\item pos\n",
       "\\item neg\n",
       "\\item neg\n",
       "\\item neg\n",
       "\\item neg\n",
       "\\item neg\n",
       "\\item pos\n",
       "\\item neg\n",
       "\\item neg\n",
       "\\item neg\n",
       "\\item pos\n",
       "\\item neg\n",
       "\\item neg\n",
       "\\item pos\n",
       "\\item pos\n",
       "\\item pos\n",
       "\\item neg\n",
       "\\item neg\n",
       "\\item neg\n",
       "\\item neg\n",
       "\\item neg\n",
       "\\item neg\n",
       "\\item neg\n",
       "\\item pos\n",
       "\\item neg\n",
       "\\item pos\n",
       "\\item neg\n",
       "\\item neg\n",
       "\\item neg\n",
       "\\item pos\n",
       "\\item pos\n",
       "\\item pos\n",
       "\\item pos\n",
       "\\item neg\n",
       "\\item pos\n",
       "\\item pos\n",
       "\\item pos\n",
       "\\item pos\n",
       "\\item neg\n",
       "\\item pos\n",
       "\\item neg\n",
       "\\item pos\n",
       "\\item pos\n",
       "\\item neg\n",
       "\\item neg\n",
       "\\item neg\n",
       "\\item neg\n",
       "\\item neg\n",
       "\\item neg\n",
       "\\item neg\n",
       "\\item pos\n",
       "\\item pos\n",
       "\\item pos\n",
       "\\item pos\n",
       "\\item neg\n",
       "\\item pos\n",
       "\\item neg\n",
       "\\item neg\n",
       "\\item neg\n",
       "\\item neg\n",
       "\\item pos\n",
       "\\item neg\n",
       "\\item neg\n",
       "\\item neg\n",
       "\\item neg\n",
       "\\item neg\n",
       "\\item pos\n",
       "\\item neg\n",
       "\\item pos\n",
       "\\item neg\n",
       "\\item neg\n",
       "\\item neg\n",
       "\\item neg\n",
       "\\item neg\n",
       "\\item neg\n",
       "\\item neg\n",
       "\\item pos\n",
       "\\item neg\n",
       "\\item neg\n",
       "\\item neg\n",
       "\\item pos\n",
       "\\item neg\n",
       "\\item neg\n",
       "\\item pos\n",
       "\\item neg\n",
       "\\item pos\n",
       "\\item neg\n",
       "\\item pos\n",
       "\\item neg\n",
       "\\item neg\n",
       "\\item neg\n",
       "\\item pos\n",
       "\\item neg\n",
       "\\item neg\n",
       "\\item pos\n",
       "\\item neg\n",
       "\\item pos\n",
       "\\item neg\n",
       "\\item pos\n",
       "\\item neg\n",
       "\\item neg\n",
       "\\item pos\n",
       "\\item neg\n",
       "\\item neg\n",
       "\\item neg\n",
       "\\item neg\n",
       "\\item neg\n",
       "\\item pos\n",
       "\\item neg\n",
       "\\item neg\n",
       "\\item pos\n",
       "\\item neg\n",
       "\\item neg\n",
       "\\item neg\n",
       "\\item neg\n",
       "\\item pos\n",
       "\\item neg\n",
       "\\item neg\n",
       "\\item pos\n",
       "\\item pos\n",
       "\\item neg\n",
       "\\item neg\n",
       "\\item neg\n",
       "\\item neg\n",
       "\\item neg\n",
       "\\item neg\n",
       "\\item pos\n",
       "\\item pos\n",
       "\\item neg\n",
       "\\item neg\n",
       "\\item pos\n",
       "\\item pos\n",
       "\\item neg\n",
       "\\item neg\n",
       "\\item neg\n",
       "\\item neg\n",
       "\\item pos\n",
       "\\item neg\n",
       "\\item neg\n",
       "\\item neg\n",
       "\\item neg\n",
       "\\item neg\n",
       "\\item neg\n",
       "\\item neg\n",
       "\\item pos\n",
       "\\item neg\n",
       "\\end{enumerate*}\n",
       "\n",
       "\\emph{Levels}: \\begin{enumerate*}\n",
       "\\item 'neg'\n",
       "\\item 'pos'\n",
       "\\end{enumerate*}\n"
      ],
      "text/markdown": [
       "1. neg\n",
       "2. pos\n",
       "3. pos\n",
       "4. pos\n",
       "5. pos\n",
       "6. pos\n",
       "7. pos\n",
       "8. neg\n",
       "9. neg\n",
       "10. neg\n",
       "11. neg\n",
       "12. pos\n",
       "13. neg\n",
       "14. neg\n",
       "15. neg\n",
       "16. neg\n",
       "17. neg\n",
       "18. pos\n",
       "19. neg\n",
       "20. neg\n",
       "21. neg\n",
       "22. pos\n",
       "23. neg\n",
       "24. neg\n",
       "25. pos\n",
       "26. pos\n",
       "27. pos\n",
       "28. neg\n",
       "29. neg\n",
       "30. neg\n",
       "31. neg\n",
       "32. neg\n",
       "33. neg\n",
       "34. neg\n",
       "35. pos\n",
       "36. neg\n",
       "37. pos\n",
       "38. neg\n",
       "39. neg\n",
       "40. neg\n",
       "41. pos\n",
       "42. pos\n",
       "43. pos\n",
       "44. pos\n",
       "45. neg\n",
       "46. pos\n",
       "47. pos\n",
       "48. pos\n",
       "49. pos\n",
       "50. neg\n",
       "51. pos\n",
       "52. neg\n",
       "53. pos\n",
       "54. pos\n",
       "55. neg\n",
       "56. neg\n",
       "57. neg\n",
       "58. neg\n",
       "59. neg\n",
       "60. neg\n",
       "61. neg\n",
       "62. pos\n",
       "63. pos\n",
       "64. pos\n",
       "65. pos\n",
       "66. neg\n",
       "67. pos\n",
       "68. neg\n",
       "69. neg\n",
       "70. neg\n",
       "71. neg\n",
       "72. pos\n",
       "73. neg\n",
       "74. neg\n",
       "75. neg\n",
       "76. neg\n",
       "77. neg\n",
       "78. pos\n",
       "79. neg\n",
       "80. pos\n",
       "81. neg\n",
       "82. neg\n",
       "83. neg\n",
       "84. neg\n",
       "85. neg\n",
       "86. neg\n",
       "87. neg\n",
       "88. pos\n",
       "89. neg\n",
       "90. neg\n",
       "91. neg\n",
       "92. pos\n",
       "93. neg\n",
       "94. neg\n",
       "95. pos\n",
       "96. neg\n",
       "97. pos\n",
       "98. neg\n",
       "99. pos\n",
       "100. neg\n",
       "101. neg\n",
       "102. neg\n",
       "103. pos\n",
       "104. neg\n",
       "105. neg\n",
       "106. pos\n",
       "107. neg\n",
       "108. pos\n",
       "109. neg\n",
       "110. pos\n",
       "111. neg\n",
       "112. neg\n",
       "113. pos\n",
       "114. neg\n",
       "115. neg\n",
       "116. neg\n",
       "117. neg\n",
       "118. neg\n",
       "119. pos\n",
       "120. neg\n",
       "121. neg\n",
       "122. pos\n",
       "123. neg\n",
       "124. neg\n",
       "125. neg\n",
       "126. neg\n",
       "127. pos\n",
       "128. neg\n",
       "129. neg\n",
       "130. pos\n",
       "131. pos\n",
       "132. neg\n",
       "133. neg\n",
       "134. neg\n",
       "135. neg\n",
       "136. neg\n",
       "137. neg\n",
       "138. pos\n",
       "139. pos\n",
       "140. neg\n",
       "141. neg\n",
       "142. pos\n",
       "143. pos\n",
       "144. neg\n",
       "145. neg\n",
       "146. neg\n",
       "147. neg\n",
       "148. pos\n",
       "149. neg\n",
       "150. neg\n",
       "151. neg\n",
       "152. neg\n",
       "153. neg\n",
       "154. neg\n",
       "155. neg\n",
       "156. pos\n",
       "157. neg\n",
       "\n",
       "\n",
       "\n",
       "**Levels**: 1. 'neg'\n",
       "2. 'pos'\n",
       "\n",
       "\n"
      ],
      "text/plain": [
       "  [1] neg pos pos pos pos pos pos neg neg neg neg pos neg neg neg neg neg pos\n",
       " [19] neg neg neg pos neg neg pos pos pos neg neg neg neg neg neg neg pos neg\n",
       " [37] pos neg neg neg pos pos pos pos neg pos pos pos pos neg pos neg pos pos\n",
       " [55] neg neg neg neg neg neg neg pos pos pos pos neg pos neg neg neg neg pos\n",
       " [73] neg neg neg neg neg pos neg pos neg neg neg neg neg neg neg pos neg neg\n",
       " [91] neg pos neg neg pos neg pos neg pos neg neg neg pos neg neg pos neg pos\n",
       "[109] neg pos neg neg pos neg neg neg neg neg pos neg neg pos neg neg neg neg\n",
       "[127] pos neg neg pos pos neg neg neg neg neg neg pos pos neg neg pos pos neg\n",
       "[145] neg neg neg pos neg neg neg neg neg neg neg pos neg\n",
       "Levels: neg pos"
      ]
     },
     "metadata": {},
     "output_type": "display_data"
    }
   ],
   "source": [
    "test$diabetes"
   ]
  },
  {
   "cell_type": "code",
   "execution_count": 365,
   "metadata": {},
   "outputs": [
    {
     "data": {
      "text/html": [
       "<table>\n",
       "<thead><tr><th></th><th scope=col>pregnant</th><th scope=col>glucose</th><th scope=col>pressure</th><th scope=col>triceps</th><th scope=col>insulin</th><th scope=col>mass</th><th scope=col>pedigree</th><th scope=col>age</th><th scope=col>glucagon</th><th scope=col>log_glucagon</th><th scope=col>diabetes</th><th scope=col>log_glucagon_rs</th><th scope=col>mass_rs</th></tr></thead>\n",
       "<tbody>\n",
       "\t<tr><th scope=row>4</th><td> 1           </td><td> 89          </td><td> 66          </td><td>23           </td><td> 94          </td><td>28.1         </td><td>0.167        </td><td>21           </td><td> 1.1131937   </td><td> 0.1072330575</td><td>neg          </td><td> 0.1187577676</td><td>-0.70951427  </td></tr>\n",
       "\t<tr><th scope=row>5</th><td> 0           </td><td>137          </td><td> 40          </td><td>35           </td><td>168          </td><td>43.1         </td><td>2.288        </td><td>33           </td><td> 3.3768847   </td><td> 1.2169535974</td><td>pos          </td><td> 1.3477438385</td><td> 1.42490909  </td></tr>\n",
       "\t<tr><th scope=row>7</th><td> 3           </td><td> 78          </td><td> 50          </td><td>32           </td><td> 88          </td><td>31.0         </td><td>0.248        </td><td>26           </td><td>13.6061566   </td><td> 2.6105223833</td><td>pos          </td><td> 2.8910843148</td><td>-0.29685909  </td></tr>\n",
       "\t<tr><th scope=row>15</th><td> 5           </td><td>166          </td><td> 72          </td><td>19           </td><td>175          </td><td>25.8         </td><td>0.587        </td><td>51           </td><td> 5.7163726   </td><td> 1.7433344519</td><td>pos          </td><td> 1.9306966765</td><td>-1.03679252  </td></tr>\n",
       "\t<tr><th scope=row>17</th><td> 0           </td><td>118          </td><td> 84          </td><td>47           </td><td>230          </td><td>45.8         </td><td>0.551        </td><td>31           </td><td> 0.9628553   </td><td>-0.0378521883</td><td>pos          </td><td>-0.0419202948</td><td> 1.80910530  </td></tr>\n",
       "\t<tr><th scope=row>25</th><td>11           </td><td>143          </td><td> 94          </td><td>33           </td><td>146          </td><td>36.6         </td><td>0.254        </td><td>51           </td><td> 3.3559864   </td><td> 1.2107457272</td><td>pos          </td><td> 1.3408687868</td><td> 0.49999230  </td></tr>\n",
       "\t<tr><th scope=row>26</th><td>10           </td><td>125          </td><td> 70          </td><td>26           </td><td>115          </td><td>31.1         </td><td>0.205        </td><td>41           </td><td> 1.2597734   </td><td> 0.2309318575</td><td>pos          </td><td> 0.2557509084</td><td>-0.28262960  </td></tr>\n",
       "\t<tr><th scope=row>28</th><td> 1           </td><td> 97          </td><td> 66          </td><td>15           </td><td>140          </td><td>23.2         </td><td>0.487        </td><td>22           </td><td> 3.0210888   </td><td> 1.1056173039</td><td>neg          </td><td> 1.2244418458</td><td>-1.40675924  </td></tr>\n",
       "\t<tr><th scope=row>29</th><td>13           </td><td>145          </td><td> 82          </td><td>19           </td><td>110          </td><td>22.2         </td><td>0.245        </td><td>57           </td><td> 0.9984553   </td><td>-0.0015458550</td><td>neg          </td><td>-0.0017119934</td><td>-1.54905413  </td></tr>\n",
       "\t<tr><th scope=row>33</th><td> 3           </td><td> 88          </td><td> 58          </td><td>11           </td><td> 54          </td><td>24.8         </td><td>0.267        </td><td>22           </td><td> 0.9563265   </td><td>-0.0446559386</td><td>neg          </td><td>-0.0494552679</td><td>-1.17908741  </td></tr>\n",
       "\t<tr><th scope=row>36</th><td> 4           </td><td>103          </td><td> 60          </td><td>33           </td><td>192          </td><td>24.0         </td><td>0.966        </td><td>33           </td><td> 0.4215274   </td><td>-0.8638704716</td><td>neg          </td><td>-0.9567136396</td><td>-1.29292332  </td></tr>\n",
       "\t<tr><th scope=row>44</th><td> 9           </td><td>171          </td><td>110          </td><td>24           </td><td>240          </td><td>45.4         </td><td>0.721        </td><td>54           </td><td> 4.9178985   </td><td> 1.5928813033</td><td>pos          </td><td> 1.7640738041</td><td> 1.75218734  </td></tr>\n",
       "\t<tr><th scope=row>53</th><td> 5           </td><td> 88          </td><td> 66          </td><td>21           </td><td> 23          </td><td>24.4         </td><td>0.342        </td><td>30           </td><td> 0.3866462   </td><td>-0.9502451570</td><td>neg          </td><td>-1.0523713132</td><td>-1.23600537  </td></tr>\n",
       "\t<tr><th scope=row>55</th><td> 7           </td><td>150          </td><td> 66          </td><td>42           </td><td>342          </td><td>34.7         </td><td>0.718        </td><td>42           </td><td> 0.7893103   </td><td>-0.2365956943</td><td>neg          </td><td>-0.2620234575</td><td> 0.22963201  </td></tr>\n",
       "\t<tr><th scope=row>58</th><td> 0           </td><td>100          </td><td> 88          </td><td>60           </td><td>110          </td><td>46.8         </td><td>0.962        </td><td>31           </td><td> 0.6996021   </td><td>-0.3572435751</td><td>neg          </td><td>-0.3956377862</td><td> 1.95140019  </td></tr>\n",
       "\t<tr><th scope=row>69</th><td> 1           </td><td> 95          </td><td> 66          </td><td>13           </td><td> 38          </td><td>19.6         </td><td>0.334        </td><td>25           </td><td> 4.8057286   </td><td> 1.5698086669</td><td>neg          </td><td> 1.7385214711</td><td>-1.91902084  </td></tr>\n",
       "\t<tr><th scope=row>70</th><td> 4           </td><td>146          </td><td> 85          </td><td>27           </td><td>100          </td><td>28.9         </td><td>0.189        </td><td>27           </td><td> 2.6448992   </td><td> 0.9726329506</td><td>neg          </td><td> 1.0771652010</td><td>-0.59567836  </td></tr>\n",
       "\t<tr><th scope=row>71</th><td> 2           </td><td>100          </td><td> 66          </td><td>20           </td><td> 90          </td><td>32.9         </td><td>0.867        </td><td>28           </td><td> 0.7153787   </td><td>-0.3349431750</td><td>pos          </td><td>-0.3709406844</td><td>-0.02649879  </td></tr>\n",
       "\t<tr><th scope=row>72</th><td> 5           </td><td>139          </td><td> 64          </td><td>35           </td><td>140          </td><td>28.6         </td><td>0.411        </td><td>26           </td><td> 1.0006876   </td><td> 0.0006873295</td><td>neg          </td><td> 0.0007611992</td><td>-0.63836682  </td></tr>\n",
       "\t<tr><th scope=row>86</th><td> 2           </td><td>110          </td><td> 74          </td><td>29           </td><td>125          </td><td>32.4         </td><td>0.698        </td><td>27           </td><td> 1.0028284   </td><td> 0.0028243819</td><td>neg          </td><td> 0.0031279281</td><td>-0.09764624  </td></tr>\n",
       "\t<tr><th scope=row>88</th><td> 2           </td><td>100          </td><td> 68          </td><td>25           </td><td> 71          </td><td>38.5         </td><td>0.324        </td><td>26           </td><td> 0.9729950   </td><td>-0.0273763201</td><td>neg          </td><td>-0.0303185486</td><td> 0.77035260  </td></tr>\n",
       "\t<tr><th scope=row>100</th><td> 1           </td><td>122          </td><td> 90          </td><td>51           </td><td>220          </td><td>49.7         </td><td>0.325        </td><td>31           </td><td> 2.7702572   </td><td> 1.0189401841</td><td>pos          </td><td> 1.1284492341</td><td> 2.36405537  </td></tr>\n",
       "\t<tr><th scope=row>109</th><td> 3           </td><td> 83          </td><td> 58          </td><td>31           </td><td> 18          </td><td>34.3         </td><td>0.336        </td><td>25           </td><td> 1.7008544   </td><td> 0.5311307210</td><td>neg          </td><td> 0.5882131892</td><td> 0.17271405  </td></tr>\n",
       "\t<tr><th scope=row>113</th><td> 1           </td><td> 89          </td><td> 76          </td><td>34           </td><td> 37          </td><td>31.2         </td><td>0.192        </td><td>23           </td><td> 0.9739722   </td><td>-0.0263725157</td><td>neg          </td><td>-0.0292068618</td><td>-0.26840011  </td></tr>\n",
       "\t<tr><th scope=row>115</th><td> 7           </td><td>160          </td><td> 54          </td><td>32           </td><td>175          </td><td>30.5         </td><td>0.588        </td><td>39           </td><td> 2.0645321   </td><td> 0.7249036367</td><td>pos          </td><td> 0.8028115550</td><td>-0.36800653  </td></tr>\n",
       "\t<tr><th scope=row>121</th><td> 0           </td><td>162          </td><td> 76          </td><td>56           </td><td>100          </td><td>53.2         </td><td>0.759        </td><td>25           </td><td> 1.4486124   </td><td> 0.3706061657</td><td>pos          </td><td> 0.4104365009</td><td> 2.86208749  </td></tr>\n",
       "\t<tr><th scope=row>126</th><td> 1           </td><td> 88          </td><td> 30          </td><td>42           </td><td> 99          </td><td>55.0         </td><td>0.496        </td><td>26           </td><td> 2.1964167   </td><td> 0.7868272779</td><td>pos          </td><td> 0.8713903455</td><td> 3.11821830  </td></tr>\n",
       "\t<tr><th scope=row>135</th><td> 2           </td><td> 96          </td><td> 68          </td><td>13           </td><td> 49          </td><td>21.1         </td><td>0.647        </td><td>26           </td><td> 1.9533802   </td><td> 0.6695612968</td><td>neg          </td><td> 0.7415213810</td><td>-1.70557851  </td></tr>\n",
       "\t<tr><th scope=row>137</th><td> 0           </td><td>100          </td><td> 70          </td><td>26           </td><td> 50          </td><td>30.8         </td><td>0.597        </td><td>21           </td><td> 0.5407492   </td><td>-0.6147997446</td><td>neg          </td><td>-0.6808744142</td><td>-0.32531806  </td></tr>\n",
       "\t<tr><th scope=row>145</th><td> 4           </td><td>154          </td><td> 62          </td><td>31           </td><td>284          </td><td>32.8         </td><td>0.237        </td><td>23           </td><td> 0.6245373   </td><td>-0.4707441909</td><td>neg          </td><td>-0.5213367084</td><td>-0.04072828  </td></tr>\n",
       "\t<tr><th scope=row>⋮</th><td>⋮</td><td>⋮</td><td>⋮</td><td>⋮</td><td>⋮</td><td>⋮</td><td>⋮</td><td>⋮</td><td>⋮</td><td>⋮</td><td>⋮</td><td>⋮</td><td>⋮</td></tr>\n",
       "\t<tr><th scope=row>595</th><td>6          </td><td>123        </td><td>72         </td><td>45         </td><td>230        </td><td>33.6       </td><td>0.733      </td><td>34         </td><td>0.6776287  </td><td>-0.38915573</td><td>neg        </td><td>-0.43097965</td><td> 0.07310763</td></tr>\n",
       "\t<tr><th scope=row>598</th><td>1          </td><td> 89        </td><td>24         </td><td>19         </td><td> 25        </td><td>27.8       </td><td>0.559      </td><td>21         </td><td>2.6273891  </td><td> 0.96599063</td><td>neg        </td><td> 1.06980901</td><td>-0.75220274</td></tr>\n",
       "\t<tr><th scope=row>604</th><td>7          </td><td>150        </td><td>78         </td><td>29         </td><td>126        </td><td>35.2       </td><td>0.692      </td><td>54         </td><td>2.7190209  </td><td> 1.00027183</td><td>pos        </td><td> 1.10777453</td><td> 0.30077946</td></tr>\n",
       "\t<tr><th scope=row>612</th><td>3          </td><td>174        </td><td>58         </td><td>22         </td><td>194        </td><td>32.9       </td><td>0.593      </td><td>36         </td><td>4.7718173  </td><td> 1.56272723</td><td>pos        </td><td> 1.73067896</td><td>-0.02649879</td></tr>\n",
       "\t<tr><th scope=row>618</th><td>2          </td><td> 68        </td><td>62         </td><td>13         </td><td> 15        </td><td>20.1       </td><td>0.257      </td><td>23         </td><td>1.5114424  </td><td> 0.41306440</td><td>neg        </td><td> 0.45745787</td><td>-1.84787340</td></tr>\n",
       "\t<tr><th scope=row>621</th><td>2          </td><td>112        </td><td>86         </td><td>42         </td><td>160        </td><td>38.4       </td><td>0.246      </td><td>28         </td><td>0.4301712  </td><td>-0.84357198</td><td>neg        </td><td>-0.93423360</td><td> 0.75612311</td></tr>\n",
       "\t<tr><th scope=row>626</th><td>4          </td><td> 90        </td><td>88         </td><td>47         </td><td> 54        </td><td>37.7       </td><td>0.362      </td><td>29         </td><td>0.4854699  </td><td>-0.72263805</td><td>neg        </td><td>-0.80030248</td><td> 0.65651668</td></tr>\n",
       "\t<tr><th scope=row>634</th><td>1          </td><td>128        </td><td>82         </td><td>17         </td><td>183        </td><td>27.5       </td><td>0.115      </td><td>22         </td><td>0.2233898  </td><td>-1.49883696</td><td>neg        </td><td>-1.65992219</td><td>-0.79489120</td></tr>\n",
       "\t<tr><th scope=row>640</th><td>1          </td><td>100        </td><td>74         </td><td>12         </td><td> 46        </td><td>19.5       </td><td>0.149      </td><td>28         </td><td>0.3446788  </td><td>-1.06514222</td><td>neg        </td><td>-1.17961676</td><td>-1.93325033</td></tr>\n",
       "\t<tr><th scope=row>641</th><td>0          </td><td>102        </td><td>86         </td><td>17         </td><td>105        </td><td>29.3       </td><td>0.695      </td><td>27         </td><td>0.5926187  </td><td>-0.52320414</td><td>neg        </td><td>-0.57943471</td><td>-0.53876040</td></tr>\n",
       "\t<tr><th scope=row>647</th><td>1          </td><td>167        </td><td>74         </td><td>17         </td><td>144        </td><td>23.4       </td><td>0.447      </td><td>33         </td><td>2.2656450  </td><td> 0.81785950</td><td>pos        </td><td> 0.90575771</td><td>-1.37830026</td></tr>\n",
       "\t<tr><th scope=row>648</th><td>0          </td><td>179        </td><td>50         </td><td>36         </td><td>159        </td><td>37.8       </td><td>0.455      </td><td>22         </td><td>1.4672630  </td><td> 0.38339876</td><td>pos        </td><td> 0.42460396</td><td> 0.67074617</td></tr>\n",
       "\t<tr><th scope=row>652</th><td>1          </td><td>117        </td><td>60         </td><td>23         </td><td>106        </td><td>33.8       </td><td>0.466      </td><td>27         </td><td>1.0562899  </td><td> 0.05476271</td><td>neg        </td><td> 0.06064825</td><td> 0.10156661</td></tr>\n",
       "\t<tr><th scope=row>655</th><td>1          </td><td>106        </td><td>70         </td><td>28         </td><td>135        </td><td>34.2       </td><td>0.142      </td><td>22         </td><td>0.2030117  </td><td>-1.59449160</td><td>neg        </td><td>-1.76585717</td><td> 0.15848456</td></tr>\n",
       "\t<tr><th scope=row>660</th><td>3          </td><td> 80        </td><td>82         </td><td>31         </td><td> 70        </td><td>34.2       </td><td>1.292      </td><td>27         </td><td>2.4309671  </td><td> 0.88828916</td><td>pos        </td><td> 0.98375669</td><td> 0.15848456</td></tr>\n",
       "\t<tr><th scope=row>664</th><td>9          </td><td>145        </td><td>80         </td><td>46         </td><td>130        </td><td>37.9       </td><td>0.637      </td><td>40         </td><td>0.8920759  </td><td>-0.11420406</td><td>pos        </td><td>-0.12647797</td><td> 0.68497566</td></tr>\n",
       "\t<tr><th scope=row>666</th><td>1          </td><td>112        </td><td>80         </td><td>45         </td><td>132        </td><td>34.8       </td><td>0.217      </td><td>24         </td><td>0.3889377  </td><td>-0.94433602</td><td>neg        </td><td>-1.04582711</td><td> 0.24386150</td></tr>\n",
       "\t<tr><th scope=row>669</th><td>6          </td><td> 98        </td><td>58         </td><td>33         </td><td>190        </td><td>34.0       </td><td>0.430      </td><td>43         </td><td>0.4167159  </td><td>-0.87535049</td><td>neg        </td><td>-0.96942746</td><td> 0.13002559</td></tr>\n",
       "\t<tr><th scope=row>670</th><td>9          </td><td>154        </td><td>78         </td><td>30         </td><td>100        </td><td>30.9       </td><td>0.164      </td><td>45         </td><td>0.9266266  </td><td>-0.07620463</td><td>neg        </td><td>-0.08439460</td><td>-0.31108858</td></tr>\n",
       "\t<tr><th scope=row>681</th><td>2          </td><td> 56        </td><td>56         </td><td>28         </td><td> 45        </td><td>24.2       </td><td>0.332      </td><td>22         </td><td>0.6351618  </td><td>-0.45387547</td><td>neg        </td><td>-0.50265505</td><td>-1.26446434</td></tr>\n",
       "\t<tr><th scope=row>690</th><td>1          </td><td>144        </td><td>82         </td><td>46         </td><td>180        </td><td>46.1       </td><td>0.335      </td><td>46         </td><td>2.1687619  </td><td> 0.77415644</td><td>pos        </td><td> 0.85735773</td><td> 1.85179377</td></tr>\n",
       "\t<tr><th scope=row>701</th><td>2          </td><td>122        </td><td>76         </td><td>27         </td><td>200        </td><td>35.9       </td><td>0.483      </td><td>26         </td><td>1.2069207  </td><td> 0.18807225</td><td>neg        </td><td> 0.20828503</td><td> 0.40038588</td></tr>\n",
       "\t<tr><th scope=row>712</th><td>5          </td><td>126        </td><td>78         </td><td>27         </td><td> 22        </td><td>29.6       </td><td>0.439      </td><td>40         </td><td>0.5142486  </td><td>-0.66504855</td><td>neg        </td><td>-0.73652364</td><td>-0.49607193</td></tr>\n",
       "\t<tr><th scope=row>714</th><td>0          </td><td>134        </td><td>58         </td><td>20         </td><td>291        </td><td>26.4       </td><td>0.352      </td><td>21         </td><td>0.6227870  </td><td>-0.47355073</td><td>neg        </td><td>-0.52444488</td><td>-0.95141558</td></tr>\n",
       "\t<tr><th scope=row>727</th><td>1          </td><td>116        </td><td>78         </td><td>29         </td><td>180        </td><td>36.1       </td><td>0.496      </td><td>25         </td><td>0.2334901  </td><td>-1.45461550</td><td>neg        </td><td>-1.61094809</td><td> 0.42884486</td></tr>\n",
       "\t<tr><th scope=row>734</th><td>2          </td><td>106        </td><td>56         </td><td>27         </td><td>165        </td><td>29.0       </td><td>0.426      </td><td>22         </td><td>0.1919502  </td><td>-1.65051909</td><td>neg        </td><td>-1.82790612</td><td>-0.58144887</td></tr>\n",
       "\t<tr><th scope=row>737</th><td>0          </td><td>126        </td><td>86         </td><td>27         </td><td>120        </td><td>27.4       </td><td>0.515      </td><td>21         </td><td>1.1867140  </td><td> 0.17118812</td><td>neg        </td><td> 0.18958630</td><td>-0.80912069</td></tr>\n",
       "\t<tr><th scope=row>742</th><td>3          </td><td>102        </td><td>44         </td><td>20         </td><td> 94        </td><td>30.8       </td><td>0.400      </td><td>26         </td><td>1.4865832  </td><td> 0.39648034</td><td>neg        </td><td> 0.43909146</td><td>-0.32531806</td></tr>\n",
       "\t<tr><th scope=row>756</th><td>1          </td><td>128        </td><td>88         </td><td>39         </td><td>110        </td><td>36.5       </td><td>1.057      </td><td>37         </td><td>5.2667623  </td><td> 1.66141582</td><td>pos        </td><td> 1.83997396</td><td> 0.48576281</td></tr>\n",
       "\t<tr><th scope=row>761</th><td>2          </td><td> 88        </td><td>58         </td><td>26         </td><td> 16        </td><td>28.4       </td><td>0.766      </td><td>22         </td><td>1.0867104  </td><td> 0.08315518</td><td>neg        </td><td> 0.09209216</td><td>-0.66682580</td></tr>\n",
       "</tbody>\n",
       "</table>\n"
      ],
      "text/latex": [
       "\\begin{tabular}{r|lllllllllllll}\n",
       "  & pregnant & glucose & pressure & triceps & insulin & mass & pedigree & age & glucagon & log\\_glucagon & diabetes & log\\_glucagon\\_rs & mass\\_rs\\\\\n",
       "\\hline\n",
       "\t4 &  1            &  89           &  66           & 23            &  94           & 28.1          & 0.167         & 21            &  1.1131937    &  0.1072330575 & neg           &  0.1187577676 & -0.70951427  \\\\\n",
       "\t5 &  0            & 137           &  40           & 35            & 168           & 43.1          & 2.288         & 33            &  3.3768847    &  1.2169535974 & pos           &  1.3477438385 &  1.42490909  \\\\\n",
       "\t7 &  3            &  78           &  50           & 32            &  88           & 31.0          & 0.248         & 26            & 13.6061566    &  2.6105223833 & pos           &  2.8910843148 & -0.29685909  \\\\\n",
       "\t15 &  5            & 166           &  72           & 19            & 175           & 25.8          & 0.587         & 51            &  5.7163726    &  1.7433344519 & pos           &  1.9306966765 & -1.03679252  \\\\\n",
       "\t17 &  0            & 118           &  84           & 47            & 230           & 45.8          & 0.551         & 31            &  0.9628553    & -0.0378521883 & pos           & -0.0419202948 &  1.80910530  \\\\\n",
       "\t25 & 11            & 143           &  94           & 33            & 146           & 36.6          & 0.254         & 51            &  3.3559864    &  1.2107457272 & pos           &  1.3408687868 &  0.49999230  \\\\\n",
       "\t26 & 10            & 125           &  70           & 26            & 115           & 31.1          & 0.205         & 41            &  1.2597734    &  0.2309318575 & pos           &  0.2557509084 & -0.28262960  \\\\\n",
       "\t28 &  1            &  97           &  66           & 15            & 140           & 23.2          & 0.487         & 22            &  3.0210888    &  1.1056173039 & neg           &  1.2244418458 & -1.40675924  \\\\\n",
       "\t29 & 13            & 145           &  82           & 19            & 110           & 22.2          & 0.245         & 57            &  0.9984553    & -0.0015458550 & neg           & -0.0017119934 & -1.54905413  \\\\\n",
       "\t33 &  3            &  88           &  58           & 11            &  54           & 24.8          & 0.267         & 22            &  0.9563265    & -0.0446559386 & neg           & -0.0494552679 & -1.17908741  \\\\\n",
       "\t36 &  4            & 103           &  60           & 33            & 192           & 24.0          & 0.966         & 33            &  0.4215274    & -0.8638704716 & neg           & -0.9567136396 & -1.29292332  \\\\\n",
       "\t44 &  9            & 171           & 110           & 24            & 240           & 45.4          & 0.721         & 54            &  4.9178985    &  1.5928813033 & pos           &  1.7640738041 &  1.75218734  \\\\\n",
       "\t53 &  5            &  88           &  66           & 21            &  23           & 24.4          & 0.342         & 30            &  0.3866462    & -0.9502451570 & neg           & -1.0523713132 & -1.23600537  \\\\\n",
       "\t55 &  7            & 150           &  66           & 42            & 342           & 34.7          & 0.718         & 42            &  0.7893103    & -0.2365956943 & neg           & -0.2620234575 &  0.22963201  \\\\\n",
       "\t58 &  0            & 100           &  88           & 60            & 110           & 46.8          & 0.962         & 31            &  0.6996021    & -0.3572435751 & neg           & -0.3956377862 &  1.95140019  \\\\\n",
       "\t69 &  1            &  95           &  66           & 13            &  38           & 19.6          & 0.334         & 25            &  4.8057286    &  1.5698086669 & neg           &  1.7385214711 & -1.91902084  \\\\\n",
       "\t70 &  4            & 146           &  85           & 27            & 100           & 28.9          & 0.189         & 27            &  2.6448992    &  0.9726329506 & neg           &  1.0771652010 & -0.59567836  \\\\\n",
       "\t71 &  2            & 100           &  66           & 20            &  90           & 32.9          & 0.867         & 28            &  0.7153787    & -0.3349431750 & pos           & -0.3709406844 & -0.02649879  \\\\\n",
       "\t72 &  5            & 139           &  64           & 35            & 140           & 28.6          & 0.411         & 26            &  1.0006876    &  0.0006873295 & neg           &  0.0007611992 & -0.63836682  \\\\\n",
       "\t86 &  2            & 110           &  74           & 29            & 125           & 32.4          & 0.698         & 27            &  1.0028284    &  0.0028243819 & neg           &  0.0031279281 & -0.09764624  \\\\\n",
       "\t88 &  2            & 100           &  68           & 25            &  71           & 38.5          & 0.324         & 26            &  0.9729950    & -0.0273763201 & neg           & -0.0303185486 &  0.77035260  \\\\\n",
       "\t100 &  1            & 122           &  90           & 51            & 220           & 49.7          & 0.325         & 31            &  2.7702572    &  1.0189401841 & pos           &  1.1284492341 &  2.36405537  \\\\\n",
       "\t109 &  3            &  83           &  58           & 31            &  18           & 34.3          & 0.336         & 25            &  1.7008544    &  0.5311307210 & neg           &  0.5882131892 &  0.17271405  \\\\\n",
       "\t113 &  1            &  89           &  76           & 34            &  37           & 31.2          & 0.192         & 23            &  0.9739722    & -0.0263725157 & neg           & -0.0292068618 & -0.26840011  \\\\\n",
       "\t115 &  7            & 160           &  54           & 32            & 175           & 30.5          & 0.588         & 39            &  2.0645321    &  0.7249036367 & pos           &  0.8028115550 & -0.36800653  \\\\\n",
       "\t121 &  0            & 162           &  76           & 56            & 100           & 53.2          & 0.759         & 25            &  1.4486124    &  0.3706061657 & pos           &  0.4104365009 &  2.86208749  \\\\\n",
       "\t126 &  1            &  88           &  30           & 42            &  99           & 55.0          & 0.496         & 26            &  2.1964167    &  0.7868272779 & pos           &  0.8713903455 &  3.11821830  \\\\\n",
       "\t135 &  2            &  96           &  68           & 13            &  49           & 21.1          & 0.647         & 26            &  1.9533802    &  0.6695612968 & neg           &  0.7415213810 & -1.70557851  \\\\\n",
       "\t137 &  0            & 100           &  70           & 26            &  50           & 30.8          & 0.597         & 21            &  0.5407492    & -0.6147997446 & neg           & -0.6808744142 & -0.32531806  \\\\\n",
       "\t145 &  4            & 154           &  62           & 31            & 284           & 32.8          & 0.237         & 23            &  0.6245373    & -0.4707441909 & neg           & -0.5213367084 & -0.04072828  \\\\\n",
       "\t⋮ & ⋮ & ⋮ & ⋮ & ⋮ & ⋮ & ⋮ & ⋮ & ⋮ & ⋮ & ⋮ & ⋮ & ⋮ & ⋮\\\\\n",
       "\t595 & 6           & 123         & 72          & 45          & 230         & 33.6        & 0.733       & 34          & 0.6776287   & -0.38915573 & neg         & -0.43097965 &  0.07310763\\\\\n",
       "\t598 & 1           &  89         & 24          & 19          &  25         & 27.8        & 0.559       & 21          & 2.6273891   &  0.96599063 & neg         &  1.06980901 & -0.75220274\\\\\n",
       "\t604 & 7           & 150         & 78          & 29          & 126         & 35.2        & 0.692       & 54          & 2.7190209   &  1.00027183 & pos         &  1.10777453 &  0.30077946\\\\\n",
       "\t612 & 3           & 174         & 58          & 22          & 194         & 32.9        & 0.593       & 36          & 4.7718173   &  1.56272723 & pos         &  1.73067896 & -0.02649879\\\\\n",
       "\t618 & 2           &  68         & 62          & 13          &  15         & 20.1        & 0.257       & 23          & 1.5114424   &  0.41306440 & neg         &  0.45745787 & -1.84787340\\\\\n",
       "\t621 & 2           & 112         & 86          & 42          & 160         & 38.4        & 0.246       & 28          & 0.4301712   & -0.84357198 & neg         & -0.93423360 &  0.75612311\\\\\n",
       "\t626 & 4           &  90         & 88          & 47          &  54         & 37.7        & 0.362       & 29          & 0.4854699   & -0.72263805 & neg         & -0.80030248 &  0.65651668\\\\\n",
       "\t634 & 1           & 128         & 82          & 17          & 183         & 27.5        & 0.115       & 22          & 0.2233898   & -1.49883696 & neg         & -1.65992219 & -0.79489120\\\\\n",
       "\t640 & 1           & 100         & 74          & 12          &  46         & 19.5        & 0.149       & 28          & 0.3446788   & -1.06514222 & neg         & -1.17961676 & -1.93325033\\\\\n",
       "\t641 & 0           & 102         & 86          & 17          & 105         & 29.3        & 0.695       & 27          & 0.5926187   & -0.52320414 & neg         & -0.57943471 & -0.53876040\\\\\n",
       "\t647 & 1           & 167         & 74          & 17          & 144         & 23.4        & 0.447       & 33          & 2.2656450   &  0.81785950 & pos         &  0.90575771 & -1.37830026\\\\\n",
       "\t648 & 0           & 179         & 50          & 36          & 159         & 37.8        & 0.455       & 22          & 1.4672630   &  0.38339876 & pos         &  0.42460396 &  0.67074617\\\\\n",
       "\t652 & 1           & 117         & 60          & 23          & 106         & 33.8        & 0.466       & 27          & 1.0562899   &  0.05476271 & neg         &  0.06064825 &  0.10156661\\\\\n",
       "\t655 & 1           & 106         & 70          & 28          & 135         & 34.2        & 0.142       & 22          & 0.2030117   & -1.59449160 & neg         & -1.76585717 &  0.15848456\\\\\n",
       "\t660 & 3           &  80         & 82          & 31          &  70         & 34.2        & 1.292       & 27          & 2.4309671   &  0.88828916 & pos         &  0.98375669 &  0.15848456\\\\\n",
       "\t664 & 9           & 145         & 80          & 46          & 130         & 37.9        & 0.637       & 40          & 0.8920759   & -0.11420406 & pos         & -0.12647797 &  0.68497566\\\\\n",
       "\t666 & 1           & 112         & 80          & 45          & 132         & 34.8        & 0.217       & 24          & 0.3889377   & -0.94433602 & neg         & -1.04582711 &  0.24386150\\\\\n",
       "\t669 & 6           &  98         & 58          & 33          & 190         & 34.0        & 0.430       & 43          & 0.4167159   & -0.87535049 & neg         & -0.96942746 &  0.13002559\\\\\n",
       "\t670 & 9           & 154         & 78          & 30          & 100         & 30.9        & 0.164       & 45          & 0.9266266   & -0.07620463 & neg         & -0.08439460 & -0.31108858\\\\\n",
       "\t681 & 2           &  56         & 56          & 28          &  45         & 24.2        & 0.332       & 22          & 0.6351618   & -0.45387547 & neg         & -0.50265505 & -1.26446434\\\\\n",
       "\t690 & 1           & 144         & 82          & 46          & 180         & 46.1        & 0.335       & 46          & 2.1687619   &  0.77415644 & pos         &  0.85735773 &  1.85179377\\\\\n",
       "\t701 & 2           & 122         & 76          & 27          & 200         & 35.9        & 0.483       & 26          & 1.2069207   &  0.18807225 & neg         &  0.20828503 &  0.40038588\\\\\n",
       "\t712 & 5           & 126         & 78          & 27          &  22         & 29.6        & 0.439       & 40          & 0.5142486   & -0.66504855 & neg         & -0.73652364 & -0.49607193\\\\\n",
       "\t714 & 0           & 134         & 58          & 20          & 291         & 26.4        & 0.352       & 21          & 0.6227870   & -0.47355073 & neg         & -0.52444488 & -0.95141558\\\\\n",
       "\t727 & 1           & 116         & 78          & 29          & 180         & 36.1        & 0.496       & 25          & 0.2334901   & -1.45461550 & neg         & -1.61094809 &  0.42884486\\\\\n",
       "\t734 & 2           & 106         & 56          & 27          & 165         & 29.0        & 0.426       & 22          & 0.1919502   & -1.65051909 & neg         & -1.82790612 & -0.58144887\\\\\n",
       "\t737 & 0           & 126         & 86          & 27          & 120         & 27.4        & 0.515       & 21          & 1.1867140   &  0.17118812 & neg         &  0.18958630 & -0.80912069\\\\\n",
       "\t742 & 3           & 102         & 44          & 20          &  94         & 30.8        & 0.400       & 26          & 1.4865832   &  0.39648034 & neg         &  0.43909146 & -0.32531806\\\\\n",
       "\t756 & 1           & 128         & 88          & 39          & 110         & 36.5        & 1.057       & 37          & 5.2667623   &  1.66141582 & pos         &  1.83997396 &  0.48576281\\\\\n",
       "\t761 & 2           &  88         & 58          & 26          &  16         & 28.4        & 0.766       & 22          & 1.0867104   &  0.08315518 & neg         &  0.09209216 & -0.66682580\\\\\n",
       "\\end{tabular}\n"
      ],
      "text/markdown": [
       "\n",
       "| <!--/--> | pregnant | glucose | pressure | triceps | insulin | mass | pedigree | age | glucagon | log_glucagon | diabetes | log_glucagon_rs | mass_rs | \n",
       "|---|---|---|---|---|---|---|---|---|---|---|---|---|---|---|---|---|---|---|---|---|---|---|---|---|---|---|---|---|---|---|---|---|---|---|---|---|---|---|---|---|---|---|---|---|---|---|---|---|---|---|---|---|---|---|---|---|---|---|---|---|\n",
       "| 4 |  1            |  89           |  66           | 23            |  94           | 28.1          | 0.167         | 21            |  1.1131937    |  0.1072330575 | neg           |  0.1187577676 | -0.70951427   | \n",
       "| 5 |  0            | 137           |  40           | 35            | 168           | 43.1          | 2.288         | 33            |  3.3768847    |  1.2169535974 | pos           |  1.3477438385 |  1.42490909   | \n",
       "| 7 |  3            |  78           |  50           | 32            |  88           | 31.0          | 0.248         | 26            | 13.6061566    |  2.6105223833 | pos           |  2.8910843148 | -0.29685909   | \n",
       "| 15 |  5            | 166           |  72           | 19            | 175           | 25.8          | 0.587         | 51            |  5.7163726    |  1.7433344519 | pos           |  1.9306966765 | -1.03679252   | \n",
       "| 17 |  0            | 118           |  84           | 47            | 230           | 45.8          | 0.551         | 31            |  0.9628553    | -0.0378521883 | pos           | -0.0419202948 |  1.80910530   | \n",
       "| 25 | 11            | 143           |  94           | 33            | 146           | 36.6          | 0.254         | 51            |  3.3559864    |  1.2107457272 | pos           |  1.3408687868 |  0.49999230   | \n",
       "| 26 | 10            | 125           |  70           | 26            | 115           | 31.1          | 0.205         | 41            |  1.2597734    |  0.2309318575 | pos           |  0.2557509084 | -0.28262960   | \n",
       "| 28 |  1            |  97           |  66           | 15            | 140           | 23.2          | 0.487         | 22            |  3.0210888    |  1.1056173039 | neg           |  1.2244418458 | -1.40675924   | \n",
       "| 29 | 13            | 145           |  82           | 19            | 110           | 22.2          | 0.245         | 57            |  0.9984553    | -0.0015458550 | neg           | -0.0017119934 | -1.54905413   | \n",
       "| 33 |  3            |  88           |  58           | 11            |  54           | 24.8          | 0.267         | 22            |  0.9563265    | -0.0446559386 | neg           | -0.0494552679 | -1.17908741   | \n",
       "| 36 |  4            | 103           |  60           | 33            | 192           | 24.0          | 0.966         | 33            |  0.4215274    | -0.8638704716 | neg           | -0.9567136396 | -1.29292332   | \n",
       "| 44 |  9            | 171           | 110           | 24            | 240           | 45.4          | 0.721         | 54            |  4.9178985    |  1.5928813033 | pos           |  1.7640738041 |  1.75218734   | \n",
       "| 53 |  5            |  88           |  66           | 21            |  23           | 24.4          | 0.342         | 30            |  0.3866462    | -0.9502451570 | neg           | -1.0523713132 | -1.23600537   | \n",
       "| 55 |  7            | 150           |  66           | 42            | 342           | 34.7          | 0.718         | 42            |  0.7893103    | -0.2365956943 | neg           | -0.2620234575 |  0.22963201   | \n",
       "| 58 |  0            | 100           |  88           | 60            | 110           | 46.8          | 0.962         | 31            |  0.6996021    | -0.3572435751 | neg           | -0.3956377862 |  1.95140019   | \n",
       "| 69 |  1            |  95           |  66           | 13            |  38           | 19.6          | 0.334         | 25            |  4.8057286    |  1.5698086669 | neg           |  1.7385214711 | -1.91902084   | \n",
       "| 70 |  4            | 146           |  85           | 27            | 100           | 28.9          | 0.189         | 27            |  2.6448992    |  0.9726329506 | neg           |  1.0771652010 | -0.59567836   | \n",
       "| 71 |  2            | 100           |  66           | 20            |  90           | 32.9          | 0.867         | 28            |  0.7153787    | -0.3349431750 | pos           | -0.3709406844 | -0.02649879   | \n",
       "| 72 |  5            | 139           |  64           | 35            | 140           | 28.6          | 0.411         | 26            |  1.0006876    |  0.0006873295 | neg           |  0.0007611992 | -0.63836682   | \n",
       "| 86 |  2            | 110           |  74           | 29            | 125           | 32.4          | 0.698         | 27            |  1.0028284    |  0.0028243819 | neg           |  0.0031279281 | -0.09764624   | \n",
       "| 88 |  2            | 100           |  68           | 25            |  71           | 38.5          | 0.324         | 26            |  0.9729950    | -0.0273763201 | neg           | -0.0303185486 |  0.77035260   | \n",
       "| 100 |  1            | 122           |  90           | 51            | 220           | 49.7          | 0.325         | 31            |  2.7702572    |  1.0189401841 | pos           |  1.1284492341 |  2.36405537   | \n",
       "| 109 |  3            |  83           |  58           | 31            |  18           | 34.3          | 0.336         | 25            |  1.7008544    |  0.5311307210 | neg           |  0.5882131892 |  0.17271405   | \n",
       "| 113 |  1            |  89           |  76           | 34            |  37           | 31.2          | 0.192         | 23            |  0.9739722    | -0.0263725157 | neg           | -0.0292068618 | -0.26840011   | \n",
       "| 115 |  7            | 160           |  54           | 32            | 175           | 30.5          | 0.588         | 39            |  2.0645321    |  0.7249036367 | pos           |  0.8028115550 | -0.36800653   | \n",
       "| 121 |  0            | 162           |  76           | 56            | 100           | 53.2          | 0.759         | 25            |  1.4486124    |  0.3706061657 | pos           |  0.4104365009 |  2.86208749   | \n",
       "| 126 |  1            |  88           |  30           | 42            |  99           | 55.0          | 0.496         | 26            |  2.1964167    |  0.7868272779 | pos           |  0.8713903455 |  3.11821830   | \n",
       "| 135 |  2            |  96           |  68           | 13            |  49           | 21.1          | 0.647         | 26            |  1.9533802    |  0.6695612968 | neg           |  0.7415213810 | -1.70557851   | \n",
       "| 137 |  0            | 100           |  70           | 26            |  50           | 30.8          | 0.597         | 21            |  0.5407492    | -0.6147997446 | neg           | -0.6808744142 | -0.32531806   | \n",
       "| 145 |  4            | 154           |  62           | 31            | 284           | 32.8          | 0.237         | 23            |  0.6245373    | -0.4707441909 | neg           | -0.5213367084 | -0.04072828   | \n",
       "| ⋮ | ⋮ | ⋮ | ⋮ | ⋮ | ⋮ | ⋮ | ⋮ | ⋮ | ⋮ | ⋮ | ⋮ | ⋮ | ⋮ | \n",
       "| 595 | 6           | 123         | 72          | 45          | 230         | 33.6        | 0.733       | 34          | 0.6776287   | -0.38915573 | neg         | -0.43097965 |  0.07310763 | \n",
       "| 598 | 1           |  89         | 24          | 19          |  25         | 27.8        | 0.559       | 21          | 2.6273891   |  0.96599063 | neg         |  1.06980901 | -0.75220274 | \n",
       "| 604 | 7           | 150         | 78          | 29          | 126         | 35.2        | 0.692       | 54          | 2.7190209   |  1.00027183 | pos         |  1.10777453 |  0.30077946 | \n",
       "| 612 | 3           | 174         | 58          | 22          | 194         | 32.9        | 0.593       | 36          | 4.7718173   |  1.56272723 | pos         |  1.73067896 | -0.02649879 | \n",
       "| 618 | 2           |  68         | 62          | 13          |  15         | 20.1        | 0.257       | 23          | 1.5114424   |  0.41306440 | neg         |  0.45745787 | -1.84787340 | \n",
       "| 621 | 2           | 112         | 86          | 42          | 160         | 38.4        | 0.246       | 28          | 0.4301712   | -0.84357198 | neg         | -0.93423360 |  0.75612311 | \n",
       "| 626 | 4           |  90         | 88          | 47          |  54         | 37.7        | 0.362       | 29          | 0.4854699   | -0.72263805 | neg         | -0.80030248 |  0.65651668 | \n",
       "| 634 | 1           | 128         | 82          | 17          | 183         | 27.5        | 0.115       | 22          | 0.2233898   | -1.49883696 | neg         | -1.65992219 | -0.79489120 | \n",
       "| 640 | 1           | 100         | 74          | 12          |  46         | 19.5        | 0.149       | 28          | 0.3446788   | -1.06514222 | neg         | -1.17961676 | -1.93325033 | \n",
       "| 641 | 0           | 102         | 86          | 17          | 105         | 29.3        | 0.695       | 27          | 0.5926187   | -0.52320414 | neg         | -0.57943471 | -0.53876040 | \n",
       "| 647 | 1           | 167         | 74          | 17          | 144         | 23.4        | 0.447       | 33          | 2.2656450   |  0.81785950 | pos         |  0.90575771 | -1.37830026 | \n",
       "| 648 | 0           | 179         | 50          | 36          | 159         | 37.8        | 0.455       | 22          | 1.4672630   |  0.38339876 | pos         |  0.42460396 |  0.67074617 | \n",
       "| 652 | 1           | 117         | 60          | 23          | 106         | 33.8        | 0.466       | 27          | 1.0562899   |  0.05476271 | neg         |  0.06064825 |  0.10156661 | \n",
       "| 655 | 1           | 106         | 70          | 28          | 135         | 34.2        | 0.142       | 22          | 0.2030117   | -1.59449160 | neg         | -1.76585717 |  0.15848456 | \n",
       "| 660 | 3           |  80         | 82          | 31          |  70         | 34.2        | 1.292       | 27          | 2.4309671   |  0.88828916 | pos         |  0.98375669 |  0.15848456 | \n",
       "| 664 | 9           | 145         | 80          | 46          | 130         | 37.9        | 0.637       | 40          | 0.8920759   | -0.11420406 | pos         | -0.12647797 |  0.68497566 | \n",
       "| 666 | 1           | 112         | 80          | 45          | 132         | 34.8        | 0.217       | 24          | 0.3889377   | -0.94433602 | neg         | -1.04582711 |  0.24386150 | \n",
       "| 669 | 6           |  98         | 58          | 33          | 190         | 34.0        | 0.430       | 43          | 0.4167159   | -0.87535049 | neg         | -0.96942746 |  0.13002559 | \n",
       "| 670 | 9           | 154         | 78          | 30          | 100         | 30.9        | 0.164       | 45          | 0.9266266   | -0.07620463 | neg         | -0.08439460 | -0.31108858 | \n",
       "| 681 | 2           |  56         | 56          | 28          |  45         | 24.2        | 0.332       | 22          | 0.6351618   | -0.45387547 | neg         | -0.50265505 | -1.26446434 | \n",
       "| 690 | 1           | 144         | 82          | 46          | 180         | 46.1        | 0.335       | 46          | 2.1687619   |  0.77415644 | pos         |  0.85735773 |  1.85179377 | \n",
       "| 701 | 2           | 122         | 76          | 27          | 200         | 35.9        | 0.483       | 26          | 1.2069207   |  0.18807225 | neg         |  0.20828503 |  0.40038588 | \n",
       "| 712 | 5           | 126         | 78          | 27          |  22         | 29.6        | 0.439       | 40          | 0.5142486   | -0.66504855 | neg         | -0.73652364 | -0.49607193 | \n",
       "| 714 | 0           | 134         | 58          | 20          | 291         | 26.4        | 0.352       | 21          | 0.6227870   | -0.47355073 | neg         | -0.52444488 | -0.95141558 | \n",
       "| 727 | 1           | 116         | 78          | 29          | 180         | 36.1        | 0.496       | 25          | 0.2334901   | -1.45461550 | neg         | -1.61094809 |  0.42884486 | \n",
       "| 734 | 2           | 106         | 56          | 27          | 165         | 29.0        | 0.426       | 22          | 0.1919502   | -1.65051909 | neg         | -1.82790612 | -0.58144887 | \n",
       "| 737 | 0           | 126         | 86          | 27          | 120         | 27.4        | 0.515       | 21          | 1.1867140   |  0.17118812 | neg         |  0.18958630 | -0.80912069 | \n",
       "| 742 | 3           | 102         | 44          | 20          |  94         | 30.8        | 0.400       | 26          | 1.4865832   |  0.39648034 | neg         |  0.43909146 | -0.32531806 | \n",
       "| 756 | 1           | 128         | 88          | 39          | 110         | 36.5        | 1.057       | 37          | 5.2667623   |  1.66141582 | pos         |  1.83997396 |  0.48576281 | \n",
       "| 761 | 2           |  88         | 58          | 26          |  16         | 28.4        | 0.766       | 22          | 1.0867104   |  0.08315518 | neg         |  0.09209216 | -0.66682580 | \n",
       "\n",
       "\n"
      ],
      "text/plain": [
       "    pregnant glucose pressure triceps insulin mass pedigree age glucagon  \n",
       "4    1        89      66      23       94     28.1 0.167    21   1.1131937\n",
       "5    0       137      40      35      168     43.1 2.288    33   3.3768847\n",
       "7    3        78      50      32       88     31.0 0.248    26  13.6061566\n",
       "15   5       166      72      19      175     25.8 0.587    51   5.7163726\n",
       "17   0       118      84      47      230     45.8 0.551    31   0.9628553\n",
       "25  11       143      94      33      146     36.6 0.254    51   3.3559864\n",
       "26  10       125      70      26      115     31.1 0.205    41   1.2597734\n",
       "28   1        97      66      15      140     23.2 0.487    22   3.0210888\n",
       "29  13       145      82      19      110     22.2 0.245    57   0.9984553\n",
       "33   3        88      58      11       54     24.8 0.267    22   0.9563265\n",
       "36   4       103      60      33      192     24.0 0.966    33   0.4215274\n",
       "44   9       171     110      24      240     45.4 0.721    54   4.9178985\n",
       "53   5        88      66      21       23     24.4 0.342    30   0.3866462\n",
       "55   7       150      66      42      342     34.7 0.718    42   0.7893103\n",
       "58   0       100      88      60      110     46.8 0.962    31   0.6996021\n",
       "69   1        95      66      13       38     19.6 0.334    25   4.8057286\n",
       "70   4       146      85      27      100     28.9 0.189    27   2.6448992\n",
       "71   2       100      66      20       90     32.9 0.867    28   0.7153787\n",
       "72   5       139      64      35      140     28.6 0.411    26   1.0006876\n",
       "86   2       110      74      29      125     32.4 0.698    27   1.0028284\n",
       "88   2       100      68      25       71     38.5 0.324    26   0.9729950\n",
       "100  1       122      90      51      220     49.7 0.325    31   2.7702572\n",
       "109  3        83      58      31       18     34.3 0.336    25   1.7008544\n",
       "113  1        89      76      34       37     31.2 0.192    23   0.9739722\n",
       "115  7       160      54      32      175     30.5 0.588    39   2.0645321\n",
       "121  0       162      76      56      100     53.2 0.759    25   1.4486124\n",
       "126  1        88      30      42       99     55.0 0.496    26   2.1964167\n",
       "135  2        96      68      13       49     21.1 0.647    26   1.9533802\n",
       "137  0       100      70      26       50     30.8 0.597    21   0.5407492\n",
       "145  4       154      62      31      284     32.8 0.237    23   0.6245373\n",
       "⋮   ⋮        ⋮       ⋮        ⋮       ⋮       ⋮    ⋮        ⋮   ⋮         \n",
       "595 6        123     72       45      230     33.6 0.733    34  0.6776287 \n",
       "598 1         89     24       19       25     27.8 0.559    21  2.6273891 \n",
       "604 7        150     78       29      126     35.2 0.692    54  2.7190209 \n",
       "612 3        174     58       22      194     32.9 0.593    36  4.7718173 \n",
       "618 2         68     62       13       15     20.1 0.257    23  1.5114424 \n",
       "621 2        112     86       42      160     38.4 0.246    28  0.4301712 \n",
       "626 4         90     88       47       54     37.7 0.362    29  0.4854699 \n",
       "634 1        128     82       17      183     27.5 0.115    22  0.2233898 \n",
       "640 1        100     74       12       46     19.5 0.149    28  0.3446788 \n",
       "641 0        102     86       17      105     29.3 0.695    27  0.5926187 \n",
       "647 1        167     74       17      144     23.4 0.447    33  2.2656450 \n",
       "648 0        179     50       36      159     37.8 0.455    22  1.4672630 \n",
       "652 1        117     60       23      106     33.8 0.466    27  1.0562899 \n",
       "655 1        106     70       28      135     34.2 0.142    22  0.2030117 \n",
       "660 3         80     82       31       70     34.2 1.292    27  2.4309671 \n",
       "664 9        145     80       46      130     37.9 0.637    40  0.8920759 \n",
       "666 1        112     80       45      132     34.8 0.217    24  0.3889377 \n",
       "669 6         98     58       33      190     34.0 0.430    43  0.4167159 \n",
       "670 9        154     78       30      100     30.9 0.164    45  0.9266266 \n",
       "681 2         56     56       28       45     24.2 0.332    22  0.6351618 \n",
       "690 1        144     82       46      180     46.1 0.335    46  2.1687619 \n",
       "701 2        122     76       27      200     35.9 0.483    26  1.2069207 \n",
       "712 5        126     78       27       22     29.6 0.439    40  0.5142486 \n",
       "714 0        134     58       20      291     26.4 0.352    21  0.6227870 \n",
       "727 1        116     78       29      180     36.1 0.496    25  0.2334901 \n",
       "734 2        106     56       27      165     29.0 0.426    22  0.1919502 \n",
       "737 0        126     86       27      120     27.4 0.515    21  1.1867140 \n",
       "742 3        102     44       20       94     30.8 0.400    26  1.4865832 \n",
       "756 1        128     88       39      110     36.5 1.057    37  5.2667623 \n",
       "761 2         88     58       26       16     28.4 0.766    22  1.0867104 \n",
       "    log_glucagon  diabetes log_glucagon_rs mass_rs    \n",
       "4    0.1072330575 neg       0.1187577676   -0.70951427\n",
       "5    1.2169535974 pos       1.3477438385    1.42490909\n",
       "7    2.6105223833 pos       2.8910843148   -0.29685909\n",
       "15   1.7433344519 pos       1.9306966765   -1.03679252\n",
       "17  -0.0378521883 pos      -0.0419202948    1.80910530\n",
       "25   1.2107457272 pos       1.3408687868    0.49999230\n",
       "26   0.2309318575 pos       0.2557509084   -0.28262960\n",
       "28   1.1056173039 neg       1.2244418458   -1.40675924\n",
       "29  -0.0015458550 neg      -0.0017119934   -1.54905413\n",
       "33  -0.0446559386 neg      -0.0494552679   -1.17908741\n",
       "36  -0.8638704716 neg      -0.9567136396   -1.29292332\n",
       "44   1.5928813033 pos       1.7640738041    1.75218734\n",
       "53  -0.9502451570 neg      -1.0523713132   -1.23600537\n",
       "55  -0.2365956943 neg      -0.2620234575    0.22963201\n",
       "58  -0.3572435751 neg      -0.3956377862    1.95140019\n",
       "69   1.5698086669 neg       1.7385214711   -1.91902084\n",
       "70   0.9726329506 neg       1.0771652010   -0.59567836\n",
       "71  -0.3349431750 pos      -0.3709406844   -0.02649879\n",
       "72   0.0006873295 neg       0.0007611992   -0.63836682\n",
       "86   0.0028243819 neg       0.0031279281   -0.09764624\n",
       "88  -0.0273763201 neg      -0.0303185486    0.77035260\n",
       "100  1.0189401841 pos       1.1284492341    2.36405537\n",
       "109  0.5311307210 neg       0.5882131892    0.17271405\n",
       "113 -0.0263725157 neg      -0.0292068618   -0.26840011\n",
       "115  0.7249036367 pos       0.8028115550   -0.36800653\n",
       "121  0.3706061657 pos       0.4104365009    2.86208749\n",
       "126  0.7868272779 pos       0.8713903455    3.11821830\n",
       "135  0.6695612968 neg       0.7415213810   -1.70557851\n",
       "137 -0.6147997446 neg      -0.6808744142   -0.32531806\n",
       "145 -0.4707441909 neg      -0.5213367084   -0.04072828\n",
       "⋮   ⋮             ⋮        ⋮               ⋮          \n",
       "595 -0.38915573   neg      -0.43097965      0.07310763\n",
       "598  0.96599063   neg       1.06980901     -0.75220274\n",
       "604  1.00027183   pos       1.10777453      0.30077946\n",
       "612  1.56272723   pos       1.73067896     -0.02649879\n",
       "618  0.41306440   neg       0.45745787     -1.84787340\n",
       "621 -0.84357198   neg      -0.93423360      0.75612311\n",
       "626 -0.72263805   neg      -0.80030248      0.65651668\n",
       "634 -1.49883696   neg      -1.65992219     -0.79489120\n",
       "640 -1.06514222   neg      -1.17961676     -1.93325033\n",
       "641 -0.52320414   neg      -0.57943471     -0.53876040\n",
       "647  0.81785950   pos       0.90575771     -1.37830026\n",
       "648  0.38339876   pos       0.42460396      0.67074617\n",
       "652  0.05476271   neg       0.06064825      0.10156661\n",
       "655 -1.59449160   neg      -1.76585717      0.15848456\n",
       "660  0.88828916   pos       0.98375669      0.15848456\n",
       "664 -0.11420406   pos      -0.12647797      0.68497566\n",
       "666 -0.94433602   neg      -1.04582711      0.24386150\n",
       "669 -0.87535049   neg      -0.96942746      0.13002559\n",
       "670 -0.07620463   neg      -0.08439460     -0.31108858\n",
       "681 -0.45387547   neg      -0.50265505     -1.26446434\n",
       "690  0.77415644   pos       0.85735773      1.85179377\n",
       "701  0.18807225   neg       0.20828503      0.40038588\n",
       "712 -0.66504855   neg      -0.73652364     -0.49607193\n",
       "714 -0.47355073   neg      -0.52444488     -0.95141558\n",
       "727 -1.45461550   neg      -1.61094809      0.42884486\n",
       "734 -1.65051909   neg      -1.82790612     -0.58144887\n",
       "737  0.17118812   neg       0.18958630     -0.80912069\n",
       "742  0.39648034   neg       0.43909146     -0.32531806\n",
       "756  1.66141582   pos       1.83997396      0.48576281\n",
       "761  0.08315518   neg       0.09209216     -0.66682580"
      ]
     },
     "metadata": {},
     "output_type": "display_data"
    }
   ],
   "source": [
    "test"
   ]
  },
  {
   "cell_type": "code",
   "execution_count": 379,
   "metadata": {},
   "outputs": [
    {
     "data": {},
     "metadata": {},
     "output_type": "display_data"
    },
    {
     "data": {
      "image/png": "[encoded data removed]",
      "text/plain": [
       "plot without title"
      ]
     },
     "metadata": {},
     "output_type": "display_data"
    }
   ],
   "source": [
    "plot(model_nb)"
   ]
  },
  {
   "cell_type": "code",
   "execution_count": 129,
   "metadata": {},
   "outputs": [
    {
     "name": "stderr",
     "output_type": "stream",
     "text": [
      "Warning message in readChar(con, 5L, useBytes = TRUE):\n",
      "“cannot open compressed file 'section_e_knn.Rda', probable reason 'No such file or directory'”"
     ]
    },
    {
     "ename": "ERROR",
     "evalue": "Error in readChar(con, 5L, useBytes = TRUE): cannot open the connection\n",
     "output_type": "error",
     "traceback": [
      "Error in readChar(con, 5L, useBytes = TRUE): cannot open the connection\nTraceback:\n",
      "1. load(\"section_e_knn.Rda\")",
      "2. readChar(con, 5L, useBytes = TRUE)"
     ]
    }
   ],
   "source": [
    "knn_rda = load(\"section_e_knn.Rda\")"
   ]
  },
  {
   "cell_type": "code",
   "execution_count": 130,
   "metadata": {},
   "outputs": [
    {
     "ename": "ERROR",
     "evalue": "Error in select(train_data, log_glucagon_rs, mass_rs): unused arguments (log_glucagon_rs, mass_rs)\n",
     "output_type": "error",
     "traceback": [
      "Error in select(train_data, log_glucagon_rs, mass_rs): unused arguments (log_glucagon_rs, mass_rs)\nTraceback:\n"
     ]
    }
   ],
   "source": [
    "train_data_x = select(train_data, log_glucagon_rs, mass_rs)\n",
    "head(train_data_x,2)\n",
    "dim(train_data_x)\n",
    "\n",
    "train_data_y = select(train_data, diabetes)\n",
    "head(train_data_y,2)\n",
    "dim(train_data_y)\n",
    "\n",
    "test_data_x = select(test_data, log_glucagon_rs, mass_rs)\n",
    "head(test_data_x,2)\n",
    "dim(test_data_x)\n",
    "\n",
    "test_data_y = select(test_data, diabetes)\n",
    "head(test_data_y,2)\n",
    "dim(test_data_y)"
   ]
  },
  {
   "cell_type": "code",
   "execution_count": 127,
   "metadata": {},
   "outputs": [
    {
     "ename": "ERROR",
     "evalue": "Error in unlist(train_data_y): object 'train_data_y' not found\n",
     "output_type": "error",
     "traceback": [
      "Error in unlist(train_data_y): object 'train_data_y' not found\nTraceback:\n",
      "1. unlist(train_data_y)"
     ]
    }
   ],
   "source": [
    "library(class)\n",
    "train_data_y = unlist(train_data_y)\n",
    "\n",
    "K_values = c(seq(2,12,2),seq(15,55,5),seq(60,200,10))\n",
    "\n",
    "MisclassRate = seq(0,30)\n",
    "\n",
    "for( i in 1:30){\n",
    "  k_val = K_values[i]\n",
    "  knn_classifier_loop = knn(train_data_x, test_data_x, train_data_y, k = k_val, l = 0, prob = FALSE, use.all = TRUE)\n",
    "  \n",
    "  #print(k_val)\n",
    "  \n",
    "\n",
    "\n",
    "\n",
    "Error_Test_KNN_loop = mean(test_data$diabetes != knn_classifier_loop)\n",
    "Accuracy_KNN_loop = round(1-Error_Test_KNN_loop,6)\n",
    "MisclassRate[i] = 1-Accuracy_KNN_loop\n",
    "  \n",
    "  \n",
    "  \n",
    "  \n",
    "  \n",
    "}\n",
    "\n",
    "MisclassRate = MisclassRate[1:30]\n",
    "\n",
    "plot(MisclassRate ~K_values )"
   ]
  },
  {
   "cell_type": "code",
   "execution_count": null,
   "metadata": {},
   "outputs": [],
   "source": []
  }
 ],
 "metadata": {
  "kernelspec": {
   "display_name": "R",
   "language": "R",
   "name": "ir"
  },
  "language_info": {
   "codemirror_mode": "r",
   "file_extension": ".r",
   "mimetype": "text/x-r-source",
   "name": "R",
   "pygments_lexer": "r",
   "version": "3.5.1"
  }
 },
 "nbformat": 4,
 "nbformat_minor": 2
}
